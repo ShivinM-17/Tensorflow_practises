{
  "nbformat": 4,
  "nbformat_minor": 0,
  "metadata": {
    "colab": {
      "provenance": [],
      "gpuType": "T4",
      "authorship_tag": "ABX9TyOQ9kdxFZNU1iJ2pwBDVxq0",
      "include_colab_link": true
    },
    "kernelspec": {
      "name": "python3",
      "display_name": "Python 3"
    },
    "language_info": {
      "name": "python"
    },
    "accelerator": "GPU"
  },
  "cells": [
    {
      "cell_type": "markdown",
      "metadata": {
        "id": "view-in-github",
        "colab_type": "text"
      },
      "source": [
        "<a href=\"https://colab.research.google.com/github/ShivinM-17/Tensorflow_practises/blob/main/NLP_tensorflow.ipynb\" target=\"_parent\"><img src=\"https://colab.research.google.com/assets/colab-badge.svg\" alt=\"Open In Colab\"/></a>"
      ]
    },
    {
      "cell_type": "markdown",
      "source": [
        "## Natural Language Processing using Tensorflow\n",
        "\n",
        "NLP - goal is to derive information out of natural language\n",
        "\n",
        "Common term for NLP problems is sequence to sequence problems (seq2seq)\n"
      ],
      "metadata": {
        "id": "juxKZ1HCpdoV"
      }
    },
    {
      "cell_type": "markdown",
      "source": [
        "### Check for GPU"
      ],
      "metadata": {
        "id": "HkrVJTyEptrP"
      }
    },
    {
      "cell_type": "code",
      "execution_count": 1,
      "metadata": {
        "colab": {
          "base_uri": "https://localhost:8080/"
        },
        "id": "Bp-1I8ieRE3s",
        "outputId": "b488194d-91fa-4a68-c55c-3f608286fa20"
      },
      "outputs": [
        {
          "output_type": "stream",
          "name": "stdout",
          "text": [
            "Tue Nov 28 05:36:31 2023       \n",
            "+-----------------------------------------------------------------------------+\n",
            "| NVIDIA-SMI 525.105.17   Driver Version: 525.105.17   CUDA Version: 12.0     |\n",
            "|-------------------------------+----------------------+----------------------+\n",
            "| GPU  Name        Persistence-M| Bus-Id        Disp.A | Volatile Uncorr. ECC |\n",
            "| Fan  Temp  Perf  Pwr:Usage/Cap|         Memory-Usage | GPU-Util  Compute M. |\n",
            "|                               |                      |               MIG M. |\n",
            "|===============================+======================+======================|\n",
            "|   0  Tesla T4            Off  | 00000000:00:04.0 Off |                    0 |\n",
            "| N/A   52C    P8    12W /  70W |      0MiB / 15360MiB |      0%      Default |\n",
            "|                               |                      |                  N/A |\n",
            "+-------------------------------+----------------------+----------------------+\n",
            "                                                                               \n",
            "+-----------------------------------------------------------------------------+\n",
            "| Processes:                                                                  |\n",
            "|  GPU   GI   CI        PID   Type   Process name                  GPU Memory |\n",
            "|        ID   ID                                                   Usage      |\n",
            "|=============================================================================|\n",
            "|  No running processes found                                                 |\n",
            "+-----------------------------------------------------------------------------+\n"
          ]
        }
      ],
      "source": [
        "!nvidia-smi"
      ]
    },
    {
      "cell_type": "markdown",
      "source": [
        "### Get helper functions"
      ],
      "metadata": {
        "id": "p__nnTEdp0vU"
      }
    },
    {
      "cell_type": "code",
      "source": [
        "!wget https://raw.githubusercontent.com/mrdbourke/tensorflow-deep-learning/main/extras/helper_functions.py\n",
        "\n",
        "# Import series of helper functions\n",
        "from helper_functions import unzip_data, create_tensorboard_callback, plot_loss_curves, compare_historys"
      ],
      "metadata": {
        "colab": {
          "base_uri": "https://localhost:8080/"
        },
        "id": "PfD46z2hpvlx",
        "outputId": "fa6e9684-bab4-40c7-98f5-f3423ad92e68"
      },
      "execution_count": 2,
      "outputs": [
        {
          "output_type": "stream",
          "name": "stdout",
          "text": [
            "--2023-11-28 05:36:31--  https://raw.githubusercontent.com/mrdbourke/tensorflow-deep-learning/main/extras/helper_functions.py\n",
            "Resolving raw.githubusercontent.com (raw.githubusercontent.com)... 185.199.111.133, 185.199.110.133, 185.199.109.133, ...\n",
            "Connecting to raw.githubusercontent.com (raw.githubusercontent.com)|185.199.111.133|:443... connected.\n",
            "HTTP request sent, awaiting response... 200 OK\n",
            "Length: 10246 (10K) [text/plain]\n",
            "Saving to: ‘helper_functions.py’\n",
            "\n",
            "helper_functions.py 100%[===================>]  10.01K  --.-KB/s    in 0s      \n",
            "\n",
            "2023-11-28 05:36:32 (87.7 MB/s) - ‘helper_functions.py’ saved [10246/10246]\n",
            "\n"
          ]
        }
      ]
    },
    {
      "cell_type": "markdown",
      "source": [
        "### Get a text dataset\n",
        "\n",
        "Here, we will be using is Kaggle's introduction to NLP dataset (text samples of Tweets on whether the message is labelled as disaster or not)"
      ],
      "metadata": {
        "id": "0vPHHzrxqKuA"
      }
    },
    {
      "cell_type": "code",
      "source": [
        "!wget https://storage.googleapis.com/ztm_tf_course/nlp_getting_started.zip\n",
        "\n",
        "# Unzip the data\n",
        "unzip_data(\"nlp_getting_started.zip\")"
      ],
      "metadata": {
        "colab": {
          "base_uri": "https://localhost:8080/"
        },
        "id": "CC7ctP7ZqHgT",
        "outputId": "df93fd85-7c8a-43bb-d18b-86534137e09e"
      },
      "execution_count": 3,
      "outputs": [
        {
          "output_type": "stream",
          "name": "stdout",
          "text": [
            "--2023-11-28 05:36:36--  https://storage.googleapis.com/ztm_tf_course/nlp_getting_started.zip\n",
            "Resolving storage.googleapis.com (storage.googleapis.com)... 173.194.74.207, 173.194.192.207, 209.85.145.207, ...\n",
            "Connecting to storage.googleapis.com (storage.googleapis.com)|173.194.74.207|:443... connected.\n",
            "HTTP request sent, awaiting response... 200 OK\n",
            "Length: 607343 (593K) [application/zip]\n",
            "Saving to: ‘nlp_getting_started.zip’\n",
            "\n",
            "\rnlp_getting_started   0%[                    ]       0  --.-KB/s               \rnlp_getting_started 100%[===================>] 593.11K  --.-KB/s    in 0.005s  \n",
            "\n",
            "2023-11-28 05:36:36 (109 MB/s) - ‘nlp_getting_started.zip’ saved [607343/607343]\n",
            "\n"
          ]
        }
      ]
    },
    {
      "cell_type": "markdown",
      "source": [
        "### Visualizing a text dataset"
      ],
      "metadata": {
        "id": "4lKjgxU9ql2a"
      }
    },
    {
      "cell_type": "code",
      "source": [
        "import pandas as pd\n",
        "train_df = pd.read_csv(\"train.csv\")\n",
        "test_df = pd.read_csv(\"test.csv\")\n",
        "train_df.head()"
      ],
      "metadata": {
        "colab": {
          "base_uri": "https://localhost:8080/",
          "height": 206
        },
        "id": "nLTxIfJeqgPc",
        "outputId": "477f5358-9bcc-4f77-989a-3fe550ec6c90"
      },
      "execution_count": 4,
      "outputs": [
        {
          "output_type": "execute_result",
          "data": {
            "text/plain": [
              "   id keyword location                                               text  \\\n",
              "0   1     NaN      NaN  Our Deeds are the Reason of this #earthquake M...   \n",
              "1   4     NaN      NaN             Forest fire near La Ronge Sask. Canada   \n",
              "2   5     NaN      NaN  All residents asked to 'shelter in place' are ...   \n",
              "3   6     NaN      NaN  13,000 people receive #wildfires evacuation or...   \n",
              "4   7     NaN      NaN  Just got sent this photo from Ruby #Alaska as ...   \n",
              "\n",
              "   target  \n",
              "0       1  \n",
              "1       1  \n",
              "2       1  \n",
              "3       1  \n",
              "4       1  "
            ],
            "text/html": [
              "\n",
              "  <div id=\"df-ca27828d-6e34-4e51-a2ae-89033ccbfcca\" class=\"colab-df-container\">\n",
              "    <div>\n",
              "<style scoped>\n",
              "    .dataframe tbody tr th:only-of-type {\n",
              "        vertical-align: middle;\n",
              "    }\n",
              "\n",
              "    .dataframe tbody tr th {\n",
              "        vertical-align: top;\n",
              "    }\n",
              "\n",
              "    .dataframe thead th {\n",
              "        text-align: right;\n",
              "    }\n",
              "</style>\n",
              "<table border=\"1\" class=\"dataframe\">\n",
              "  <thead>\n",
              "    <tr style=\"text-align: right;\">\n",
              "      <th></th>\n",
              "      <th>id</th>\n",
              "      <th>keyword</th>\n",
              "      <th>location</th>\n",
              "      <th>text</th>\n",
              "      <th>target</th>\n",
              "    </tr>\n",
              "  </thead>\n",
              "  <tbody>\n",
              "    <tr>\n",
              "      <th>0</th>\n",
              "      <td>1</td>\n",
              "      <td>NaN</td>\n",
              "      <td>NaN</td>\n",
              "      <td>Our Deeds are the Reason of this #earthquake M...</td>\n",
              "      <td>1</td>\n",
              "    </tr>\n",
              "    <tr>\n",
              "      <th>1</th>\n",
              "      <td>4</td>\n",
              "      <td>NaN</td>\n",
              "      <td>NaN</td>\n",
              "      <td>Forest fire near La Ronge Sask. Canada</td>\n",
              "      <td>1</td>\n",
              "    </tr>\n",
              "    <tr>\n",
              "      <th>2</th>\n",
              "      <td>5</td>\n",
              "      <td>NaN</td>\n",
              "      <td>NaN</td>\n",
              "      <td>All residents asked to 'shelter in place' are ...</td>\n",
              "      <td>1</td>\n",
              "    </tr>\n",
              "    <tr>\n",
              "      <th>3</th>\n",
              "      <td>6</td>\n",
              "      <td>NaN</td>\n",
              "      <td>NaN</td>\n",
              "      <td>13,000 people receive #wildfires evacuation or...</td>\n",
              "      <td>1</td>\n",
              "    </tr>\n",
              "    <tr>\n",
              "      <th>4</th>\n",
              "      <td>7</td>\n",
              "      <td>NaN</td>\n",
              "      <td>NaN</td>\n",
              "      <td>Just got sent this photo from Ruby #Alaska as ...</td>\n",
              "      <td>1</td>\n",
              "    </tr>\n",
              "  </tbody>\n",
              "</table>\n",
              "</div>\n",
              "    <div class=\"colab-df-buttons\">\n",
              "\n",
              "  <div class=\"colab-df-container\">\n",
              "    <button class=\"colab-df-convert\" onclick=\"convertToInteractive('df-ca27828d-6e34-4e51-a2ae-89033ccbfcca')\"\n",
              "            title=\"Convert this dataframe to an interactive table.\"\n",
              "            style=\"display:none;\">\n",
              "\n",
              "  <svg xmlns=\"http://www.w3.org/2000/svg\" height=\"24px\" viewBox=\"0 -960 960 960\">\n",
              "    <path d=\"M120-120v-720h720v720H120Zm60-500h600v-160H180v160Zm220 220h160v-160H400v160Zm0 220h160v-160H400v160ZM180-400h160v-160H180v160Zm440 0h160v-160H620v160ZM180-180h160v-160H180v160Zm440 0h160v-160H620v160Z\"/>\n",
              "  </svg>\n",
              "    </button>\n",
              "\n",
              "  <style>\n",
              "    .colab-df-container {\n",
              "      display:flex;\n",
              "      gap: 12px;\n",
              "    }\n",
              "\n",
              "    .colab-df-convert {\n",
              "      background-color: #E8F0FE;\n",
              "      border: none;\n",
              "      border-radius: 50%;\n",
              "      cursor: pointer;\n",
              "      display: none;\n",
              "      fill: #1967D2;\n",
              "      height: 32px;\n",
              "      padding: 0 0 0 0;\n",
              "      width: 32px;\n",
              "    }\n",
              "\n",
              "    .colab-df-convert:hover {\n",
              "      background-color: #E2EBFA;\n",
              "      box-shadow: 0px 1px 2px rgba(60, 64, 67, 0.3), 0px 1px 3px 1px rgba(60, 64, 67, 0.15);\n",
              "      fill: #174EA6;\n",
              "    }\n",
              "\n",
              "    .colab-df-buttons div {\n",
              "      margin-bottom: 4px;\n",
              "    }\n",
              "\n",
              "    [theme=dark] .colab-df-convert {\n",
              "      background-color: #3B4455;\n",
              "      fill: #D2E3FC;\n",
              "    }\n",
              "\n",
              "    [theme=dark] .colab-df-convert:hover {\n",
              "      background-color: #434B5C;\n",
              "      box-shadow: 0px 1px 3px 1px rgba(0, 0, 0, 0.15);\n",
              "      filter: drop-shadow(0px 1px 2px rgba(0, 0, 0, 0.3));\n",
              "      fill: #FFFFFF;\n",
              "    }\n",
              "  </style>\n",
              "\n",
              "    <script>\n",
              "      const buttonEl =\n",
              "        document.querySelector('#df-ca27828d-6e34-4e51-a2ae-89033ccbfcca button.colab-df-convert');\n",
              "      buttonEl.style.display =\n",
              "        google.colab.kernel.accessAllowed ? 'block' : 'none';\n",
              "\n",
              "      async function convertToInteractive(key) {\n",
              "        const element = document.querySelector('#df-ca27828d-6e34-4e51-a2ae-89033ccbfcca');\n",
              "        const dataTable =\n",
              "          await google.colab.kernel.invokeFunction('convertToInteractive',\n",
              "                                                    [key], {});\n",
              "        if (!dataTable) return;\n",
              "\n",
              "        const docLinkHtml = 'Like what you see? Visit the ' +\n",
              "          '<a target=\"_blank\" href=https://colab.research.google.com/notebooks/data_table.ipynb>data table notebook</a>'\n",
              "          + ' to learn more about interactive tables.';\n",
              "        element.innerHTML = '';\n",
              "        dataTable['output_type'] = 'display_data';\n",
              "        await google.colab.output.renderOutput(dataTable, element);\n",
              "        const docLink = document.createElement('div');\n",
              "        docLink.innerHTML = docLinkHtml;\n",
              "        element.appendChild(docLink);\n",
              "      }\n",
              "    </script>\n",
              "  </div>\n",
              "\n",
              "\n",
              "<div id=\"df-a45b4d1d-c1b9-4953-993d-88723abdf466\">\n",
              "  <button class=\"colab-df-quickchart\" onclick=\"quickchart('df-a45b4d1d-c1b9-4953-993d-88723abdf466')\"\n",
              "            title=\"Suggest charts\"\n",
              "            style=\"display:none;\">\n",
              "\n",
              "<svg xmlns=\"http://www.w3.org/2000/svg\" height=\"24px\"viewBox=\"0 0 24 24\"\n",
              "     width=\"24px\">\n",
              "    <g>\n",
              "        <path d=\"M19 3H5c-1.1 0-2 .9-2 2v14c0 1.1.9 2 2 2h14c1.1 0 2-.9 2-2V5c0-1.1-.9-2-2-2zM9 17H7v-7h2v7zm4 0h-2V7h2v10zm4 0h-2v-4h2v4z\"/>\n",
              "    </g>\n",
              "</svg>\n",
              "  </button>\n",
              "\n",
              "<style>\n",
              "  .colab-df-quickchart {\n",
              "      --bg-color: #E8F0FE;\n",
              "      --fill-color: #1967D2;\n",
              "      --hover-bg-color: #E2EBFA;\n",
              "      --hover-fill-color: #174EA6;\n",
              "      --disabled-fill-color: #AAA;\n",
              "      --disabled-bg-color: #DDD;\n",
              "  }\n",
              "\n",
              "  [theme=dark] .colab-df-quickchart {\n",
              "      --bg-color: #3B4455;\n",
              "      --fill-color: #D2E3FC;\n",
              "      --hover-bg-color: #434B5C;\n",
              "      --hover-fill-color: #FFFFFF;\n",
              "      --disabled-bg-color: #3B4455;\n",
              "      --disabled-fill-color: #666;\n",
              "  }\n",
              "\n",
              "  .colab-df-quickchart {\n",
              "    background-color: var(--bg-color);\n",
              "    border: none;\n",
              "    border-radius: 50%;\n",
              "    cursor: pointer;\n",
              "    display: none;\n",
              "    fill: var(--fill-color);\n",
              "    height: 32px;\n",
              "    padding: 0;\n",
              "    width: 32px;\n",
              "  }\n",
              "\n",
              "  .colab-df-quickchart:hover {\n",
              "    background-color: var(--hover-bg-color);\n",
              "    box-shadow: 0 1px 2px rgba(60, 64, 67, 0.3), 0 1px 3px 1px rgba(60, 64, 67, 0.15);\n",
              "    fill: var(--button-hover-fill-color);\n",
              "  }\n",
              "\n",
              "  .colab-df-quickchart-complete:disabled,\n",
              "  .colab-df-quickchart-complete:disabled:hover {\n",
              "    background-color: var(--disabled-bg-color);\n",
              "    fill: var(--disabled-fill-color);\n",
              "    box-shadow: none;\n",
              "  }\n",
              "\n",
              "  .colab-df-spinner {\n",
              "    border: 2px solid var(--fill-color);\n",
              "    border-color: transparent;\n",
              "    border-bottom-color: var(--fill-color);\n",
              "    animation:\n",
              "      spin 1s steps(1) infinite;\n",
              "  }\n",
              "\n",
              "  @keyframes spin {\n",
              "    0% {\n",
              "      border-color: transparent;\n",
              "      border-bottom-color: var(--fill-color);\n",
              "      border-left-color: var(--fill-color);\n",
              "    }\n",
              "    20% {\n",
              "      border-color: transparent;\n",
              "      border-left-color: var(--fill-color);\n",
              "      border-top-color: var(--fill-color);\n",
              "    }\n",
              "    30% {\n",
              "      border-color: transparent;\n",
              "      border-left-color: var(--fill-color);\n",
              "      border-top-color: var(--fill-color);\n",
              "      border-right-color: var(--fill-color);\n",
              "    }\n",
              "    40% {\n",
              "      border-color: transparent;\n",
              "      border-right-color: var(--fill-color);\n",
              "      border-top-color: var(--fill-color);\n",
              "    }\n",
              "    60% {\n",
              "      border-color: transparent;\n",
              "      border-right-color: var(--fill-color);\n",
              "    }\n",
              "    80% {\n",
              "      border-color: transparent;\n",
              "      border-right-color: var(--fill-color);\n",
              "      border-bottom-color: var(--fill-color);\n",
              "    }\n",
              "    90% {\n",
              "      border-color: transparent;\n",
              "      border-bottom-color: var(--fill-color);\n",
              "    }\n",
              "  }\n",
              "</style>\n",
              "\n",
              "  <script>\n",
              "    async function quickchart(key) {\n",
              "      const quickchartButtonEl =\n",
              "        document.querySelector('#' + key + ' button');\n",
              "      quickchartButtonEl.disabled = true;  // To prevent multiple clicks.\n",
              "      quickchartButtonEl.classList.add('colab-df-spinner');\n",
              "      try {\n",
              "        const charts = await google.colab.kernel.invokeFunction(\n",
              "            'suggestCharts', [key], {});\n",
              "      } catch (error) {\n",
              "        console.error('Error during call to suggestCharts:', error);\n",
              "      }\n",
              "      quickchartButtonEl.classList.remove('colab-df-spinner');\n",
              "      quickchartButtonEl.classList.add('colab-df-quickchart-complete');\n",
              "    }\n",
              "    (() => {\n",
              "      let quickchartButtonEl =\n",
              "        document.querySelector('#df-a45b4d1d-c1b9-4953-993d-88723abdf466 button');\n",
              "      quickchartButtonEl.style.display =\n",
              "        google.colab.kernel.accessAllowed ? 'block' : 'none';\n",
              "    })();\n",
              "  </script>\n",
              "</div>\n",
              "    </div>\n",
              "  </div>\n"
            ]
          },
          "metadata": {},
          "execution_count": 4
        }
      ]
    },
    {
      "cell_type": "code",
      "source": [
        "train_df['text'][3]"
      ],
      "metadata": {
        "colab": {
          "base_uri": "https://localhost:8080/",
          "height": 36
        },
        "id": "P3Lf1uldq2Re",
        "outputId": "0169846c-71b0-4520-d63d-6963ab0a9501"
      },
      "execution_count": 5,
      "outputs": [
        {
          "output_type": "execute_result",
          "data": {
            "text/plain": [
              "'13,000 people receive #wildfires evacuation orders in California '"
            ],
            "application/vnd.google.colaboratory.intrinsic+json": {
              "type": "string"
            }
          },
          "metadata": {},
          "execution_count": 5
        }
      ]
    },
    {
      "cell_type": "code",
      "source": [
        "# Shuffle training dataframe\n",
        "train_df_shuffled = train_df.sample(frac=1, random_state = 42)\n",
        "train_df_shuffled"
      ],
      "metadata": {
        "colab": {
          "base_uri": "https://localhost:8080/",
          "height": 597
        },
        "id": "7FkvqdIFq5Pr",
        "outputId": "8c33df98-fb98-48a4-9c8e-519e3a3b32c4"
      },
      "execution_count": 6,
      "outputs": [
        {
          "output_type": "execute_result",
          "data": {
            "text/plain": [
              "         id       keyword                        location  \\\n",
              "2644   3796   destruction                             NaN   \n",
              "2227   3185        deluge                             NaN   \n",
              "5448   7769        police                              UK   \n",
              "132     191    aftershock                             NaN   \n",
              "6845   9810        trauma           Montgomery County, MD   \n",
              "...     ...           ...                             ...   \n",
              "5226   7470  obliteration                         Merica!   \n",
              "5390   7691         panic                             NaN   \n",
              "860    1242         blood                             NaN   \n",
              "7603  10862           NaN                             NaN   \n",
              "7270  10409     whirlwind  Stamford & Cork (& Shropshire)   \n",
              "\n",
              "                                                   text  target  \n",
              "2644  So you have a new weapon that can cause un-ima...       1  \n",
              "2227  The f$&amp;@ing things I do for #GISHWHES Just...       0  \n",
              "5448  DT @georgegalloway: RT @Galloway4Mayor: ÛÏThe...       1  \n",
              "132   Aftershock back to school kick off was great. ...       0  \n",
              "6845  in response to trauma Children of Addicts deve...       0  \n",
              "...                                                 ...     ...  \n",
              "5226  @Eganator2000 There aren't many Obliteration s...       0  \n",
              "5390  just had a panic attack bc I don't have enough...       0  \n",
              "860   Omron HEM-712C Automatic Blood Pressure Monito...       0  \n",
              "7603  Officials say a quarantine is in place at an A...       1  \n",
              "7270  I moved to England five years ago today. What ...       1  \n",
              "\n",
              "[7613 rows x 5 columns]"
            ],
            "text/html": [
              "\n",
              "  <div id=\"df-b48d01a4-bbe1-4d17-86a3-0d37b7823ef3\" class=\"colab-df-container\">\n",
              "    <div>\n",
              "<style scoped>\n",
              "    .dataframe tbody tr th:only-of-type {\n",
              "        vertical-align: middle;\n",
              "    }\n",
              "\n",
              "    .dataframe tbody tr th {\n",
              "        vertical-align: top;\n",
              "    }\n",
              "\n",
              "    .dataframe thead th {\n",
              "        text-align: right;\n",
              "    }\n",
              "</style>\n",
              "<table border=\"1\" class=\"dataframe\">\n",
              "  <thead>\n",
              "    <tr style=\"text-align: right;\">\n",
              "      <th></th>\n",
              "      <th>id</th>\n",
              "      <th>keyword</th>\n",
              "      <th>location</th>\n",
              "      <th>text</th>\n",
              "      <th>target</th>\n",
              "    </tr>\n",
              "  </thead>\n",
              "  <tbody>\n",
              "    <tr>\n",
              "      <th>2644</th>\n",
              "      <td>3796</td>\n",
              "      <td>destruction</td>\n",
              "      <td>NaN</td>\n",
              "      <td>So you have a new weapon that can cause un-ima...</td>\n",
              "      <td>1</td>\n",
              "    </tr>\n",
              "    <tr>\n",
              "      <th>2227</th>\n",
              "      <td>3185</td>\n",
              "      <td>deluge</td>\n",
              "      <td>NaN</td>\n",
              "      <td>The f$&amp;amp;@ing things I do for #GISHWHES Just...</td>\n",
              "      <td>0</td>\n",
              "    </tr>\n",
              "    <tr>\n",
              "      <th>5448</th>\n",
              "      <td>7769</td>\n",
              "      <td>police</td>\n",
              "      <td>UK</td>\n",
              "      <td>DT @georgegalloway: RT @Galloway4Mayor: ÛÏThe...</td>\n",
              "      <td>1</td>\n",
              "    </tr>\n",
              "    <tr>\n",
              "      <th>132</th>\n",
              "      <td>191</td>\n",
              "      <td>aftershock</td>\n",
              "      <td>NaN</td>\n",
              "      <td>Aftershock back to school kick off was great. ...</td>\n",
              "      <td>0</td>\n",
              "    </tr>\n",
              "    <tr>\n",
              "      <th>6845</th>\n",
              "      <td>9810</td>\n",
              "      <td>trauma</td>\n",
              "      <td>Montgomery County, MD</td>\n",
              "      <td>in response to trauma Children of Addicts deve...</td>\n",
              "      <td>0</td>\n",
              "    </tr>\n",
              "    <tr>\n",
              "      <th>...</th>\n",
              "      <td>...</td>\n",
              "      <td>...</td>\n",
              "      <td>...</td>\n",
              "      <td>...</td>\n",
              "      <td>...</td>\n",
              "    </tr>\n",
              "    <tr>\n",
              "      <th>5226</th>\n",
              "      <td>7470</td>\n",
              "      <td>obliteration</td>\n",
              "      <td>Merica!</td>\n",
              "      <td>@Eganator2000 There aren't many Obliteration s...</td>\n",
              "      <td>0</td>\n",
              "    </tr>\n",
              "    <tr>\n",
              "      <th>5390</th>\n",
              "      <td>7691</td>\n",
              "      <td>panic</td>\n",
              "      <td>NaN</td>\n",
              "      <td>just had a panic attack bc I don't have enough...</td>\n",
              "      <td>0</td>\n",
              "    </tr>\n",
              "    <tr>\n",
              "      <th>860</th>\n",
              "      <td>1242</td>\n",
              "      <td>blood</td>\n",
              "      <td>NaN</td>\n",
              "      <td>Omron HEM-712C Automatic Blood Pressure Monito...</td>\n",
              "      <td>0</td>\n",
              "    </tr>\n",
              "    <tr>\n",
              "      <th>7603</th>\n",
              "      <td>10862</td>\n",
              "      <td>NaN</td>\n",
              "      <td>NaN</td>\n",
              "      <td>Officials say a quarantine is in place at an A...</td>\n",
              "      <td>1</td>\n",
              "    </tr>\n",
              "    <tr>\n",
              "      <th>7270</th>\n",
              "      <td>10409</td>\n",
              "      <td>whirlwind</td>\n",
              "      <td>Stamford &amp; Cork (&amp; Shropshire)</td>\n",
              "      <td>I moved to England five years ago today. What ...</td>\n",
              "      <td>1</td>\n",
              "    </tr>\n",
              "  </tbody>\n",
              "</table>\n",
              "<p>7613 rows × 5 columns</p>\n",
              "</div>\n",
              "    <div class=\"colab-df-buttons\">\n",
              "\n",
              "  <div class=\"colab-df-container\">\n",
              "    <button class=\"colab-df-convert\" onclick=\"convertToInteractive('df-b48d01a4-bbe1-4d17-86a3-0d37b7823ef3')\"\n",
              "            title=\"Convert this dataframe to an interactive table.\"\n",
              "            style=\"display:none;\">\n",
              "\n",
              "  <svg xmlns=\"http://www.w3.org/2000/svg\" height=\"24px\" viewBox=\"0 -960 960 960\">\n",
              "    <path d=\"M120-120v-720h720v720H120Zm60-500h600v-160H180v160Zm220 220h160v-160H400v160Zm0 220h160v-160H400v160ZM180-400h160v-160H180v160Zm440 0h160v-160H620v160ZM180-180h160v-160H180v160Zm440 0h160v-160H620v160Z\"/>\n",
              "  </svg>\n",
              "    </button>\n",
              "\n",
              "  <style>\n",
              "    .colab-df-container {\n",
              "      display:flex;\n",
              "      gap: 12px;\n",
              "    }\n",
              "\n",
              "    .colab-df-convert {\n",
              "      background-color: #E8F0FE;\n",
              "      border: none;\n",
              "      border-radius: 50%;\n",
              "      cursor: pointer;\n",
              "      display: none;\n",
              "      fill: #1967D2;\n",
              "      height: 32px;\n",
              "      padding: 0 0 0 0;\n",
              "      width: 32px;\n",
              "    }\n",
              "\n",
              "    .colab-df-convert:hover {\n",
              "      background-color: #E2EBFA;\n",
              "      box-shadow: 0px 1px 2px rgba(60, 64, 67, 0.3), 0px 1px 3px 1px rgba(60, 64, 67, 0.15);\n",
              "      fill: #174EA6;\n",
              "    }\n",
              "\n",
              "    .colab-df-buttons div {\n",
              "      margin-bottom: 4px;\n",
              "    }\n",
              "\n",
              "    [theme=dark] .colab-df-convert {\n",
              "      background-color: #3B4455;\n",
              "      fill: #D2E3FC;\n",
              "    }\n",
              "\n",
              "    [theme=dark] .colab-df-convert:hover {\n",
              "      background-color: #434B5C;\n",
              "      box-shadow: 0px 1px 3px 1px rgba(0, 0, 0, 0.15);\n",
              "      filter: drop-shadow(0px 1px 2px rgba(0, 0, 0, 0.3));\n",
              "      fill: #FFFFFF;\n",
              "    }\n",
              "  </style>\n",
              "\n",
              "    <script>\n",
              "      const buttonEl =\n",
              "        document.querySelector('#df-b48d01a4-bbe1-4d17-86a3-0d37b7823ef3 button.colab-df-convert');\n",
              "      buttonEl.style.display =\n",
              "        google.colab.kernel.accessAllowed ? 'block' : 'none';\n",
              "\n",
              "      async function convertToInteractive(key) {\n",
              "        const element = document.querySelector('#df-b48d01a4-bbe1-4d17-86a3-0d37b7823ef3');\n",
              "        const dataTable =\n",
              "          await google.colab.kernel.invokeFunction('convertToInteractive',\n",
              "                                                    [key], {});\n",
              "        if (!dataTable) return;\n",
              "\n",
              "        const docLinkHtml = 'Like what you see? Visit the ' +\n",
              "          '<a target=\"_blank\" href=https://colab.research.google.com/notebooks/data_table.ipynb>data table notebook</a>'\n",
              "          + ' to learn more about interactive tables.';\n",
              "        element.innerHTML = '';\n",
              "        dataTable['output_type'] = 'display_data';\n",
              "        await google.colab.output.renderOutput(dataTable, element);\n",
              "        const docLink = document.createElement('div');\n",
              "        docLink.innerHTML = docLinkHtml;\n",
              "        element.appendChild(docLink);\n",
              "      }\n",
              "    </script>\n",
              "  </div>\n",
              "\n",
              "\n",
              "<div id=\"df-3a78bc08-23bf-45eb-bce0-7da6aa86692b\">\n",
              "  <button class=\"colab-df-quickchart\" onclick=\"quickchart('df-3a78bc08-23bf-45eb-bce0-7da6aa86692b')\"\n",
              "            title=\"Suggest charts\"\n",
              "            style=\"display:none;\">\n",
              "\n",
              "<svg xmlns=\"http://www.w3.org/2000/svg\" height=\"24px\"viewBox=\"0 0 24 24\"\n",
              "     width=\"24px\">\n",
              "    <g>\n",
              "        <path d=\"M19 3H5c-1.1 0-2 .9-2 2v14c0 1.1.9 2 2 2h14c1.1 0 2-.9 2-2V5c0-1.1-.9-2-2-2zM9 17H7v-7h2v7zm4 0h-2V7h2v10zm4 0h-2v-4h2v4z\"/>\n",
              "    </g>\n",
              "</svg>\n",
              "  </button>\n",
              "\n",
              "<style>\n",
              "  .colab-df-quickchart {\n",
              "      --bg-color: #E8F0FE;\n",
              "      --fill-color: #1967D2;\n",
              "      --hover-bg-color: #E2EBFA;\n",
              "      --hover-fill-color: #174EA6;\n",
              "      --disabled-fill-color: #AAA;\n",
              "      --disabled-bg-color: #DDD;\n",
              "  }\n",
              "\n",
              "  [theme=dark] .colab-df-quickchart {\n",
              "      --bg-color: #3B4455;\n",
              "      --fill-color: #D2E3FC;\n",
              "      --hover-bg-color: #434B5C;\n",
              "      --hover-fill-color: #FFFFFF;\n",
              "      --disabled-bg-color: #3B4455;\n",
              "      --disabled-fill-color: #666;\n",
              "  }\n",
              "\n",
              "  .colab-df-quickchart {\n",
              "    background-color: var(--bg-color);\n",
              "    border: none;\n",
              "    border-radius: 50%;\n",
              "    cursor: pointer;\n",
              "    display: none;\n",
              "    fill: var(--fill-color);\n",
              "    height: 32px;\n",
              "    padding: 0;\n",
              "    width: 32px;\n",
              "  }\n",
              "\n",
              "  .colab-df-quickchart:hover {\n",
              "    background-color: var(--hover-bg-color);\n",
              "    box-shadow: 0 1px 2px rgba(60, 64, 67, 0.3), 0 1px 3px 1px rgba(60, 64, 67, 0.15);\n",
              "    fill: var(--button-hover-fill-color);\n",
              "  }\n",
              "\n",
              "  .colab-df-quickchart-complete:disabled,\n",
              "  .colab-df-quickchart-complete:disabled:hover {\n",
              "    background-color: var(--disabled-bg-color);\n",
              "    fill: var(--disabled-fill-color);\n",
              "    box-shadow: none;\n",
              "  }\n",
              "\n",
              "  .colab-df-spinner {\n",
              "    border: 2px solid var(--fill-color);\n",
              "    border-color: transparent;\n",
              "    border-bottom-color: var(--fill-color);\n",
              "    animation:\n",
              "      spin 1s steps(1) infinite;\n",
              "  }\n",
              "\n",
              "  @keyframes spin {\n",
              "    0% {\n",
              "      border-color: transparent;\n",
              "      border-bottom-color: var(--fill-color);\n",
              "      border-left-color: var(--fill-color);\n",
              "    }\n",
              "    20% {\n",
              "      border-color: transparent;\n",
              "      border-left-color: var(--fill-color);\n",
              "      border-top-color: var(--fill-color);\n",
              "    }\n",
              "    30% {\n",
              "      border-color: transparent;\n",
              "      border-left-color: var(--fill-color);\n",
              "      border-top-color: var(--fill-color);\n",
              "      border-right-color: var(--fill-color);\n",
              "    }\n",
              "    40% {\n",
              "      border-color: transparent;\n",
              "      border-right-color: var(--fill-color);\n",
              "      border-top-color: var(--fill-color);\n",
              "    }\n",
              "    60% {\n",
              "      border-color: transparent;\n",
              "      border-right-color: var(--fill-color);\n",
              "    }\n",
              "    80% {\n",
              "      border-color: transparent;\n",
              "      border-right-color: var(--fill-color);\n",
              "      border-bottom-color: var(--fill-color);\n",
              "    }\n",
              "    90% {\n",
              "      border-color: transparent;\n",
              "      border-bottom-color: var(--fill-color);\n",
              "    }\n",
              "  }\n",
              "</style>\n",
              "\n",
              "  <script>\n",
              "    async function quickchart(key) {\n",
              "      const quickchartButtonEl =\n",
              "        document.querySelector('#' + key + ' button');\n",
              "      quickchartButtonEl.disabled = true;  // To prevent multiple clicks.\n",
              "      quickchartButtonEl.classList.add('colab-df-spinner');\n",
              "      try {\n",
              "        const charts = await google.colab.kernel.invokeFunction(\n",
              "            'suggestCharts', [key], {});\n",
              "      } catch (error) {\n",
              "        console.error('Error during call to suggestCharts:', error);\n",
              "      }\n",
              "      quickchartButtonEl.classList.remove('colab-df-spinner');\n",
              "      quickchartButtonEl.classList.add('colab-df-quickchart-complete');\n",
              "    }\n",
              "    (() => {\n",
              "      let quickchartButtonEl =\n",
              "        document.querySelector('#df-3a78bc08-23bf-45eb-bce0-7da6aa86692b button');\n",
              "      quickchartButtonEl.style.display =\n",
              "        google.colab.kernel.accessAllowed ? 'block' : 'none';\n",
              "    })();\n",
              "  </script>\n",
              "</div>\n",
              "    </div>\n",
              "  </div>\n"
            ]
          },
          "metadata": {},
          "execution_count": 6
        }
      ]
    },
    {
      "cell_type": "code",
      "source": [
        "test_df.head()"
      ],
      "metadata": {
        "colab": {
          "base_uri": "https://localhost:8080/",
          "height": 206
        },
        "id": "jIUOozL9rH0v",
        "outputId": "3f23c6d5-d0d7-46be-e257-16390d797218"
      },
      "execution_count": 7,
      "outputs": [
        {
          "output_type": "execute_result",
          "data": {
            "text/plain": [
              "   id keyword location                                               text\n",
              "0   0     NaN      NaN                 Just happened a terrible car crash\n",
              "1   2     NaN      NaN  Heard about #earthquake is different cities, s...\n",
              "2   3     NaN      NaN  there is a forest fire at spot pond, geese are...\n",
              "3   9     NaN      NaN           Apocalypse lighting. #Spokane #wildfires\n",
              "4  11     NaN      NaN      Typhoon Soudelor kills 28 in China and Taiwan"
            ],
            "text/html": [
              "\n",
              "  <div id=\"df-53b52874-2929-44bb-a942-8c8692df48b5\" class=\"colab-df-container\">\n",
              "    <div>\n",
              "<style scoped>\n",
              "    .dataframe tbody tr th:only-of-type {\n",
              "        vertical-align: middle;\n",
              "    }\n",
              "\n",
              "    .dataframe tbody tr th {\n",
              "        vertical-align: top;\n",
              "    }\n",
              "\n",
              "    .dataframe thead th {\n",
              "        text-align: right;\n",
              "    }\n",
              "</style>\n",
              "<table border=\"1\" class=\"dataframe\">\n",
              "  <thead>\n",
              "    <tr style=\"text-align: right;\">\n",
              "      <th></th>\n",
              "      <th>id</th>\n",
              "      <th>keyword</th>\n",
              "      <th>location</th>\n",
              "      <th>text</th>\n",
              "    </tr>\n",
              "  </thead>\n",
              "  <tbody>\n",
              "    <tr>\n",
              "      <th>0</th>\n",
              "      <td>0</td>\n",
              "      <td>NaN</td>\n",
              "      <td>NaN</td>\n",
              "      <td>Just happened a terrible car crash</td>\n",
              "    </tr>\n",
              "    <tr>\n",
              "      <th>1</th>\n",
              "      <td>2</td>\n",
              "      <td>NaN</td>\n",
              "      <td>NaN</td>\n",
              "      <td>Heard about #earthquake is different cities, s...</td>\n",
              "    </tr>\n",
              "    <tr>\n",
              "      <th>2</th>\n",
              "      <td>3</td>\n",
              "      <td>NaN</td>\n",
              "      <td>NaN</td>\n",
              "      <td>there is a forest fire at spot pond, geese are...</td>\n",
              "    </tr>\n",
              "    <tr>\n",
              "      <th>3</th>\n",
              "      <td>9</td>\n",
              "      <td>NaN</td>\n",
              "      <td>NaN</td>\n",
              "      <td>Apocalypse lighting. #Spokane #wildfires</td>\n",
              "    </tr>\n",
              "    <tr>\n",
              "      <th>4</th>\n",
              "      <td>11</td>\n",
              "      <td>NaN</td>\n",
              "      <td>NaN</td>\n",
              "      <td>Typhoon Soudelor kills 28 in China and Taiwan</td>\n",
              "    </tr>\n",
              "  </tbody>\n",
              "</table>\n",
              "</div>\n",
              "    <div class=\"colab-df-buttons\">\n",
              "\n",
              "  <div class=\"colab-df-container\">\n",
              "    <button class=\"colab-df-convert\" onclick=\"convertToInteractive('df-53b52874-2929-44bb-a942-8c8692df48b5')\"\n",
              "            title=\"Convert this dataframe to an interactive table.\"\n",
              "            style=\"display:none;\">\n",
              "\n",
              "  <svg xmlns=\"http://www.w3.org/2000/svg\" height=\"24px\" viewBox=\"0 -960 960 960\">\n",
              "    <path d=\"M120-120v-720h720v720H120Zm60-500h600v-160H180v160Zm220 220h160v-160H400v160Zm0 220h160v-160H400v160ZM180-400h160v-160H180v160Zm440 0h160v-160H620v160ZM180-180h160v-160H180v160Zm440 0h160v-160H620v160Z\"/>\n",
              "  </svg>\n",
              "    </button>\n",
              "\n",
              "  <style>\n",
              "    .colab-df-container {\n",
              "      display:flex;\n",
              "      gap: 12px;\n",
              "    }\n",
              "\n",
              "    .colab-df-convert {\n",
              "      background-color: #E8F0FE;\n",
              "      border: none;\n",
              "      border-radius: 50%;\n",
              "      cursor: pointer;\n",
              "      display: none;\n",
              "      fill: #1967D2;\n",
              "      height: 32px;\n",
              "      padding: 0 0 0 0;\n",
              "      width: 32px;\n",
              "    }\n",
              "\n",
              "    .colab-df-convert:hover {\n",
              "      background-color: #E2EBFA;\n",
              "      box-shadow: 0px 1px 2px rgba(60, 64, 67, 0.3), 0px 1px 3px 1px rgba(60, 64, 67, 0.15);\n",
              "      fill: #174EA6;\n",
              "    }\n",
              "\n",
              "    .colab-df-buttons div {\n",
              "      margin-bottom: 4px;\n",
              "    }\n",
              "\n",
              "    [theme=dark] .colab-df-convert {\n",
              "      background-color: #3B4455;\n",
              "      fill: #D2E3FC;\n",
              "    }\n",
              "\n",
              "    [theme=dark] .colab-df-convert:hover {\n",
              "      background-color: #434B5C;\n",
              "      box-shadow: 0px 1px 3px 1px rgba(0, 0, 0, 0.15);\n",
              "      filter: drop-shadow(0px 1px 2px rgba(0, 0, 0, 0.3));\n",
              "      fill: #FFFFFF;\n",
              "    }\n",
              "  </style>\n",
              "\n",
              "    <script>\n",
              "      const buttonEl =\n",
              "        document.querySelector('#df-53b52874-2929-44bb-a942-8c8692df48b5 button.colab-df-convert');\n",
              "      buttonEl.style.display =\n",
              "        google.colab.kernel.accessAllowed ? 'block' : 'none';\n",
              "\n",
              "      async function convertToInteractive(key) {\n",
              "        const element = document.querySelector('#df-53b52874-2929-44bb-a942-8c8692df48b5');\n",
              "        const dataTable =\n",
              "          await google.colab.kernel.invokeFunction('convertToInteractive',\n",
              "                                                    [key], {});\n",
              "        if (!dataTable) return;\n",
              "\n",
              "        const docLinkHtml = 'Like what you see? Visit the ' +\n",
              "          '<a target=\"_blank\" href=https://colab.research.google.com/notebooks/data_table.ipynb>data table notebook</a>'\n",
              "          + ' to learn more about interactive tables.';\n",
              "        element.innerHTML = '';\n",
              "        dataTable['output_type'] = 'display_data';\n",
              "        await google.colab.output.renderOutput(dataTable, element);\n",
              "        const docLink = document.createElement('div');\n",
              "        docLink.innerHTML = docLinkHtml;\n",
              "        element.appendChild(docLink);\n",
              "      }\n",
              "    </script>\n",
              "  </div>\n",
              "\n",
              "\n",
              "<div id=\"df-f712c23f-6212-40fa-8b39-8bfb63fcd47c\">\n",
              "  <button class=\"colab-df-quickchart\" onclick=\"quickchart('df-f712c23f-6212-40fa-8b39-8bfb63fcd47c')\"\n",
              "            title=\"Suggest charts\"\n",
              "            style=\"display:none;\">\n",
              "\n",
              "<svg xmlns=\"http://www.w3.org/2000/svg\" height=\"24px\"viewBox=\"0 0 24 24\"\n",
              "     width=\"24px\">\n",
              "    <g>\n",
              "        <path d=\"M19 3H5c-1.1 0-2 .9-2 2v14c0 1.1.9 2 2 2h14c1.1 0 2-.9 2-2V5c0-1.1-.9-2-2-2zM9 17H7v-7h2v7zm4 0h-2V7h2v10zm4 0h-2v-4h2v4z\"/>\n",
              "    </g>\n",
              "</svg>\n",
              "  </button>\n",
              "\n",
              "<style>\n",
              "  .colab-df-quickchart {\n",
              "      --bg-color: #E8F0FE;\n",
              "      --fill-color: #1967D2;\n",
              "      --hover-bg-color: #E2EBFA;\n",
              "      --hover-fill-color: #174EA6;\n",
              "      --disabled-fill-color: #AAA;\n",
              "      --disabled-bg-color: #DDD;\n",
              "  }\n",
              "\n",
              "  [theme=dark] .colab-df-quickchart {\n",
              "      --bg-color: #3B4455;\n",
              "      --fill-color: #D2E3FC;\n",
              "      --hover-bg-color: #434B5C;\n",
              "      --hover-fill-color: #FFFFFF;\n",
              "      --disabled-bg-color: #3B4455;\n",
              "      --disabled-fill-color: #666;\n",
              "  }\n",
              "\n",
              "  .colab-df-quickchart {\n",
              "    background-color: var(--bg-color);\n",
              "    border: none;\n",
              "    border-radius: 50%;\n",
              "    cursor: pointer;\n",
              "    display: none;\n",
              "    fill: var(--fill-color);\n",
              "    height: 32px;\n",
              "    padding: 0;\n",
              "    width: 32px;\n",
              "  }\n",
              "\n",
              "  .colab-df-quickchart:hover {\n",
              "    background-color: var(--hover-bg-color);\n",
              "    box-shadow: 0 1px 2px rgba(60, 64, 67, 0.3), 0 1px 3px 1px rgba(60, 64, 67, 0.15);\n",
              "    fill: var(--button-hover-fill-color);\n",
              "  }\n",
              "\n",
              "  .colab-df-quickchart-complete:disabled,\n",
              "  .colab-df-quickchart-complete:disabled:hover {\n",
              "    background-color: var(--disabled-bg-color);\n",
              "    fill: var(--disabled-fill-color);\n",
              "    box-shadow: none;\n",
              "  }\n",
              "\n",
              "  .colab-df-spinner {\n",
              "    border: 2px solid var(--fill-color);\n",
              "    border-color: transparent;\n",
              "    border-bottom-color: var(--fill-color);\n",
              "    animation:\n",
              "      spin 1s steps(1) infinite;\n",
              "  }\n",
              "\n",
              "  @keyframes spin {\n",
              "    0% {\n",
              "      border-color: transparent;\n",
              "      border-bottom-color: var(--fill-color);\n",
              "      border-left-color: var(--fill-color);\n",
              "    }\n",
              "    20% {\n",
              "      border-color: transparent;\n",
              "      border-left-color: var(--fill-color);\n",
              "      border-top-color: var(--fill-color);\n",
              "    }\n",
              "    30% {\n",
              "      border-color: transparent;\n",
              "      border-left-color: var(--fill-color);\n",
              "      border-top-color: var(--fill-color);\n",
              "      border-right-color: var(--fill-color);\n",
              "    }\n",
              "    40% {\n",
              "      border-color: transparent;\n",
              "      border-right-color: var(--fill-color);\n",
              "      border-top-color: var(--fill-color);\n",
              "    }\n",
              "    60% {\n",
              "      border-color: transparent;\n",
              "      border-right-color: var(--fill-color);\n",
              "    }\n",
              "    80% {\n",
              "      border-color: transparent;\n",
              "      border-right-color: var(--fill-color);\n",
              "      border-bottom-color: var(--fill-color);\n",
              "    }\n",
              "    90% {\n",
              "      border-color: transparent;\n",
              "      border-bottom-color: var(--fill-color);\n",
              "    }\n",
              "  }\n",
              "</style>\n",
              "\n",
              "  <script>\n",
              "    async function quickchart(key) {\n",
              "      const quickchartButtonEl =\n",
              "        document.querySelector('#' + key + ' button');\n",
              "      quickchartButtonEl.disabled = true;  // To prevent multiple clicks.\n",
              "      quickchartButtonEl.classList.add('colab-df-spinner');\n",
              "      try {\n",
              "        const charts = await google.colab.kernel.invokeFunction(\n",
              "            'suggestCharts', [key], {});\n",
              "      } catch (error) {\n",
              "        console.error('Error during call to suggestCharts:', error);\n",
              "      }\n",
              "      quickchartButtonEl.classList.remove('colab-df-spinner');\n",
              "      quickchartButtonEl.classList.add('colab-df-quickchart-complete');\n",
              "    }\n",
              "    (() => {\n",
              "      let quickchartButtonEl =\n",
              "        document.querySelector('#df-f712c23f-6212-40fa-8b39-8bfb63fcd47c button');\n",
              "      quickchartButtonEl.style.display =\n",
              "        google.colab.kernel.accessAllowed ? 'block' : 'none';\n",
              "    })();\n",
              "  </script>\n",
              "</div>\n",
              "    </div>\n",
              "  </div>\n"
            ]
          },
          "metadata": {},
          "execution_count": 7
        }
      ]
    },
    {
      "cell_type": "code",
      "source": [
        "# How many examples of each class present\n",
        "train_df.target.value_counts()"
      ],
      "metadata": {
        "colab": {
          "base_uri": "https://localhost:8080/"
        },
        "id": "AeHgUgv0rKzu",
        "outputId": "ed151dfc-8ace-4d5e-d5d2-b446770ebf07"
      },
      "execution_count": 8,
      "outputs": [
        {
          "output_type": "execute_result",
          "data": {
            "text/plain": [
              "0    4342\n",
              "1    3271\n",
              "Name: target, dtype: int64"
            ]
          },
          "metadata": {},
          "execution_count": 8
        }
      ]
    },
    {
      "cell_type": "markdown",
      "source": [
        "Since, here there is around 60% - 40% split between the 0 and 1 target values, therefore, this is a balanced dataset"
      ],
      "metadata": {
        "id": "cJCBK2lFrVwF"
      }
    },
    {
      "cell_type": "code",
      "source": [
        "# How many total samples are present?\n",
        "len(train_df), len(test_df)"
      ],
      "metadata": {
        "colab": {
          "base_uri": "https://localhost:8080/"
        },
        "id": "n6f7vhfbrUZr",
        "outputId": "7175393a-6931-4842-8b81-47b59607d2ad"
      },
      "execution_count": 9,
      "outputs": [
        {
          "output_type": "execute_result",
          "data": {
            "text/plain": [
              "(7613, 3263)"
            ]
          },
          "metadata": {},
          "execution_count": 9
        }
      ]
    },
    {
      "cell_type": "code",
      "source": [
        "# Visualizing some random training samples\n",
        "import random\n",
        "random_index = random.randint(0, len(train_df)-5)  # Create random indexes\n",
        "\n",
        "for row in train_df_shuffled[['text', 'target']][random_index : random_index+5].itertuples():\n",
        "  _, text, target = row\n",
        "  print(f\"Target: {target}\", \"(real disaster)\" if target > 0 else \"(not real disaster)\")\n",
        "  print(f\"Text:\\n{text}\\n\")\n",
        "  print(\"---\\n\")"
      ],
      "metadata": {
        "colab": {
          "base_uri": "https://localhost:8080/"
        },
        "id": "gucTKXilrj0a",
        "outputId": "e8c27df4-1777-45eb-c83a-1530911e83d3"
      },
      "execution_count": 10,
      "outputs": [
        {
          "output_type": "stream",
          "name": "stdout",
          "text": [
            "Target: 1 (real disaster)\n",
            "Text:\n",
            "Stay vigilent. Civil liberties are under constant attack. #nativehuman #myreligion  https://t.co/WWu070Tjej\n",
            "\n",
            "---\n",
            "\n",
            "Target: 0 (not real disaster)\n",
            "Text:\n",
            "Businesses are deluged with invoices. Make yours stand out with colour or shape and it's likely to ris. togthe top of the pay' pile.\n",
            "\n",
            "---\n",
            "\n",
            "Target: 1 (real disaster)\n",
            "Text:\n",
            "Beat:B2 MOTOR VEHICLE COLLISION at N 35 ST / FREMONT AV N reported on 8/5/2015 6:52 PM Call# 15000270364\n",
            "\n",
            "---\n",
            "\n",
            "Target: 0 (not real disaster)\n",
            "Text:\n",
            "SEAN END CAREER sG Blizzard vs KNOCKOUT ... http://t.co/nyv51681uE\n",
            "\n",
            "---\n",
            "\n",
            "Target: 0 (not real disaster)\n",
            "Text:\n",
            "I liked a @YouTube video http://t.co/YdgiUYdqgb Mini Pony packs a punch. Live report from the Salem County Fair on CBS3 Eyewitness\n",
            "\n",
            "---\n",
            "\n"
          ]
        }
      ]
    },
    {
      "cell_type": "markdown",
      "source": [
        "### Split data into training and validation sets"
      ],
      "metadata": {
        "id": "_XEtZL-Zsb84"
      }
    },
    {
      "cell_type": "code",
      "source": [
        "from sklearn.model_selection import train_test_split\n",
        "\n",
        "# Use train_test_split to split training data into training and validation sets\n",
        "train_sentences, val_sentences, train_labels, val_labels  = train_test_split(train_df_shuffled['text'].to_numpy(),\n",
        "                                                                             train_df_shuffled['target'].to_numpy(),\n",
        "                                                                             test_size=0.1,\n",
        "                                                                             random_state=42)"
      ],
      "metadata": {
        "id": "6O3AmhNSsSf7"
      },
      "execution_count": 11,
      "outputs": []
    },
    {
      "cell_type": "code",
      "source": [
        "# Check the lengths\n",
        "len(train_sentences), len(val_sentences), len(train_labels), len(val_labels)"
      ],
      "metadata": {
        "colab": {
          "base_uri": "https://localhost:8080/"
        },
        "id": "UGLoC7mctPpq",
        "outputId": "5e874bfd-ce10-484c-de2d-98fcb7b6118e"
      },
      "execution_count": 12,
      "outputs": [
        {
          "output_type": "execute_result",
          "data": {
            "text/plain": [
              "(6851, 762, 6851, 762)"
            ]
          },
          "metadata": {},
          "execution_count": 12
        }
      ]
    },
    {
      "cell_type": "code",
      "source": [
        "# Check the first 10 samples\n",
        "train_sentences[:10], train_labels[:10]"
      ],
      "metadata": {
        "colab": {
          "base_uri": "https://localhost:8080/"
        },
        "id": "_P_pk78ntXln",
        "outputId": "46030ecb-a8cd-4b53-8124-a5139a19fd25"
      },
      "execution_count": 13,
      "outputs": [
        {
          "output_type": "execute_result",
          "data": {
            "text/plain": [
              "(array(['@mogacola @zamtriossu i screamed after hitting tweet',\n",
              "        'Imagine getting flattened by Kurt Zouma',\n",
              "        '@Gurmeetramrahim #MSGDoing111WelfareWorks Green S welfare force ke appx 65000 members har time disaster victim ki help ke liye tyar hai....',\n",
              "        \"@shakjn @C7 @Magnums im shaking in fear he's gonna hack the planet\",\n",
              "        'Somehow find you and I collide http://t.co/Ee8RpOahPk',\n",
              "        '@EvaHanderek @MarleyKnysh great times until the bus driver held us hostage in the mall parking lot lmfao',\n",
              "        'destroy the free fandom honestly',\n",
              "        'Weapons stolen from National Guard Armory in New Albany still missing #Gunsense http://t.co/lKNU8902JE',\n",
              "        '@wfaaweather Pete when will the heat wave pass? Is it really going to be mid month? Frisco Boy Scouts have a canoe trip in Okla.',\n",
              "        'Patient-reported outcomes in long-term survivors of metastatic colorectal cancer - British Journal of Surgery http://t.co/5Yl4DC1Tqt'],\n",
              "       dtype=object),\n",
              " array([0, 0, 1, 0, 0, 1, 1, 0, 1, 1]))"
            ]
          },
          "metadata": {},
          "execution_count": 13
        }
      ]
    },
    {
      "cell_type": "markdown",
      "source": [
        "### Converting text into numbers\n",
        "\n",
        "When dealing with text data, the first thing that should be done is to convert the text into numbers\n",
        "\n",
        "Few ways of doing this:\n",
        "* Tokenization - direct making of tokens (tokens can be a word or a character)\n",
        "* Embedding - creating a matrix of feature vector for each token"
      ],
      "metadata": {
        "id": "ZUidpWXRtoEr"
      }
    },
    {
      "cell_type": "markdown",
      "source": [
        "#### Text vectorization (tokenization)"
      ],
      "metadata": {
        "id": "hr4EqNDruOfx"
      }
    },
    {
      "cell_type": "code",
      "source": [
        "train_sentences[:10]"
      ],
      "metadata": {
        "colab": {
          "base_uri": "https://localhost:8080/"
        },
        "id": "NtA8OSg9tdVX",
        "outputId": "0a99dc83-59a9-4518-8c9a-90e7fbcb1ff5"
      },
      "execution_count": 14,
      "outputs": [
        {
          "output_type": "execute_result",
          "data": {
            "text/plain": [
              "array(['@mogacola @zamtriossu i screamed after hitting tweet',\n",
              "       'Imagine getting flattened by Kurt Zouma',\n",
              "       '@Gurmeetramrahim #MSGDoing111WelfareWorks Green S welfare force ke appx 65000 members har time disaster victim ki help ke liye tyar hai....',\n",
              "       \"@shakjn @C7 @Magnums im shaking in fear he's gonna hack the planet\",\n",
              "       'Somehow find you and I collide http://t.co/Ee8RpOahPk',\n",
              "       '@EvaHanderek @MarleyKnysh great times until the bus driver held us hostage in the mall parking lot lmfao',\n",
              "       'destroy the free fandom honestly',\n",
              "       'Weapons stolen from National Guard Armory in New Albany still missing #Gunsense http://t.co/lKNU8902JE',\n",
              "       '@wfaaweather Pete when will the heat wave pass? Is it really going to be mid month? Frisco Boy Scouts have a canoe trip in Okla.',\n",
              "       'Patient-reported outcomes in long-term survivors of metastatic colorectal cancer - British Journal of Surgery http://t.co/5Yl4DC1Tqt'],\n",
              "      dtype=object)"
            ]
          },
          "metadata": {},
          "execution_count": 14
        }
      ]
    },
    {
      "cell_type": "code",
      "source": [
        "# Performing tokenization\n",
        "import tensorflow as tf\n",
        "from tensorflow.keras.layers import TextVectorization\n",
        "\n",
        "# use the default text vectorization\n",
        "text_vectorizer = TextVectorization(max_tokens = 10000, # count of words in the vocabulary\n",
        "                                    standardize=\"lower_and_strip_punctuation\",\n",
        "                                    split='whitespace',\n",
        "                                    ngrams=None, # Create groups of n words\n",
        "                                    output_mode = \"int\", # Mapping the text into integers\n",
        "                                    output_sequence_length = None,  # How long the sequence must be\n",
        "                                    pad_to_max_tokens = True\n",
        "                                    )"
      ],
      "metadata": {
        "id": "l0XuwYzSuStX"
      },
      "execution_count": 15,
      "outputs": []
    },
    {
      "cell_type": "code",
      "source": [
        "# Find the average number of tokens (words) in the training tweets\n",
        "round(sum([len(i.split()) for i in train_sentences]) / len(train_sentences))"
      ],
      "metadata": {
        "colab": {
          "base_uri": "https://localhost:8080/"
        },
        "id": "7injscwUvgY-",
        "outputId": "851452be-fa69-43bc-922f-55054fa1438c"
      },
      "execution_count": 16,
      "outputs": [
        {
          "output_type": "execute_result",
          "data": {
            "text/plain": [
              "15"
            ]
          },
          "metadata": {},
          "execution_count": 16
        }
      ]
    },
    {
      "cell_type": "code",
      "source": [
        "# Setup text vectorization variables\n",
        "max_vocab_length = 10000   # Max number of words in the vocabulary\n",
        "max_length = 15  # max length of the sequences of tokens we see in a tweet (on a averagee)\n",
        "\n",
        "text_vectorizer = TextVectorization(max_tokens = max_vocab_length, # count of words in the vocabulary\n",
        "                                    output_mode = \"int\", # Mapping the text into integers\n",
        "                                    output_sequence_length = max_length,  # How long the sequence must be\n",
        "                                    )"
      ],
      "metadata": {
        "id": "1Te1QwVjw3OJ"
      },
      "execution_count": 17,
      "outputs": []
    },
    {
      "cell_type": "code",
      "source": [
        "# Fit the vectorizer to the train data\n",
        "text_vectorizer.adapt(train_sentences)"
      ],
      "metadata": {
        "id": "xU5XHYbUxUwB"
      },
      "execution_count": 18,
      "outputs": []
    },
    {
      "cell_type": "code",
      "source": [
        "sample_sentence = \"There's a flood in the streets\"\n",
        "text_vectorizer([sample_sentence])"
      ],
      "metadata": {
        "colab": {
          "base_uri": "https://localhost:8080/"
        },
        "id": "wZtRd1llWD6J",
        "outputId": "b3f7b735-e8ac-427a-c693-2f5743b4f36a"
      },
      "execution_count": 19,
      "outputs": [
        {
          "output_type": "execute_result",
          "data": {
            "text/plain": [
              "<tf.Tensor: shape=(1, 15), dtype=int64, numpy=\n",
              "array([[ 264,    3,  232,    4,    2, 1585,    0,    0,    0,    0,    0,\n",
              "           0,    0,    0,    0]])>"
            ]
          },
          "metadata": {},
          "execution_count": 19
        }
      ]
    },
    {
      "cell_type": "code",
      "source": [
        "# Choosing random sentences from the training dataset and tokenize it\n",
        "random_sentence = random.choice(train_sentences)\n",
        "print(f\"Original text:\\n {random_sentence}\\\n",
        "      \\n\\nVectorizered version:\")\n",
        "text_vectorizer([random_sentence])"
      ],
      "metadata": {
        "colab": {
          "base_uri": "https://localhost:8080/"
        },
        "id": "bNG_tYPLWNmv",
        "outputId": "14b095a8-e320-4760-aac0-207518c1cdf5"
      },
      "execution_count": 20,
      "outputs": [
        {
          "output_type": "stream",
          "name": "stdout",
          "text": [
            "Original text:\n",
            " Detonation fashionable mountaineering electronic watch water-resistant couples leisure tabÛ_ http://t.co/UCAwg59ulJ http://t.co/eNqDfbJUMP      \n",
            "\n",
            "Vectorizered version:\n"
          ]
        },
        {
          "output_type": "execute_result",
          "data": {
            "text/plain": [
              "<tf.Tensor: shape=(1, 15), dtype=int64, numpy=\n",
              "array([[ 580, 3859, 3610, 2128,  135, 3258, 3083, 3681, 3358,    1,    1,\n",
              "           0,    0,    0,    0]])>"
            ]
          },
          "metadata": {},
          "execution_count": 20
        }
      ]
    },
    {
      "cell_type": "code",
      "source": [
        "# Get the unique words in the vocabulary\n",
        "words_in_vocab = text_vectorizer.get_vocabulary()  # get all unique words in the dataset\n",
        "top_5_words = words_in_vocab[:5]   # Most common words\n",
        "bottom_5_words = words_in_vocab[-5:]  # least common words\n",
        "print(f\"Number of words in vocab: {len(words_in_vocab)}\")\n",
        "print(f\"5 most common words: {top_5_words}\")\n",
        "print(f\"5 least common words: {bottom_5_words}\")"
      ],
      "metadata": {
        "colab": {
          "base_uri": "https://localhost:8080/"
        },
        "id": "6c1Cj07SWyWV",
        "outputId": "6137bee5-a23f-4002-c04b-65e8acfc7e07"
      },
      "execution_count": 21,
      "outputs": [
        {
          "output_type": "stream",
          "name": "stdout",
          "text": [
            "Number of words in vocab: 10000\n",
            "5 most common words: ['', '[UNK]', 'the', 'a', 'in']\n",
            "5 least common words: ['pages', 'paeds', 'pads', 'padres', 'paddytomlinson1']\n"
          ]
        }
      ]
    },
    {
      "cell_type": "markdown",
      "source": [
        "### Creating embedding using an Embedding Layer\n",
        "\n",
        "Here, we will use tensorflow's embedding layer.\n",
        "\n",
        "Here, the parameters used are:\n",
        "* `input_dim`: size of the vocabulary\n",
        "* `output_dim`: size of the output embedding vector, eg. a value of 100 would mean each token gets represented by a vector 100 long\n",
        "* `input_length`: length of the sequences being passed to the embedding layer"
      ],
      "metadata": {
        "id": "ZrZLuMOKXhth"
      }
    },
    {
      "cell_type": "code",
      "source": [
        "from tensorflow.keras import layers\n",
        "\n",
        "embedding = layers.Embedding(input_dim=max_vocab_length,   # set input shape\n",
        "                             output_dim=128,   # output shape\n",
        "                             input_length = max_length,    # how long is each input\n",
        "                             embeddings_initializer=\"uniform\"\n",
        "                             )\n",
        "embedding"
      ],
      "metadata": {
        "colab": {
          "base_uri": "https://localhost:8080/"
        },
        "id": "oYISJsQ2XTJF",
        "outputId": "3f0e6cea-beb9-4f67-cfc2-f89580f9865b"
      },
      "execution_count": 22,
      "outputs": [
        {
          "output_type": "execute_result",
          "data": {
            "text/plain": [
              "<keras.src.layers.core.embedding.Embedding at 0x78ba3076e260>"
            ]
          },
          "metadata": {},
          "execution_count": 22
        }
      ]
    },
    {
      "cell_type": "code",
      "source": [
        "# Get a random sentence from the training set\n",
        "random_sentence = random.choice(train_sentences)\n",
        "print(f\"Oringal text:\\n {random_sentence}\\\n",
        "      \\n\\nEmbedded version: \")\n",
        "\n",
        "# Embed the random sentence (turn it into dense vectors of fixed size)\n",
        "sample_embed = embedding(text_vectorizer([random_sentence]))\n",
        "sample_embed"
      ],
      "metadata": {
        "colab": {
          "base_uri": "https://localhost:8080/"
        },
        "id": "cqNq2YWiYeRF",
        "outputId": "64f9e790-89de-4915-a77c-f60396264952"
      },
      "execution_count": 23,
      "outputs": [
        {
          "output_type": "stream",
          "name": "stdout",
          "text": [
            "Oringal text:\n",
            " @welshninja87 click on the tag there's lots of them. RT them to hijack the hashtag      \n",
            "\n",
            "Embedded version: \n"
          ]
        },
        {
          "output_type": "execute_result",
          "data": {
            "text/plain": [
              "<tf.Tensor: shape=(1, 15, 128), dtype=float32, numpy=\n",
              "array([[[-0.00677859,  0.02190015,  0.01737007, ..., -0.02407655,\n",
              "          0.0146344 , -0.03997114],\n",
              "        [-0.00428184,  0.00642917,  0.04052028, ..., -0.03719159,\n",
              "          0.0310251 ,  0.02675898],\n",
              "        [-0.02233562,  0.00421648,  0.03847306, ...,  0.03316797,\n",
              "         -0.04958534,  0.00175772],\n",
              "        ...,\n",
              "        [ 0.00170026, -0.02316728, -0.00839777, ..., -0.04876706,\n",
              "         -0.02539863, -0.02695577],\n",
              "        [ 0.01773491,  0.01653937, -0.01343698, ...,  0.02281077,\n",
              "          0.03941809, -0.03554634],\n",
              "        [-0.03841989,  0.03060791,  0.02251149, ..., -0.03674082,\n",
              "         -0.00017506, -0.00333816]]], dtype=float32)>"
            ]
          },
          "metadata": {},
          "execution_count": 23
        }
      ]
    },
    {
      "cell_type": "code",
      "source": [
        "# Check out a single token's embedding\n",
        "sample_embed[0][0], sample_embed[0][0].shape, random_sentence"
      ],
      "metadata": {
        "colab": {
          "base_uri": "https://localhost:8080/"
        },
        "id": "PfmTvG_7Y4IX",
        "outputId": "33472b2b-67c8-4ac0-c9bf-1331d6eb966d"
      },
      "execution_count": 24,
      "outputs": [
        {
          "output_type": "execute_result",
          "data": {
            "text/plain": [
              "(<tf.Tensor: shape=(128,), dtype=float32, numpy=\n",
              " array([-0.00677859,  0.02190015,  0.01737007,  0.04853481, -0.03481646,\n",
              "        -0.04318152, -0.03224778,  0.0338514 ,  0.04695853,  0.00041042,\n",
              "         0.00377293, -0.01195019, -0.0246413 ,  0.04960133,  0.02191324,\n",
              "        -0.03980631,  0.0357192 ,  0.01562445, -0.01748119, -0.00840499,\n",
              "         0.04818661, -0.03232361,  0.0172343 , -0.02653386, -0.04090259,\n",
              "        -0.01955242, -0.02256476,  0.03500799, -0.00062443, -0.03071621,\n",
              "        -0.02470137,  0.03275562,  0.00053152, -0.04695505, -0.03818904,\n",
              "        -0.01628907,  0.04202597,  0.01013432, -0.03996821, -0.02092209,\n",
              "        -0.01890867,  0.01606952,  0.0300671 , -0.0246963 , -0.04436427,\n",
              "         0.02208127,  0.02139448, -0.00372498, -0.0038259 , -0.03405948,\n",
              "        -0.04530643, -0.04252194,  0.01191318,  0.00175412,  0.03476265,\n",
              "        -0.02343891,  0.031173  ,  0.04459381,  0.04848823, -0.01854352,\n",
              "        -0.02955656, -0.03802636,  0.03296257,  0.04162482,  0.01996268,\n",
              "        -0.04234015, -0.04417676, -0.04018454,  0.04001175, -0.00307875,\n",
              "        -0.01842485,  0.01994026, -0.02024329,  0.04531625,  0.00262408,\n",
              "         0.04645176, -0.04556106,  0.00602344,  0.01272934, -0.02779077,\n",
              "         0.04529258, -0.0199047 , -0.04790512,  0.0183625 , -0.00087487,\n",
              "         0.00029839, -0.03805099,  0.01057141, -0.03307138,  0.02266065,\n",
              "         0.04850257,  0.00935709,  0.01946017, -0.04940882,  0.03895689,\n",
              "        -0.03537505, -0.00138984,  0.01275505, -0.03522259,  0.04266604,\n",
              "         0.03051913,  0.0328645 , -0.03597665, -0.02883664,  0.03228781,\n",
              "        -0.00286543, -0.01908222, -0.03385576, -0.00594484, -0.0448711 ,\n",
              "        -0.02020717, -0.02184612,  0.00713483,  0.02848888,  0.03946472,\n",
              "         0.0163739 ,  0.02093065,  0.00138789,  0.0149591 , -0.01132691,\n",
              "         0.04680195, -0.01253625,  0.04824909, -0.03320167,  0.03799636,\n",
              "        -0.02407655,  0.0146344 , -0.03997114], dtype=float32)>,\n",
              " TensorShape([128]),\n",
              " \"@welshninja87 click on the tag there's lots of them. RT them to hijack the hashtag\")"
            ]
          },
          "metadata": {},
          "execution_count": 24
        }
      ]
    },
    {
      "cell_type": "markdown",
      "source": [
        "### Modelling the text dataset (running a series of experiments)\n",
        "\n",
        "Here are the models to be made:\n",
        "* Model 0: Naive Bayes (Baseline)\n",
        "* Model 1: Feed-forward neural network (dense model)\n",
        "* Model 2: LSTM model (RNN)\n",
        "* Model 3: GRU model (RNN)\n",
        "* Model 4: Bidirectional-LSTM model (RNN)\n",
        "* Model 5: 1D Convolutional Neural Network (CNN)\n",
        "* Model 6: TensorFlow Hub Pretrained Feature Extractor (using transfer learning for NLP)\n",
        "* Model 7: Same as model 6 with 10% of training data\n",
        "\n",
        "Steps to approach these model:\n",
        "* Create a model\n",
        "* Build a model\n",
        "* Fit a model\n",
        "* Evaluate our model"
      ],
      "metadata": {
        "id": "7MxegBIxZ3Vf"
      }
    },
    {
      "cell_type": "markdown",
      "source": [
        "#### Model 0 - Baseline model\n",
        "\n",
        "Here, using Multinomial Naive Bayes using TF-IDF formula to convert the words to numbers"
      ],
      "metadata": {
        "id": "4gMx-fOvYZko"
      }
    },
    {
      "cell_type": "code",
      "source": [
        "from sklearn.feature_extraction.text import TfidfVectorizer\n",
        "from sklearn.naive_bayes import MultinomialNB\n",
        "from sklearn.pipeline import Pipeline\n",
        "\n",
        "# Create tokenization and modelling pipeline\n",
        "model_0 = Pipeline([\n",
        "    (\"tfidf\", TfidfVectorizer()),\n",
        "    (\"clf\", MultinomialNB())\n",
        "])\n",
        "\n",
        "# Fit the pipeline to the training data\n",
        "model_0.fit(train_sentences, train_labels)"
      ],
      "metadata": {
        "id": "aEN6Dw93ZfCS",
        "colab": {
          "base_uri": "https://localhost:8080/",
          "height": 125
        },
        "outputId": "41c70564-d06c-4fa9-9ed6-65bb6f83a803"
      },
      "execution_count": 25,
      "outputs": [
        {
          "output_type": "execute_result",
          "data": {
            "text/plain": [
              "Pipeline(steps=[('tfidf', TfidfVectorizer()), ('clf', MultinomialNB())])"
            ],
            "text/html": [
              "<style>#sk-container-id-1 {color: black;background-color: white;}#sk-container-id-1 pre{padding: 0;}#sk-container-id-1 div.sk-toggleable {background-color: white;}#sk-container-id-1 label.sk-toggleable__label {cursor: pointer;display: block;width: 100%;margin-bottom: 0;padding: 0.3em;box-sizing: border-box;text-align: center;}#sk-container-id-1 label.sk-toggleable__label-arrow:before {content: \"▸\";float: left;margin-right: 0.25em;color: #696969;}#sk-container-id-1 label.sk-toggleable__label-arrow:hover:before {color: black;}#sk-container-id-1 div.sk-estimator:hover label.sk-toggleable__label-arrow:before {color: black;}#sk-container-id-1 div.sk-toggleable__content {max-height: 0;max-width: 0;overflow: hidden;text-align: left;background-color: #f0f8ff;}#sk-container-id-1 div.sk-toggleable__content pre {margin: 0.2em;color: black;border-radius: 0.25em;background-color: #f0f8ff;}#sk-container-id-1 input.sk-toggleable__control:checked~div.sk-toggleable__content {max-height: 200px;max-width: 100%;overflow: auto;}#sk-container-id-1 input.sk-toggleable__control:checked~label.sk-toggleable__label-arrow:before {content: \"▾\";}#sk-container-id-1 div.sk-estimator input.sk-toggleable__control:checked~label.sk-toggleable__label {background-color: #d4ebff;}#sk-container-id-1 div.sk-label input.sk-toggleable__control:checked~label.sk-toggleable__label {background-color: #d4ebff;}#sk-container-id-1 input.sk-hidden--visually {border: 0;clip: rect(1px 1px 1px 1px);clip: rect(1px, 1px, 1px, 1px);height: 1px;margin: -1px;overflow: hidden;padding: 0;position: absolute;width: 1px;}#sk-container-id-1 div.sk-estimator {font-family: monospace;background-color: #f0f8ff;border: 1px dotted black;border-radius: 0.25em;box-sizing: border-box;margin-bottom: 0.5em;}#sk-container-id-1 div.sk-estimator:hover {background-color: #d4ebff;}#sk-container-id-1 div.sk-parallel-item::after {content: \"\";width: 100%;border-bottom: 1px solid gray;flex-grow: 1;}#sk-container-id-1 div.sk-label:hover label.sk-toggleable__label {background-color: #d4ebff;}#sk-container-id-1 div.sk-serial::before {content: \"\";position: absolute;border-left: 1px solid gray;box-sizing: border-box;top: 0;bottom: 0;left: 50%;z-index: 0;}#sk-container-id-1 div.sk-serial {display: flex;flex-direction: column;align-items: center;background-color: white;padding-right: 0.2em;padding-left: 0.2em;position: relative;}#sk-container-id-1 div.sk-item {position: relative;z-index: 1;}#sk-container-id-1 div.sk-parallel {display: flex;align-items: stretch;justify-content: center;background-color: white;position: relative;}#sk-container-id-1 div.sk-item::before, #sk-container-id-1 div.sk-parallel-item::before {content: \"\";position: absolute;border-left: 1px solid gray;box-sizing: border-box;top: 0;bottom: 0;left: 50%;z-index: -1;}#sk-container-id-1 div.sk-parallel-item {display: flex;flex-direction: column;z-index: 1;position: relative;background-color: white;}#sk-container-id-1 div.sk-parallel-item:first-child::after {align-self: flex-end;width: 50%;}#sk-container-id-1 div.sk-parallel-item:last-child::after {align-self: flex-start;width: 50%;}#sk-container-id-1 div.sk-parallel-item:only-child::after {width: 0;}#sk-container-id-1 div.sk-dashed-wrapped {border: 1px dashed gray;margin: 0 0.4em 0.5em 0.4em;box-sizing: border-box;padding-bottom: 0.4em;background-color: white;}#sk-container-id-1 div.sk-label label {font-family: monospace;font-weight: bold;display: inline-block;line-height: 1.2em;}#sk-container-id-1 div.sk-label-container {text-align: center;}#sk-container-id-1 div.sk-container {/* jupyter's `normalize.less` sets `[hidden] { display: none; }` but bootstrap.min.css set `[hidden] { display: none !important; }` so we also need the `!important` here to be able to override the default hidden behavior on the sphinx rendered scikit-learn.org. See: https://github.com/scikit-learn/scikit-learn/issues/21755 */display: inline-block !important;position: relative;}#sk-container-id-1 div.sk-text-repr-fallback {display: none;}</style><div id=\"sk-container-id-1\" class=\"sk-top-container\"><div class=\"sk-text-repr-fallback\"><pre>Pipeline(steps=[(&#x27;tfidf&#x27;, TfidfVectorizer()), (&#x27;clf&#x27;, MultinomialNB())])</pre><b>In a Jupyter environment, please rerun this cell to show the HTML representation or trust the notebook. <br />On GitHub, the HTML representation is unable to render, please try loading this page with nbviewer.org.</b></div><div class=\"sk-container\" hidden><div class=\"sk-item sk-dashed-wrapped\"><div class=\"sk-label-container\"><div class=\"sk-label sk-toggleable\"><input class=\"sk-toggleable__control sk-hidden--visually\" id=\"sk-estimator-id-1\" type=\"checkbox\" ><label for=\"sk-estimator-id-1\" class=\"sk-toggleable__label sk-toggleable__label-arrow\">Pipeline</label><div class=\"sk-toggleable__content\"><pre>Pipeline(steps=[(&#x27;tfidf&#x27;, TfidfVectorizer()), (&#x27;clf&#x27;, MultinomialNB())])</pre></div></div></div><div class=\"sk-serial\"><div class=\"sk-item\"><div class=\"sk-estimator sk-toggleable\"><input class=\"sk-toggleable__control sk-hidden--visually\" id=\"sk-estimator-id-2\" type=\"checkbox\" ><label for=\"sk-estimator-id-2\" class=\"sk-toggleable__label sk-toggleable__label-arrow\">TfidfVectorizer</label><div class=\"sk-toggleable__content\"><pre>TfidfVectorizer()</pre></div></div></div><div class=\"sk-item\"><div class=\"sk-estimator sk-toggleable\"><input class=\"sk-toggleable__control sk-hidden--visually\" id=\"sk-estimator-id-3\" type=\"checkbox\" ><label for=\"sk-estimator-id-3\" class=\"sk-toggleable__label sk-toggleable__label-arrow\">MultinomialNB</label><div class=\"sk-toggleable__content\"><pre>MultinomialNB()</pre></div></div></div></div></div></div></div>"
            ]
          },
          "metadata": {},
          "execution_count": 25
        }
      ]
    },
    {
      "cell_type": "code",
      "source": [
        "# Evaluate the baseline model\n",
        "baseline_score = model_0.score(val_sentences, val_labels)\n",
        "print(f\"Baseline line model achieves accuracy of: {baseline_score*100:.2f}%\")"
      ],
      "metadata": {
        "colab": {
          "base_uri": "https://localhost:8080/"
        },
        "id": "auYy8nhaZBT3",
        "outputId": "ef887862-6501-41b8-defa-e291f55b6395"
      },
      "execution_count": 26,
      "outputs": [
        {
          "output_type": "stream",
          "name": "stdout",
          "text": [
            "Baseline line model achieves accuracy of: 79.27%\n"
          ]
        }
      ]
    },
    {
      "cell_type": "code",
      "source": [
        "train_df.target.value_counts()"
      ],
      "metadata": {
        "colab": {
          "base_uri": "https://localhost:8080/"
        },
        "id": "3kYTCiMMZKpA",
        "outputId": "08ece914-0a6f-473a-803e-ed0880a79167"
      },
      "execution_count": 27,
      "outputs": [
        {
          "output_type": "execute_result",
          "data": {
            "text/plain": [
              "0    4342\n",
              "1    3271\n",
              "Name: target, dtype: int64"
            ]
          },
          "metadata": {},
          "execution_count": 27
        }
      ]
    },
    {
      "cell_type": "code",
      "source": [
        "# Make predictions\n",
        "baseline_preds = model_0.predict(val_sentences)\n",
        "baseline_preds[:20]"
      ],
      "metadata": {
        "colab": {
          "base_uri": "https://localhost:8080/"
        },
        "id": "h53JQOFOZVlH",
        "outputId": "c07ffccd-136f-4f05-ddeb-df89bf70c9df"
      },
      "execution_count": 28,
      "outputs": [
        {
          "output_type": "execute_result",
          "data": {
            "text/plain": [
              "array([1, 1, 1, 0, 0, 1, 1, 1, 1, 0, 0, 1, 0, 0, 0, 0, 0, 0, 0, 1])"
            ]
          },
          "metadata": {},
          "execution_count": 28
        }
      ]
    },
    {
      "cell_type": "code",
      "source": [
        "train_labels"
      ],
      "metadata": {
        "colab": {
          "base_uri": "https://localhost:8080/"
        },
        "id": "wgiDrmw_ZdzM",
        "outputId": "8c5f7ba6-05e3-4de6-bc7a-d81bf726ed0e"
      },
      "execution_count": 29,
      "outputs": [
        {
          "output_type": "execute_result",
          "data": {
            "text/plain": [
              "array([0, 0, 1, ..., 1, 1, 0])"
            ]
          },
          "metadata": {},
          "execution_count": 29
        }
      ]
    },
    {
      "cell_type": "markdown",
      "source": [
        "### Creating an evaluation function for the model experience\n",
        "\n",
        "This function will compare the model's predictions with the truth labels using the following metrics:\n",
        "* Accuracy\n",
        "* Precision\n",
        "* Recall\n",
        "* F1-score"
      ],
      "metadata": {
        "id": "_GLrRIZGZsp9"
      }
    },
    {
      "cell_type": "code",
      "source": [
        "# Function to evaluate: accuracy, precision, recall, f1-score\n",
        "from sklearn.metrics import accuracy_score, precision_recall_fscore_support\n",
        "\n",
        "def calculate_results(y_true, y_pred):\n",
        "  \"\"\"\n",
        "  Calculates model's accuracy, precision, recall and F1-score of a binary classifaciton model\n",
        "  \"\"\"\n",
        "  # Calculate model's accuracy\n",
        "  model_accuracy = accuracy_score(y_true, y_pred) * 100\n",
        "\n",
        "  # Calculate model's precision, recall and f1-score using 'weighted' accuracy\n",
        "  model_precision, model_recall, model_f1, _ = precision_recall_fscore_support(y_true,\n",
        "                                                                               y_pred,\n",
        "                                                                               average='weighted')\n",
        "  model_results = {\"accuracy\": model_accuracy,\n",
        "                   \"precision\": model_precision,\n",
        "                   \"recall\":model_recall,\n",
        "                   \"f1\":model_f1}\n",
        "  return model_results"
      ],
      "metadata": {
        "id": "sICVhDsAZgls"
      },
      "execution_count": 30,
      "outputs": []
    },
    {
      "cell_type": "code",
      "source": [
        "# Get baseline results\n",
        "baseline_results = calculate_results(y_true = val_labels,\n",
        "                                     y_pred = baseline_preds)\n",
        "baseline_results"
      ],
      "metadata": {
        "colab": {
          "base_uri": "https://localhost:8080/"
        },
        "id": "220BJl6cbLft",
        "outputId": "87fb54c5-a69a-4af4-d223-d2e773bdb67b"
      },
      "execution_count": 31,
      "outputs": [
        {
          "output_type": "execute_result",
          "data": {
            "text/plain": [
              "{'accuracy': 79.26509186351706,\n",
              " 'precision': 0.8111390004213173,\n",
              " 'recall': 0.7926509186351706,\n",
              " 'f1': 0.7862189758049549}"
            ]
          },
          "metadata": {},
          "execution_count": 31
        }
      ]
    },
    {
      "cell_type": "markdown",
      "source": [
        "### Model 1: Feed forward simple dense model"
      ],
      "metadata": {
        "id": "bWZf--m-be1k"
      }
    },
    {
      "cell_type": "code",
      "source": [
        "# Create a tensorboard callback\n",
        "from helper_functions import create_tensorboard_callback\n",
        "\n",
        "\n",
        "# Create a directory to save Tensorboard logs\n",
        "SAVE_DIR = \"model_logs\""
      ],
      "metadata": {
        "id": "qDh3bpaqbU0G"
      },
      "execution_count": 32,
      "outputs": []
    },
    {
      "cell_type": "code",
      "source": [
        "# Build model with the function API\n",
        "from tensorflow.keras import layers\n",
        "\n",
        "inputs = layers.Input(shape=(1,), dtype=tf.string)\n",
        "x = text_vectorizer(inputs)  # turn the input text into numbers\n",
        "x = embedding(x)  # turn the numbers into embeddings\n",
        "# x = layers.GlobalAveragePooling1D()(x)  # condense the feature vector\n",
        "x = layers.GlobalMaxPooling1D()(x)  # condense the feature vector\n",
        "outputs = layers.Dense(1, activation='sigmoid')(x) # Create the output layer\n",
        "\n",
        "model_1 = tf.keras.Model(inputs, outputs, name=\"model_1_dense\")"
      ],
      "metadata": {
        "id": "kgss6Qg2b1qw"
      },
      "execution_count": 33,
      "outputs": []
    },
    {
      "cell_type": "code",
      "source": [
        "model_1.summary()"
      ],
      "metadata": {
        "colab": {
          "base_uri": "https://localhost:8080/"
        },
        "id": "S7zoy7tLcTKE",
        "outputId": "862332f6-69f9-4e40-e80f-67e729a639fd"
      },
      "execution_count": 34,
      "outputs": [
        {
          "output_type": "stream",
          "name": "stdout",
          "text": [
            "Model: \"model_1_dense\"\n",
            "_________________________________________________________________\n",
            " Layer (type)                Output Shape              Param #   \n",
            "=================================================================\n",
            " input_1 (InputLayer)        [(None, 1)]               0         \n",
            "                                                                 \n",
            " text_vectorization_1 (Text  (None, 15)                0         \n",
            " Vectorization)                                                  \n",
            "                                                                 \n",
            " embedding (Embedding)       (None, 15, 128)           1280000   \n",
            "                                                                 \n",
            " global_max_pooling1d (Glob  (None, 128)               0         \n",
            " alMaxPooling1D)                                                 \n",
            "                                                                 \n",
            " dense (Dense)               (None, 1)                 129       \n",
            "                                                                 \n",
            "=================================================================\n",
            "Total params: 1280129 (4.88 MB)\n",
            "Trainable params: 1280129 (4.88 MB)\n",
            "Non-trainable params: 0 (0.00 Byte)\n",
            "_________________________________________________________________\n"
          ]
        }
      ]
    },
    {
      "cell_type": "code",
      "source": [
        "# Compile the model\n",
        "model_1.compile(loss=tf.keras.losses.BinaryCrossentropy(),\n",
        "                optimizer=tf.keras.optimizers.Adam(),\n",
        "                metrics=['accuracy'])"
      ],
      "metadata": {
        "id": "2KBc4lI-cTGm"
      },
      "execution_count": 35,
      "outputs": []
    },
    {
      "cell_type": "code",
      "source": [
        "train_sentences.shape, train_labels.shape"
      ],
      "metadata": {
        "colab": {
          "base_uri": "https://localhost:8080/"
        },
        "id": "snMBl1sIdtY7",
        "outputId": "eb5f4061-3862-4c6c-b8d6-befb48b9da09"
      },
      "execution_count": 36,
      "outputs": [
        {
          "output_type": "execute_result",
          "data": {
            "text/plain": [
              "((6851,), (6851,))"
            ]
          },
          "metadata": {},
          "execution_count": 36
        }
      ]
    },
    {
      "cell_type": "code",
      "source": [
        "# Fit the model\n",
        "model_1_history = model_1.fit(x=train_sentences,\n",
        "                              y=train_labels,\n",
        "                              epochs=5,\n",
        "                              validation_data=(val_sentences, val_labels),\n",
        "                              callbacks = [create_tensorboard_callback(dir_name=SAVE_DIR,\n",
        "                                                                       experiment_name = \"model_1_dense\")])"
      ],
      "metadata": {
        "colab": {
          "base_uri": "https://localhost:8080/"
        },
        "id": "SPKHOr-YcTFI",
        "outputId": "02338fab-0020-48bc-b267-e7d993b0795b"
      },
      "execution_count": 37,
      "outputs": [
        {
          "output_type": "stream",
          "name": "stdout",
          "text": [
            "Saving TensorBoard log files to: model_logs/model_1_dense/20231128-053646\n",
            "Epoch 1/5\n",
            "215/215 [==============================] - 19s 45ms/step - loss: 0.6368 - accuracy: 0.6560 - val_loss: 0.5753 - val_accuracy: 0.7559\n",
            "Epoch 2/5\n",
            "215/215 [==============================] - 2s 10ms/step - loss: 0.4723 - accuracy: 0.8212 - val_loss: 0.4772 - val_accuracy: 0.7822\n",
            "Epoch 3/5\n",
            "215/215 [==============================] - 2s 9ms/step - loss: 0.3447 - accuracy: 0.8733 - val_loss: 0.4553 - val_accuracy: 0.7848\n",
            "Epoch 4/5\n",
            "215/215 [==============================] - 2s 7ms/step - loss: 0.2610 - accuracy: 0.9056 - val_loss: 0.4551 - val_accuracy: 0.7782\n",
            "Epoch 5/5\n",
            "215/215 [==============================] - 2s 7ms/step - loss: 0.2006 - accuracy: 0.9343 - val_loss: 0.4660 - val_accuracy: 0.7861\n"
          ]
        }
      ]
    },
    {
      "cell_type": "code",
      "source": [
        "# Check the model results  - Global Average pooling\n",
        "model_1.evaluate(val_sentences, val_labels)"
      ],
      "metadata": {
        "colab": {
          "base_uri": "https://localhost:8080/"
        },
        "id": "9dJYbPohcTDR",
        "outputId": "c8a9299e-6a85-4b4a-99bc-eb74c372ddbd"
      },
      "execution_count": 38,
      "outputs": [
        {
          "output_type": "stream",
          "name": "stdout",
          "text": [
            "24/24 [==============================] - 0s 3ms/step - loss: 0.4660 - accuracy: 0.7861\n"
          ]
        },
        {
          "output_type": "execute_result",
          "data": {
            "text/plain": [
              "[0.4659789204597473, 0.7860892415046692]"
            ]
          },
          "metadata": {},
          "execution_count": 38
        }
      ]
    },
    {
      "cell_type": "code",
      "source": [
        "# Check the model results  - Global Max pooling\n",
        "model_1.evaluate(val_sentences, val_labels)"
      ],
      "metadata": {
        "colab": {
          "base_uri": "https://localhost:8080/"
        },
        "id": "DfDEZ0cbcTAE",
        "outputId": "7ef81ff3-a98b-4da1-e2f0-1e22e4b1cd5d"
      },
      "execution_count": 39,
      "outputs": [
        {
          "output_type": "stream",
          "name": "stdout",
          "text": [
            "24/24 [==============================] - 0s 3ms/step - loss: 0.4660 - accuracy: 0.7861\n"
          ]
        },
        {
          "output_type": "execute_result",
          "data": {
            "text/plain": [
              "[0.4659789204597473, 0.7860892415046692]"
            ]
          },
          "metadata": {},
          "execution_count": 39
        }
      ]
    },
    {
      "cell_type": "code",
      "source": [
        "model_1_pred_probs = model_1.predict(val_sentences)\n",
        "model_1_pred_probs"
      ],
      "metadata": {
        "colab": {
          "base_uri": "https://localhost:8080/"
        },
        "id": "BhFvrjYScS-I",
        "outputId": "53f9c5a3-1a82-41aa-de9e-635e33233b49"
      },
      "execution_count": 40,
      "outputs": [
        {
          "output_type": "stream",
          "name": "stdout",
          "text": [
            "24/24 [==============================] - 0s 2ms/step\n"
          ]
        },
        {
          "output_type": "execute_result",
          "data": {
            "text/plain": [
              "array([[0.36360395],\n",
              "       [0.83747995],\n",
              "       [0.9932301 ],\n",
              "       [0.05429823],\n",
              "       [0.2796631 ],\n",
              "       [0.9533979 ],\n",
              "       [0.92966425],\n",
              "       [0.9850162 ],\n",
              "       [0.89917207],\n",
              "       [0.08382781],\n",
              "       [0.15266898],\n",
              "       [0.71150464],\n",
              "       [0.10530345],\n",
              "       [0.15720043],\n",
              "       [0.01723434],\n",
              "       [0.02161844],\n",
              "       [0.02832342],\n",
              "       [0.26784697],\n",
              "       [0.19495271],\n",
              "       [0.51609814],\n",
              "       [0.98170644],\n",
              "       [0.05331754],\n",
              "       [0.4634712 ],\n",
              "       [0.04144498],\n",
              "       [0.9364451 ],\n",
              "       [0.9959015 ],\n",
              "       [0.02150123],\n",
              "       [0.09151212],\n",
              "       [0.03188843],\n",
              "       [0.11500926],\n",
              "       [0.7112812 ],\n",
              "       [0.36857507],\n",
              "       [0.4741655 ],\n",
              "       [0.4277267 ],\n",
              "       [0.62340343],\n",
              "       [0.10820091],\n",
              "       [0.99698156],\n",
              "       [0.05001326],\n",
              "       [0.02210267],\n",
              "       [0.9938041 ],\n",
              "       [0.08720532],\n",
              "       [0.08532766],\n",
              "       [0.4541945 ],\n",
              "       [0.06771345],\n",
              "       [0.344184  ],\n",
              "       [0.98420584],\n",
              "       [0.09375034],\n",
              "       [0.9427425 ],\n",
              "       [0.16665009],\n",
              "       [0.67267126],\n",
              "       [0.05040285],\n",
              "       [0.62882763],\n",
              "       [0.31248137],\n",
              "       [0.07948793],\n",
              "       [0.06325031],\n",
              "       [0.02353599],\n",
              "       [0.23060907],\n",
              "       [0.91852874],\n",
              "       [0.0960702 ],\n",
              "       [0.01807589],\n",
              "       [0.20282786],\n",
              "       [0.99467874],\n",
              "       [0.9297233 ],\n",
              "       [0.04366023],\n",
              "       [0.8720105 ],\n",
              "       [0.97620183],\n",
              "       [0.55741173],\n",
              "       [0.5750645 ],\n",
              "       [0.0429967 ],\n",
              "       [0.2508426 ],\n",
              "       [0.08505206],\n",
              "       [0.0475635 ],\n",
              "       [0.88528216],\n",
              "       [0.09642265],\n",
              "       [0.04416404],\n",
              "       [0.475672  ],\n",
              "       [0.4316041 ],\n",
              "       [0.55860656],\n",
              "       [0.08580557],\n",
              "       [0.5219777 ],\n",
              "       [0.5377637 ],\n",
              "       [0.19026306],\n",
              "       [0.9962017 ],\n",
              "       [0.05651844],\n",
              "       [0.2954013 ],\n",
              "       [0.0710261 ],\n",
              "       [0.01317319],\n",
              "       [0.27478054],\n",
              "       [0.8058797 ],\n",
              "       [0.8888256 ],\n",
              "       [0.991206  ],\n",
              "       [0.01078394],\n",
              "       [0.34162486],\n",
              "       [0.03998444],\n",
              "       [0.98584706],\n",
              "       [0.74765944],\n",
              "       [0.85351825],\n",
              "       [0.88460004],\n",
              "       [0.8561249 ],\n",
              "       [0.9761496 ],\n",
              "       [0.9925235 ],\n",
              "       [0.11423508],\n",
              "       [0.01873066],\n",
              "       [0.9287514 ],\n",
              "       [0.9924924 ],\n",
              "       [0.04438194],\n",
              "       [0.8619455 ],\n",
              "       [0.9755821 ],\n",
              "       [0.10587448],\n",
              "       [0.44698977],\n",
              "       [0.7622227 ],\n",
              "       [0.06364082],\n",
              "       [0.09337035],\n",
              "       [0.16164404],\n",
              "       [0.44340402],\n",
              "       [0.24432194],\n",
              "       [0.3482036 ],\n",
              "       [0.6090395 ],\n",
              "       [0.69198   ],\n",
              "       [0.10061222],\n",
              "       [0.99903584],\n",
              "       [0.2583475 ],\n",
              "       [0.3006356 ],\n",
              "       [0.89639676],\n",
              "       [0.3552429 ],\n",
              "       [0.4765191 ],\n",
              "       [0.45262536],\n",
              "       [0.02075418],\n",
              "       [0.06405687],\n",
              "       [0.95979345],\n",
              "       [0.08596539],\n",
              "       [0.99903584],\n",
              "       [0.9972318 ],\n",
              "       [0.9959015 ],\n",
              "       [0.9748888 ],\n",
              "       [0.03665321],\n",
              "       [0.9806424 ],\n",
              "       [0.20662262],\n",
              "       [0.16537082],\n",
              "       [0.04332632],\n",
              "       [0.9936837 ],\n",
              "       [0.12184291],\n",
              "       [0.15720043],\n",
              "       [0.8079547 ],\n",
              "       [0.20361874],\n",
              "       [0.4850204 ],\n",
              "       [0.11802377],\n",
              "       [0.04106799],\n",
              "       [0.22640905],\n",
              "       [0.96644115],\n",
              "       [0.29732433],\n",
              "       [0.13072345],\n",
              "       [0.5190285 ],\n",
              "       [0.15737681],\n",
              "       [0.1688083 ],\n",
              "       [0.96821177],\n",
              "       [0.8886383 ],\n",
              "       [0.33879474],\n",
              "       [0.9883613 ],\n",
              "       [0.01185143],\n",
              "       [0.90153897],\n",
              "       [0.05963441],\n",
              "       [0.23953862],\n",
              "       [0.98258036],\n",
              "       [0.11708482],\n",
              "       [0.06211816],\n",
              "       [0.98922205],\n",
              "       [0.3161292 ],\n",
              "       [0.9568457 ],\n",
              "       [0.20968844],\n",
              "       [0.9890226 ],\n",
              "       [0.8031497 ],\n",
              "       [0.9298935 ],\n",
              "       [0.06929805],\n",
              "       [0.9939564 ],\n",
              "       [0.04157584],\n",
              "       [0.28913578],\n",
              "       [0.36225298],\n",
              "       [0.7524394 ],\n",
              "       [0.96780246],\n",
              "       [0.03156997],\n",
              "       [0.87088066],\n",
              "       [0.8617622 ],\n",
              "       [0.9326066 ],\n",
              "       [0.9739411 ],\n",
              "       [0.567294  ],\n",
              "       [0.03462871],\n",
              "       [0.9982851 ],\n",
              "       [0.01497924],\n",
              "       [0.07923036],\n",
              "       [0.03995036],\n",
              "       [0.9358215 ],\n",
              "       [0.44281146],\n",
              "       [0.4227605 ],\n",
              "       [0.03887663],\n",
              "       [0.07418113],\n",
              "       [0.03215089],\n",
              "       [0.16635835],\n",
              "       [0.68989533],\n",
              "       [0.07148717],\n",
              "       [0.30352122],\n",
              "       [0.84034723],\n",
              "       [0.9699491 ],\n",
              "       [0.45706692],\n",
              "       [0.12784792],\n",
              "       [0.9996798 ],\n",
              "       [0.6056949 ],\n",
              "       [0.9374601 ],\n",
              "       [0.4816458 ],\n",
              "       [0.8764826 ],\n",
              "       [0.23293138],\n",
              "       [0.99370533],\n",
              "       [0.0297265 ],\n",
              "       [0.23968653],\n",
              "       [0.01365443],\n",
              "       [0.01502455],\n",
              "       [0.94008005],\n",
              "       [0.86846143],\n",
              "       [0.8010631 ],\n",
              "       [0.18065447],\n",
              "       [0.7664087 ],\n",
              "       [0.04411403],\n",
              "       [0.02647149],\n",
              "       [0.1092209 ],\n",
              "       [0.9961359 ],\n",
              "       [0.16606078],\n",
              "       [0.26574644],\n",
              "       [0.98874986],\n",
              "       [0.74025565],\n",
              "       [0.7163016 ],\n",
              "       [0.08744998],\n",
              "       [0.08185058],\n",
              "       [0.78097296],\n",
              "       [0.15524839],\n",
              "       [0.57873636],\n",
              "       [0.04799823],\n",
              "       [0.26926672],\n",
              "       [0.35813072],\n",
              "       [0.09076226],\n",
              "       [0.04480346],\n",
              "       [0.23853533],\n",
              "       [0.22255127],\n",
              "       [0.99975044],\n",
              "       [0.9939421 ],\n",
              "       [0.07807729],\n",
              "       [0.03440425],\n",
              "       [0.96129763],\n",
              "       [0.0637949 ],\n",
              "       [0.10690961],\n",
              "       [0.5118105 ],\n",
              "       [0.03523396],\n",
              "       [0.43023348],\n",
              "       [0.00546703],\n",
              "       [0.5815606 ],\n",
              "       [0.9667283 ],\n",
              "       [0.03724039],\n",
              "       [0.9711872 ],\n",
              "       [0.9976833 ],\n",
              "       [0.15961893],\n",
              "       [0.21256329],\n",
              "       [0.3321755 ],\n",
              "       [0.08979694],\n",
              "       [0.02055713],\n",
              "       [0.9894493 ],\n",
              "       [0.93375295],\n",
              "       [0.7768627 ],\n",
              "       [0.9914487 ],\n",
              "       [0.07470253],\n",
              "       [0.07012476],\n",
              "       [0.04025025],\n",
              "       [0.13584301],\n",
              "       [0.08807992],\n",
              "       [0.9763055 ],\n",
              "       [0.13574499],\n",
              "       [0.03485657],\n",
              "       [0.98849803],\n",
              "       [0.02763533],\n",
              "       [0.09671915],\n",
              "       [0.9968419 ],\n",
              "       [0.03590151],\n",
              "       [0.06294998],\n",
              "       [0.01065527],\n",
              "       [0.980396  ],\n",
              "       [0.61933905],\n",
              "       [0.72018164],\n",
              "       [0.8423196 ],\n",
              "       [0.4774222 ],\n",
              "       [0.08410827],\n",
              "       [0.7761501 ],\n",
              "       [0.05085926],\n",
              "       [0.74535424],\n",
              "       [0.59936655],\n",
              "       [0.34063947],\n",
              "       [0.23715685],\n",
              "       [0.2989652 ],\n",
              "       [0.68883884],\n",
              "       [0.17538682],\n",
              "       [0.6881162 ],\n",
              "       [0.09486418],\n",
              "       [0.7233526 ],\n",
              "       [0.09445815],\n",
              "       [0.04931279],\n",
              "       [0.11488046],\n",
              "       [0.9807444 ],\n",
              "       [0.09965944],\n",
              "       [0.12650514],\n",
              "       [0.30696926],\n",
              "       [0.11488111],\n",
              "       [0.06769363],\n",
              "       [0.00714757],\n",
              "       [0.06036193],\n",
              "       [0.97848105],\n",
              "       [0.38422874],\n",
              "       [0.3129384 ],\n",
              "       [0.99801046],\n",
              "       [0.05337703],\n",
              "       [0.8037574 ],\n",
              "       [0.24986567],\n",
              "       [0.06982471],\n",
              "       [0.05289694],\n",
              "       [0.16826648],\n",
              "       [0.06535799],\n",
              "       [0.99154717],\n",
              "       [0.08689736],\n",
              "       [0.97893494],\n",
              "       [0.12949254],\n",
              "       [0.04635934],\n",
              "       [0.9962048 ],\n",
              "       [0.06333312],\n",
              "       [0.9855854 ],\n",
              "       [0.06354466],\n",
              "       [0.08542732],\n",
              "       [0.9765192 ],\n",
              "       [0.09469867],\n",
              "       [0.09933037],\n",
              "       [0.97445744],\n",
              "       [0.02522875],\n",
              "       [0.09487099],\n",
              "       [0.45365334],\n",
              "       [0.9528893 ],\n",
              "       [0.00980443],\n",
              "       [0.05965042],\n",
              "       [0.9799975 ],\n",
              "       [0.9842912 ],\n",
              "       [0.7853676 ],\n",
              "       [0.41568944],\n",
              "       [0.54361045],\n",
              "       [0.36385092],\n",
              "       [0.01933958],\n",
              "       [0.08277169],\n",
              "       [0.02144039],\n",
              "       [0.7345472 ],\n",
              "       [0.04716029],\n",
              "       [0.5688255 ],\n",
              "       [0.44062272],\n",
              "       [0.04215204],\n",
              "       [0.997883  ],\n",
              "       [0.9959015 ],\n",
              "       [0.99801   ],\n",
              "       [0.13440078],\n",
              "       [0.27297845],\n",
              "       [0.10004313],\n",
              "       [0.5922513 ],\n",
              "       [0.8562956 ],\n",
              "       [0.2265361 ],\n",
              "       [0.03645913],\n",
              "       [0.00626027],\n",
              "       [0.06374117],\n",
              "       [0.4864576 ],\n",
              "       [0.1012616 ],\n",
              "       [0.15538438],\n",
              "       [0.05391037],\n",
              "       [0.20308782],\n",
              "       [0.19039254],\n",
              "       [0.19979353],\n",
              "       [0.1614747 ],\n",
              "       [0.10775064],\n",
              "       [0.15664417],\n",
              "       [0.09721104],\n",
              "       [0.982752  ],\n",
              "       [0.94841504],\n",
              "       [0.7444159 ],\n",
              "       [0.44584307],\n",
              "       [0.03358927],\n",
              "       [0.36388388],\n",
              "       [0.99594814],\n",
              "       [0.70876163],\n",
              "       [0.1171561 ],\n",
              "       [0.9951481 ],\n",
              "       [0.16157046],\n",
              "       [0.9347675 ],\n",
              "       [0.33100438],\n",
              "       [0.06862719],\n",
              "       [0.74761665],\n",
              "       [0.41886067],\n",
              "       [0.9980585 ],\n",
              "       [0.08521667],\n",
              "       [0.10196379],\n",
              "       [0.06469031],\n",
              "       [0.2265361 ],\n",
              "       [0.99807775],\n",
              "       [0.04836367],\n",
              "       [0.75163513],\n",
              "       [0.89527774],\n",
              "       [0.08335114],\n",
              "       [0.99903584],\n",
              "       [0.06935629],\n",
              "       [0.2985833 ],\n",
              "       [0.05262525],\n",
              "       [0.73349255],\n",
              "       [0.8824079 ],\n",
              "       [0.0721149 ],\n",
              "       [0.01446523],\n",
              "       [0.4213864 ],\n",
              "       [0.97831696],\n",
              "       [0.89075494],\n",
              "       [0.1259145 ],\n",
              "       [0.43455824],\n",
              "       [0.55366945],\n",
              "       [0.01080185],\n",
              "       [0.98445475],\n",
              "       [0.6913305 ],\n",
              "       [0.9978054 ],\n",
              "       [0.9660482 ],\n",
              "       [0.13200736],\n",
              "       [0.6629481 ],\n",
              "       [0.07235807],\n",
              "       [0.9218266 ],\n",
              "       [0.598837  ],\n",
              "       [0.508444  ],\n",
              "       [0.02078955],\n",
              "       [0.20673364],\n",
              "       [0.1156178 ],\n",
              "       [0.10024148],\n",
              "       [0.2042775 ],\n",
              "       [0.21638787],\n",
              "       [0.30986407],\n",
              "       [0.13323486],\n",
              "       [0.99744934],\n",
              "       [0.9869508 ],\n",
              "       [0.20885447],\n",
              "       [0.83747995],\n",
              "       [0.33295816],\n",
              "       [0.03012163],\n",
              "       [0.32668835],\n",
              "       [0.60727984],\n",
              "       [0.16999021],\n",
              "       [0.0975698 ],\n",
              "       [0.04702012],\n",
              "       [0.604141  ],\n",
              "       [0.00948156],\n",
              "       [0.9820809 ],\n",
              "       [0.947981  ],\n",
              "       [0.995918  ],\n",
              "       [0.9829811 ],\n",
              "       [0.84117687],\n",
              "       [0.1981222 ],\n",
              "       [0.07381544],\n",
              "       [0.6803588 ],\n",
              "       [0.93156314],\n",
              "       [0.98558134],\n",
              "       [0.02826681],\n",
              "       [0.17264308],\n",
              "       [0.05453055],\n",
              "       [0.9982967 ],\n",
              "       [0.99935716],\n",
              "       [0.3063408 ],\n",
              "       [0.14014266],\n",
              "       [0.98860043],\n",
              "       [0.01423745],\n",
              "       [0.22868843],\n",
              "       [0.91309017],\n",
              "       [0.0736696 ],\n",
              "       [0.00791542],\n",
              "       [0.79733205],\n",
              "       [0.3056321 ],\n",
              "       [0.57905436],\n",
              "       [0.9174132 ],\n",
              "       [0.00180586],\n",
              "       [0.03765936],\n",
              "       [0.0303257 ],\n",
              "       [0.02965327],\n",
              "       [0.13545464],\n",
              "       [0.94639033],\n",
              "       [0.05330282],\n",
              "       [0.4487776 ],\n",
              "       [0.35432175],\n",
              "       [0.06922984],\n",
              "       [0.5251173 ],\n",
              "       [0.1328447 ],\n",
              "       [0.44783536],\n",
              "       [0.9901541 ],\n",
              "       [0.5335498 ],\n",
              "       [0.05920387],\n",
              "       [0.11155918],\n",
              "       [0.16053191],\n",
              "       [0.03869679],\n",
              "       [0.657999  ],\n",
              "       [0.0371661 ],\n",
              "       [0.754823  ],\n",
              "       [0.86764914],\n",
              "       [0.4571025 ],\n",
              "       [0.74501544],\n",
              "       [0.7838252 ],\n",
              "       [0.06187542],\n",
              "       [0.48565713],\n",
              "       [0.24685097],\n",
              "       [0.8948858 ],\n",
              "       [0.06673211],\n",
              "       [0.08348827],\n",
              "       [0.08075032],\n",
              "       [0.06825624],\n",
              "       [0.02583863],\n",
              "       [0.49989304],\n",
              "       [0.7768582 ],\n",
              "       [0.06091462],\n",
              "       [0.98711604],\n",
              "       [0.96619004],\n",
              "       [0.74765944],\n",
              "       [0.98213506],\n",
              "       [0.0743688 ],\n",
              "       [0.05814728],\n",
              "       [0.94247615],\n",
              "       [0.24988472],\n",
              "       [0.01143632],\n",
              "       [0.07478672],\n",
              "       [0.24433649],\n",
              "       [0.00502868],\n",
              "       [0.80942774],\n",
              "       [0.84319067],\n",
              "       [0.7109006 ],\n",
              "       [0.9187753 ],\n",
              "       [0.05717793],\n",
              "       [0.07085232],\n",
              "       [0.79295963],\n",
              "       [0.09135173],\n",
              "       [0.3653496 ],\n",
              "       [0.08048632],\n",
              "       [0.4807924 ],\n",
              "       [0.35774451],\n",
              "       [0.08718739],\n",
              "       [0.02731934],\n",
              "       [0.68895835],\n",
              "       [0.11492549],\n",
              "       [0.217113  ],\n",
              "       [0.22746912],\n",
              "       [0.25794384],\n",
              "       [0.9971836 ],\n",
              "       [0.9828159 ],\n",
              "       [0.42519465],\n",
              "       [0.79101855],\n",
              "       [0.9905952 ],\n",
              "       [0.0056881 ],\n",
              "       [0.99109966],\n",
              "       [0.1512279 ],\n",
              "       [0.44919774],\n",
              "       [0.11778287],\n",
              "       [0.08723859],\n",
              "       [0.19721241],\n",
              "       [0.03188961],\n",
              "       [0.11394431],\n",
              "       [0.20173107],\n",
              "       [0.8887272 ],\n",
              "       [0.19646277],\n",
              "       [0.995918  ],\n",
              "       [0.02519882],\n",
              "       [0.8618217 ],\n",
              "       [0.6095457 ],\n",
              "       [0.05353666],\n",
              "       [0.05238986],\n",
              "       [0.94726366],\n",
              "       [0.72412986],\n",
              "       [0.9825623 ],\n",
              "       [0.23070915],\n",
              "       [0.19663028],\n",
              "       [0.42177814],\n",
              "       [0.2317185 ],\n",
              "       [0.12418406],\n",
              "       [0.9905952 ],\n",
              "       [0.01521746],\n",
              "       [0.10592747],\n",
              "       [0.05740505],\n",
              "       [0.9976701 ],\n",
              "       [0.2070142 ],\n",
              "       [0.08323882],\n",
              "       [0.80823845],\n",
              "       [0.04041933],\n",
              "       [0.08028445],\n",
              "       [0.17691052],\n",
              "       [0.12555358],\n",
              "       [0.12320085],\n",
              "       [0.34541917],\n",
              "       [0.10866194],\n",
              "       [0.36771813],\n",
              "       [0.1282484 ],\n",
              "       [0.50898355],\n",
              "       [0.04710369],\n",
              "       [0.84900594],\n",
              "       [0.7399714 ],\n",
              "       [0.19962555],\n",
              "       [0.02593984],\n",
              "       [0.0298565 ],\n",
              "       [0.96981066],\n",
              "       [0.8160346 ],\n",
              "       [0.9988133 ],\n",
              "       [0.3402642 ],\n",
              "       [0.9249361 ],\n",
              "       [0.07560112],\n",
              "       [0.5448476 ],\n",
              "       [0.84957373],\n",
              "       [0.0270813 ],\n",
              "       [0.9794222 ],\n",
              "       [0.02496162],\n",
              "       [0.39695308],\n",
              "       [0.99582446],\n",
              "       [0.12420096],\n",
              "       [0.0829941 ],\n",
              "       [0.30524263],\n",
              "       [0.01206707],\n",
              "       [0.69124407],\n",
              "       [0.9996798 ],\n",
              "       [0.2128063 ],\n",
              "       [0.9528151 ],\n",
              "       [0.22921577],\n",
              "       [0.83061635],\n",
              "       [0.1523295 ],\n",
              "       [0.17954335],\n",
              "       [0.01536804],\n",
              "       [0.8150741 ],\n",
              "       [0.04453494],\n",
              "       [0.08218195],\n",
              "       [0.95527726],\n",
              "       [0.96091235],\n",
              "       [0.9929148 ],\n",
              "       [0.81648535],\n",
              "       [0.03728135],\n",
              "       [0.31549647],\n",
              "       [0.04704192],\n",
              "       [0.418249  ],\n",
              "       [0.35916978],\n",
              "       [0.8835164 ],\n",
              "       [0.06458759],\n",
              "       [0.8220605 ],\n",
              "       [0.34302863],\n",
              "       [0.1866017 ],\n",
              "       [0.11418185],\n",
              "       [0.08348827],\n",
              "       [0.10825099],\n",
              "       [0.59382385],\n",
              "       [0.8656737 ],\n",
              "       [0.9987863 ],\n",
              "       [0.05098598],\n",
              "       [0.00694131],\n",
              "       [0.02155648],\n",
              "       [0.33506417],\n",
              "       [0.13605732],\n",
              "       [0.00593602],\n",
              "       [0.8909275 ],\n",
              "       [0.19512127],\n",
              "       [0.20419182],\n",
              "       [0.1820551 ],\n",
              "       [0.22747332],\n",
              "       [0.9009392 ],\n",
              "       [0.06156731],\n",
              "       [0.71040577],\n",
              "       [0.10283854],\n",
              "       [0.01613044],\n",
              "       [0.09789218],\n",
              "       [0.99845064],\n",
              "       [0.90217215],\n",
              "       [0.01328874],\n",
              "       [0.22879364],\n",
              "       [0.16171114],\n",
              "       [0.06771075],\n",
              "       [0.88038373],\n",
              "       [0.4737257 ],\n",
              "       [0.619782  ],\n",
              "       [0.23455311],\n",
              "       [0.24107482],\n",
              "       [0.60664773],\n",
              "       [0.21638563],\n",
              "       [0.02924632],\n",
              "       [0.9034808 ],\n",
              "       [0.12370056],\n",
              "       [0.19726127],\n",
              "       [0.983844  ],\n",
              "       [0.3397682 ],\n",
              "       [0.4318618 ],\n",
              "       [0.00502868],\n",
              "       [0.36255378],\n",
              "       [0.91207844],\n",
              "       [0.99903584],\n",
              "       [0.4268538 ],\n",
              "       [0.04521196],\n",
              "       [0.992596  ],\n",
              "       [0.4398656 ],\n",
              "       [0.85247284],\n",
              "       [0.4398656 ],\n",
              "       [0.88195133],\n",
              "       [0.03128142],\n",
              "       [0.37999767],\n",
              "       [0.05878051],\n",
              "       [0.9529336 ],\n",
              "       [0.30694908],\n",
              "       [0.53398216],\n",
              "       [0.03225626],\n",
              "       [0.3746623 ],\n",
              "       [0.12771674],\n",
              "       [0.09059952],\n",
              "       [0.14790447],\n",
              "       [0.07011173],\n",
              "       [0.02061506],\n",
              "       [0.6950358 ],\n",
              "       [0.01775915],\n",
              "       [0.03515068],\n",
              "       [0.07899416],\n",
              "       [0.03419772],\n",
              "       [0.0895591 ],\n",
              "       [0.72152907],\n",
              "       [0.07212731],\n",
              "       [0.73395795],\n",
              "       [0.10375204],\n",
              "       [0.38636625],\n",
              "       [0.941132  ],\n",
              "       [0.16251905],\n",
              "       [0.05247042],\n",
              "       [0.09515893],\n",
              "       [0.00989087],\n",
              "       [0.9880833 ],\n",
              "       [0.03419772],\n",
              "       [0.26712564],\n",
              "       [0.982362  ],\n",
              "       [0.9957022 ],\n",
              "       [0.99621767],\n",
              "       [0.99951565],\n",
              "       [0.98797846],\n",
              "       [0.08083042],\n",
              "       [0.11552914],\n",
              "       [0.20604466],\n",
              "       [0.43722072],\n",
              "       [0.9952342 ],\n",
              "       [0.2944701 ],\n",
              "       [0.22753955],\n",
              "       [0.69738567],\n",
              "       [0.6054715 ],\n",
              "       [0.06489262],\n",
              "       [0.00700506],\n",
              "       [0.03501052],\n",
              "       [0.5862611 ],\n",
              "       [0.0204063 ],\n",
              "       [0.03840338],\n",
              "       [0.4964266 ],\n",
              "       [0.97698736],\n",
              "       [0.01654604],\n",
              "       [0.88537043],\n",
              "       [0.8420467 ],\n",
              "       [0.12402105],\n",
              "       [0.21004254],\n",
              "       [0.07937275],\n",
              "       [0.6831436 ],\n",
              "       [0.51716775],\n",
              "       [0.02765503]], dtype=float32)"
            ]
          },
          "metadata": {},
          "execution_count": 40
        }
      ]
    },
    {
      "cell_type": "code",
      "source": [
        "# Checking out the first 10 pred probs\n",
        "model_1_pred_probs[:10]"
      ],
      "metadata": {
        "colab": {
          "base_uri": "https://localhost:8080/"
        },
        "id": "Al7X41FecS74",
        "outputId": "cf97baab-76f9-4b92-8bbf-eb8aae7dfde6"
      },
      "execution_count": 41,
      "outputs": [
        {
          "output_type": "execute_result",
          "data": {
            "text/plain": [
              "array([[0.36360395],\n",
              "       [0.83747995],\n",
              "       [0.9932301 ],\n",
              "       [0.05429823],\n",
              "       [0.2796631 ],\n",
              "       [0.9533979 ],\n",
              "       [0.92966425],\n",
              "       [0.9850162 ],\n",
              "       [0.89917207],\n",
              "       [0.08382781]], dtype=float32)"
            ]
          },
          "metadata": {},
          "execution_count": 41
        }
      ]
    },
    {
      "cell_type": "code",
      "source": [
        "# Convert the model predicitons probabilities to label formats\n",
        "model_1_preds = tf.squeeze(tf.round(model_1_pred_probs))\n",
        "model_1_preds[:20]"
      ],
      "metadata": {
        "colab": {
          "base_uri": "https://localhost:8080/"
        },
        "id": "k9g79VgRcS6L",
        "outputId": "21574d04-b186-4e8f-df74-6a184f5fdc24"
      },
      "execution_count": 42,
      "outputs": [
        {
          "output_type": "execute_result",
          "data": {
            "text/plain": [
              "<tf.Tensor: shape=(20,), dtype=float32, numpy=\n",
              "array([0., 1., 1., 0., 0., 1., 1., 1., 1., 0., 0., 1., 0., 0., 0., 0., 0.,\n",
              "       0., 0., 1.], dtype=float32)>"
            ]
          },
          "metadata": {},
          "execution_count": 42
        }
      ]
    },
    {
      "cell_type": "code",
      "source": [
        "# Calculate model results\n",
        "model_1_results =calculate_results(y_true = val_labels,\n",
        "                                   y_pred = model_1_preds)\n",
        "model_1_results"
      ],
      "metadata": {
        "colab": {
          "base_uri": "https://localhost:8080/"
        },
        "id": "7bp3xUH3f1Ty",
        "outputId": "d4b77610-6fc4-4ca3-ae0f-01b0facc3bbb"
      },
      "execution_count": 43,
      "outputs": [
        {
          "output_type": "execute_result",
          "data": {
            "text/plain": [
              "{'accuracy': 78.60892388451444,\n",
              " 'precision': 0.7903277546022673,\n",
              " 'recall': 0.7860892388451444,\n",
              " 'f1': 0.7832971347503846}"
            ]
          },
          "metadata": {},
          "execution_count": 43
        }
      ]
    },
    {
      "cell_type": "code",
      "source": [
        "import numpy as np\n",
        "np.array(list(model_1_results.values())) > np.array(list(baseline_results.values()))"
      ],
      "metadata": {
        "colab": {
          "base_uri": "https://localhost:8080/"
        },
        "id": "AMSK1tmIf_cf",
        "outputId": "32aa5657-97b9-4bfd-bb96-2c00dea45cae"
      },
      "execution_count": 44,
      "outputs": [
        {
          "output_type": "execute_result",
          "data": {
            "text/plain": [
              "array([False, False, False, False])"
            ]
          },
          "metadata": {},
          "execution_count": 44
        }
      ]
    },
    {
      "cell_type": "markdown",
      "source": [
        "### Visualizing learned embeddings"
      ],
      "metadata": {
        "id": "T_AqJIEjhQ3K"
      }
    },
    {
      "cell_type": "code",
      "source": [
        "# Get the vocabulary from the text vectorization layer\n",
        "words_in_vocab = text_vectorizer.get_vocabulary()\n",
        "len(words_in_vocab), words_in_vocab[:10]"
      ],
      "metadata": {
        "colab": {
          "base_uri": "https://localhost:8080/"
        },
        "id": "lfmrL8ePgKN4",
        "outputId": "7d1aef4e-4e6d-490e-f02c-34ddb67f1a51"
      },
      "execution_count": 45,
      "outputs": [
        {
          "output_type": "execute_result",
          "data": {
            "text/plain": [
              "(10000, ['', '[UNK]', 'the', 'a', 'in', 'to', 'of', 'and', 'i', 'is'])"
            ]
          },
          "metadata": {},
          "execution_count": 45
        }
      ]
    },
    {
      "cell_type": "code",
      "source": [
        "# Model 1 summary\n",
        "model_1.summary()"
      ],
      "metadata": {
        "colab": {
          "base_uri": "https://localhost:8080/"
        },
        "id": "UNiEXZ_ohpMn",
        "outputId": "147cc3db-5177-4538-e0a4-416f6b66a1e9"
      },
      "execution_count": 46,
      "outputs": [
        {
          "output_type": "stream",
          "name": "stdout",
          "text": [
            "Model: \"model_1_dense\"\n",
            "_________________________________________________________________\n",
            " Layer (type)                Output Shape              Param #   \n",
            "=================================================================\n",
            " input_1 (InputLayer)        [(None, 1)]               0         \n",
            "                                                                 \n",
            " text_vectorization_1 (Text  (None, 15)                0         \n",
            " Vectorization)                                                  \n",
            "                                                                 \n",
            " embedding (Embedding)       (None, 15, 128)           1280000   \n",
            "                                                                 \n",
            " global_max_pooling1d (Glob  (None, 128)               0         \n",
            " alMaxPooling1D)                                                 \n",
            "                                                                 \n",
            " dense (Dense)               (None, 1)                 129       \n",
            "                                                                 \n",
            "=================================================================\n",
            "Total params: 1280129 (4.88 MB)\n",
            "Trainable params: 1280129 (4.88 MB)\n",
            "Non-trainable params: 0 (0.00 Byte)\n",
            "_________________________________________________________________\n"
          ]
        }
      ]
    },
    {
      "cell_type": "code",
      "source": [
        "# Get the weight matrix of embedding layer\n",
        "# These are the numerical representations of each token in the training data\n",
        "embed_weights = model_1.get_layer('embedding').get_weights()[0]\n",
        "embed_weights"
      ],
      "metadata": {
        "colab": {
          "base_uri": "https://localhost:8080/"
        },
        "id": "LXnFblH9hvPC",
        "outputId": "acba394b-2882-4070-d339-874b5cb49791"
      },
      "execution_count": 47,
      "outputs": [
        {
          "output_type": "execute_result",
          "data": {
            "text/plain": [
              "array([[ 0.12028379, -0.07271183, -0.02002266, ..., -0.04622614,\n",
              "        -0.02985782, -0.02316393],\n",
              "       [-0.04838066, -0.07044202, -0.03576634, ..., -0.04741573,\n",
              "        -0.03704569, -0.03502283],\n",
              "       [-0.02178733, -0.05431573, -0.03657129, ..., -0.03130871,\n",
              "        -0.03780035, -0.03554634],\n",
              "       ...,\n",
              "       [ 0.00728294,  0.03250079,  0.01042386, ...,  0.0051899 ,\n",
              "        -0.02619978,  0.01008813],\n",
              "       [-0.03194616, -0.01574296, -0.04716647, ..., -0.02276018,\n",
              "        -0.03359552, -0.0436954 ],\n",
              "       [-0.03863217, -0.03120137,  0.03949908, ...,  0.01068245,\n",
              "         0.06293058,  0.03751821]], dtype=float32)"
            ]
          },
          "metadata": {},
          "execution_count": 47
        }
      ]
    },
    {
      "cell_type": "markdown",
      "source": [
        "Visualising the embedding matrix, after learned from the model.\n",
        "\n",
        "To visualize it, we use a tensorflow tool called projector"
      ],
      "metadata": {
        "id": "ATaFJ8Jxihhv"
      }
    },
    {
      "cell_type": "code",
      "source": [
        "embed_weights.shape  # same size as vocab size"
      ],
      "metadata": {
        "colab": {
          "base_uri": "https://localhost:8080/"
        },
        "id": "O-lfu9pQiE5e",
        "outputId": "3757415c-c25b-4d13-b864-7a106c005ff8"
      },
      "execution_count": 48,
      "outputs": [
        {
          "output_type": "execute_result",
          "data": {
            "text/plain": [
              "(10000, 128)"
            ]
          },
          "metadata": {},
          "execution_count": 48
        }
      ]
    },
    {
      "cell_type": "code",
      "source": [
        "# Create embedding files\n",
        "import io\n",
        "\n",
        "out_v = io.open('vectors.tsv', 'w', encoding='utf-8')\n",
        "out_m = io.open('metadata.tsv', 'w', encoding='utf-8')\n",
        "\n",
        "for index, word in enumerate(words_in_vocab):\n",
        "  if index == 0:\n",
        "    continue  # skip 0, it's padding.\n",
        "  vec = embed_weights[index]\n",
        "  out_v.write('\\t'.join([str(x) for x in vec]) + \"\\n\")\n",
        "  out_m.write(word + \"\\n\")\n",
        "out_v.close()\n",
        "out_m.close()"
      ],
      "metadata": {
        "id": "gNyf1lkriVno"
      },
      "execution_count": 49,
      "outputs": []
    },
    {
      "cell_type": "code",
      "source": [
        "# Download files from colab to upload to projector\n",
        "try:\n",
        "  from google.colab import files\n",
        "  files.download('vectors.tsv')\n",
        "  files.download('metadata.tsv')\n",
        "except Exception:\n",
        "  pass"
      ],
      "metadata": {
        "colab": {
          "base_uri": "https://localhost:8080/",
          "height": 17
        },
        "id": "6yJbjHsSjNi-",
        "outputId": "83be9933-a29f-4be9-e6be-f5145e8acb21"
      },
      "execution_count": 50,
      "outputs": [
        {
          "output_type": "display_data",
          "data": {
            "text/plain": [
              "<IPython.core.display.Javascript object>"
            ],
            "application/javascript": [
              "\n",
              "    async function download(id, filename, size) {\n",
              "      if (!google.colab.kernel.accessAllowed) {\n",
              "        return;\n",
              "      }\n",
              "      const div = document.createElement('div');\n",
              "      const label = document.createElement('label');\n",
              "      label.textContent = `Downloading \"${filename}\": `;\n",
              "      div.appendChild(label);\n",
              "      const progress = document.createElement('progress');\n",
              "      progress.max = size;\n",
              "      div.appendChild(progress);\n",
              "      document.body.appendChild(div);\n",
              "\n",
              "      const buffers = [];\n",
              "      let downloaded = 0;\n",
              "\n",
              "      const channel = await google.colab.kernel.comms.open(id);\n",
              "      // Send a message to notify the kernel that we're ready.\n",
              "      channel.send({})\n",
              "\n",
              "      for await (const message of channel.messages) {\n",
              "        // Send a message to notify the kernel that we're ready.\n",
              "        channel.send({})\n",
              "        if (message.buffers) {\n",
              "          for (const buffer of message.buffers) {\n",
              "            buffers.push(buffer);\n",
              "            downloaded += buffer.byteLength;\n",
              "            progress.value = downloaded;\n",
              "          }\n",
              "        }\n",
              "      }\n",
              "      const blob = new Blob(buffers, {type: 'application/binary'});\n",
              "      const a = document.createElement('a');\n",
              "      a.href = window.URL.createObjectURL(blob);\n",
              "      a.download = filename;\n",
              "      div.appendChild(a);\n",
              "      a.click();\n",
              "      div.remove();\n",
              "    }\n",
              "  "
            ]
          },
          "metadata": {}
        },
        {
          "output_type": "display_data",
          "data": {
            "text/plain": [
              "<IPython.core.display.Javascript object>"
            ],
            "application/javascript": [
              "download(\"download_bcb9f5a1-8896-47de-986f-57c99fc137e3\", \"vectors.tsv\", 16006475)"
            ]
          },
          "metadata": {}
        },
        {
          "output_type": "display_data",
          "data": {
            "text/plain": [
              "<IPython.core.display.Javascript object>"
            ],
            "application/javascript": [
              "\n",
              "    async function download(id, filename, size) {\n",
              "      if (!google.colab.kernel.accessAllowed) {\n",
              "        return;\n",
              "      }\n",
              "      const div = document.createElement('div');\n",
              "      const label = document.createElement('label');\n",
              "      label.textContent = `Downloading \"${filename}\": `;\n",
              "      div.appendChild(label);\n",
              "      const progress = document.createElement('progress');\n",
              "      progress.max = size;\n",
              "      div.appendChild(progress);\n",
              "      document.body.appendChild(div);\n",
              "\n",
              "      const buffers = [];\n",
              "      let downloaded = 0;\n",
              "\n",
              "      const channel = await google.colab.kernel.comms.open(id);\n",
              "      // Send a message to notify the kernel that we're ready.\n",
              "      channel.send({})\n",
              "\n",
              "      for await (const message of channel.messages) {\n",
              "        // Send a message to notify the kernel that we're ready.\n",
              "        channel.send({})\n",
              "        if (message.buffers) {\n",
              "          for (const buffer of message.buffers) {\n",
              "            buffers.push(buffer);\n",
              "            downloaded += buffer.byteLength;\n",
              "            progress.value = downloaded;\n",
              "          }\n",
              "        }\n",
              "      }\n",
              "      const blob = new Blob(buffers, {type: 'application/binary'});\n",
              "      const a = document.createElement('a');\n",
              "      a.href = window.URL.createObjectURL(blob);\n",
              "      a.download = filename;\n",
              "      div.appendChild(a);\n",
              "      a.click();\n",
              "      div.remove();\n",
              "    }\n",
              "  "
            ]
          },
          "metadata": {}
        },
        {
          "output_type": "display_data",
          "data": {
            "text/plain": [
              "<IPython.core.display.Javascript object>"
            ],
            "application/javascript": [
              "download(\"download_3f6107d9-cc3a-441b-81e4-8c68c7533265\", \"metadata.tsv\", 80388)"
            ]
          },
          "metadata": {}
        }
      ]
    },
    {
      "cell_type": "markdown",
      "source": [
        "### Recurrent Neural Networks\n",
        "\n",
        "RNN's are useful for sequence data\n",
        "\n",
        "The premise of a RNN is to use the representation of a previous input to aid the representation of a later input."
      ],
      "metadata": {
        "id": "2-BUyUfDkwg1"
      }
    },
    {
      "cell_type": "markdown",
      "source": [
        "#### Model 2: LSTM\n",
        "\n",
        "LSTM - long short term memory"
      ],
      "metadata": {
        "id": "JURK24Bmnh5G"
      }
    },
    {
      "cell_type": "code",
      "source": [
        "# Create a LSTM model\n",
        "from tensorflow.keras import layers\n",
        "inputs = layers.Input(shape=(1,), dtype='string')\n",
        "x = text_vectorizer(inputs)\n",
        "x = embedding(x)\n",
        "# print(x.shape)\n",
        "x = layers.LSTM(units = 64, return_sequences=True)(x)  # use multples of 8, to speed up the computation on the GPU\n",
        "# print(x.shape)\n",
        "x = layers.LSTM(64)(x)\n",
        "# print(x.shape)\n",
        "x = layers.Dense(64, activation='relu')(x)\n",
        "# print(x.shape)\n",
        "outputs = layers.Dense(1, activation='sigmoid')(x)\n",
        "# print(x.shape)\n",
        "\n",
        "model_2 = tf.keras.Model(inputs, outputs, name='model_2_LSTM')"
      ],
      "metadata": {
        "id": "yPok_amzj7-P"
      },
      "execution_count": 51,
      "outputs": []
    },
    {
      "cell_type": "code",
      "source": [
        "# Get a summary\n",
        "model_2.summary()"
      ],
      "metadata": {
        "colab": {
          "base_uri": "https://localhost:8080/"
        },
        "id": "8Nrdk_5NoTtE",
        "outputId": "8a3bc23c-2bba-4054-ecb5-40e10841ad3b"
      },
      "execution_count": 52,
      "outputs": [
        {
          "output_type": "stream",
          "name": "stdout",
          "text": [
            "Model: \"model_2_LSTM\"\n",
            "_________________________________________________________________\n",
            " Layer (type)                Output Shape              Param #   \n",
            "=================================================================\n",
            " input_2 (InputLayer)        [(None, 1)]               0         \n",
            "                                                                 \n",
            " text_vectorization_1 (Text  (None, 15)                0         \n",
            " Vectorization)                                                  \n",
            "                                                                 \n",
            " embedding (Embedding)       (None, 15, 128)           1280000   \n",
            "                                                                 \n",
            " lstm (LSTM)                 (None, 15, 64)            49408     \n",
            "                                                                 \n",
            " lstm_1 (LSTM)               (None, 64)                33024     \n",
            "                                                                 \n",
            " dense_1 (Dense)             (None, 64)                4160      \n",
            "                                                                 \n",
            " dense_2 (Dense)             (None, 1)                 65        \n",
            "                                                                 \n",
            "=================================================================\n",
            "Total params: 1366657 (5.21 MB)\n",
            "Trainable params: 1366657 (5.21 MB)\n",
            "Non-trainable params: 0 (0.00 Byte)\n",
            "_________________________________________________________________\n"
          ]
        }
      ]
    },
    {
      "cell_type": "code",
      "source": [
        "# Compile the model\n",
        "model_2.compile(loss='binary_crossentropy',\n",
        "                optimizer=tf.keras.optimizers.Adam(),\n",
        "                metrics=['accuracy'])"
      ],
      "metadata": {
        "id": "-aOx8Ht9twdZ"
      },
      "execution_count": 53,
      "outputs": []
    },
    {
      "cell_type": "code",
      "source": [
        "# Fit the model\n",
        "model_2_history = model_2.fit(train_sentences,\n",
        "                              train_labels,\n",
        "                              epochs=5,\n",
        "                              validation_data=(val_sentences, val_labels),\n",
        "                              callbacks=[create_tensorboard_callback(SAVE_DIR,\n",
        "                                                                     experiment_name=\"model_2_LSTM\")])"
      ],
      "metadata": {
        "colab": {
          "base_uri": "https://localhost:8080/"
        },
        "id": "rtwG6Oy3t4l8",
        "outputId": "d20734c1-b39e-40fa-b5c6-b3450c4350dc"
      },
      "execution_count": 54,
      "outputs": [
        {
          "output_type": "stream",
          "name": "stdout",
          "text": [
            "Saving TensorBoard log files to: model_logs/model_2_LSTM/20231128-053716\n",
            "Epoch 1/5\n",
            "215/215 [==============================] - 16s 46ms/step - loss: 0.3786 - accuracy: 0.8349 - val_loss: 0.4832 - val_accuracy: 0.7913\n",
            "Epoch 2/5\n",
            "215/215 [==============================] - 3s 15ms/step - loss: 0.2471 - accuracy: 0.9002 - val_loss: 0.4966 - val_accuracy: 0.7795\n",
            "Epoch 3/5\n",
            "215/215 [==============================] - 2s 11ms/step - loss: 0.1830 - accuracy: 0.9321 - val_loss: 0.7015 - val_accuracy: 0.7743\n",
            "Epoch 4/5\n",
            "215/215 [==============================] - 2s 10ms/step - loss: 0.1357 - accuracy: 0.9514 - val_loss: 0.6584 - val_accuracy: 0.7756\n",
            "Epoch 5/5\n",
            "215/215 [==============================] - 2s 11ms/step - loss: 0.0981 - accuracy: 0.9631 - val_loss: 0.8520 - val_accuracy: 0.7651\n"
          ]
        }
      ]
    },
    {
      "cell_type": "code",
      "source": [
        "# Make predictions with the LSTM model\n",
        "model_2_pred_probs = model_2.predict(val_sentences)\n",
        "model_2_pred_probs[:10]"
      ],
      "metadata": {
        "colab": {
          "base_uri": "https://localhost:8080/"
        },
        "id": "KsbdCIQjugpv",
        "outputId": "7e86a0b3-1cb9-4e43-f2ac-ca4df59b1337"
      },
      "execution_count": 55,
      "outputs": [
        {
          "output_type": "stream",
          "name": "stdout",
          "text": [
            "24/24 [==============================] - 1s 4ms/step\n"
          ]
        },
        {
          "output_type": "execute_result",
          "data": {
            "text/plain": [
              "array([[0.05533263],\n",
              "       [0.9223951 ],\n",
              "       [0.9999534 ],\n",
              "       [0.05972917],\n",
              "       [0.00533958],\n",
              "       [0.9999831 ],\n",
              "       [0.9758213 ],\n",
              "       [0.9999902 ],\n",
              "       [0.99998915],\n",
              "       [0.7421647 ]], dtype=float32)"
            ]
          },
          "metadata": {},
          "execution_count": 55
        }
      ]
    },
    {
      "cell_type": "code",
      "source": [
        "# Convert model 2 pred probs to labels\n",
        "model_2_preds = tf.squeeze(tf.round(model_2_pred_probs))\n",
        "model_2_preds[:10]"
      ],
      "metadata": {
        "colab": {
          "base_uri": "https://localhost:8080/"
        },
        "id": "S6A_6V6iusPQ",
        "outputId": "56ac412a-10ba-4a1c-c380-22db85c4c364"
      },
      "execution_count": 56,
      "outputs": [
        {
          "output_type": "execute_result",
          "data": {
            "text/plain": [
              "<tf.Tensor: shape=(10,), dtype=float32, numpy=array([0., 1., 1., 0., 0., 1., 1., 1., 1., 1.], dtype=float32)>"
            ]
          },
          "metadata": {},
          "execution_count": 56
        }
      ]
    },
    {
      "cell_type": "code",
      "source": [
        "# Calculate model 2 results\n",
        "model_2_results = calculate_results(y_true = val_labels,\n",
        "                                    y_pred = model_2_preds)\n",
        "model_2_results"
      ],
      "metadata": {
        "colab": {
          "base_uri": "https://localhost:8080/"
        },
        "id": "QrjntL9mu00z",
        "outputId": "07b83f69-c04a-4389-fef6-3d8bdb810e06"
      },
      "execution_count": 57,
      "outputs": [
        {
          "output_type": "execute_result",
          "data": {
            "text/plain": [
              "{'accuracy': 76.50918635170603,\n",
              " 'precision': 0.76472972449374,\n",
              " 'recall': 0.7650918635170604,\n",
              " 'f1': 0.7644302589305015}"
            ]
          },
          "metadata": {},
          "execution_count": 57
        }
      ]
    },
    {
      "cell_type": "code",
      "source": [
        "baseline_results"
      ],
      "metadata": {
        "colab": {
          "base_uri": "https://localhost:8080/"
        },
        "id": "AuU_F4d3vEHM",
        "outputId": "d33888df-4067-43cc-c779-e12c6b0606c2"
      },
      "execution_count": 58,
      "outputs": [
        {
          "output_type": "execute_result",
          "data": {
            "text/plain": [
              "{'accuracy': 79.26509186351706,\n",
              " 'precision': 0.8111390004213173,\n",
              " 'recall': 0.7926509186351706,\n",
              " 'f1': 0.7862189758049549}"
            ]
          },
          "metadata": {},
          "execution_count": 58
        }
      ]
    },
    {
      "cell_type": "code",
      "source": [
        "model_1_results"
      ],
      "metadata": {
        "colab": {
          "base_uri": "https://localhost:8080/"
        },
        "id": "_IybZgErvFsG",
        "outputId": "8d8de56d-8afd-44c1-dfbb-5f2319097b90"
      },
      "execution_count": 59,
      "outputs": [
        {
          "output_type": "execute_result",
          "data": {
            "text/plain": [
              "{'accuracy': 78.60892388451444,\n",
              " 'precision': 0.7903277546022673,\n",
              " 'recall': 0.7860892388451444,\n",
              " 'f1': 0.7832971347503846}"
            ]
          },
          "metadata": {},
          "execution_count": 59
        }
      ]
    },
    {
      "cell_type": "markdown",
      "source": [
        "#### Model 3: GRU\n",
        "\n",
        "GRU - Gated recurrent unit\n",
        "\n",
        "The GRU cell has similar features to a LSTM cells but has less parameters"
      ],
      "metadata": {
        "id": "dzO-LXIXvPJM"
      }
    },
    {
      "cell_type": "code",
      "source": [
        "# Build an RNN using the GRU cell\n",
        "from tensorflow.keras import layers\n",
        "inputs = layers.Input(shape=(1,), dtype=tf.string)\n",
        "x = text_vectorizer(inputs)\n",
        "x = embedding(x)\n",
        "# # print(x.shape)\n",
        "# x = layers.GRU(64, return_sequences=True)(x)  # if you want to stack recurrent layers on each other, do return_sequences = True\n",
        "# # print(x.shape)\n",
        "# x = layers.LSTM(64, return_sequences=True)(x)\n",
        "# # print(x.shape)\n",
        "# x = layers.GRU(32)(x)\n",
        "# # print(x.shape)\n",
        "# x = layers.Dense(64, activation='relu')(x)\n",
        "x= layers.GRU(64)(x)\n",
        "outputs = layers.Dense(1, activation='sigmoid')(x)\n",
        "model_3 = tf.keras.Model(inputs, outputs, name='model_4_GRU')"
      ],
      "metadata": {
        "id": "O42L17ktvGhF"
      },
      "execution_count": 60,
      "outputs": []
    },
    {
      "cell_type": "code",
      "source": [
        "# Get the summary\n",
        "model_3.summary()"
      ],
      "metadata": {
        "colab": {
          "base_uri": "https://localhost:8080/"
        },
        "id": "_vtdfcHxwDBc",
        "outputId": "b0bb875d-71fd-464f-d171-3b881c5b35db"
      },
      "execution_count": 61,
      "outputs": [
        {
          "output_type": "stream",
          "name": "stdout",
          "text": [
            "Model: \"model_4_GRU\"\n",
            "_________________________________________________________________\n",
            " Layer (type)                Output Shape              Param #   \n",
            "=================================================================\n",
            " input_3 (InputLayer)        [(None, 1)]               0         \n",
            "                                                                 \n",
            " text_vectorization_1 (Text  (None, 15)                0         \n",
            " Vectorization)                                                  \n",
            "                                                                 \n",
            " embedding (Embedding)       (None, 15, 128)           1280000   \n",
            "                                                                 \n",
            " gru (GRU)                   (None, 64)                37248     \n",
            "                                                                 \n",
            " dense_3 (Dense)             (None, 1)                 65        \n",
            "                                                                 \n",
            "=================================================================\n",
            "Total params: 1317313 (5.03 MB)\n",
            "Trainable params: 1317313 (5.03 MB)\n",
            "Non-trainable params: 0 (0.00 Byte)\n",
            "_________________________________________________________________\n"
          ]
        }
      ]
    },
    {
      "cell_type": "code",
      "source": [
        "# Compile the model\n",
        "model_3.compile(loss='binary_crossentropy',\n",
        "                optimizer=tf.keras.optimizers.Adam(),\n",
        "                metrics=['accuracy'])"
      ],
      "metadata": {
        "id": "o6M2fqZkw-Ny"
      },
      "execution_count": 62,
      "outputs": []
    },
    {
      "cell_type": "code",
      "source": [
        "# Fit the model\n",
        "model_3_history = model_3.fit(train_sentences,\n",
        "                              train_labels,\n",
        "                              epochs=5,\n",
        "                              validation_data=(val_sentences, val_labels),\n",
        "                              callbacks = [create_tensorboard_callback(dir_name=SAVE_DIR,\n",
        "                                                                       experiment_name=\"model_4_GRU\")])"
      ],
      "metadata": {
        "colab": {
          "base_uri": "https://localhost:8080/"
        },
        "id": "WNDO4pFjxHyU",
        "outputId": "c9fd3dc7-0e8c-44db-b2d2-b2d7872f8f2f"
      },
      "execution_count": 63,
      "outputs": [
        {
          "output_type": "stream",
          "name": "stdout",
          "text": [
            "Saving TensorBoard log files to: model_logs/model_4_GRU/20231128-053803\n",
            "Epoch 1/5\n",
            "215/215 [==============================] - 13s 45ms/step - loss: 0.2163 - accuracy: 0.9095 - val_loss: 0.6290 - val_accuracy: 0.7795\n",
            "Epoch 2/5\n",
            "215/215 [==============================] - 2s 11ms/step - loss: 0.0984 - accuracy: 0.9648 - val_loss: 0.6888 - val_accuracy: 0.7664\n",
            "Epoch 3/5\n",
            "215/215 [==============================] - 2s 9ms/step - loss: 0.0757 - accuracy: 0.9688 - val_loss: 0.8857 - val_accuracy: 0.7703\n",
            "Epoch 4/5\n",
            "215/215 [==============================] - 2s 10ms/step - loss: 0.0603 - accuracy: 0.9756 - val_loss: 1.0901 - val_accuracy: 0.7677\n",
            "Epoch 5/5\n",
            "215/215 [==============================] - 2s 11ms/step - loss: 0.0506 - accuracy: 0.9777 - val_loss: 1.4375 - val_accuracy: 0.7651\n"
          ]
        }
      ]
    },
    {
      "cell_type": "code",
      "source": [
        "# Make predictions using the model\n",
        "model_3_pred_probs = model_3.predict(val_sentences)\n",
        "model_3_pred_probs"
      ],
      "metadata": {
        "colab": {
          "base_uri": "https://localhost:8080/"
        },
        "id": "uJJIyQdqxXaT",
        "outputId": "d8c994b4-7626-473d-ca77-e233994bdf70"
      },
      "execution_count": 64,
      "outputs": [
        {
          "output_type": "stream",
          "name": "stdout",
          "text": [
            "24/24 [==============================] - 0s 3ms/step\n"
          ]
        },
        {
          "output_type": "execute_result",
          "data": {
            "text/plain": [
              "array([[1.59829296e-02],\n",
              "       [6.90366864e-01],\n",
              "       [9.99814808e-01],\n",
              "       [1.69967301e-02],\n",
              "       [8.70465083e-05],\n",
              "       [9.99808371e-01],\n",
              "       [3.65119539e-02],\n",
              "       [9.99938011e-01],\n",
              "       [9.99927998e-01],\n",
              "       [8.51494074e-01],\n",
              "       [1.14090828e-04],\n",
              "       [9.71100390e-01],\n",
              "       [1.60489639e-04],\n",
              "       [1.08539321e-01],\n",
              "       [5.37321248e-05],\n",
              "       [4.75795357e-04],\n",
              "       [9.19974918e-05],\n",
              "       [4.44823236e-04],\n",
              "       [2.08221772e-03],\n",
              "       [9.99870658e-01],\n",
              "       [9.99896765e-01],\n",
              "       [2.56826625e-05],\n",
              "       [9.99918222e-01],\n",
              "       [1.49552361e-04],\n",
              "       [9.99905109e-01],\n",
              "       [9.99943972e-01],\n",
              "       [8.43623202e-05],\n",
              "       [2.48966535e-04],\n",
              "       [5.84009395e-04],\n",
              "       [4.27704901e-01],\n",
              "       [9.99246120e-01],\n",
              "       [1.79920913e-04],\n",
              "       [2.12533007e-04],\n",
              "       [1.10026821e-03],\n",
              "       [9.75371122e-01],\n",
              "       [4.08110946e-01],\n",
              "       [9.99847651e-01],\n",
              "       [1.25512183e-01],\n",
              "       [5.38134831e-04],\n",
              "       [9.99832273e-01],\n",
              "       [8.55128944e-01],\n",
              "       [1.47280429e-04],\n",
              "       [4.37099904e-01],\n",
              "       [8.26797914e-05],\n",
              "       [6.66816458e-02],\n",
              "       [9.99863982e-01],\n",
              "       [9.98840153e-01],\n",
              "       [9.84442294e-01],\n",
              "       [1.88245438e-04],\n",
              "       [9.98151958e-01],\n",
              "       [1.50744361e-03],\n",
              "       [4.49522406e-01],\n",
              "       [2.33735908e-02],\n",
              "       [5.39036817e-04],\n",
              "       [4.17607874e-01],\n",
              "       [2.43999064e-03],\n",
              "       [1.85873432e-04],\n",
              "       [9.99834418e-01],\n",
              "       [1.64576690e-04],\n",
              "       [1.37413721e-04],\n",
              "       [1.79449981e-03],\n",
              "       [9.99895096e-01],\n",
              "       [9.99624133e-01],\n",
              "       [5.12769620e-04],\n",
              "       [9.99820292e-01],\n",
              "       [9.99940038e-01],\n",
              "       [9.77903545e-01],\n",
              "       [4.86970127e-01],\n",
              "       [9.83310938e-01],\n",
              "       [9.96530831e-01],\n",
              "       [7.33098760e-03],\n",
              "       [1.13687478e-01],\n",
              "       [9.99921918e-01],\n",
              "       [5.19485511e-05],\n",
              "       [9.99670625e-01],\n",
              "       [9.99757826e-01],\n",
              "       [3.08464776e-04],\n",
              "       [9.99846101e-01],\n",
              "       [9.28640738e-02],\n",
              "       [6.46458287e-03],\n",
              "       [8.16430984e-05],\n",
              "       [1.22881979e-02],\n",
              "       [9.99931574e-01],\n",
              "       [1.09746405e-04],\n",
              "       [7.61583069e-05],\n",
              "       [1.81123381e-04],\n",
              "       [5.89800875e-05],\n",
              "       [8.35774554e-05],\n",
              "       [6.24153181e-04],\n",
              "       [9.99884248e-01],\n",
              "       [9.99889970e-01],\n",
              "       [4.86352073e-05],\n",
              "       [9.74569380e-01],\n",
              "       [1.50179112e-04],\n",
              "       [9.99933600e-01],\n",
              "       [7.38404155e-01],\n",
              "       [9.91643488e-01],\n",
              "       [9.99802887e-01],\n",
              "       [9.99746859e-01],\n",
              "       [8.12636554e-01],\n",
              "       [9.99947429e-01],\n",
              "       [1.35410985e-04],\n",
              "       [3.08061935e-05],\n",
              "       [2.99153894e-01],\n",
              "       [9.99777615e-01],\n",
              "       [4.94798238e-04],\n",
              "       [6.10468164e-02],\n",
              "       [9.99037981e-01],\n",
              "       [7.72197818e-05],\n",
              "       [9.99882102e-01],\n",
              "       [9.99411941e-01],\n",
              "       [5.64718066e-05],\n",
              "       [2.12426856e-02],\n",
              "       [1.27224514e-04],\n",
              "       [4.23168705e-04],\n",
              "       [2.04634108e-03],\n",
              "       [9.85119998e-01],\n",
              "       [9.99868035e-01],\n",
              "       [1.32095505e-04],\n",
              "       [6.84636616e-05],\n",
              "       [9.99957442e-01],\n",
              "       [3.50140035e-05],\n",
              "       [4.99381495e-05],\n",
              "       [9.98534441e-01],\n",
              "       [2.11455345e-01],\n",
              "       [7.05628554e-05],\n",
              "       [9.99753416e-01],\n",
              "       [4.46480226e-05],\n",
              "       [1.05005063e-04],\n",
              "       [9.99330163e-01],\n",
              "       [7.28659434e-05],\n",
              "       [9.99957442e-01],\n",
              "       [9.99923825e-01],\n",
              "       [9.99943972e-01],\n",
              "       [9.99811471e-01],\n",
              "       [6.95698618e-05],\n",
              "       [9.99892473e-01],\n",
              "       [4.60401773e-01],\n",
              "       [6.85080537e-04],\n",
              "       [6.69743677e-05],\n",
              "       [9.99951482e-01],\n",
              "       [8.57678533e-01],\n",
              "       [1.08539321e-01],\n",
              "       [9.98550713e-01],\n",
              "       [4.70402129e-02],\n",
              "       [5.96032478e-04],\n",
              "       [6.16855978e-05],\n",
              "       [3.61951534e-05],\n",
              "       [6.08001137e-03],\n",
              "       [9.99623060e-01],\n",
              "       [4.19564894e-05],\n",
              "       [9.46059823e-04],\n",
              "       [2.85733346e-04],\n",
              "       [6.56638367e-05],\n",
              "       [8.33770828e-05],\n",
              "       [9.99722302e-01],\n",
              "       [9.97675359e-01],\n",
              "       [3.20872845e-04],\n",
              "       [9.99640107e-01],\n",
              "       [3.99554883e-05],\n",
              "       [9.99733031e-01],\n",
              "       [1.14313816e-03],\n",
              "       [4.38671187e-03],\n",
              "       [9.99520779e-01],\n",
              "       [1.87031901e-03],\n",
              "       [7.08728621e-05],\n",
              "       [9.99908447e-01],\n",
              "       [2.56763218e-04],\n",
              "       [9.99894142e-01],\n",
              "       [9.89004314e-01],\n",
              "       [9.99891162e-01],\n",
              "       [9.99606073e-01],\n",
              "       [9.99864578e-01],\n",
              "       [1.41749391e-04],\n",
              "       [9.99955416e-01],\n",
              "       [9.13138356e-05],\n",
              "       [1.45532060e-04],\n",
              "       [1.03476434e-03],\n",
              "       [6.03919383e-04],\n",
              "       [9.99922514e-01],\n",
              "       [8.04276729e-04],\n",
              "       [8.56241882e-01],\n",
              "       [9.99912262e-01],\n",
              "       [9.99932766e-01],\n",
              "       [9.99941945e-01],\n",
              "       [1.43428813e-04],\n",
              "       [4.19784192e-05],\n",
              "       [9.99971867e-01],\n",
              "       [2.67920113e-05],\n",
              "       [3.72326977e-05],\n",
              "       [7.15586776e-03],\n",
              "       [9.99599874e-01],\n",
              "       [7.02495745e-05],\n",
              "       [4.52297281e-05],\n",
              "       [6.11466530e-05],\n",
              "       [4.64427256e-04],\n",
              "       [1.42729594e-04],\n",
              "       [7.34861009e-04],\n",
              "       [9.99892712e-01],\n",
              "       [6.19208033e-04],\n",
              "       [5.40048117e-04],\n",
              "       [9.99919653e-01],\n",
              "       [9.99837518e-01],\n",
              "       [8.40302408e-01],\n",
              "       [5.10068261e-04],\n",
              "       [9.99904037e-01],\n",
              "       [9.99899745e-01],\n",
              "       [9.97335732e-01],\n",
              "       [1.05768489e-03],\n",
              "       [9.98386502e-01],\n",
              "       [9.73044895e-04],\n",
              "       [9.99894857e-01],\n",
              "       [5.07650184e-05],\n",
              "       [1.01631776e-04],\n",
              "       [4.98760783e-05],\n",
              "       [2.47374574e-05],\n",
              "       [9.99892354e-01],\n",
              "       [9.91696715e-01],\n",
              "       [9.98258889e-01],\n",
              "       [5.11726856e-01],\n",
              "       [9.97926116e-01],\n",
              "       [1.91891957e-02],\n",
              "       [4.14989103e-04],\n",
              "       [4.07600217e-03],\n",
              "       [9.99880195e-01],\n",
              "       [1.24841381e-03],\n",
              "       [1.21169607e-04],\n",
              "       [9.99931693e-01],\n",
              "       [9.98414516e-01],\n",
              "       [9.99778211e-01],\n",
              "       [6.26629117e-05],\n",
              "       [1.92787889e-02],\n",
              "       [9.99680758e-01],\n",
              "       [2.55440306e-02],\n",
              "       [1.19980276e-01],\n",
              "       [2.59090302e-04],\n",
              "       [6.35496005e-02],\n",
              "       [2.15400429e-03],\n",
              "       [3.23786313e-04],\n",
              "       [1.22843849e-04],\n",
              "       [9.99200404e-01],\n",
              "       [6.69090807e-01],\n",
              "       [9.99914527e-01],\n",
              "       [9.99856830e-01],\n",
              "       [7.25918508e-05],\n",
              "       [4.22514458e-05],\n",
              "       [9.99855638e-01],\n",
              "       [3.97938784e-05],\n",
              "       [3.77933262e-03],\n",
              "       [2.36844450e-01],\n",
              "       [4.00325662e-05],\n",
              "       [9.99523878e-01],\n",
              "       [2.71936260e-05],\n",
              "       [2.61679612e-04],\n",
              "       [9.99725282e-01],\n",
              "       [1.98660810e-02],\n",
              "       [9.99863744e-01],\n",
              "       [9.99962449e-01],\n",
              "       [6.18794467e-03],\n",
              "       [5.74466721e-05],\n",
              "       [3.45918408e-04],\n",
              "       [1.96633962e-04],\n",
              "       [3.23865424e-05],\n",
              "       [9.99584973e-01],\n",
              "       [9.99908447e-01],\n",
              "       [6.46269441e-01],\n",
              "       [9.99805987e-01],\n",
              "       [4.51635242e-05],\n",
              "       [1.87952552e-04],\n",
              "       [1.50393360e-04],\n",
              "       [2.15790336e-04],\n",
              "       [1.27632782e-04],\n",
              "       [9.99812782e-01],\n",
              "       [5.41183574e-04],\n",
              "       [5.41999798e-05],\n",
              "       [9.99879599e-01],\n",
              "       [8.21543217e-05],\n",
              "       [8.44320108e-04],\n",
              "       [9.99795735e-01],\n",
              "       [7.40496107e-05],\n",
              "       [6.09909825e-04],\n",
              "       [8.09089761e-05],\n",
              "       [9.99873281e-01],\n",
              "       [8.44380677e-01],\n",
              "       [5.89571416e-01],\n",
              "       [7.73136620e-04],\n",
              "       [9.99731123e-01],\n",
              "       [3.23496829e-03],\n",
              "       [9.48432446e-01],\n",
              "       [1.79578066e-02],\n",
              "       [9.99661684e-01],\n",
              "       [9.99436915e-01],\n",
              "       [9.98650849e-01],\n",
              "       [1.52176630e-03],\n",
              "       [4.92522180e-01],\n",
              "       [7.22470880e-01],\n",
              "       [6.29224058e-04],\n",
              "       [5.14926680e-04],\n",
              "       [9.14605043e-05],\n",
              "       [3.52742523e-01],\n",
              "       [2.68067070e-05],\n",
              "       [1.27702180e-04],\n",
              "       [7.76460487e-03],\n",
              "       [9.99902725e-01],\n",
              "       [9.36669094e-05],\n",
              "       [5.23202447e-03],\n",
              "       [4.75496938e-03],\n",
              "       [2.98141949e-02],\n",
              "       [1.27277700e-02],\n",
              "       [7.03061451e-05],\n",
              "       [4.16539006e-05],\n",
              "       [9.99587953e-01],\n",
              "       [9.20641236e-03],\n",
              "       [3.16892356e-01],\n",
              "       [9.99963045e-01],\n",
              "       [1.01993617e-04],\n",
              "       [9.99420881e-01],\n",
              "       [1.10221736e-01],\n",
              "       [5.19380614e-04],\n",
              "       [5.89980464e-03],\n",
              "       [7.54639259e-05],\n",
              "       [2.85724876e-04],\n",
              "       [9.99301434e-01],\n",
              "       [1.36997667e-04],\n",
              "       [9.99880314e-01],\n",
              "       [1.71747640e-01],\n",
              "       [3.98146003e-05],\n",
              "       [9.99906182e-01],\n",
              "       [1.20915116e-04],\n",
              "       [9.99913454e-01],\n",
              "       [1.28515632e-04],\n",
              "       [4.55769332e-05],\n",
              "       [9.99906898e-01],\n",
              "       [3.23841901e-04],\n",
              "       [5.31636761e-05],\n",
              "       [9.98535275e-01],\n",
              "       [1.25654391e-04],\n",
              "       [1.22725949e-04],\n",
              "       [3.67445662e-03],\n",
              "       [9.99492288e-01],\n",
              "       [5.75024133e-05],\n",
              "       [2.38544890e-04],\n",
              "       [9.99854088e-01],\n",
              "       [9.99930501e-01],\n",
              "       [9.99835968e-01],\n",
              "       [2.21767958e-04],\n",
              "       [9.96217787e-01],\n",
              "       [9.93997097e-01],\n",
              "       [1.18609023e-04],\n",
              "       [8.88054492e-05],\n",
              "       [5.89273346e-04],\n",
              "       [1.14359835e-03],\n",
              "       [7.19212767e-05],\n",
              "       [2.82865088e-03],\n",
              "       [8.93622264e-03],\n",
              "       [4.84381671e-05],\n",
              "       [9.99894619e-01],\n",
              "       [9.99943972e-01],\n",
              "       [9.99937654e-01],\n",
              "       [3.70308553e-04],\n",
              "       [1.35397270e-01],\n",
              "       [2.03413051e-03],\n",
              "       [3.68898129e-03],\n",
              "       [9.98975277e-01],\n",
              "       [3.97982955e-01],\n",
              "       [1.34136018e-04],\n",
              "       [3.86840438e-05],\n",
              "       [1.44453123e-04],\n",
              "       [9.99634862e-01],\n",
              "       [8.66851915e-05],\n",
              "       [6.53083785e-04],\n",
              "       [8.37894040e-05],\n",
              "       [8.35391256e-05],\n",
              "       [1.29233077e-02],\n",
              "       [3.33604105e-02],\n",
              "       [4.43603890e-03],\n",
              "       [1.22555910e-04],\n",
              "       [2.14475484e-04],\n",
              "       [3.48409376e-04],\n",
              "       [9.99896884e-01],\n",
              "       [9.99863148e-01],\n",
              "       [9.85488951e-01],\n",
              "       [2.69972354e-01],\n",
              "       [2.81533357e-05],\n",
              "       [9.98871744e-01],\n",
              "       [9.99916673e-01],\n",
              "       [2.63801426e-01],\n",
              "       [8.69067968e-04],\n",
              "       [9.98577833e-01],\n",
              "       [5.27959783e-04],\n",
              "       [9.99696732e-01],\n",
              "       [6.67965459e-03],\n",
              "       [2.74314720e-04],\n",
              "       [7.24334717e-01],\n",
              "       [2.73437470e-01],\n",
              "       [9.99721348e-01],\n",
              "       [6.87810406e-02],\n",
              "       [2.35309544e-05],\n",
              "       [1.44628721e-04],\n",
              "       [3.97982955e-01],\n",
              "       [9.99959588e-01],\n",
              "       [8.53516249e-05],\n",
              "       [1.36536118e-02],\n",
              "       [9.99904871e-01],\n",
              "       [1.99926162e-05],\n",
              "       [9.99957442e-01],\n",
              "       [8.93127071e-05],\n",
              "       [3.08520655e-04],\n",
              "       [8.63125242e-05],\n",
              "       [9.99873996e-01],\n",
              "       [9.99801099e-01],\n",
              "       [2.04174532e-04],\n",
              "       [8.30219651e-05],\n",
              "       [9.99183595e-01],\n",
              "       [9.99914765e-01],\n",
              "       [6.56272292e-01],\n",
              "       [7.39099341e-05],\n",
              "       [6.92849327e-03],\n",
              "       [1.43201023e-01],\n",
              "       [5.69098120e-05],\n",
              "       [9.99934435e-01],\n",
              "       [9.99080420e-01],\n",
              "       [9.99939799e-01],\n",
              "       [9.99928117e-01],\n",
              "       [6.23604923e-04],\n",
              "       [4.81221330e-04],\n",
              "       [1.81715513e-04],\n",
              "       [9.99350131e-01],\n",
              "       [3.67976027e-03],\n",
              "       [9.99740064e-01],\n",
              "       [1.43633006e-04],\n",
              "       [9.43416774e-01],\n",
              "       [1.63314995e-04],\n",
              "       [4.46055092e-05],\n",
              "       [2.86278315e-03],\n",
              "       [1.28469794e-04],\n",
              "       [8.54181409e-01],\n",
              "       [2.58725719e-04],\n",
              "       [9.99958396e-01],\n",
              "       [9.99930739e-01],\n",
              "       [1.01958511e-04],\n",
              "       [6.90366864e-01],\n",
              "       [2.72513687e-04],\n",
              "       [1.28799147e-04],\n",
              "       [2.21339583e-01],\n",
              "       [9.99770463e-01],\n",
              "       [8.97840679e-01],\n",
              "       [3.50834045e-04],\n",
              "       [5.15468600e-05],\n",
              "       [1.22851739e-03],\n",
              "       [2.59881199e-05],\n",
              "       [9.99925852e-01],\n",
              "       [9.99445736e-01],\n",
              "       [9.99913692e-01],\n",
              "       [9.99408603e-01],\n",
              "       [9.29852426e-01],\n",
              "       [3.03373649e-03],\n",
              "       [5.04867967e-05],\n",
              "       [9.97071862e-01],\n",
              "       [9.99422312e-01],\n",
              "       [9.99916673e-01],\n",
              "       [7.38539893e-05],\n",
              "       [1.17478501e-02],\n",
              "       [7.03924161e-05],\n",
              "       [9.99922752e-01],\n",
              "       [9.99921441e-01],\n",
              "       [2.59520981e-04],\n",
              "       [9.29896429e-04],\n",
              "       [9.99912858e-01],\n",
              "       [1.93374071e-04],\n",
              "       [8.61695080e-05],\n",
              "       [9.99072313e-01],\n",
              "       [8.97176578e-05],\n",
              "       [9.79497490e-05],\n",
              "       [9.77858126e-01],\n",
              "       [3.29185694e-01],\n",
              "       [9.07111108e-01],\n",
              "       [9.99952674e-01],\n",
              "       [7.23571429e-05],\n",
              "       [1.48908771e-03],\n",
              "       [3.17925151e-05],\n",
              "       [3.66813874e-05],\n",
              "       [7.14355047e-05],\n",
              "       [9.99897003e-01],\n",
              "       [3.26844638e-05],\n",
              "       [4.80766267e-01],\n",
              "       [9.98860002e-01],\n",
              "       [5.69972070e-03],\n",
              "       [6.64950290e-04],\n",
              "       [3.50122682e-05],\n",
              "       [1.67081744e-04],\n",
              "       [9.99904633e-01],\n",
              "       [9.99889016e-01],\n",
              "       [5.39481174e-04],\n",
              "       [1.55832662e-04],\n",
              "       [8.55006452e-04],\n",
              "       [3.61753155e-05],\n",
              "       [9.99816477e-01],\n",
              "       [2.10751998e-04],\n",
              "       [9.99851823e-01],\n",
              "       [9.99343097e-01],\n",
              "       [9.92333293e-01],\n",
              "       [9.99505997e-01],\n",
              "       [1.07236635e-02],\n",
              "       [3.76372524e-02],\n",
              "       [6.28433991e-05],\n",
              "       [2.94118724e-03],\n",
              "       [8.74364078e-01],\n",
              "       [7.44355381e-01],\n",
              "       [9.88711603e-03],\n",
              "       [7.16125965e-01],\n",
              "       [3.15940015e-05],\n",
              "       [3.29319773e-05],\n",
              "       [1.84543279e-03],\n",
              "       [7.81157345e-04],\n",
              "       [9.00508370e-03],\n",
              "       [9.99879241e-01],\n",
              "       [9.99761879e-01],\n",
              "       [7.38404155e-01],\n",
              "       [9.95219648e-01],\n",
              "       [4.28004569e-04],\n",
              "       [5.58326647e-05],\n",
              "       [9.99838471e-01],\n",
              "       [1.80942804e-01],\n",
              "       [2.69913464e-04],\n",
              "       [1.71265274e-01],\n",
              "       [9.96556759e-01],\n",
              "       [2.97178267e-05],\n",
              "       [3.36903930e-01],\n",
              "       [9.94337857e-01],\n",
              "       [9.99500155e-01],\n",
              "       [9.99843597e-01],\n",
              "       [8.56930971e-01],\n",
              "       [6.36708632e-04],\n",
              "       [9.85572994e-01],\n",
              "       [3.92913316e-05],\n",
              "       [6.49017107e-04],\n",
              "       [9.59431566e-03],\n",
              "       [8.49455178e-01],\n",
              "       [9.93239403e-01],\n",
              "       [1.99777322e-04],\n",
              "       [1.39561002e-04],\n",
              "       [4.12102312e-01],\n",
              "       [2.63100839e-04],\n",
              "       [6.47369889e-05],\n",
              "       [9.56988515e-05],\n",
              "       [1.87527388e-01],\n",
              "       [9.99944210e-01],\n",
              "       [9.99698400e-01],\n",
              "       [8.08020122e-03],\n",
              "       [9.99921083e-01],\n",
              "       [9.99917388e-01],\n",
              "       [2.52513928e-05],\n",
              "       [9.99813974e-01],\n",
              "       [2.10295469e-02],\n",
              "       [9.99390602e-01],\n",
              "       [2.79567298e-02],\n",
              "       [2.43254646e-04],\n",
              "       [4.38677453e-05],\n",
              "       [4.00121098e-05],\n",
              "       [7.07745930e-05],\n",
              "       [9.36978176e-05],\n",
              "       [4.26564924e-03],\n",
              "       [4.84952889e-02],\n",
              "       [9.99905348e-01],\n",
              "       [1.16846561e-04],\n",
              "       [9.98459816e-01],\n",
              "       [4.31256324e-01],\n",
              "       [2.96984828e-04],\n",
              "       [7.18090232e-05],\n",
              "       [9.99928236e-01],\n",
              "       [1.33043839e-04],\n",
              "       [9.99900699e-01],\n",
              "       [1.84013948e-01],\n",
              "       [1.01432879e-03],\n",
              "       [9.05594885e-01],\n",
              "       [1.20067642e-04],\n",
              "       [2.83631682e-03],\n",
              "       [9.99917388e-01],\n",
              "       [4.73484251e-05],\n",
              "       [6.68473294e-05],\n",
              "       [5.07919467e-04],\n",
              "       [9.99922156e-01],\n",
              "       [2.92301048e-02],\n",
              "       [9.35190255e-05],\n",
              "       [9.99244094e-01],\n",
              "       [2.62182293e-05],\n",
              "       [6.47383495e-05],\n",
              "       [5.27344855e-05],\n",
              "       [1.32028133e-01],\n",
              "       [1.13622569e-04],\n",
              "       [2.12922886e-01],\n",
              "       [5.87786664e-04],\n",
              "       [4.88705118e-04],\n",
              "       [6.79446457e-05],\n",
              "       [1.52702210e-04],\n",
              "       [7.64378419e-05],\n",
              "       [9.99733865e-01],\n",
              "       [9.98175502e-01],\n",
              "       [3.23761837e-03],\n",
              "       [4.68953367e-05],\n",
              "       [2.68485164e-03],\n",
              "       [9.99762952e-01],\n",
              "       [9.69538033e-01],\n",
              "       [9.99951243e-01],\n",
              "       [8.77037382e-05],\n",
              "       [9.99710262e-01],\n",
              "       [5.12095758e-05],\n",
              "       [9.99673605e-01],\n",
              "       [9.33792353e-01],\n",
              "       [3.12852462e-05],\n",
              "       [9.99894381e-01],\n",
              "       [2.26905730e-04],\n",
              "       [9.97691393e-01],\n",
              "       [9.99922395e-01],\n",
              "       [3.22210311e-04],\n",
              "       [6.19281273e-05],\n",
              "       [9.99187410e-01],\n",
              "       [4.34111353e-05],\n",
              "       [1.28226755e-02],\n",
              "       [9.99904037e-01],\n",
              "       [2.93572247e-01],\n",
              "       [9.99805152e-01],\n",
              "       [2.36029588e-02],\n",
              "       [9.99823272e-01],\n",
              "       [9.99019980e-01],\n",
              "       [1.26708264e-03],\n",
              "       [3.10445757e-05],\n",
              "       [9.99834418e-01],\n",
              "       [5.27478587e-05],\n",
              "       [1.63699254e-01],\n",
              "       [9.99943495e-01],\n",
              "       [9.99742448e-01],\n",
              "       [9.99948502e-01],\n",
              "       [9.99833941e-01],\n",
              "       [9.69068766e-01],\n",
              "       [5.64466894e-01],\n",
              "       [2.04483527e-04],\n",
              "       [9.87926006e-01],\n",
              "       [9.99456823e-01],\n",
              "       [9.99830246e-01],\n",
              "       [8.13586448e-05],\n",
              "       [9.97981369e-01],\n",
              "       [9.99893069e-01],\n",
              "       [2.61186331e-04],\n",
              "       [1.15635055e-04],\n",
              "       [9.88711603e-03],\n",
              "       [1.43594385e-04],\n",
              "       [7.86526144e-01],\n",
              "       [9.99847412e-01],\n",
              "       [9.99897122e-01],\n",
              "       [5.70298798e-05],\n",
              "       [3.36447592e-05],\n",
              "       [3.88481094e-05],\n",
              "       [8.64208996e-01],\n",
              "       [4.23723104e-04],\n",
              "       [1.60764456e-02],\n",
              "       [9.95300531e-01],\n",
              "       [4.93632469e-05],\n",
              "       [6.48501068e-02],\n",
              "       [2.85632070e-03],\n",
              "       [1.18342973e-02],\n",
              "       [9.99676585e-01],\n",
              "       [7.30568572e-05],\n",
              "       [9.99566138e-01],\n",
              "       [5.81182353e-03],\n",
              "       [2.43927188e-05],\n",
              "       [4.30251675e-05],\n",
              "       [9.99941587e-01],\n",
              "       [9.15048480e-01],\n",
              "       [4.63607284e-05],\n",
              "       [1.06187230e-02],\n",
              "       [6.80021942e-01],\n",
              "       [4.02967016e-05],\n",
              "       [9.99881506e-01],\n",
              "       [2.74294551e-04],\n",
              "       [9.99150872e-01],\n",
              "       [7.01698542e-01],\n",
              "       [1.46148799e-04],\n",
              "       [5.54671764e-01],\n",
              "       [4.56449062e-01],\n",
              "       [3.44719738e-04],\n",
              "       [9.99715984e-01],\n",
              "       [2.88762338e-02],\n",
              "       [8.09696317e-02],\n",
              "       [9.99838710e-01],\n",
              "       [4.67622906e-01],\n",
              "       [1.59113202e-03],\n",
              "       [2.97178267e-05],\n",
              "       [1.00465573e-01],\n",
              "       [9.98717546e-01],\n",
              "       [9.99957442e-01],\n",
              "       [9.57660615e-01],\n",
              "       [1.75071170e-03],\n",
              "       [9.99911547e-01],\n",
              "       [2.51645535e-01],\n",
              "       [9.99936461e-01],\n",
              "       [2.51645535e-01],\n",
              "       [9.99930739e-01],\n",
              "       [4.33721107e-05],\n",
              "       [1.49000110e-03],\n",
              "       [3.38107602e-05],\n",
              "       [9.99941945e-01],\n",
              "       [1.62121694e-04],\n",
              "       [1.23021906e-04],\n",
              "       [4.61726340e-05],\n",
              "       [5.66290051e-04],\n",
              "       [1.26909546e-03],\n",
              "       [1.53888686e-04],\n",
              "       [1.83757730e-02],\n",
              "       [8.34878592e-04],\n",
              "       [1.10573317e-04],\n",
              "       [1.23772328e-03],\n",
              "       [1.73606211e-04],\n",
              "       [1.17472860e-04],\n",
              "       [1.22424506e-04],\n",
              "       [5.08566482e-05],\n",
              "       [3.63705121e-02],\n",
              "       [9.99616981e-01],\n",
              "       [1.29119362e-04],\n",
              "       [1.25895798e-01],\n",
              "       [5.54814003e-04],\n",
              "       [9.99318361e-01],\n",
              "       [9.99893546e-01],\n",
              "       [4.23538695e-05],\n",
              "       [3.99423443e-05],\n",
              "       [4.67253412e-05],\n",
              "       [1.84522160e-05],\n",
              "       [9.99900579e-01],\n",
              "       [5.08566482e-05],\n",
              "       [2.04303462e-04],\n",
              "       [9.99769986e-01],\n",
              "       [9.99903440e-01],\n",
              "       [9.99916434e-01],\n",
              "       [9.99948621e-01],\n",
              "       [9.99967575e-01],\n",
              "       [1.77544236e-04],\n",
              "       [4.29519714e-04],\n",
              "       [1.86713934e-02],\n",
              "       [9.99595821e-01],\n",
              "       [9.99925375e-01],\n",
              "       [4.78172116e-02],\n",
              "       [1.32987392e-04],\n",
              "       [9.99772131e-01],\n",
              "       [4.87666547e-01],\n",
              "       [3.79809208e-05],\n",
              "       [3.97556396e-05],\n",
              "       [1.42979575e-03],\n",
              "       [2.04016990e-03],\n",
              "       [3.59106489e-05],\n",
              "       [1.42988967e-04],\n",
              "       [9.88145590e-01],\n",
              "       [9.99925375e-01],\n",
              "       [5.94436642e-05],\n",
              "       [9.99889970e-01],\n",
              "       [9.99324918e-01],\n",
              "       [7.53172394e-03],\n",
              "       [2.70819262e-04],\n",
              "       [2.54806112e-02],\n",
              "       [7.66324341e-01],\n",
              "       [3.38554062e-04],\n",
              "       [7.10066088e-05]], dtype=float32)"
            ]
          },
          "metadata": {},
          "execution_count": 64
        }
      ]
    },
    {
      "cell_type": "code",
      "source": [
        "# Convert the pred probs to labels\n",
        "model_3_preds = tf.squeeze(tf.round(model_3_pred_probs))\n",
        "model_3_preds[:10]"
      ],
      "metadata": {
        "colab": {
          "base_uri": "https://localhost:8080/"
        },
        "id": "7pfys_h4x7bX",
        "outputId": "df16a878-94c1-4567-a47c-46409f0a82f9"
      },
      "execution_count": 65,
      "outputs": [
        {
          "output_type": "execute_result",
          "data": {
            "text/plain": [
              "<tf.Tensor: shape=(10,), dtype=float32, numpy=array([0., 1., 1., 0., 0., 1., 0., 1., 1., 1.], dtype=float32)>"
            ]
          },
          "metadata": {},
          "execution_count": 65
        }
      ]
    },
    {
      "cell_type": "code",
      "source": [
        "# Calculate model 3 results\n",
        "model_3_results = calculate_results(y_true=val_labels,\n",
        "                                    y_pred=model_3_preds)\n",
        "model_3_results"
      ],
      "metadata": {
        "colab": {
          "base_uri": "https://localhost:8080/"
        },
        "id": "Li8FWJVIyDAe",
        "outputId": "f1352044-ab8e-4067-b559-40be2ef8e9fe"
      },
      "execution_count": 66,
      "outputs": [
        {
          "output_type": "execute_result",
          "data": {
            "text/plain": [
              "{'accuracy': 76.50918635170603,\n",
              " 'precision': 0.7669456967235844,\n",
              " 'recall': 0.7650918635170604,\n",
              " 'f1': 0.7627590065822708}"
            ]
          },
          "metadata": {},
          "execution_count": 66
        }
      ]
    },
    {
      "cell_type": "markdown",
      "source": [
        "#### Model 4: Bidirectional RNN\n",
        "\n",
        "Normal RNN's go from left to right, but these bi-directional RNNs go via both directions.\n",
        "\n",
        "It combines the representations from left-to-right, as well as right-to-left."
      ],
      "metadata": {
        "id": "HiLVmHdAyT31"
      }
    },
    {
      "cell_type": "code",
      "source": [
        "# Build a bi-directional rnn\n",
        "from tensorflow.keras import layers\n",
        "inputs = layers.Input(shape=(1,), dtype='string')\n",
        "x = text_vectorizer(inputs)\n",
        "x = embedding(x)\n",
        "x = layers.Bidirectional(layers.LSTM(64, return_sequences=True))(x)\n",
        "x = layers.Bidirectional(layers.GRU(64))(x)\n",
        "outputs = layers.Dense(1, activation='sigmoid')(x)\n",
        "\n",
        "model_4 = tf.keras.Model(inputs, outputs, name='model_4_biRNN')"
      ],
      "metadata": {
        "id": "7g5jB_ntyL3e"
      },
      "execution_count": 67,
      "outputs": []
    },
    {
      "cell_type": "code",
      "source": [
        "# Get the model summary\n",
        "model_4.summary()"
      ],
      "metadata": {
        "colab": {
          "base_uri": "https://localhost:8080/"
        },
        "id": "sGuunTklzYJZ",
        "outputId": "9b01fd96-7313-476b-9811-2bd90c9081c1"
      },
      "execution_count": 68,
      "outputs": [
        {
          "output_type": "stream",
          "name": "stdout",
          "text": [
            "Model: \"model_4_biRNN\"\n",
            "_________________________________________________________________\n",
            " Layer (type)                Output Shape              Param #   \n",
            "=================================================================\n",
            " input_4 (InputLayer)        [(None, 1)]               0         \n",
            "                                                                 \n",
            " text_vectorization_1 (Text  (None, 15)                0         \n",
            " Vectorization)                                                  \n",
            "                                                                 \n",
            " embedding (Embedding)       (None, 15, 128)           1280000   \n",
            "                                                                 \n",
            " bidirectional (Bidirection  (None, 15, 128)           98816     \n",
            " al)                                                             \n",
            "                                                                 \n",
            " bidirectional_1 (Bidirecti  (None, 128)               74496     \n",
            " onal)                                                           \n",
            "                                                                 \n",
            " dense_4 (Dense)             (None, 1)                 129       \n",
            "                                                                 \n",
            "=================================================================\n",
            "Total params: 1453441 (5.54 MB)\n",
            "Trainable params: 1453441 (5.54 MB)\n",
            "Non-trainable params: 0 (0.00 Byte)\n",
            "_________________________________________________________________\n"
          ]
        }
      ]
    },
    {
      "cell_type": "code",
      "source": [
        "# Compile the model;\n",
        "model_4.compile(loss='binary_crossentropy',\n",
        "                optimizer=tf.keras.optimizers.Adam(),\n",
        "                metrics=['accuracy'])"
      ],
      "metadata": {
        "id": "qAxsv-QtzfJY"
      },
      "execution_count": 69,
      "outputs": []
    },
    {
      "cell_type": "code",
      "source": [
        "# Fit the model;\n",
        "model_4_history = model_4.fit(train_sentences,\n",
        "                              train_labels,\n",
        "                              epochs=5,\n",
        "                              validation_data=(val_sentences, val_labels),\n",
        "                              callbacks=[create_tensorboard_callback(dir_name=SAVE_DIR,\n",
        "                                                                     experiment_name=\"model_4_bidirectional\")])\n"
      ],
      "metadata": {
        "colab": {
          "base_uri": "https://localhost:8080/"
        },
        "id": "sueoMqlCznRS",
        "outputId": "1d35f26d-6b1b-49f7-8450-c7a903045940"
      },
      "execution_count": 70,
      "outputs": [
        {
          "output_type": "stream",
          "name": "stdout",
          "text": [
            "Saving TensorBoard log files to: model_logs/model_4_bidirectional/20231128-053828\n",
            "Epoch 1/5\n",
            "215/215 [==============================] - 18s 53ms/step - loss: 0.1253 - accuracy: 0.9517 - val_loss: 0.8884 - val_accuracy: 0.7533\n",
            "Epoch 2/5\n",
            "215/215 [==============================] - 3s 13ms/step - loss: 0.0593 - accuracy: 0.9747 - val_loss: 1.1820 - val_accuracy: 0.7664\n",
            "Epoch 3/5\n",
            "215/215 [==============================] - 4s 19ms/step - loss: 0.0527 - accuracy: 0.9775 - val_loss: 1.0909 - val_accuracy: 0.7677\n",
            "Epoch 4/5\n",
            "215/215 [==============================] - 3s 15ms/step - loss: 0.0517 - accuracy: 0.9766 - val_loss: 1.2287 - val_accuracy: 0.7651\n",
            "Epoch 5/5\n",
            "215/215 [==============================] - 3s 12ms/step - loss: 0.0478 - accuracy: 0.9766 - val_loss: 1.3275 - val_accuracy: 0.7664\n"
          ]
        }
      ]
    },
    {
      "cell_type": "code",
      "source": [
        "# Make predictions using the model\n",
        "model_4_pred_probs = model_4.predict(val_sentences)\n",
        "model_4_pred_probs[:10]"
      ],
      "metadata": {
        "colab": {
          "base_uri": "https://localhost:8080/"
        },
        "id": "WFh8eScyz8te",
        "outputId": "432f1349-e634-4994-d114-40e1e1d52f49"
      },
      "execution_count": 71,
      "outputs": [
        {
          "output_type": "stream",
          "name": "stdout",
          "text": [
            "24/24 [==============================] - 1s 5ms/step\n"
          ]
        },
        {
          "output_type": "execute_result",
          "data": {
            "text/plain": [
              "array([[1.7867496e-02],\n",
              "       [7.8075922e-01],\n",
              "       [9.9981862e-01],\n",
              "       [2.2967426e-01],\n",
              "       [4.9109469e-05],\n",
              "       [9.9977940e-01],\n",
              "       [5.1234905e-03],\n",
              "       [9.9991560e-01],\n",
              "       [9.9989438e-01],\n",
              "       [7.5964308e-01]], dtype=float32)"
            ]
          },
          "metadata": {},
          "execution_count": 71
        }
      ]
    },
    {
      "cell_type": "code",
      "source": [
        "# Convert the pred probs to pred labels\n",
        "model_4_preds = tf.squeeze(tf.round(model_4_pred_probs))\n",
        "model_4_preds"
      ],
      "metadata": {
        "colab": {
          "base_uri": "https://localhost:8080/"
        },
        "id": "kspzD2d60Gvn",
        "outputId": "1af20cad-8935-47ba-de84-4ae9c869cbb1"
      },
      "execution_count": 72,
      "outputs": [
        {
          "output_type": "execute_result",
          "data": {
            "text/plain": [
              "<tf.Tensor: shape=(762,), dtype=float32, numpy=\n",
              "array([0., 1., 1., 0., 0., 1., 0., 1., 1., 1., 0., 1., 0., 0., 0., 0., 0.,\n",
              "       0., 0., 1., 1., 0., 1., 0., 1., 1., 0., 0., 0., 1., 1., 0., 0., 0.,\n",
              "       0., 0., 1., 0., 0., 1., 1., 0., 0., 0., 0., 1., 1., 1., 0., 1., 0.,\n",
              "       1., 0., 0., 1., 0., 0., 1., 0., 0., 0., 1., 1., 0., 1., 1., 1., 1.,\n",
              "       1., 1., 0., 0., 1., 0., 1., 1., 0., 1., 0., 0., 0., 0., 1., 0., 0.,\n",
              "       0., 0., 0., 0., 1., 1., 0., 1., 0., 1., 1., 1., 1., 1., 1., 1., 0.,\n",
              "       0., 0., 1., 0., 1., 1., 0., 1., 1., 0., 1., 0., 0., 0., 1., 1., 0.,\n",
              "       0., 1., 0., 0., 1., 1., 0., 1., 0., 0., 1., 0., 1., 1., 1., 1., 0.,\n",
              "       1., 1., 0., 0., 1., 0., 0., 1., 0., 0., 0., 0., 0., 1., 0., 0., 0.,\n",
              "       0., 0., 1., 1., 0., 1., 0., 1., 0., 0., 1., 0., 0., 1., 0., 1., 1.,\n",
              "       1., 1., 1., 0., 1., 0., 0., 0., 0., 1., 0., 1., 1., 1., 1., 0., 0.,\n",
              "       1., 0., 0., 0., 1., 0., 0., 0., 0., 0., 0., 1., 0., 0., 1., 1., 1.,\n",
              "       0., 1., 1., 1., 1., 1., 0., 1., 0., 0., 0., 0., 1., 1., 1., 1., 1.,\n",
              "       0., 0., 0., 1., 0., 0., 1., 1., 1., 0., 0., 1., 0., 0., 0., 0., 0.,\n",
              "       0., 0., 1., 0., 1., 1., 0., 0., 1., 0., 0., 1., 0., 1., 0., 0., 1.,\n",
              "       0., 1., 1., 0., 0., 0., 0., 0., 1., 1., 0., 1., 0., 0., 0., 0., 0.,\n",
              "       1., 0., 0., 1., 0., 0., 1., 0., 0., 0., 1., 1., 1., 0., 1., 0., 1.,\n",
              "       0., 1., 1., 1., 0., 0., 1., 0., 0., 0., 0., 0., 0., 0., 1., 0., 0.,\n",
              "       0., 0., 0., 0., 0., 1., 0., 0., 1., 0., 1., 0., 0., 0., 0., 0., 1.,\n",
              "       0., 1., 0., 0., 1., 0., 1., 0., 0., 1., 0., 0., 1., 0., 0., 0., 1.,\n",
              "       0., 0., 1., 1., 1., 0., 1., 1., 0., 0., 0., 0., 0., 0., 0., 0., 1.,\n",
              "       1., 1., 0., 0., 0., 1., 1., 1., 0., 0., 0., 1., 0., 0., 0., 0., 0.,\n",
              "       1., 0., 0., 0., 0., 1., 1., 0., 0., 0., 1., 1., 1., 0., 1., 0., 1.,\n",
              "       0., 0., 1., 0., 1., 0., 0., 0., 1., 1., 0., 0., 1., 0., 1., 0., 0.,\n",
              "       0., 1., 1., 0., 0., 1., 1., 1., 0., 0., 0., 0., 1., 1., 1., 1., 0.,\n",
              "       1., 0., 1., 0., 1., 0., 0., 0., 0., 0., 0., 0., 0., 1., 1., 0., 1.,\n",
              "       0., 0., 0., 1., 1., 0., 0., 0., 0., 1., 1., 1., 1., 1., 0., 0., 1.,\n",
              "       1., 1., 0., 0., 0., 1., 1., 0., 0., 1., 0., 0., 1., 0., 0., 1., 0.,\n",
              "       1., 1., 0., 0., 0., 0., 0., 1., 0., 1., 1., 0., 0., 0., 0., 1., 1.,\n",
              "       0., 0., 0., 0., 1., 0., 1., 1., 1., 1., 0., 1., 0., 0., 1., 1., 0.,\n",
              "       0., 0., 0., 0., 1., 0., 1., 1., 1., 1., 0., 0., 1., 0., 0., 0., 1.,\n",
              "       0., 1., 1., 1., 1., 0., 0., 0., 0., 0., 0., 1., 1., 0., 0., 0., 0.,\n",
              "       0., 0., 0., 1., 1., 0., 1., 1., 0., 1., 1., 1., 0., 0., 0., 0., 0.,\n",
              "       0., 0., 0., 1., 0., 1., 1., 0., 0., 1., 0., 1., 0., 0., 1., 0., 0.,\n",
              "       1., 0., 0., 0., 1., 1., 0., 1., 0., 0., 0., 0., 0., 1., 1., 0., 0.,\n",
              "       0., 0., 1., 1., 0., 0., 0., 1., 1., 1., 0., 1., 0., 1., 1., 0., 1.,\n",
              "       0., 1., 1., 0., 0., 1., 0., 1., 1., 0., 1., 0., 1., 1., 0., 0., 1.,\n",
              "       0., 0., 1., 1., 1., 1., 1., 1., 0., 1., 1., 1., 0., 0., 1., 0., 0.,\n",
              "       0., 0., 1., 1., 1., 0., 0., 0., 1., 0., 0., 1., 0., 0., 0., 0., 1.,\n",
              "       0., 1., 0., 0., 0., 1., 1., 0., 0., 1., 0., 1., 0., 1., 1., 0., 1.,\n",
              "       0., 0., 1., 0., 0., 1., 0., 0., 0., 0., 1., 1., 0., 0., 1., 0., 1.,\n",
              "       0., 1., 0., 0., 0., 1., 0., 0., 0., 0., 0., 0., 0., 0., 0., 1., 0.,\n",
              "       0., 0., 0., 0., 1., 0., 0., 0., 1., 1., 0., 0., 0., 0., 1., 0., 0.,\n",
              "       1., 1., 1., 1., 1., 0., 0., 0., 1., 1., 1., 0., 1., 1., 0., 0., 0.,\n",
              "       0., 0., 0., 1., 1., 0., 1., 1., 0., 0., 0., 1., 0., 0.],\n",
              "      dtype=float32)>"
            ]
          },
          "metadata": {},
          "execution_count": 72
        }
      ]
    },
    {
      "cell_type": "code",
      "source": [
        "# Calculate the results of the model\n",
        "model_4_results = calculate_results(y_true=val_labels,\n",
        "                                    y_pred=model_4_preds)\n",
        "model_4_results"
      ],
      "metadata": {
        "colab": {
          "base_uri": "https://localhost:8080/"
        },
        "id": "OiioGyZY0Nlm",
        "outputId": "7ce622b6-0351-436a-9755-c5c7ee97e150"
      },
      "execution_count": 73,
      "outputs": [
        {
          "output_type": "execute_result",
          "data": {
            "text/plain": [
              "{'accuracy': 76.64041994750657,\n",
              " 'precision': 0.7665895370389821,\n",
              " 'recall': 0.7664041994750657,\n",
              " 'f1': 0.7651213533864446}"
            ]
          },
          "metadata": {},
          "execution_count": 73
        }
      ]
    },
    {
      "cell_type": "markdown",
      "source": [
        "### Convolutional Neural networks for TEXT (and other types of sequences)\n",
        "\n",
        "Here, the text data is of 1D. So we will be using Conv1D, instead of the Conv2D (which is used for images, which are 2D in nature)\n",
        "\n",
        "\n",
        "```\n",
        "Inputs (text) -> Tokenization -> Embedding -> Layer(s) (typically Conv1D + pooling) -> Outputs (class probs)\n",
        "```"
      ],
      "metadata": {
        "id": "3UEj8r-j0hz4"
      }
    },
    {
      "cell_type": "markdown",
      "source": [
        "#### Model 5: Conv1D"
      ],
      "metadata": {
        "id": "kMvLOnmZ1GVC"
      }
    },
    {
      "cell_type": "code",
      "source": [
        "# Test out the embedding layer, Conv1D layer and max pooling\n",
        "embedding_test = embedding(text_vectorizer(['this is a test sentence']))\n",
        "conv_1d = layers.Conv1D(filters=32,\n",
        "                        kernel_size=5,\n",
        "                        strides=1,\n",
        "                        activation='relu',\n",
        "                        padding='same')\n",
        "conv_1d_output = conv_1d(embedding_test)  # pass test ebedding to the conv1d layer\n",
        "max_pool = layers.GlobalMaxPooling1D()\n",
        "max_pool_output = max_pool(conv_1d_output)  # get the most important feature\n",
        "\n",
        "embedding_test.shape, conv_1d_output.shape, max_pool_output.shape"
      ],
      "metadata": {
        "colab": {
          "base_uri": "https://localhost:8080/"
        },
        "id": "P6hkoNmd0W-j",
        "outputId": "d1d73143-2653-437f-cc71-480963199057"
      },
      "execution_count": 74,
      "outputs": [
        {
          "output_type": "execute_result",
          "data": {
            "text/plain": [
              "(TensorShape([1, 15, 128]), TensorShape([1, 15, 32]), TensorShape([1, 32]))"
            ]
          },
          "metadata": {},
          "execution_count": 74
        }
      ]
    },
    {
      "cell_type": "code",
      "source": [
        "embedding_test"
      ],
      "metadata": {
        "colab": {
          "base_uri": "https://localhost:8080/"
        },
        "id": "4L8i5VeC19i3",
        "outputId": "c040e9ca-6873-4756-c7e7-10fe161a4a74"
      },
      "execution_count": 75,
      "outputs": [
        {
          "output_type": "execute_result",
          "data": {
            "text/plain": [
              "<tf.Tensor: shape=(1, 15, 128), dtype=float32, numpy=\n",
              "array([[[ 0.00512882, -0.08654398, -0.05369894, ..., -0.0137938 ,\n",
              "          0.00306223, -0.01618994],\n",
              "        [ 0.00143893, -0.05350533,  0.08724065, ..., -0.03096534,\n",
              "          0.04090209, -0.03460586],\n",
              "        [-0.015231  , -0.07970208, -0.01690694, ..., -0.02490725,\n",
              "         -0.00435862, -0.01266957],\n",
              "        ...,\n",
              "        [ 0.07067342, -0.06817597, -0.00477996, ..., -0.02967818,\n",
              "         -0.00214879, -0.03890475],\n",
              "        [ 0.07067342, -0.06817597, -0.00477996, ..., -0.02967818,\n",
              "         -0.00214879, -0.03890475],\n",
              "        [ 0.07067342, -0.06817597, -0.00477996, ..., -0.02967818,\n",
              "         -0.00214879, -0.03890475]]], dtype=float32)>"
            ]
          },
          "metadata": {},
          "execution_count": 75
        }
      ]
    },
    {
      "cell_type": "code",
      "source": [
        "conv_1d_output"
      ],
      "metadata": {
        "colab": {
          "base_uri": "https://localhost:8080/"
        },
        "id": "vUSzpPHS2avj",
        "outputId": "d287307b-278a-40e5-ea84-9676916ae095"
      },
      "execution_count": 76,
      "outputs": [
        {
          "output_type": "execute_result",
          "data": {
            "text/plain": [
              "<tf.Tensor: shape=(1, 15, 32), dtype=float32, numpy=\n",
              "array([[[0.        , 0.        , 0.        , 0.        , 0.01295389,\n",
              "         0.01381272, 0.02030746, 0.        , 0.08734667, 0.08817729,\n",
              "         0.        , 0.        , 0.05692339, 0.        , 0.02444499,\n",
              "         0.        , 0.00137386, 0.0009152 , 0.01018078, 0.00525055,\n",
              "         0.00346729, 0.        , 0.02685446, 0.02588347, 0.        ,\n",
              "         0.03276296, 0.0667178 , 0.        , 0.13913442, 0.        ,\n",
              "         0.        , 0.00852624],\n",
              "        [0.00795098, 0.        , 0.03141601, 0.        , 0.        ,\n",
              "         0.        , 0.05494271, 0.        , 0.        , 0.06546172,\n",
              "         0.01625365, 0.        , 0.02295608, 0.01065775, 0.0588729 ,\n",
              "         0.        , 0.07761824, 0.        , 0.02317763, 0.04539752,\n",
              "         0.        , 0.        , 0.09523603, 0.        , 0.        ,\n",
              "         0.03168216, 0.04951976, 0.        , 0.04648129, 0.        ,\n",
              "         0.03555238, 0.026187  ],\n",
              "        [0.        , 0.        , 0.06951462, 0.        , 0.        ,\n",
              "         0.        , 0.        , 0.00703718, 0.04239153, 0.04550924,\n",
              "         0.03428924, 0.        , 0.        , 0.        , 0.08606368,\n",
              "         0.        , 0.11298271, 0.00034039, 0.        , 0.02669581,\n",
              "         0.        , 0.01031179, 0.        , 0.        , 0.01071147,\n",
              "         0.01472517, 0.12917903, 0.03124344, 0.03464686, 0.        ,\n",
              "         0.        , 0.02690237],\n",
              "        [0.0102658 , 0.        , 0.08343758, 0.        , 0.        ,\n",
              "         0.02923552, 0.02578556, 0.00827593, 0.01965713, 0.07899217,\n",
              "         0.09024093, 0.        , 0.04198278, 0.0436017 , 0.01096949,\n",
              "         0.        , 0.06011252, 0.03801657, 0.        , 0.07746231,\n",
              "         0.03391843, 0.        , 0.        , 0.        , 0.00982463,\n",
              "         0.02232761, 0.10859191, 0.00093915, 0.02768521, 0.        ,\n",
              "         0.        , 0.07541564],\n",
              "        [0.        , 0.00809723, 0.03025045, 0.        , 0.        ,\n",
              "         0.06912835, 0.01485381, 0.        , 0.        , 0.05845817,\n",
              "         0.05499395, 0.        , 0.02422319, 0.02965167, 0.02801199,\n",
              "         0.0299898 , 0.06763542, 0.        , 0.        , 0.01826106,\n",
              "         0.00586844, 0.        , 0.        , 0.        , 0.        ,\n",
              "         0.09556258, 0.12051196, 0.06215475, 0.08731648, 0.        ,\n",
              "         0.        , 0.05249203],\n",
              "        [0.04809816, 0.        , 0.11763845, 0.        , 0.        ,\n",
              "         0.09707353, 0.02240392, 0.05453813, 0.        , 0.09855124,\n",
              "         0.03049216, 0.02339372, 0.06621675, 0.01509218, 0.        ,\n",
              "         0.        , 0.07738565, 0.        , 0.        , 0.01718983,\n",
              "         0.02598417, 0.        , 0.03681021, 0.        , 0.        ,\n",
              "         0.04261021, 0.14239737, 0.09600284, 0.13899487, 0.        ,\n",
              "         0.        , 0.08757387],\n",
              "        [0.10607652, 0.04599695, 0.12932634, 0.        , 0.        ,\n",
              "         0.07501435, 0.        , 0.04664346, 0.        , 0.09055254,\n",
              "         0.1249997 , 0.        , 0.07013492, 0.        , 0.        ,\n",
              "         0.        , 0.08502784, 0.        , 0.        , 0.01771092,\n",
              "         0.        , 0.        , 0.04237141, 0.        , 0.        ,\n",
              "         0.07405581, 0.14989644, 0.10612688, 0.11664717, 0.        ,\n",
              "         0.        , 0.11912954],\n",
              "        [0.06037487, 0.05904032, 0.12011607, 0.        , 0.        ,\n",
              "         0.0906673 , 0.        , 0.0523059 , 0.        , 0.07014482,\n",
              "         0.11510596, 0.        , 0.06944297, 0.        , 0.        ,\n",
              "         0.        , 0.13722005, 0.        , 0.        , 0.00784224,\n",
              "         0.01242895, 0.        , 0.0455744 , 0.        , 0.        ,\n",
              "         0.03948746, 0.14995965, 0.08703498, 0.0800525 , 0.        ,\n",
              "         0.        , 0.08733559],\n",
              "        [0.06037487, 0.05904032, 0.12011607, 0.        , 0.        ,\n",
              "         0.0906673 , 0.        , 0.0523059 , 0.        , 0.07014482,\n",
              "         0.11510596, 0.        , 0.06944297, 0.        , 0.        ,\n",
              "         0.        , 0.13722005, 0.        , 0.        , 0.00784224,\n",
              "         0.01242895, 0.        , 0.0455744 , 0.        , 0.        ,\n",
              "         0.03948746, 0.14995965, 0.08703498, 0.0800525 , 0.        ,\n",
              "         0.        , 0.08733559],\n",
              "        [0.06037487, 0.05904032, 0.12011607, 0.        , 0.        ,\n",
              "         0.0906673 , 0.        , 0.0523059 , 0.        , 0.07014482,\n",
              "         0.11510596, 0.        , 0.06944297, 0.        , 0.        ,\n",
              "         0.        , 0.13722005, 0.        , 0.        , 0.00784224,\n",
              "         0.01242895, 0.        , 0.0455744 , 0.        , 0.        ,\n",
              "         0.03948746, 0.14995965, 0.08703498, 0.0800525 , 0.        ,\n",
              "         0.        , 0.08733559],\n",
              "        [0.06037487, 0.05904032, 0.12011607, 0.        , 0.        ,\n",
              "         0.0906673 , 0.        , 0.0523059 , 0.        , 0.07014482,\n",
              "         0.11510596, 0.        , 0.06944297, 0.        , 0.        ,\n",
              "         0.        , 0.13722005, 0.        , 0.        , 0.00784224,\n",
              "         0.01242895, 0.        , 0.0455744 , 0.        , 0.        ,\n",
              "         0.03948746, 0.14995965, 0.08703498, 0.0800525 , 0.        ,\n",
              "         0.        , 0.08733559],\n",
              "        [0.06037487, 0.05904032, 0.12011607, 0.        , 0.        ,\n",
              "         0.0906673 , 0.        , 0.0523059 , 0.        , 0.07014482,\n",
              "         0.11510596, 0.        , 0.06944297, 0.        , 0.        ,\n",
              "         0.        , 0.13722005, 0.        , 0.        , 0.00784224,\n",
              "         0.01242895, 0.        , 0.0455744 , 0.        , 0.        ,\n",
              "         0.03948746, 0.14995965, 0.08703498, 0.0800525 , 0.        ,\n",
              "         0.        , 0.08733559],\n",
              "        [0.06037487, 0.05904032, 0.12011607, 0.        , 0.        ,\n",
              "         0.0906673 , 0.        , 0.0523059 , 0.        , 0.07014482,\n",
              "         0.11510596, 0.        , 0.06944297, 0.        , 0.        ,\n",
              "         0.        , 0.13722005, 0.        , 0.        , 0.00784224,\n",
              "         0.01242895, 0.        , 0.0455744 , 0.        , 0.        ,\n",
              "         0.03948746, 0.14995965, 0.08703498, 0.0800525 , 0.        ,\n",
              "         0.        , 0.08733559],\n",
              "        [0.07227401, 0.06626344, 0.13141221, 0.        , 0.        ,\n",
              "         0.10676078, 0.        , 0.03769802, 0.        , 0.03752789,\n",
              "         0.10156641, 0.        , 0.03640427, 0.        , 0.        ,\n",
              "         0.        , 0.07772421, 0.        , 0.00579689, 0.02561951,\n",
              "         0.        , 0.        , 0.09085225, 0.        , 0.        ,\n",
              "         0.01808435, 0.13632672, 0.06698409, 0.01979164, 0.        ,\n",
              "         0.00259775, 0.05030582],\n",
              "        [0.03142293, 0.06280772, 0.10128112, 0.        , 0.        ,\n",
              "         0.0451173 , 0.        , 0.02069035, 0.        , 0.01780654,\n",
              "         0.05068725, 0.        , 0.00449428, 0.01546358, 0.        ,\n",
              "         0.        , 0.09907489, 0.        , 0.03031671, 0.02270398,\n",
              "         0.        , 0.        , 0.06771536, 0.        , 0.        ,\n",
              "         0.00643213, 0.09135043, 0.01853513, 0.        , 0.00354173,\n",
              "         0.00258009, 0.04259971]]], dtype=float32)>"
            ]
          },
          "metadata": {},
          "execution_count": 76
        }
      ]
    },
    {
      "cell_type": "code",
      "source": [
        "max_pool_output"
      ],
      "metadata": {
        "colab": {
          "base_uri": "https://localhost:8080/"
        },
        "id": "mQHZFFLn2cjw",
        "outputId": "58dcb560-0690-4f03-8a40-9c47b17dd86a"
      },
      "execution_count": 77,
      "outputs": [
        {
          "output_type": "execute_result",
          "data": {
            "text/plain": [
              "<tf.Tensor: shape=(1, 32), dtype=float32, numpy=\n",
              "array([[0.10607652, 0.06626344, 0.13141221, 0.        , 0.01295389,\n",
              "        0.10676078, 0.05494271, 0.05453813, 0.08734667, 0.09855124,\n",
              "        0.1249997 , 0.02339372, 0.07013492, 0.0436017 , 0.08606368,\n",
              "        0.0299898 , 0.13722005, 0.03801657, 0.03031671, 0.07746231,\n",
              "        0.03391843, 0.01031179, 0.09523603, 0.02588347, 0.01071147,\n",
              "        0.09556258, 0.14995965, 0.10612688, 0.13913442, 0.00354173,\n",
              "        0.03555238, 0.11912954]], dtype=float32)>"
            ]
          },
          "metadata": {},
          "execution_count": 77
        }
      ]
    },
    {
      "cell_type": "code",
      "source": [
        "# Create 1D convolutional layer to model sequences\n",
        "from tensorflow.keras import layers\n",
        "inputs = layers.Input(shape=(1,), dtype=tf.string)\n",
        "x = text_vectorizer(inputs)\n",
        "x = embedding(x)\n",
        "x = layers.Conv1D(filters=64, kernel_size=5, strides=1, activation='relu', padding='valid')(x)\n",
        "x = layers.GlobalMaxPooling1D()(x)\n",
        "\n",
        "outputs = layers.Dense(1, activation='sigmoid')(x)\n",
        "model_5 = tf.keras.Model(inputs, outputs, name='model_5_Conv1D')"
      ],
      "metadata": {
        "id": "89HJ5FJN2dv4"
      },
      "execution_count": 78,
      "outputs": []
    },
    {
      "cell_type": "code",
      "source": [
        "# Compile the model\n",
        "model_5.compile(loss='binary_crossentropy',\n",
        "                optimizer=tf.keras.optimizers.Adam(),\n",
        "                metrics=['accuracy'])"
      ],
      "metadata": {
        "id": "oktUzveT3Kpm"
      },
      "execution_count": 79,
      "outputs": []
    },
    {
      "cell_type": "code",
      "source": [
        "# Fit the model\n",
        "model_5_history = model_5.fit(train_sentences,\n",
        "                              train_labels,\n",
        "                              epochs=5,\n",
        "                              validation_data=(val_sentences, val_labels),\n",
        "                              callbacks=[create_tensorboard_callback(dir_name=SAVE_DIR,\n",
        "                                                                     experiment_name=\"model_conv1d\")])"
      ],
      "metadata": {
        "colab": {
          "base_uri": "https://localhost:8080/"
        },
        "id": "a3TsTd6b3gQy",
        "outputId": "b5a0e91e-44df-4620-c6fc-85f1b7a07f53"
      },
      "execution_count": 80,
      "outputs": [
        {
          "output_type": "stream",
          "name": "stdout",
          "text": [
            "Saving TensorBoard log files to: model_logs/model_conv1d/20231128-053904\n",
            "Epoch 1/5\n",
            "215/215 [==============================] - 10s 34ms/step - loss: 0.1519 - accuracy: 0.9545 - val_loss: 0.8476 - val_accuracy: 0.7638\n",
            "Epoch 2/5\n",
            "215/215 [==============================] - 2s 11ms/step - loss: 0.0774 - accuracy: 0.9726 - val_loss: 0.9478 - val_accuracy: 0.7612\n",
            "Epoch 3/5\n",
            "215/215 [==============================] - 3s 14ms/step - loss: 0.0627 - accuracy: 0.9759 - val_loss: 1.0676 - val_accuracy: 0.7467\n",
            "Epoch 4/5\n",
            "215/215 [==============================] - 2s 7ms/step - loss: 0.0561 - accuracy: 0.9778 - val_loss: 1.1142 - val_accuracy: 0.7559\n",
            "Epoch 5/5\n",
            "215/215 [==============================] - 1s 6ms/step - loss: 0.0512 - accuracy: 0.9800 - val_loss: 1.1591 - val_accuracy: 0.7598\n"
          ]
        }
      ]
    },
    {
      "cell_type": "code",
      "source": [
        "# Make some predictions with the model\n",
        "model_5_pred_probs = model_5.predict(val_sentences)\n",
        "model_5_pred_probs[:10]"
      ],
      "metadata": {
        "colab": {
          "base_uri": "https://localhost:8080/"
        },
        "id": "fRNBSAET3y61",
        "outputId": "8921d8fa-fb16-4638-e93e-036c3ca5f197"
      },
      "execution_count": 81,
      "outputs": [
        {
          "output_type": "stream",
          "name": "stdout",
          "text": [
            "24/24 [==============================] - 0s 2ms/step\n"
          ]
        },
        {
          "output_type": "execute_result",
          "data": {
            "text/plain": [
              "array([[2.2515774e-02],\n",
              "       [6.5290678e-01],\n",
              "       [9.9993169e-01],\n",
              "       [5.5508364e-02],\n",
              "       [1.8962091e-05],\n",
              "       [9.7458827e-01],\n",
              "       [4.0774578e-01],\n",
              "       [9.9994707e-01],\n",
              "       [9.9999928e-01],\n",
              "       [6.3377607e-01]], dtype=float32)"
            ]
          },
          "metadata": {},
          "execution_count": 81
        }
      ]
    },
    {
      "cell_type": "code",
      "source": [
        "# Convert the pred probs to pred labels\n",
        "model_5_preds = tf.squeeze(tf.round(model_5_pred_probs))\n",
        "model_5_preds[:10]"
      ],
      "metadata": {
        "colab": {
          "base_uri": "https://localhost:8080/"
        },
        "id": "gRSnr6I33-vB",
        "outputId": "678c46d6-879f-4c29-81bb-0c874d0bf52c"
      },
      "execution_count": 82,
      "outputs": [
        {
          "output_type": "execute_result",
          "data": {
            "text/plain": [
              "<tf.Tensor: shape=(10,), dtype=float32, numpy=array([0., 1., 1., 0., 0., 1., 0., 1., 1., 1.], dtype=float32)>"
            ]
          },
          "metadata": {},
          "execution_count": 82
        }
      ]
    },
    {
      "cell_type": "code",
      "source": [
        "# Calculate the metrics of the model\n",
        "model_5_results = calculate_results(y_true=val_labels,\n",
        "                                    y_pred=model_5_preds)\n",
        "model_5_results"
      ],
      "metadata": {
        "colab": {
          "base_uri": "https://localhost:8080/"
        },
        "id": "ibmpwj9G4IgU",
        "outputId": "ff4d958a-dadc-4bd5-9eec-3256a423dd0b"
      },
      "execution_count": 83,
      "outputs": [
        {
          "output_type": "execute_result",
          "data": {
            "text/plain": [
              "{'accuracy': 75.98425196850394,\n",
              " 'precision': 0.7618096125081139,\n",
              " 'recall': 0.7598425196850394,\n",
              " 'f1': 0.7573149475055201}"
            ]
          },
          "metadata": {},
          "execution_count": 83
        }
      ]
    },
    {
      "cell_type": "markdown",
      "source": [
        "### Model 6: Tensorflow pretrained sentence encoder\n",
        "\n",
        "These models use models to convert text vectors into embedding specifically for transfer learning use cases models.\n",
        "\n",
        "Now, here we will be using transfer learning to make the model, and to make the appropriate embeddings, we use the Universal Sentence Encoder."
      ],
      "metadata": {
        "id": "UjTOH9mV4gqM"
      }
    },
    {
      "cell_type": "code",
      "source": [
        "import tensorflow_hub as hub\n",
        "embed = hub.load(\"https://tfhub.dev/google/universal-sentence-encoder/4\")\n",
        "embed_samples = embed([sample_sentence,\n",
        "                       \"When you call the universal sentence encoder, it turns it into numbers\"])\n",
        "print(embed_samples[0][:50])"
      ],
      "metadata": {
        "id": "YT7gtN_G4UPq",
        "colab": {
          "base_uri": "https://localhost:8080/"
        },
        "outputId": "088b6e62-c38b-4ef7-cc69-c8ad53943e7b"
      },
      "execution_count": 84,
      "outputs": [
        {
          "output_type": "stream",
          "name": "stdout",
          "text": [
            "tf.Tensor(\n",
            "[-0.04195761  0.01448233  0.03811393 -0.02507444  0.04077666  0.07795869\n",
            "  0.04199173  0.05247651 -0.04070274 -0.00890977  0.02678443 -0.02073738\n",
            "  0.01118131  0.06789536  0.0763573  -0.06084415  0.00145462  0.00093975\n",
            "  0.00703738 -0.07087917 -0.03311571  0.01620873  0.03166531 -0.01950877\n",
            " -0.01068787 -0.04364767  0.03982859 -0.01216184 -0.05386613 -0.03037461\n",
            " -0.02969088  0.02935772 -0.01132808 -0.04172488 -0.03347364 -0.05229723\n",
            "  0.01765949  0.04465571 -0.02045176 -0.08578271  0.03766033  0.01455866\n",
            " -0.03878372  0.04793072 -0.10389557 -0.05626433  0.00610666  0.02306213\n",
            " -0.04303341  0.04568392], shape=(50,), dtype=float32)\n"
          ]
        }
      ]
    },
    {
      "cell_type": "code",
      "source": [
        "embed_samples[0].shape"
      ],
      "metadata": {
        "id": "z3bZvUnJ9kHS",
        "colab": {
          "base_uri": "https://localhost:8080/"
        },
        "outputId": "f5e6021a-a70e-4178-d9f1-4dddd0b9729c"
      },
      "execution_count": 86,
      "outputs": [
        {
          "output_type": "execute_result",
          "data": {
            "text/plain": [
              "TensorShape([512])"
            ]
          },
          "metadata": {},
          "execution_count": 86
        }
      ]
    },
    {
      "cell_type": "code",
      "source": [
        "# Create a keras layer using the USE pretrained layer from hub\n",
        "# NOTE - the output will always be 512 feature vector\n",
        "sentence_encoder_layer = hub.KerasLayer(\"https://tfhub.dev/google/universal-sentence-encoder/4\",\n",
        "                                        input_shape=[],   # blank, since the texxt is of variable length, it will take any variable length\n",
        "                                        dtype = tf.string,\n",
        "                                        trainable = False,\n",
        "                                        name = \"USE\")"
      ],
      "metadata": {
        "id": "vTkMNLiI9eYp"
      },
      "execution_count": 87,
      "outputs": []
    },
    {
      "cell_type": "code",
      "source": [
        "# Create model usign the Sequential API\n",
        "model_6 = tf.keras.Sequential([\n",
        "    sentence_encoder_layer,    # This layer will perform text_vectorizer and other preprocess itself\n",
        "    layers.Dense(64, activation = 'relu'),\n",
        "    layers.Dense(1, activation='sigmoid')\n",
        "], name = \"model_6_USE\")"
      ],
      "metadata": {
        "id": "F_hTgE509eVI"
      },
      "execution_count": 97,
      "outputs": []
    },
    {
      "cell_type": "code",
      "source": [
        "# Compile the model\n",
        "model_6.compile(loss='binary_crossentropy',\n",
        "                optimizer=tf.keras.optimizers.Adam(),\n",
        "                metrics=['accuracy'])\n",
        "\n",
        "# Get the model summary\n",
        "model_6.summary()"
      ],
      "metadata": {
        "id": "fl1OPNai9eTa",
        "colab": {
          "base_uri": "https://localhost:8080/"
        },
        "outputId": "33df0789-bd19-4da6-c1b5-c333edb5e445"
      },
      "execution_count": 98,
      "outputs": [
        {
          "output_type": "stream",
          "name": "stdout",
          "text": [
            "Model: \"model_6_USE\"\n",
            "_________________________________________________________________\n",
            " Layer (type)                Output Shape              Param #   \n",
            "=================================================================\n",
            " USE (KerasLayer)            (None, 512)               256797824 \n",
            "                                                                 \n",
            " dense_7 (Dense)             (None, 64)                32832     \n",
            "                                                                 \n",
            " dense_8 (Dense)             (None, 1)                 65        \n",
            "                                                                 \n",
            "=================================================================\n",
            "Total params: 256830721 (979.73 MB)\n",
            "Trainable params: 32897 (128.50 KB)\n",
            "Non-trainable params: 256797824 (979.61 MB)\n",
            "_________________________________________________________________\n"
          ]
        }
      ]
    },
    {
      "cell_type": "code",
      "source": [
        "# Train a classifier on top of USE pretrained embeddings\n",
        "model_6_history = model_6.fit(train_sentences,\n",
        "                              train_labels,\n",
        "                              epochs=5,\n",
        "                              validation_data=(val_sentences, val_labels),\n",
        "                              callbacks=[create_tensorboard_callback(SAVE_DIR,\n",
        "                                                                     \"tf_hub_sentence_encoder\")])\n"
      ],
      "metadata": {
        "colab": {
          "base_uri": "https://localhost:8080/"
        },
        "id": "NOr2LSVmokXm",
        "outputId": "b47f995b-3ae0-4a1d-c6c8-3d2693091603"
      },
      "execution_count": 99,
      "outputs": [
        {
          "output_type": "stream",
          "name": "stdout",
          "text": [
            "Saving TensorBoard log files to: model_logs/tf_hub_sentence_encoder/20231128-063821\n",
            "Epoch 1/5\n",
            "215/215 [==============================] - 5s 16ms/step - loss: 0.5127 - accuracy: 0.7778 - val_loss: 0.4483 - val_accuracy: 0.8018\n",
            "Epoch 2/5\n",
            "215/215 [==============================] - 3s 13ms/step - loss: 0.4152 - accuracy: 0.8184 - val_loss: 0.4429 - val_accuracy: 0.8005\n",
            "Epoch 3/5\n",
            "215/215 [==============================] - 4s 20ms/step - loss: 0.4011 - accuracy: 0.8199 - val_loss: 0.4344 - val_accuracy: 0.8084\n",
            "Epoch 4/5\n",
            "215/215 [==============================] - 3s 13ms/step - loss: 0.3933 - accuracy: 0.8238 - val_loss: 0.4279 - val_accuracy: 0.8176\n",
            "Epoch 5/5\n",
            "215/215 [==============================] - 3s 13ms/step - loss: 0.3854 - accuracy: 0.8310 - val_loss: 0.4245 - val_accuracy: 0.8189\n"
          ]
        }
      ]
    },
    {
      "cell_type": "code",
      "source": [
        "# Make prediction usign the model\n",
        "model_6_pred_probs = model_6.predict(val_sentences)\n",
        "model_6_pred_probs[:10]"
      ],
      "metadata": {
        "colab": {
          "base_uri": "https://localhost:8080/"
        },
        "id": "NV_tasrGo0f_",
        "outputId": "00ff6f22-f2d6-434e-afd4-3b0a4b9bda4b"
      },
      "execution_count": 100,
      "outputs": [
        {
          "output_type": "stream",
          "name": "stdout",
          "text": [
            "24/24 [==============================] - 1s 13ms/step\n"
          ]
        },
        {
          "output_type": "execute_result",
          "data": {
            "text/plain": [
              "array([[0.19256644],\n",
              "       [0.81325495],\n",
              "       [0.9906094 ],\n",
              "       [0.21415965],\n",
              "       [0.7689663 ],\n",
              "       [0.74707013],\n",
              "       [0.98651516],\n",
              "       [0.9785048 ],\n",
              "       [0.9648515 ],\n",
              "       [0.09514924]], dtype=float32)"
            ]
          },
          "metadata": {},
          "execution_count": 100
        }
      ]
    },
    {
      "cell_type": "code",
      "source": [
        "# Convert prediction probabilities into labels\n",
        "model_6_preds = tf.squeeze(tf.round(model_6_pred_probs))"
      ],
      "metadata": {
        "id": "rwcH_to6pBqc"
      },
      "execution_count": 101,
      "outputs": []
    },
    {
      "cell_type": "code",
      "source": [
        "# Calculate model 6 performance metrics\n",
        "model_6_results = calculate_results(y_true = val_labels,\n",
        "                                    y_pred = model_6_preds)\n",
        "model_6_results"
      ],
      "metadata": {
        "colab": {
          "base_uri": "https://localhost:8080/"
        },
        "id": "i9v-YmdDpL9V",
        "outputId": "d620d3de-e06c-43df-ceb4-cbcb99838af6"
      },
      "execution_count": 102,
      "outputs": [
        {
          "output_type": "execute_result",
          "data": {
            "text/plain": [
              "{'accuracy': 81.88976377952756,\n",
              " 'precision': 0.8194821765774754,\n",
              " 'recall': 0.8188976377952756,\n",
              " 'f1': 0.8180640338279949}"
            ]
          },
          "metadata": {},
          "execution_count": 102
        }
      ]
    },
    {
      "cell_type": "code",
      "source": [
        "baseline_results"
      ],
      "metadata": {
        "colab": {
          "base_uri": "https://localhost:8080/"
        },
        "id": "_Se2Vsw-pXKI",
        "outputId": "f1c04bea-7298-4cdd-ae30-1ef0e1b6aaa5"
      },
      "execution_count": 103,
      "outputs": [
        {
          "output_type": "execute_result",
          "data": {
            "text/plain": [
              "{'accuracy': 79.26509186351706,\n",
              " 'precision': 0.8111390004213173,\n",
              " 'recall': 0.7926509186351706,\n",
              " 'f1': 0.7862189758049549}"
            ]
          },
          "metadata": {},
          "execution_count": 103
        }
      ]
    },
    {
      "cell_type": "code",
      "source": [
        "np.array(list(model_6_results.values())) > np.array(list(baseline_results.values()))"
      ],
      "metadata": {
        "colab": {
          "base_uri": "https://localhost:8080/"
        },
        "id": "XokY1HGvpYaE",
        "outputId": "23358681-cc0a-491b-c965-349a1b4b2a80"
      },
      "execution_count": 107,
      "outputs": [
        {
          "output_type": "execute_result",
          "data": {
            "text/plain": [
              "array([ True,  True,  True,  True])"
            ]
          },
          "metadata": {},
          "execution_count": 107
        }
      ]
    },
    {
      "cell_type": "code",
      "source": [],
      "metadata": {
        "id": "u8n_WO5dpfI5"
      },
      "execution_count": null,
      "outputs": []
    },
    {
      "cell_type": "markdown",
      "source": [
        "### Model 7: TF Hub pretrained USE but with 10% of the training data\n",
        "\n",
        "Now, replicating `model_6`, but training it on 10% of the data, to check the possibilities and capabilities of the transfer learning pretrained models."
      ],
      "metadata": {
        "id": "J3yyA3gsqJnW"
      }
    },
    {
      "cell_type": "markdown",
      "source": [
        "#### Creating 10% training data\n",
        "\n",
        "`NOTE`: The method given below to get 10% of the training data causes a case of data leakage, thus the predictions and evaluation that is done is wrong.\n",
        "Therefore,going along with this method is not recommended."
      ],
      "metadata": {
        "id": "R19I-6IGvj3Z"
      }
    },
    {
      "cell_type": "code",
      "source": [
        "# Create subsets of 10% of the training data\n",
        "train_10_percent = train_df_shuffled[[\"text\", \"target\"]].sample(frac=0.1, random_state = 42)\n",
        "train_10_percent.head(), len(train_10_percent)"
      ],
      "metadata": {
        "colab": {
          "base_uri": "https://localhost:8080/"
        },
        "id": "vZp84oCKqY-Y",
        "outputId": "511f3a4c-6690-42c0-e4e4-f6db3dd7b821"
      },
      "execution_count": 109,
      "outputs": [
        {
          "output_type": "execute_result",
          "data": {
            "text/plain": [
              "(                                                   text  target\n",
              " 4955  DFR EP016 Monthly Meltdown - On Dnbheaven 2015...       0\n",
              " 584   FedEx no longer to transport bioterror germs i...       0\n",
              " 7411  Gunmen kill four in El Salvador bus attack: Su...       1\n",
              " 5950  @camilacabello97 Internally and externally scr...       1\n",
              " 5541  Radiation emergency #preparedness starts with ...       1,\n",
              " 761)"
            ]
          },
          "metadata": {},
          "execution_count": 109
        }
      ]
    },
    {
      "cell_type": "code",
      "source": [
        "len(train_df_shuffled)"
      ],
      "metadata": {
        "colab": {
          "base_uri": "https://localhost:8080/"
        },
        "id": "oYBH026bqpnB",
        "outputId": "10946922-39c3-4194-9b9a-ed09a58fdf38"
      },
      "execution_count": 110,
      "outputs": [
        {
          "output_type": "execute_result",
          "data": {
            "text/plain": [
              "7613"
            ]
          },
          "metadata": {},
          "execution_count": 110
        }
      ]
    },
    {
      "cell_type": "code",
      "source": [
        "train_sentences_10_percent = train_10_percent[\"text\"].to_list()\n",
        "train_labels_10_percent = train_10_percent[\"target\"].to_list()\n",
        "\n",
        "print(len(train_sentences_10_percent), len(train_labels_10_percent))"
      ],
      "metadata": {
        "colab": {
          "base_uri": "https://localhost:8080/"
        },
        "id": "x6llzYpeqtUp",
        "outputId": "d42a0604-3964-42b3-ced0-aec3599e1c8f"
      },
      "execution_count": 111,
      "outputs": [
        {
          "output_type": "stream",
          "name": "stdout",
          "text": [
            "761 761\n"
          ]
        }
      ]
    },
    {
      "cell_type": "code",
      "source": [
        "# Check number of targets in the 10% data\n",
        "train_10_percent['target'].value_counts()"
      ],
      "metadata": {
        "colab": {
          "base_uri": "https://localhost:8080/"
        },
        "id": "YZ-LNnhkq4Mz",
        "outputId": "6717a14e-b12b-4598-fa81-63af7b57727a"
      },
      "execution_count": 112,
      "outputs": [
        {
          "output_type": "execute_result",
          "data": {
            "text/plain": [
              "0    413\n",
              "1    348\n",
              "Name: target, dtype: int64"
            ]
          },
          "metadata": {},
          "execution_count": 112
        }
      ]
    },
    {
      "cell_type": "code",
      "source": [
        "# Check number of targets in the 100% data\n",
        "train_df_shuffled['target'].value_counts()"
      ],
      "metadata": {
        "colab": {
          "base_uri": "https://localhost:8080/"
        },
        "id": "BkEk3pk0q--c",
        "outputId": "99c9759a-7d20-4017-9eb4-a14dbfb643a1"
      },
      "execution_count": 113,
      "outputs": [
        {
          "output_type": "execute_result",
          "data": {
            "text/plain": [
              "0    4342\n",
              "1    3271\n",
              "Name: target, dtype: int64"
            ]
          },
          "metadata": {},
          "execution_count": 113
        }
      ]
    },
    {
      "cell_type": "code",
      "source": [],
      "metadata": {
        "id": "x4gw16OrrBre"
      },
      "execution_count": null,
      "outputs": []
    },
    {
      "cell_type": "markdown",
      "source": [
        "#### Now, creating the model_7\n",
        "\n",
        "Here, using `tf.keras.models.clone_model()` method, since we will be usign the same model as model_6 for this experiment."
      ],
      "metadata": {
        "id": "vjJWl0nprOh9"
      }
    },
    {
      "cell_type": "code",
      "source": [
        "# Create same model as model_6\n",
        "# Using the clone_model method\n",
        "model_7 = tf.keras.models.clone_model(model_6)\n",
        "model_7._name = \"model_7_pretrained_use_10_percent\"\n",
        "\n",
        "# Compile the model\n",
        "model_7.compile(loss=\"binary_crossentropy\",\n",
        "                optimizer=tf.keras.optimizers.Adam(),\n",
        "                metrics=['accuracy'])\n",
        "\n",
        "# Get the summary of the model\n",
        "model_7.summary()"
      ],
      "metadata": {
        "colab": {
          "base_uri": "https://localhost:8080/"
        },
        "id": "N-HBSGV9rai_",
        "outputId": "2635d201-0e94-4f44-b0db-2b2ed04021fe"
      },
      "execution_count": 117,
      "outputs": [
        {
          "output_type": "stream",
          "name": "stdout",
          "text": [
            "Model: \"model_7_pretrained_use_10_percent\"\n",
            "_________________________________________________________________\n",
            " Layer (type)                Output Shape              Param #   \n",
            "=================================================================\n",
            " USE (KerasLayer)            (None, 512)               256797824 \n",
            "                                                                 \n",
            " dense_7 (Dense)             (None, 64)                32832     \n",
            "                                                                 \n",
            " dense_8 (Dense)             (None, 1)                 65        \n",
            "                                                                 \n",
            "=================================================================\n",
            "Total params: 256830721 (979.73 MB)\n",
            "Trainable params: 32897 (128.50 KB)\n",
            "Non-trainable params: 256797824 (979.61 MB)\n",
            "_________________________________________________________________\n"
          ]
        }
      ]
    },
    {
      "cell_type": "code",
      "source": [
        "# Fit the model to the 10% traininng data\n",
        "model_7_history = model_7.fit(train_sentences_10_percent,\n",
        "                              train_labels_10_percent,\n",
        "                              epochs=5,\n",
        "                              validation_data=(val_sentences, val_labels),\n",
        "                              callbacks=[create_tensorboard_callback(SAVE_DIR,\n",
        "                                                                     \"model_7_10_percent_data\")])"
      ],
      "metadata": {
        "colab": {
          "base_uri": "https://localhost:8080/"
        },
        "id": "Y_A7lXg9rwhi",
        "outputId": "3d06cd6d-0b39-444d-ebc0-e6296a14a95e"
      },
      "execution_count": 118,
      "outputs": [
        {
          "output_type": "stream",
          "name": "stdout",
          "text": [
            "Saving TensorBoard log files to: model_logs/model_7_10_percent_data/20231128-065118\n",
            "Epoch 1/5\n",
            "24/24 [==============================] - 5s 78ms/step - loss: 0.6687 - accuracy: 0.7122 - val_loss: 0.6315 - val_accuracy: 0.8045\n",
            "Epoch 2/5\n",
            "24/24 [==============================] - 1s 48ms/step - loss: 0.6000 - accuracy: 0.8003 - val_loss: 0.5526 - val_accuracy: 0.8110\n",
            "Epoch 3/5\n",
            "24/24 [==============================] - 1s 32ms/step - loss: 0.5236 - accuracy: 0.7963 - val_loss: 0.4860 - val_accuracy: 0.8123\n",
            "Epoch 4/5\n",
            "24/24 [==============================] - 1s 39ms/step - loss: 0.4683 - accuracy: 0.8121 - val_loss: 0.4402 - val_accuracy: 0.8150\n",
            "Epoch 5/5\n",
            "24/24 [==============================] - 1s 50ms/step - loss: 0.4309 - accuracy: 0.8173 - val_loss: 0.4102 - val_accuracy: 0.8241\n"
          ]
        }
      ]
    },
    {
      "cell_type": "code",
      "source": [
        "# Make predictions with the model_7\n",
        "model_7_pred_probs = model_7.predict(val_sentences)\n",
        "model_7_pred_probs[:10]"
      ],
      "metadata": {
        "colab": {
          "base_uri": "https://localhost:8080/"
        },
        "id": "yIFgQiP3sGsu",
        "outputId": "5e730630-4de6-4719-813b-0f92b99e8a31"
      },
      "execution_count": 119,
      "outputs": [
        {
          "output_type": "stream",
          "name": "stdout",
          "text": [
            "24/24 [==============================] - 2s 20ms/step\n"
          ]
        },
        {
          "output_type": "execute_result",
          "data": {
            "text/plain": [
              "array([[0.26045144],\n",
              "       [0.81205356],\n",
              "       [0.9021843 ],\n",
              "       [0.31554914],\n",
              "       [0.7942119 ],\n",
              "       [0.8490704 ],\n",
              "       [0.8922181 ],\n",
              "       [0.93564576],\n",
              "       [0.84692776],\n",
              "       [0.07324676]], dtype=float32)"
            ]
          },
          "metadata": {},
          "execution_count": 119
        }
      ]
    },
    {
      "cell_type": "code",
      "source": [
        "# Convert prediction probs to labels\n",
        "model_7_preds = tf.squeeze(tf.round(model_7_pred_probs))\n",
        "model_7_preds[:10]"
      ],
      "metadata": {
        "colab": {
          "base_uri": "https://localhost:8080/"
        },
        "id": "BN2yXrbVssjM",
        "outputId": "e81f2dbb-4527-4778-e65c-287323f7d936"
      },
      "execution_count": 120,
      "outputs": [
        {
          "output_type": "execute_result",
          "data": {
            "text/plain": [
              "<tf.Tensor: shape=(10,), dtype=float32, numpy=array([0., 1., 1., 0., 1., 1., 1., 1., 1., 0.], dtype=float32)>"
            ]
          },
          "metadata": {},
          "execution_count": 120
        }
      ]
    },
    {
      "cell_type": "code",
      "source": [
        "# Evaluate the model_7\n",
        "model_7_results = calculate_results(y_true = val_labels,\n",
        "                                    y_pred = model_7_preds)\n",
        "model_7_results"
      ],
      "metadata": {
        "colab": {
          "base_uri": "https://localhost:8080/"
        },
        "id": "eXoUeEYKszqt",
        "outputId": "9c129f27-788b-43a1-aa6a-6bd66d497029"
      },
      "execution_count": 122,
      "outputs": [
        {
          "output_type": "execute_result",
          "data": {
            "text/plain": [
              "{'accuracy': 82.41469816272966,\n",
              " 'precision': 0.8239682331770604,\n",
              " 'recall': 0.8241469816272966,\n",
              " 'f1': 0.8239144964411961}"
            ]
          },
          "metadata": {},
          "execution_count": 122
        }
      ]
    },
    {
      "cell_type": "code",
      "source": [
        "model_6_results"
      ],
      "metadata": {
        "colab": {
          "base_uri": "https://localhost:8080/"
        },
        "id": "kw8LU6Sts-ER",
        "outputId": "154f7c0c-342d-4e2e-c6cf-a8bef64519ce"
      },
      "execution_count": 123,
      "outputs": [
        {
          "output_type": "execute_result",
          "data": {
            "text/plain": [
              "{'accuracy': 81.88976377952756,\n",
              " 'precision': 0.8194821765774754,\n",
              " 'recall': 0.8188976377952756,\n",
              " 'f1': 0.8180640338279949}"
            ]
          },
          "metadata": {},
          "execution_count": 123
        }
      ]
    },
    {
      "cell_type": "code",
      "source": [
        "np.array(list(model_7_results.values())) > np.array(list(model_6_results.values()))"
      ],
      "metadata": {
        "colab": {
          "base_uri": "https://localhost:8080/"
        },
        "id": "pUHcddvAtBR4",
        "outputId": "1cacd4ac-37d6-43d1-a258-b52c159eceb9"
      },
      "execution_count": 124,
      "outputs": [
        {
          "output_type": "execute_result",
          "data": {
            "text/plain": [
              "array([ True,  True,  True,  True])"
            ]
          },
          "metadata": {},
          "execution_count": 124
        }
      ]
    },
    {
      "cell_type": "markdown",
      "source": [
        "Here, we can see that the model_7 performs better than model_6 (even though they are the same), when trained with lesser amount of data.\n",
        "\n",
        "This case is a faulty case (very rare occurances) which should not occur, since with more data, the network should perform better.\n",
        "\n",
        "Here, we can see that the network performs better with the lesser data.\n",
        "\n",
        "Therefore, there is a need for troubleshooting and some more evaluation of the model\n"
      ],
      "metadata": {
        "id": "aFFgbsCrtiLj"
      }
    },
    {
      "cell_type": "markdown",
      "source": [
        "Here, we see that the `val_sentences` and the `train_data_10_percent` we create, we both taken from the same `train_df_shuffled`.\n",
        "\n",
        "`val_sentences` - obtained after train-test-split\n",
        "\n",
        "`train_data_10_percent` - obtained from 10% random sampling of the train_df_shuffled data.\n",
        "\n",
        "Thus, since we are using the data from same sources, therfore here we have a data leakage problem.\n",
        "\n",
        "Since some amount of data present in `train_data_10_percent` is also present in `val_sentences`. Thus, the prediction of the same data will always be on the correct side."
      ],
      "metadata": {
        "id": "0dPbp-QjuiDS"
      }
    },
    {
      "cell_type": "markdown",
      "source": [
        "#### Making a better dataset split (with no data leakage)"
      ],
      "metadata": {
        "id": "t6-A0BzEv99I"
      }
    },
    {
      "cell_type": "code",
      "source": [
        "# Making a better dataset\n",
        "train_10_percent_split = int(0.1 * len(train_sentences))\n",
        "train_10_percent = train_sentences[:train_10_percent_split]\n",
        "len(train_10_percent)"
      ],
      "metadata": {
        "colab": {
          "base_uri": "https://localhost:8080/"
        },
        "id": "h80pfKh-tFAV",
        "outputId": "e9a6a73a-5dbd-4c2a-b048-42e3c4125fdd"
      },
      "execution_count": 125,
      "outputs": [
        {
          "output_type": "execute_result",
          "data": {
            "text/plain": [
              "685"
            ]
          },
          "metadata": {},
          "execution_count": 125
        }
      ]
    },
    {
      "cell_type": "code",
      "source": [
        "# Making the training labels\n",
        "train_labels_10_percent = train_labels[:train_10_percent_split]\n",
        "len(train_labels_10_percent)"
      ],
      "metadata": {
        "colab": {
          "base_uri": "https://localhost:8080/"
        },
        "id": "3o_NvP0GwPmF",
        "outputId": "14abaad1-721f-467c-e098-7732cc4ea550"
      },
      "execution_count": 126,
      "outputs": [
        {
          "output_type": "execute_result",
          "data": {
            "text/plain": [
              "685"
            ]
          },
          "metadata": {},
          "execution_count": 126
        }
      ]
    },
    {
      "cell_type": "code",
      "source": [
        "pd.Series(np.array(train_labels_10_percent)).value_counts()"
      ],
      "metadata": {
        "colab": {
          "base_uri": "https://localhost:8080/"
        },
        "id": "2fo8vROBwaCh",
        "outputId": "4cbf0c8c-077e-4625-8577-1a6953e6a67f"
      },
      "execution_count": 128,
      "outputs": [
        {
          "output_type": "execute_result",
          "data": {
            "text/plain": [
              "0    406\n",
              "1    279\n",
              "dtype: int64"
            ]
          },
          "metadata": {},
          "execution_count": 128
        }
      ]
    },
    {
      "cell_type": "markdown",
      "source": [
        "#### Now, making the model with the new data"
      ],
      "metadata": {
        "id": "A56veOZhwzN6"
      }
    },
    {
      "cell_type": "code",
      "source": [
        "## Create same model as model_6\n",
        "# Using the clone_model method\n",
        "model_7 = tf.keras.models.clone_model(model_6)\n",
        "model_7._name = \"model_7_pretrained_use_10_percent_new\"\n",
        "\n",
        "# Compile the model\n",
        "model_7.compile(loss=\"binary_crossentropy\",\n",
        "                optimizer=tf.keras.optimizers.Adam(),\n",
        "                metrics=['accuracy'])\n",
        "\n",
        "# Get the summary of the model\n",
        "model_7.summary()"
      ],
      "metadata": {
        "colab": {
          "base_uri": "https://localhost:8080/"
        },
        "id": "8Y-V8Gjwwnph",
        "outputId": "7ef4fec0-5854-4b3d-dac3-5d1f68ae93be"
      },
      "execution_count": 129,
      "outputs": [
        {
          "output_type": "stream",
          "name": "stdout",
          "text": [
            "Model: \"model_7_pretrained_use_10_percent_new\"\n",
            "_________________________________________________________________\n",
            " Layer (type)                Output Shape              Param #   \n",
            "=================================================================\n",
            " USE (KerasLayer)            (None, 512)               256797824 \n",
            "                                                                 \n",
            " dense_7 (Dense)             (None, 64)                32832     \n",
            "                                                                 \n",
            " dense_8 (Dense)             (None, 1)                 65        \n",
            "                                                                 \n",
            "=================================================================\n",
            "Total params: 256830721 (979.73 MB)\n",
            "Trainable params: 32897 (128.50 KB)\n",
            "Non-trainable params: 256797824 (979.61 MB)\n",
            "_________________________________________________________________\n"
          ]
        }
      ]
    },
    {
      "cell_type": "code",
      "source": [
        "# Fit the model to the 10% traininng data\n",
        "model_7_history_new = model_7.fit(train_10_percent,\n",
        "                              train_labels_10_percent,\n",
        "                              epochs=5,\n",
        "                              validation_data=(val_sentences, val_labels),\n",
        "                              callbacks=[create_tensorboard_callback(SAVE_DIR,\n",
        "                                                                     \"model_7_10_percent_data_new\")])"
      ],
      "metadata": {
        "colab": {
          "base_uri": "https://localhost:8080/"
        },
        "id": "LmYSe9ANwqe-",
        "outputId": "e62272fa-5ec2-42c2-dee1-250d60a52252"
      },
      "execution_count": 131,
      "outputs": [
        {
          "output_type": "stream",
          "name": "stdout",
          "text": [
            "Saving TensorBoard log files to: model_logs/model_7_10_percent_data_new/20231128-071048\n",
            "Epoch 1/5\n",
            "22/22 [==============================] - 5s 49ms/step - loss: 0.6752 - accuracy: 0.6511 - val_loss: 0.6507 - val_accuracy: 0.7546\n",
            "Epoch 2/5\n",
            "22/22 [==============================] - 1s 27ms/step - loss: 0.6091 - accuracy: 0.7985 - val_loss: 0.5927 - val_accuracy: 0.7625\n",
            "Epoch 3/5\n",
            "22/22 [==============================] - 1s 25ms/step - loss: 0.5366 - accuracy: 0.8190 - val_loss: 0.5394 - val_accuracy: 0.7743\n",
            "Epoch 4/5\n",
            "22/22 [==============================] - 1s 24ms/step - loss: 0.4731 - accuracy: 0.8263 - val_loss: 0.5058 - val_accuracy: 0.7730\n",
            "Epoch 5/5\n",
            "22/22 [==============================] - 1s 28ms/step - loss: 0.4320 - accuracy: 0.8263 - val_loss: 0.4880 - val_accuracy: 0.7782\n"
          ]
        }
      ]
    },
    {
      "cell_type": "code",
      "source": [
        "# Make predictions with the model_7\n",
        "model_7_pred_probs_new = model_7.predict(val_sentences)\n",
        "model_7_pred_probs_new[:10]"
      ],
      "metadata": {
        "colab": {
          "base_uri": "https://localhost:8080/"
        },
        "id": "QtWkIFcCwqbm",
        "outputId": "a5698ce8-5506-4283-814a-ffb4825333b1"
      },
      "execution_count": 132,
      "outputs": [
        {
          "output_type": "stream",
          "name": "stdout",
          "text": [
            "24/24 [==============================] - 1s 21ms/step\n"
          ]
        },
        {
          "output_type": "execute_result",
          "data": {
            "text/plain": [
              "array([[0.24186926],\n",
              "       [0.60225105],\n",
              "       [0.92424446],\n",
              "       [0.36549345],\n",
              "       [0.54354656],\n",
              "       [0.72648543],\n",
              "       [0.8901016 ],\n",
              "       [0.84774053],\n",
              "       [0.8492174 ],\n",
              "       [0.16776785]], dtype=float32)"
            ]
          },
          "metadata": {},
          "execution_count": 132
        }
      ]
    },
    {
      "cell_type": "code",
      "source": [
        "# Convert prediction probs to labels\n",
        "model_7_preds_new = tf.squeeze(tf.round(model_7_pred_probs_new))\n",
        "model_7_preds_new[:10]"
      ],
      "metadata": {
        "colab": {
          "base_uri": "https://localhost:8080/"
        },
        "id": "VmGrwGu6wqZ5",
        "outputId": "8481b3d2-aaa2-48b8-9b89-d6406b6e9e63"
      },
      "execution_count": 133,
      "outputs": [
        {
          "output_type": "execute_result",
          "data": {
            "text/plain": [
              "<tf.Tensor: shape=(10,), dtype=float32, numpy=array([0., 1., 1., 0., 1., 1., 1., 1., 1., 0.], dtype=float32)>"
            ]
          },
          "metadata": {},
          "execution_count": 133
        }
      ]
    },
    {
      "cell_type": "code",
      "source": [
        "# Evaluate the model_7\n",
        "model_7_results_new = calculate_results(y_true = val_labels,\n",
        "                                    y_pred = model_7_preds_new)\n",
        "model_7_results_new"
      ],
      "metadata": {
        "colab": {
          "base_uri": "https://localhost:8080/"
        },
        "id": "sPVsjiblwqXZ",
        "outputId": "c92be7b6-9b10-4467-c828-7b9e7f744917"
      },
      "execution_count": 134,
      "outputs": [
        {
          "output_type": "execute_result",
          "data": {
            "text/plain": [
              "{'accuracy': 77.82152230971128,\n",
              " 'precision': 0.7785021759388857,\n",
              " 'recall': 0.7782152230971129,\n",
              " 'f1': 0.7770477406701836}"
            ]
          },
          "metadata": {},
          "execution_count": 134
        }
      ]
    },
    {
      "cell_type": "code",
      "source": [
        "model_6_results"
      ],
      "metadata": {
        "colab": {
          "base_uri": "https://localhost:8080/"
        },
        "id": "rAupTanXxPoH",
        "outputId": "c76b5be7-bfff-4257-eb4a-ba57ce54ff9c"
      },
      "execution_count": 135,
      "outputs": [
        {
          "output_type": "execute_result",
          "data": {
            "text/plain": [
              "{'accuracy': 81.88976377952756,\n",
              " 'precision': 0.8194821765774754,\n",
              " 'recall': 0.8188976377952756,\n",
              " 'f1': 0.8180640338279949}"
            ]
          },
          "metadata": {},
          "execution_count": 135
        }
      ]
    },
    {
      "cell_type": "code",
      "source": [
        "model_7_results"
      ],
      "metadata": {
        "colab": {
          "base_uri": "https://localhost:8080/"
        },
        "id": "_-Zvnh_4xQ5Y",
        "outputId": "096ba953-885e-440b-d5e2-c1ce740e0ad0"
      },
      "execution_count": 136,
      "outputs": [
        {
          "output_type": "execute_result",
          "data": {
            "text/plain": [
              "{'accuracy': 82.41469816272966,\n",
              " 'precision': 0.8239682331770604,\n",
              " 'recall': 0.8241469816272966,\n",
              " 'f1': 0.8239144964411961}"
            ]
          },
          "metadata": {},
          "execution_count": 136
        }
      ]
    },
    {
      "cell_type": "markdown",
      "source": [
        "### Comparing the performance of each of the models"
      ],
      "metadata": {
        "id": "MGe6zmBaxXzo"
      }
    },
    {
      "cell_type": "code",
      "source": [
        "# Combine model results into a DataFrame\n",
        "all_model_results = pd.DataFrame({\"0_baseline\": baseline_results,\n",
        "                                  \"1_simple_dense\": model_1_results,\n",
        "                                  \"2_lstm\": model_2_results,\n",
        "                                  \"3_gru\": model_3_results,\n",
        "                                  \"4_bidirectional\": model_4_results,\n",
        "                                  \"5_conv1d\": model_5_results,\n",
        "                                  \"6_tf_hub_use_encoder\":model_6_results,\n",
        "                                  \"7_tf_hub_use_encoder_10_percent\": model_7_results_new})\n",
        "all_model_results = all_model_results.transpose()"
      ],
      "metadata": {
        "id": "_w1TcP2gxSqR"
      },
      "execution_count": 142,
      "outputs": []
    },
    {
      "cell_type": "code",
      "source": [
        "# Reduce the accuracy to same scale as metrics\n",
        "all_model_results[\"accuracy\"] = all_model_results[\"accuracy\"] / 100\n",
        "all_model_results"
      ],
      "metadata": {
        "colab": {
          "base_uri": "https://localhost:8080/",
          "height": 300
        },
        "id": "i71ifeCYxnHk",
        "outputId": "61c628e9-83d8-4ab0-89cc-b55e5225e75b"
      },
      "execution_count": 143,
      "outputs": [
        {
          "output_type": "execute_result",
          "data": {
            "text/plain": [
              "                                 accuracy  precision    recall        f1\n",
              "0_baseline                       0.792651   0.811139  0.792651  0.786219\n",
              "1_simple_dense                   0.786089   0.790328  0.786089  0.783297\n",
              "2_lstm                           0.765092   0.764730  0.765092  0.764430\n",
              "3_gru                            0.765092   0.766946  0.765092  0.762759\n",
              "4_bidirectional                  0.766404   0.766590  0.766404  0.765121\n",
              "5_conv1d                         0.759843   0.761810  0.759843  0.757315\n",
              "6_tf_hub_use_encoder             0.818898   0.819482  0.818898  0.818064\n",
              "7_tf_hub_use_encoder_10_percent  0.778215   0.778502  0.778215  0.777048"
            ],
            "text/html": [
              "\n",
              "  <div id=\"df-38eb4ffa-8bcc-452c-9a8d-6799073779c2\" class=\"colab-df-container\">\n",
              "    <div>\n",
              "<style scoped>\n",
              "    .dataframe tbody tr th:only-of-type {\n",
              "        vertical-align: middle;\n",
              "    }\n",
              "\n",
              "    .dataframe tbody tr th {\n",
              "        vertical-align: top;\n",
              "    }\n",
              "\n",
              "    .dataframe thead th {\n",
              "        text-align: right;\n",
              "    }\n",
              "</style>\n",
              "<table border=\"1\" class=\"dataframe\">\n",
              "  <thead>\n",
              "    <tr style=\"text-align: right;\">\n",
              "      <th></th>\n",
              "      <th>accuracy</th>\n",
              "      <th>precision</th>\n",
              "      <th>recall</th>\n",
              "      <th>f1</th>\n",
              "    </tr>\n",
              "  </thead>\n",
              "  <tbody>\n",
              "    <tr>\n",
              "      <th>0_baseline</th>\n",
              "      <td>0.792651</td>\n",
              "      <td>0.811139</td>\n",
              "      <td>0.792651</td>\n",
              "      <td>0.786219</td>\n",
              "    </tr>\n",
              "    <tr>\n",
              "      <th>1_simple_dense</th>\n",
              "      <td>0.786089</td>\n",
              "      <td>0.790328</td>\n",
              "      <td>0.786089</td>\n",
              "      <td>0.783297</td>\n",
              "    </tr>\n",
              "    <tr>\n",
              "      <th>2_lstm</th>\n",
              "      <td>0.765092</td>\n",
              "      <td>0.764730</td>\n",
              "      <td>0.765092</td>\n",
              "      <td>0.764430</td>\n",
              "    </tr>\n",
              "    <tr>\n",
              "      <th>3_gru</th>\n",
              "      <td>0.765092</td>\n",
              "      <td>0.766946</td>\n",
              "      <td>0.765092</td>\n",
              "      <td>0.762759</td>\n",
              "    </tr>\n",
              "    <tr>\n",
              "      <th>4_bidirectional</th>\n",
              "      <td>0.766404</td>\n",
              "      <td>0.766590</td>\n",
              "      <td>0.766404</td>\n",
              "      <td>0.765121</td>\n",
              "    </tr>\n",
              "    <tr>\n",
              "      <th>5_conv1d</th>\n",
              "      <td>0.759843</td>\n",
              "      <td>0.761810</td>\n",
              "      <td>0.759843</td>\n",
              "      <td>0.757315</td>\n",
              "    </tr>\n",
              "    <tr>\n",
              "      <th>6_tf_hub_use_encoder</th>\n",
              "      <td>0.818898</td>\n",
              "      <td>0.819482</td>\n",
              "      <td>0.818898</td>\n",
              "      <td>0.818064</td>\n",
              "    </tr>\n",
              "    <tr>\n",
              "      <th>7_tf_hub_use_encoder_10_percent</th>\n",
              "      <td>0.778215</td>\n",
              "      <td>0.778502</td>\n",
              "      <td>0.778215</td>\n",
              "      <td>0.777048</td>\n",
              "    </tr>\n",
              "  </tbody>\n",
              "</table>\n",
              "</div>\n",
              "    <div class=\"colab-df-buttons\">\n",
              "\n",
              "  <div class=\"colab-df-container\">\n",
              "    <button class=\"colab-df-convert\" onclick=\"convertToInteractive('df-38eb4ffa-8bcc-452c-9a8d-6799073779c2')\"\n",
              "            title=\"Convert this dataframe to an interactive table.\"\n",
              "            style=\"display:none;\">\n",
              "\n",
              "  <svg xmlns=\"http://www.w3.org/2000/svg\" height=\"24px\" viewBox=\"0 -960 960 960\">\n",
              "    <path d=\"M120-120v-720h720v720H120Zm60-500h600v-160H180v160Zm220 220h160v-160H400v160Zm0 220h160v-160H400v160ZM180-400h160v-160H180v160Zm440 0h160v-160H620v160ZM180-180h160v-160H180v160Zm440 0h160v-160H620v160Z\"/>\n",
              "  </svg>\n",
              "    </button>\n",
              "\n",
              "  <style>\n",
              "    .colab-df-container {\n",
              "      display:flex;\n",
              "      gap: 12px;\n",
              "    }\n",
              "\n",
              "    .colab-df-convert {\n",
              "      background-color: #E8F0FE;\n",
              "      border: none;\n",
              "      border-radius: 50%;\n",
              "      cursor: pointer;\n",
              "      display: none;\n",
              "      fill: #1967D2;\n",
              "      height: 32px;\n",
              "      padding: 0 0 0 0;\n",
              "      width: 32px;\n",
              "    }\n",
              "\n",
              "    .colab-df-convert:hover {\n",
              "      background-color: #E2EBFA;\n",
              "      box-shadow: 0px 1px 2px rgba(60, 64, 67, 0.3), 0px 1px 3px 1px rgba(60, 64, 67, 0.15);\n",
              "      fill: #174EA6;\n",
              "    }\n",
              "\n",
              "    .colab-df-buttons div {\n",
              "      margin-bottom: 4px;\n",
              "    }\n",
              "\n",
              "    [theme=dark] .colab-df-convert {\n",
              "      background-color: #3B4455;\n",
              "      fill: #D2E3FC;\n",
              "    }\n",
              "\n",
              "    [theme=dark] .colab-df-convert:hover {\n",
              "      background-color: #434B5C;\n",
              "      box-shadow: 0px 1px 3px 1px rgba(0, 0, 0, 0.15);\n",
              "      filter: drop-shadow(0px 1px 2px rgba(0, 0, 0, 0.3));\n",
              "      fill: #FFFFFF;\n",
              "    }\n",
              "  </style>\n",
              "\n",
              "    <script>\n",
              "      const buttonEl =\n",
              "        document.querySelector('#df-38eb4ffa-8bcc-452c-9a8d-6799073779c2 button.colab-df-convert');\n",
              "      buttonEl.style.display =\n",
              "        google.colab.kernel.accessAllowed ? 'block' : 'none';\n",
              "\n",
              "      async function convertToInteractive(key) {\n",
              "        const element = document.querySelector('#df-38eb4ffa-8bcc-452c-9a8d-6799073779c2');\n",
              "        const dataTable =\n",
              "          await google.colab.kernel.invokeFunction('convertToInteractive',\n",
              "                                                    [key], {});\n",
              "        if (!dataTable) return;\n",
              "\n",
              "        const docLinkHtml = 'Like what you see? Visit the ' +\n",
              "          '<a target=\"_blank\" href=https://colab.research.google.com/notebooks/data_table.ipynb>data table notebook</a>'\n",
              "          + ' to learn more about interactive tables.';\n",
              "        element.innerHTML = '';\n",
              "        dataTable['output_type'] = 'display_data';\n",
              "        await google.colab.output.renderOutput(dataTable, element);\n",
              "        const docLink = document.createElement('div');\n",
              "        docLink.innerHTML = docLinkHtml;\n",
              "        element.appendChild(docLink);\n",
              "      }\n",
              "    </script>\n",
              "  </div>\n",
              "\n",
              "\n",
              "<div id=\"df-19e95007-e784-42f3-b6ea-c67abb12fb3d\">\n",
              "  <button class=\"colab-df-quickchart\" onclick=\"quickchart('df-19e95007-e784-42f3-b6ea-c67abb12fb3d')\"\n",
              "            title=\"Suggest charts\"\n",
              "            style=\"display:none;\">\n",
              "\n",
              "<svg xmlns=\"http://www.w3.org/2000/svg\" height=\"24px\"viewBox=\"0 0 24 24\"\n",
              "     width=\"24px\">\n",
              "    <g>\n",
              "        <path d=\"M19 3H5c-1.1 0-2 .9-2 2v14c0 1.1.9 2 2 2h14c1.1 0 2-.9 2-2V5c0-1.1-.9-2-2-2zM9 17H7v-7h2v7zm4 0h-2V7h2v10zm4 0h-2v-4h2v4z\"/>\n",
              "    </g>\n",
              "</svg>\n",
              "  </button>\n",
              "\n",
              "<style>\n",
              "  .colab-df-quickchart {\n",
              "      --bg-color: #E8F0FE;\n",
              "      --fill-color: #1967D2;\n",
              "      --hover-bg-color: #E2EBFA;\n",
              "      --hover-fill-color: #174EA6;\n",
              "      --disabled-fill-color: #AAA;\n",
              "      --disabled-bg-color: #DDD;\n",
              "  }\n",
              "\n",
              "  [theme=dark] .colab-df-quickchart {\n",
              "      --bg-color: #3B4455;\n",
              "      --fill-color: #D2E3FC;\n",
              "      --hover-bg-color: #434B5C;\n",
              "      --hover-fill-color: #FFFFFF;\n",
              "      --disabled-bg-color: #3B4455;\n",
              "      --disabled-fill-color: #666;\n",
              "  }\n",
              "\n",
              "  .colab-df-quickchart {\n",
              "    background-color: var(--bg-color);\n",
              "    border: none;\n",
              "    border-radius: 50%;\n",
              "    cursor: pointer;\n",
              "    display: none;\n",
              "    fill: var(--fill-color);\n",
              "    height: 32px;\n",
              "    padding: 0;\n",
              "    width: 32px;\n",
              "  }\n",
              "\n",
              "  .colab-df-quickchart:hover {\n",
              "    background-color: var(--hover-bg-color);\n",
              "    box-shadow: 0 1px 2px rgba(60, 64, 67, 0.3), 0 1px 3px 1px rgba(60, 64, 67, 0.15);\n",
              "    fill: var(--button-hover-fill-color);\n",
              "  }\n",
              "\n",
              "  .colab-df-quickchart-complete:disabled,\n",
              "  .colab-df-quickchart-complete:disabled:hover {\n",
              "    background-color: var(--disabled-bg-color);\n",
              "    fill: var(--disabled-fill-color);\n",
              "    box-shadow: none;\n",
              "  }\n",
              "\n",
              "  .colab-df-spinner {\n",
              "    border: 2px solid var(--fill-color);\n",
              "    border-color: transparent;\n",
              "    border-bottom-color: var(--fill-color);\n",
              "    animation:\n",
              "      spin 1s steps(1) infinite;\n",
              "  }\n",
              "\n",
              "  @keyframes spin {\n",
              "    0% {\n",
              "      border-color: transparent;\n",
              "      border-bottom-color: var(--fill-color);\n",
              "      border-left-color: var(--fill-color);\n",
              "    }\n",
              "    20% {\n",
              "      border-color: transparent;\n",
              "      border-left-color: var(--fill-color);\n",
              "      border-top-color: var(--fill-color);\n",
              "    }\n",
              "    30% {\n",
              "      border-color: transparent;\n",
              "      border-left-color: var(--fill-color);\n",
              "      border-top-color: var(--fill-color);\n",
              "      border-right-color: var(--fill-color);\n",
              "    }\n",
              "    40% {\n",
              "      border-color: transparent;\n",
              "      border-right-color: var(--fill-color);\n",
              "      border-top-color: var(--fill-color);\n",
              "    }\n",
              "    60% {\n",
              "      border-color: transparent;\n",
              "      border-right-color: var(--fill-color);\n",
              "    }\n",
              "    80% {\n",
              "      border-color: transparent;\n",
              "      border-right-color: var(--fill-color);\n",
              "      border-bottom-color: var(--fill-color);\n",
              "    }\n",
              "    90% {\n",
              "      border-color: transparent;\n",
              "      border-bottom-color: var(--fill-color);\n",
              "    }\n",
              "  }\n",
              "</style>\n",
              "\n",
              "  <script>\n",
              "    async function quickchart(key) {\n",
              "      const quickchartButtonEl =\n",
              "        document.querySelector('#' + key + ' button');\n",
              "      quickchartButtonEl.disabled = true;  // To prevent multiple clicks.\n",
              "      quickchartButtonEl.classList.add('colab-df-spinner');\n",
              "      try {\n",
              "        const charts = await google.colab.kernel.invokeFunction(\n",
              "            'suggestCharts', [key], {});\n",
              "      } catch (error) {\n",
              "        console.error('Error during call to suggestCharts:', error);\n",
              "      }\n",
              "      quickchartButtonEl.classList.remove('colab-df-spinner');\n",
              "      quickchartButtonEl.classList.add('colab-df-quickchart-complete');\n",
              "    }\n",
              "    (() => {\n",
              "      let quickchartButtonEl =\n",
              "        document.querySelector('#df-19e95007-e784-42f3-b6ea-c67abb12fb3d button');\n",
              "      quickchartButtonEl.style.display =\n",
              "        google.colab.kernel.accessAllowed ? 'block' : 'none';\n",
              "    })();\n",
              "  </script>\n",
              "</div>\n",
              "    </div>\n",
              "  </div>\n"
            ]
          },
          "metadata": {},
          "execution_count": 143
        }
      ]
    },
    {
      "cell_type": "code",
      "source": [
        "# Plot and compare all of the model results\n",
        "all_model_results.plot(kind=\"bar\", figsize=(10, 7)).legend(bbox_to_anchor=(1.0, 1.0))"
      ],
      "metadata": {
        "colab": {
          "base_uri": "https://localhost:8080/",
          "height": 586
        },
        "id": "J7BIh2GTyOS5",
        "outputId": "32723ffd-fb33-4cec-c9fb-0322c729b8a4"
      },
      "execution_count": 144,
      "outputs": [
        {
          "output_type": "execute_result",
          "data": {
            "text/plain": [
              "<matplotlib.legend.Legend at 0x78b8f15260e0>"
            ]
          },
          "metadata": {},
          "execution_count": 144
        },
        {
          "output_type": "display_data",
          "data": {
            "text/plain": [
              "<Figure size 1000x700 with 1 Axes>"
            ],
            "image/png": "[encoded data removed]"
          },
          "metadata": {}
        }
      ]
    },
    {
      "cell_type": "code",
      "source": [
        "# Sort the model results by f1-score\n",
        "all_model_results.sort_values(\"f1\", ascending=False)[\"f1\"].plot(kind='bar', figsize=(10,7));"
      ],
      "metadata": {
        "colab": {
          "base_uri": "https://localhost:8080/",
          "height": 648
        },
        "id": "oBNHMNnhyOPh",
        "outputId": "41b0e46e-9fc1-4954-bc59-28c8a0f082a9"
      },
      "execution_count": 145,
      "outputs": [
        {
          "output_type": "display_data",
          "data": {
            "text/plain": [
              "<Figure size 1000x700 with 1 Axes>"
            ],
            "image/png": "[encoded data removed]"
          },
          "metadata": {}
        }
      ]
    },
    {
      "cell_type": "markdown",
      "source": [
        "### Uploading all the model training logs to TensorBoard.dev integrated with Neptune AI\n",
        "\n",
        "`Since TensorBoard.dev has being shut down and no uploading of model logs can be performed on it`"
      ],
      "metadata": {
        "id": "SWIakRF2zbHy"
      }
    },
    {
      "cell_type": "code",
      "source": [
        "!pip install -U neptune-tensorboard\n",
        "!pip install neptune"
      ],
      "metadata": {
        "colab": {
          "base_uri": "https://localhost:8080/"
        },
        "id": "4fe2JComyONW",
        "outputId": "8905fbcd-9c14-4e4a-fc53-47a2a8ac175a"
      },
      "execution_count": 149,
      "outputs": [
        {
          "output_type": "stream",
          "name": "stdout",
          "text": [
            "Requirement already satisfied: neptune-tensorboard in /usr/local/lib/python3.10/dist-packages (1.0.2)\n",
            "Requirement already satisfied: matplotlib in /usr/local/lib/python3.10/dist-packages (from neptune-tensorboard) (3.7.1)\n",
            "Requirement already satisfied: pytest-xdist in /usr/local/lib/python3.10/dist-packages (from neptune-tensorboard) (3.5.0)\n",
            "Requirement already satisfied: tbparse in /usr/local/lib/python3.10/dist-packages (from neptune-tensorboard) (0.0.8)\n",
            "Requirement already satisfied: tensorboardX>=2.2.0 in /usr/local/lib/python3.10/dist-packages (from neptune-tensorboard) (2.6.2.2)\n",
            "Requirement already satisfied: tensorflow>=2.0.0 in /usr/local/lib/python3.10/dist-packages (from neptune-tensorboard) (2.14.0)\n",
            "Requirement already satisfied: torch>=1.9.0 in /usr/local/lib/python3.10/dist-packages (from neptune-tensorboard) (2.1.0+cu118)\n",
            "Requirement already satisfied: numpy in /usr/local/lib/python3.10/dist-packages (from tensorboardX>=2.2.0->neptune-tensorboard) (1.23.5)\n",
            "Requirement already satisfied: packaging in /usr/local/lib/python3.10/dist-packages (from tensorboardX>=2.2.0->neptune-tensorboard) (23.2)\n",
            "Requirement already satisfied: protobuf>=3.20 in /usr/local/lib/python3.10/dist-packages (from tensorboardX>=2.2.0->neptune-tensorboard) (3.20.3)\n",
            "Requirement already satisfied: absl-py>=1.0.0 in /usr/local/lib/python3.10/dist-packages (from tensorflow>=2.0.0->neptune-tensorboard) (1.4.0)\n",
            "Requirement already satisfied: astunparse>=1.6.0 in /usr/local/lib/python3.10/dist-packages (from tensorflow>=2.0.0->neptune-tensorboard) (1.6.3)\n",
            "Requirement already satisfied: flatbuffers>=23.5.26 in /usr/local/lib/python3.10/dist-packages (from tensorflow>=2.0.0->neptune-tensorboard) (23.5.26)\n",
            "Requirement already satisfied: gast!=0.5.0,!=0.5.1,!=0.5.2,>=0.2.1 in /usr/local/lib/python3.10/dist-packages (from tensorflow>=2.0.0->neptune-tensorboard) (0.5.4)\n",
            "Requirement already satisfied: google-pasta>=0.1.1 in /usr/local/lib/python3.10/dist-packages (from tensorflow>=2.0.0->neptune-tensorboard) (0.2.0)\n",
            "Requirement already satisfied: h5py>=2.9.0 in /usr/local/lib/python3.10/dist-packages (from tensorflow>=2.0.0->neptune-tensorboard) (3.9.0)\n",
            "Requirement already satisfied: libclang>=13.0.0 in /usr/local/lib/python3.10/dist-packages (from tensorflow>=2.0.0->neptune-tensorboard) (16.0.6)\n",
            "Requirement already satisfied: ml-dtypes==0.2.0 in /usr/local/lib/python3.10/dist-packages (from tensorflow>=2.0.0->neptune-tensorboard) (0.2.0)\n",
            "Requirement already satisfied: opt-einsum>=2.3.2 in /usr/local/lib/python3.10/dist-packages (from tensorflow>=2.0.0->neptune-tensorboard) (3.3.0)\n",
            "Requirement already satisfied: setuptools in /usr/local/lib/python3.10/dist-packages (from tensorflow>=2.0.0->neptune-tensorboard) (67.7.2)\n",
            "Requirement already satisfied: six>=1.12.0 in /usr/local/lib/python3.10/dist-packages (from tensorflow>=2.0.0->neptune-tensorboard) (1.16.0)\n",
            "Requirement already satisfied: termcolor>=1.1.0 in /usr/local/lib/python3.10/dist-packages (from tensorflow>=2.0.0->neptune-tensorboard) (2.3.0)\n",
            "Requirement already satisfied: typing-extensions>=3.6.6 in /usr/local/lib/python3.10/dist-packages (from tensorflow>=2.0.0->neptune-tensorboard) (4.5.0)\n",
            "Requirement already satisfied: wrapt<1.15,>=1.11.0 in /usr/local/lib/python3.10/dist-packages (from tensorflow>=2.0.0->neptune-tensorboard) (1.14.1)\n",
            "Requirement already satisfied: tensorflow-io-gcs-filesystem>=0.23.1 in /usr/local/lib/python3.10/dist-packages (from tensorflow>=2.0.0->neptune-tensorboard) (0.34.0)\n",
            "Requirement already satisfied: grpcio<2.0,>=1.24.3 in /usr/local/lib/python3.10/dist-packages (from tensorflow>=2.0.0->neptune-tensorboard) (1.59.2)\n",
            "Requirement already satisfied: tensorboard<2.15,>=2.14 in /usr/local/lib/python3.10/dist-packages (from tensorflow>=2.0.0->neptune-tensorboard) (2.14.1)\n",
            "Requirement already satisfied: tensorflow-estimator<2.15,>=2.14.0 in /usr/local/lib/python3.10/dist-packages (from tensorflow>=2.0.0->neptune-tensorboard) (2.14.0)\n",
            "Requirement already satisfied: keras<2.15,>=2.14.0 in /usr/local/lib/python3.10/dist-packages (from tensorflow>=2.0.0->neptune-tensorboard) (2.14.0)\n",
            "Requirement already satisfied: filelock in /usr/local/lib/python3.10/dist-packages (from torch>=1.9.0->neptune-tensorboard) (3.13.1)\n",
            "Requirement already satisfied: sympy in /usr/local/lib/python3.10/dist-packages (from torch>=1.9.0->neptune-tensorboard) (1.12)\n",
            "Requirement already satisfied: networkx in /usr/local/lib/python3.10/dist-packages (from torch>=1.9.0->neptune-tensorboard) (3.2.1)\n",
            "Requirement already satisfied: jinja2 in /usr/local/lib/python3.10/dist-packages (from torch>=1.9.0->neptune-tensorboard) (3.1.2)\n",
            "Requirement already satisfied: fsspec in /usr/local/lib/python3.10/dist-packages (from torch>=1.9.0->neptune-tensorboard) (2023.6.0)\n",
            "Requirement already satisfied: triton==2.1.0 in /usr/local/lib/python3.10/dist-packages (from torch>=1.9.0->neptune-tensorboard) (2.1.0)\n",
            "Requirement already satisfied: contourpy>=1.0.1 in /usr/local/lib/python3.10/dist-packages (from matplotlib->neptune-tensorboard) (1.2.0)\n",
            "Requirement already satisfied: cycler>=0.10 in /usr/local/lib/python3.10/dist-packages (from matplotlib->neptune-tensorboard) (0.12.1)\n",
            "Requirement already satisfied: fonttools>=4.22.0 in /usr/local/lib/python3.10/dist-packages (from matplotlib->neptune-tensorboard) (4.44.3)\n",
            "Requirement already satisfied: kiwisolver>=1.0.1 in /usr/local/lib/python3.10/dist-packages (from matplotlib->neptune-tensorboard) (1.4.5)\n",
            "Requirement already satisfied: pillow>=6.2.0 in /usr/local/lib/python3.10/dist-packages (from matplotlib->neptune-tensorboard) (9.4.0)\n",
            "Requirement already satisfied: pyparsing>=2.3.1 in /usr/local/lib/python3.10/dist-packages (from matplotlib->neptune-tensorboard) (3.1.1)\n",
            "Requirement already satisfied: python-dateutil>=2.7 in /usr/local/lib/python3.10/dist-packages (from matplotlib->neptune-tensorboard) (2.8.2)\n",
            "Requirement already satisfied: execnet>=1.1 in /usr/local/lib/python3.10/dist-packages (from pytest-xdist->neptune-tensorboard) (2.0.2)\n",
            "Requirement already satisfied: pytest>=6.2.0 in /usr/local/lib/python3.10/dist-packages (from pytest-xdist->neptune-tensorboard) (7.4.3)\n",
            "Requirement already satisfied: pandas>=1.3.0 in /usr/local/lib/python3.10/dist-packages (from tbparse->neptune-tensorboard) (1.5.3)\n",
            "Requirement already satisfied: wheel<1.0,>=0.23.0 in /usr/local/lib/python3.10/dist-packages (from astunparse>=1.6.0->tensorflow>=2.0.0->neptune-tensorboard) (0.41.3)\n",
            "Requirement already satisfied: pytz>=2020.1 in /usr/local/lib/python3.10/dist-packages (from pandas>=1.3.0->tbparse->neptune-tensorboard) (2023.3.post1)\n",
            "Requirement already satisfied: iniconfig in /usr/local/lib/python3.10/dist-packages (from pytest>=6.2.0->pytest-xdist->neptune-tensorboard) (2.0.0)\n",
            "Requirement already satisfied: pluggy<2.0,>=0.12 in /usr/local/lib/python3.10/dist-packages (from pytest>=6.2.0->pytest-xdist->neptune-tensorboard) (1.3.0)\n",
            "Requirement already satisfied: exceptiongroup>=1.0.0rc8 in /usr/local/lib/python3.10/dist-packages (from pytest>=6.2.0->pytest-xdist->neptune-tensorboard) (1.1.3)\n",
            "Requirement already satisfied: tomli>=1.0.0 in /usr/local/lib/python3.10/dist-packages (from pytest>=6.2.0->pytest-xdist->neptune-tensorboard) (2.0.1)\n",
            "Requirement already satisfied: google-auth<3,>=1.6.3 in /usr/local/lib/python3.10/dist-packages (from tensorboard<2.15,>=2.14->tensorflow>=2.0.0->neptune-tensorboard) (2.17.3)\n",
            "Requirement already satisfied: google-auth-oauthlib<1.1,>=0.5 in /usr/local/lib/python3.10/dist-packages (from tensorboard<2.15,>=2.14->tensorflow>=2.0.0->neptune-tensorboard) (1.0.0)\n",
            "Requirement already satisfied: markdown>=2.6.8 in /usr/local/lib/python3.10/dist-packages (from tensorboard<2.15,>=2.14->tensorflow>=2.0.0->neptune-tensorboard) (3.5.1)\n",
            "Requirement already satisfied: requests<3,>=2.21.0 in /usr/local/lib/python3.10/dist-packages (from tensorboard<2.15,>=2.14->tensorflow>=2.0.0->neptune-tensorboard) (2.31.0)\n",
            "Requirement already satisfied: tensorboard-data-server<0.8.0,>=0.7.0 in /usr/local/lib/python3.10/dist-packages (from tensorboard<2.15,>=2.14->tensorflow>=2.0.0->neptune-tensorboard) (0.7.2)\n",
            "Requirement already satisfied: werkzeug>=1.0.1 in /usr/local/lib/python3.10/dist-packages (from tensorboard<2.15,>=2.14->tensorflow>=2.0.0->neptune-tensorboard) (3.0.1)\n",
            "Requirement already satisfied: MarkupSafe>=2.0 in /usr/local/lib/python3.10/dist-packages (from jinja2->torch>=1.9.0->neptune-tensorboard) (2.1.3)\n",
            "Requirement already satisfied: mpmath>=0.19 in /usr/local/lib/python3.10/dist-packages (from sympy->torch>=1.9.0->neptune-tensorboard) (1.3.0)\n",
            "Requirement already satisfied: cachetools<6.0,>=2.0.0 in /usr/local/lib/python3.10/dist-packages (from google-auth<3,>=1.6.3->tensorboard<2.15,>=2.14->tensorflow>=2.0.0->neptune-tensorboard) (5.3.2)\n",
            "Requirement already satisfied: pyasn1-modules>=0.2.1 in /usr/local/lib/python3.10/dist-packages (from google-auth<3,>=1.6.3->tensorboard<2.15,>=2.14->tensorflow>=2.0.0->neptune-tensorboard) (0.3.0)\n",
            "Requirement already satisfied: rsa<5,>=3.1.4 in /usr/local/lib/python3.10/dist-packages (from google-auth<3,>=1.6.3->tensorboard<2.15,>=2.14->tensorflow>=2.0.0->neptune-tensorboard) (4.9)\n",
            "Requirement already satisfied: requests-oauthlib>=0.7.0 in /usr/local/lib/python3.10/dist-packages (from google-auth-oauthlib<1.1,>=0.5->tensorboard<2.15,>=2.14->tensorflow>=2.0.0->neptune-tensorboard) (1.3.1)\n",
            "Requirement already satisfied: charset-normalizer<4,>=2 in /usr/local/lib/python3.10/dist-packages (from requests<3,>=2.21.0->tensorboard<2.15,>=2.14->tensorflow>=2.0.0->neptune-tensorboard) (3.3.2)\n",
            "Requirement already satisfied: idna<4,>=2.5 in /usr/local/lib/python3.10/dist-packages (from requests<3,>=2.21.0->tensorboard<2.15,>=2.14->tensorflow>=2.0.0->neptune-tensorboard) (3.4)\n",
            "Requirement already satisfied: urllib3<3,>=1.21.1 in /usr/local/lib/python3.10/dist-packages (from requests<3,>=2.21.0->tensorboard<2.15,>=2.14->tensorflow>=2.0.0->neptune-tensorboard) (2.0.7)\n",
            "Requirement already satisfied: certifi>=2017.4.17 in /usr/local/lib/python3.10/dist-packages (from requests<3,>=2.21.0->tensorboard<2.15,>=2.14->tensorflow>=2.0.0->neptune-tensorboard) (2023.7.22)\n",
            "Requirement already satisfied: pyasn1<0.6.0,>=0.4.6 in /usr/local/lib/python3.10/dist-packages (from pyasn1-modules>=0.2.1->google-auth<3,>=1.6.3->tensorboard<2.15,>=2.14->tensorflow>=2.0.0->neptune-tensorboard) (0.5.0)\n",
            "Requirement already satisfied: oauthlib>=3.0.0 in /usr/local/lib/python3.10/dist-packages (from requests-oauthlib>=0.7.0->google-auth-oauthlib<1.1,>=0.5->tensorboard<2.15,>=2.14->tensorflow>=2.0.0->neptune-tensorboard) (3.2.2)\n",
            "Collecting neptune\n",
            "  Downloading neptune-1.8.5-py3-none-any.whl (479 kB)\n",
            "\u001b[2K     \u001b[90m━━━━━━━━━━━━━━━━━━━━━━━━━━━━━━━━━━━━━━━━\u001b[0m \u001b[32m479.7/479.7 kB\u001b[0m \u001b[31m5.8 MB/s\u001b[0m eta \u001b[36m0:00:00\u001b[0m\n",
            "\u001b[?25hCollecting GitPython>=2.0.8 (from neptune)\n",
            "  Downloading GitPython-3.1.40-py3-none-any.whl (190 kB)\n",
            "\u001b[2K     \u001b[90m━━━━━━━━━━━━━━━━━━━━━━━━━━━━━━━━━━━━━━━━\u001b[0m \u001b[32m190.6/190.6 kB\u001b[0m \u001b[31m8.4 MB/s\u001b[0m eta \u001b[36m0:00:00\u001b[0m\n",
            "\u001b[?25hRequirement already satisfied: Pillow>=1.1.6 in /usr/local/lib/python3.10/dist-packages (from neptune) (9.4.0)\n",
            "Requirement already satisfied: PyJWT in /usr/lib/python3/dist-packages (from neptune) (2.3.0)\n",
            "Collecting boto3>=1.28.0 (from neptune)\n",
            "  Downloading boto3-1.33.1-py3-none-any.whl (139 kB)\n",
            "\u001b[2K     \u001b[90m━━━━━━━━━━━━━━━━━━━━━━━━━━━━━━━━━━━━━━━━\u001b[0m \u001b[32m139.1/139.1 kB\u001b[0m \u001b[31m9.3 MB/s\u001b[0m eta \u001b[36m0:00:00\u001b[0m\n",
            "\u001b[?25hCollecting bravado<12.0.0,>=11.0.0 (from neptune)\n",
            "  Downloading bravado-11.0.3-py2.py3-none-any.whl (38 kB)\n",
            "Requirement already satisfied: click>=7.0 in /usr/local/lib/python3.10/dist-packages (from neptune) (8.1.7)\n",
            "Requirement already satisfied: future>=0.17.1 in /usr/local/lib/python3.10/dist-packages (from neptune) (0.18.3)\n",
            "Requirement already satisfied: oauthlib>=2.1.0 in /usr/local/lib/python3.10/dist-packages (from neptune) (3.2.2)\n",
            "Requirement already satisfied: packaging in /usr/local/lib/python3.10/dist-packages (from neptune) (23.2)\n",
            "Requirement already satisfied: pandas in /usr/local/lib/python3.10/dist-packages (from neptune) (1.5.3)\n",
            "Requirement already satisfied: psutil in /usr/local/lib/python3.10/dist-packages (from neptune) (5.9.5)\n",
            "Requirement already satisfied: requests>=2.20.0 in /usr/local/lib/python3.10/dist-packages (from neptune) (2.31.0)\n",
            "Requirement already satisfied: requests-oauthlib>=1.0.0 in /usr/local/lib/python3.10/dist-packages (from neptune) (1.3.1)\n",
            "Requirement already satisfied: six>=1.12.0 in /usr/local/lib/python3.10/dist-packages (from neptune) (1.16.0)\n",
            "Collecting swagger-spec-validator>=2.7.4 (from neptune)\n",
            "  Downloading swagger_spec_validator-3.0.3-py2.py3-none-any.whl (27 kB)\n",
            "Requirement already satisfied: urllib3 in /usr/local/lib/python3.10/dist-packages (from neptune) (2.0.7)\n",
            "Requirement already satisfied: websocket-client!=1.0.0,>=0.35.0 in /usr/local/lib/python3.10/dist-packages (from neptune) (1.6.4)\n",
            "Collecting botocore<1.34.0,>=1.33.1 (from boto3>=1.28.0->neptune)\n",
            "  Downloading botocore-1.33.1-py3-none-any.whl (11.6 MB)\n",
            "\u001b[2K     \u001b[90m━━━━━━━━━━━━━━━━━━━━━━━━━━━━━━━━━━━━━━━━\u001b[0m \u001b[32m11.6/11.6 MB\u001b[0m \u001b[31m28.5 MB/s\u001b[0m eta \u001b[36m0:00:00\u001b[0m\n",
            "\u001b[?25hCollecting jmespath<2.0.0,>=0.7.1 (from boto3>=1.28.0->neptune)\n",
            "  Downloading jmespath-1.0.1-py3-none-any.whl (20 kB)\n",
            "Collecting s3transfer<0.9.0,>=0.8.0 (from boto3>=1.28.0->neptune)\n",
            "  Downloading s3transfer-0.8.0-py3-none-any.whl (81 kB)\n",
            "\u001b[2K     \u001b[90m━━━━━━━━━━━━━━━━━━━━━━━━━━━━━━━━━━━━━━━━\u001b[0m \u001b[32m81.8/81.8 kB\u001b[0m \u001b[31m10.2 MB/s\u001b[0m eta \u001b[36m0:00:00\u001b[0m\n",
            "\u001b[?25hCollecting bravado-core>=5.16.1 (from bravado<12.0.0,>=11.0.0->neptune)\n",
            "  Downloading bravado_core-6.1.0-py2.py3-none-any.whl (67 kB)\n",
            "\u001b[2K     \u001b[90m━━━━━━━━━━━━━━━━━━━━━━━━━━━━━━━━━━━━━━━━\u001b[0m \u001b[32m67.7/67.7 kB\u001b[0m \u001b[31m8.0 MB/s\u001b[0m eta \u001b[36m0:00:00\u001b[0m\n",
            "\u001b[?25hRequirement already satisfied: msgpack in /usr/local/lib/python3.10/dist-packages (from bravado<12.0.0,>=11.0.0->neptune) (1.0.7)\n",
            "Requirement already satisfied: python-dateutil in /usr/local/lib/python3.10/dist-packages (from bravado<12.0.0,>=11.0.0->neptune) (2.8.2)\n",
            "Requirement already satisfied: pyyaml in /usr/local/lib/python3.10/dist-packages (from bravado<12.0.0,>=11.0.0->neptune) (6.0.1)\n",
            "Collecting simplejson (from bravado<12.0.0,>=11.0.0->neptune)\n",
            "  Downloading simplejson-3.19.2-cp310-cp310-manylinux_2_5_x86_64.manylinux1_x86_64.manylinux_2_17_x86_64.manylinux2014_x86_64.whl (137 kB)\n",
            "\u001b[2K     \u001b[90m━━━━━━━━━━━━━━━━━━━━━━━━━━━━━━━━━━━━━━━━\u001b[0m \u001b[32m137.9/137.9 kB\u001b[0m \u001b[31m15.4 MB/s\u001b[0m eta \u001b[36m0:00:00\u001b[0m\n",
            "\u001b[?25hCollecting monotonic (from bravado<12.0.0,>=11.0.0->neptune)\n",
            "  Downloading monotonic-1.6-py2.py3-none-any.whl (8.2 kB)\n",
            "Requirement already satisfied: typing-extensions in /usr/local/lib/python3.10/dist-packages (from bravado<12.0.0,>=11.0.0->neptune) (4.5.0)\n",
            "Collecting gitdb<5,>=4.0.1 (from GitPython>=2.0.8->neptune)\n",
            "  Downloading gitdb-4.0.11-py3-none-any.whl (62 kB)\n",
            "\u001b[2K     \u001b[90m━━━━━━━━━━━━━━━━━━━━━━━━━━━━━━━━━━━━━━━━\u001b[0m \u001b[32m62.7/62.7 kB\u001b[0m \u001b[31m8.8 MB/s\u001b[0m eta \u001b[36m0:00:00\u001b[0m\n",
            "\u001b[?25hRequirement already satisfied: charset-normalizer<4,>=2 in /usr/local/lib/python3.10/dist-packages (from requests>=2.20.0->neptune) (3.3.2)\n",
            "Requirement already satisfied: idna<4,>=2.5 in /usr/local/lib/python3.10/dist-packages (from requests>=2.20.0->neptune) (3.4)\n",
            "Requirement already satisfied: certifi>=2017.4.17 in /usr/local/lib/python3.10/dist-packages (from requests>=2.20.0->neptune) (2023.7.22)\n",
            "Requirement already satisfied: jsonschema in /usr/local/lib/python3.10/dist-packages (from swagger-spec-validator>=2.7.4->neptune) (4.19.2)\n",
            "Requirement already satisfied: pytz>=2020.1 in /usr/local/lib/python3.10/dist-packages (from pandas->neptune) (2023.3.post1)\n",
            "Requirement already satisfied: numpy>=1.21.0 in /usr/local/lib/python3.10/dist-packages (from pandas->neptune) (1.23.5)\n",
            "Collecting jsonref (from bravado-core>=5.16.1->bravado<12.0.0,>=11.0.0->neptune)\n",
            "  Downloading jsonref-1.1.0-py3-none-any.whl (9.4 kB)\n",
            "Collecting smmap<6,>=3.0.1 (from gitdb<5,>=4.0.1->GitPython>=2.0.8->neptune)\n",
            "  Downloading smmap-5.0.1-py3-none-any.whl (24 kB)\n",
            "Requirement already satisfied: attrs>=22.2.0 in /usr/local/lib/python3.10/dist-packages (from jsonschema->swagger-spec-validator>=2.7.4->neptune) (23.1.0)\n",
            "Requirement already satisfied: jsonschema-specifications>=2023.03.6 in /usr/local/lib/python3.10/dist-packages (from jsonschema->swagger-spec-validator>=2.7.4->neptune) (2023.11.1)\n",
            "Requirement already satisfied: referencing>=0.28.4 in /usr/local/lib/python3.10/dist-packages (from jsonschema->swagger-spec-validator>=2.7.4->neptune) (0.31.0)\n",
            "Requirement already satisfied: rpds-py>=0.7.1 in /usr/local/lib/python3.10/dist-packages (from jsonschema->swagger-spec-validator>=2.7.4->neptune) (0.13.0)\n",
            "Collecting fqdn (from jsonschema->swagger-spec-validator>=2.7.4->neptune)\n",
            "  Downloading fqdn-1.5.1-py3-none-any.whl (9.1 kB)\n",
            "Collecting isoduration (from jsonschema->swagger-spec-validator>=2.7.4->neptune)\n",
            "  Downloading isoduration-20.11.0-py3-none-any.whl (11 kB)\n",
            "Collecting jsonpointer>1.13 (from jsonschema->swagger-spec-validator>=2.7.4->neptune)\n",
            "  Downloading jsonpointer-2.4-py2.py3-none-any.whl (7.8 kB)\n",
            "Collecting rfc3339-validator (from jsonschema->swagger-spec-validator>=2.7.4->neptune)\n",
            "  Downloading rfc3339_validator-0.1.4-py2.py3-none-any.whl (3.5 kB)\n",
            "Collecting rfc3987 (from jsonschema->swagger-spec-validator>=2.7.4->neptune)\n",
            "  Downloading rfc3987-1.3.8-py2.py3-none-any.whl (13 kB)\n",
            "Collecting uri-template (from jsonschema->swagger-spec-validator>=2.7.4->neptune)\n",
            "  Downloading uri_template-1.3.0-py3-none-any.whl (11 kB)\n",
            "Requirement already satisfied: webcolors>=1.11 in /usr/local/lib/python3.10/dist-packages (from jsonschema->swagger-spec-validator>=2.7.4->neptune) (1.13)\n",
            "Collecting arrow>=0.15.0 (from isoduration->jsonschema->swagger-spec-validator>=2.7.4->neptune)\n",
            "  Downloading arrow-1.3.0-py3-none-any.whl (66 kB)\n",
            "\u001b[2K     \u001b[90m━━━━━━━━━━━━━━━━━━━━━━━━━━━━━━━━━━━━━━━━\u001b[0m \u001b[32m66.4/66.4 kB\u001b[0m \u001b[31m8.6 MB/s\u001b[0m eta \u001b[36m0:00:00\u001b[0m\n",
            "\u001b[?25hCollecting types-python-dateutil>=2.8.10 (from arrow>=0.15.0->isoduration->jsonschema->swagger-spec-validator>=2.7.4->neptune)\n",
            "  Downloading types_python_dateutil-2.8.19.14-py3-none-any.whl (9.4 kB)\n",
            "Installing collected packages: types-python-dateutil, rfc3987, monotonic, uri-template, smmap, simplejson, rfc3339-validator, jsonref, jsonpointer, jmespath, fqdn, gitdb, botocore, arrow, s3transfer, isoduration, GitPython, swagger-spec-validator, boto3, bravado-core, bravado, neptune\n",
            "Successfully installed GitPython-3.1.40 arrow-1.3.0 boto3-1.33.1 botocore-1.33.1 bravado-11.0.3 bravado-core-6.1.0 fqdn-1.5.1 gitdb-4.0.11 isoduration-20.11.0 jmespath-1.0.1 jsonpointer-2.4 jsonref-1.1.0 monotonic-1.6 neptune-1.8.5 rfc3339-validator-0.1.4 rfc3987-1.3.8 s3transfer-0.8.0 simplejson-3.19.2 smmap-5.0.1 swagger-spec-validator-3.0.3 types-python-dateutil-2.8.19.14 uri-template-1.3.0\n"
          ]
        }
      ]
    },
    {
      "cell_type": "code",
      "source": [
        "# Get the API token\n",
        "NEPTUNE_API_TOKEN=\"API_KEY\""
      ],
      "metadata": {
        "id": "iT8YYM3oyOLH"
      },
      "execution_count": 147,
      "outputs": []
    },
    {
      "cell_type": "code",
      "source": [
        "import neptune\n",
        "from neptune_tensorboard import enable_tensorboard_logging\n",
        "\n",
        "run = neptune.init_run(api_token=NEPTUNE_API_TOKEN,\n",
        "                       project=\"shivin.m17/Tensorflow-NLP\",\n",
        "                       name=\"NLP Tensorflow model experiments\",\n",
        "                       description = \"Comparing different kinds of ml / dl models to compare tweets, on whether they are disaster or not\",\n",
        "                       source_files=[\"/content/model_logs/model_1_dense\",\n",
        "                                     \"/content/model_logs/model_2_LSTM\"\n",
        "                                     ],\n",
        "                       capture_stdout = True,\n",
        "                       capture_stderr = True,\n",
        "                       capture_traceback = True,\n",
        "                       capture_hardware_metrics = True\n",
        "                       )\n",
        "\n",
        "enable_tensorboard_logging(run)"
      ],
      "metadata": {
        "colab": {
          "base_uri": "https://localhost:8080/"
        },
        "id": "YafRIpKT1qTV",
        "outputId": "f62e9224-b20e-4092-f2e1-7108ad9439af"
      },
      "execution_count": 154,
      "outputs": [
        {
          "output_type": "stream",
          "name": "stdout",
          "text": [
            "https://app.neptune.ai/shivin.m17/Tensorflow-NLP/e/TEN-2\n"
          ]
        }
      ]
    },
    {
      "cell_type": "code",
      "source": [],
      "metadata": {
        "id": "L9kfahZM2SwQ"
      },
      "execution_count": null,
      "outputs": []
    },
    {
      "cell_type": "markdown",
      "source": [
        "### Saving and loading a trained model\n",
        "\n",
        "There are 2 main formats to save a model:\n",
        "1. The HDF5 model\n",
        "2. The SavedModel format"
      ],
      "metadata": {
        "id": "BLW7A94h4wbP"
      }
    },
    {
      "cell_type": "code",
      "source": [
        "model_6_results"
      ],
      "metadata": {
        "colab": {
          "base_uri": "https://localhost:8080/"
        },
        "id": "i-RwCwTY47jY",
        "outputId": "56f1adf7-2433-45f8-e794-ce0fd56160e8"
      },
      "execution_count": 155,
      "outputs": [
        {
          "output_type": "execute_result",
          "data": {
            "text/plain": [
              "{'accuracy': 81.88976377952756,\n",
              " 'precision': 0.8194821765774754,\n",
              " 'recall': 0.8188976377952756,\n",
              " 'f1': 0.8180640338279949}"
            ]
          },
          "metadata": {},
          "execution_count": 155
        }
      ]
    },
    {
      "cell_type": "markdown",
      "source": [
        "#### Saving and loading the best model in HDF5 format"
      ],
      "metadata": {
        "id": "3wVqVzmj6Ygt"
      }
    },
    {
      "cell_type": "code",
      "source": [
        "# Save model_6 to HDF5 format\n",
        "model_6.save(\"model_6.h5\")"
      ],
      "metadata": {
        "colab": {
          "base_uri": "https://localhost:8080/"
        },
        "id": "SyhuWUDT5BxR",
        "outputId": "65db86de-5dee-49b7-c0ca-b32b53b34044"
      },
      "execution_count": 156,
      "outputs": [
        {
          "output_type": "stream",
          "name": "stderr",
          "text": [
            "/usr/local/lib/python3.10/dist-packages/keras/src/engine/training.py:3079: UserWarning: You are saving your model as an HDF5 file via `model.save()`. This file format is considered legacy. We recommend using instead the native Keras format, e.g. `model.save('my_model.keras')`.\n",
            "  saving_api.save_model(\n"
          ]
        }
      ]
    },
    {
      "cell_type": "code",
      "source": [
        "# Load model with custom hub layer (rerquired with HHDF5 format)\n",
        "import tensorflow_hub as hub\n",
        "loaded_model_6 = tf.keras.models.load_model(\"model_6.h5\",\n",
        "                                            custom_objects = {\"KerasLayer\": hub.KerasLayer})"
      ],
      "metadata": {
        "id": "lbS5eK3s5J67"
      },
      "execution_count": 157,
      "outputs": []
    },
    {
      "cell_type": "code",
      "source": [
        "# How does the loaded model perform?\n",
        "loaded_model_6.evaluate(val_sentences, val_labels)"
      ],
      "metadata": {
        "colab": {
          "base_uri": "https://localhost:8080/"
        },
        "id": "5SJYZffV5ji1",
        "outputId": "f6cd0e5e-c992-4897-f618-608b3b7f086a"
      },
      "execution_count": 158,
      "outputs": [
        {
          "output_type": "stream",
          "name": "stdout",
          "text": [
            "24/24 [==============================] - 1s 20ms/step - loss: 0.4245 - accuracy: 0.8189\n"
          ]
        },
        {
          "output_type": "execute_result",
          "data": {
            "text/plain": [
              "[0.42450836300849915, 0.8188976645469666]"
            ]
          },
          "metadata": {},
          "execution_count": 158
        }
      ]
    },
    {
      "cell_type": "markdown",
      "source": [
        "#### Saving and loading the best model in SavedModel format"
      ],
      "metadata": {
        "id": "2Gty5c9G6dmA"
      }
    },
    {
      "cell_type": "code",
      "source": [
        "# Save TF Hub sentence encoder model to SavedModel format (default)\n",
        "model_6.save(\"model_6_SavedModel_format\")"
      ],
      "metadata": {
        "id": "3mhRj9YD5xpT"
      },
      "execution_count": 159,
      "outputs": []
    },
    {
      "cell_type": "code",
      "source": [
        "loaded_model_6_savedmodel_format = tf.keras.models.load_model(\"model_6_SavedModel_format\")"
      ],
      "metadata": {
        "id": "T3jNjTTi59VH"
      },
      "execution_count": 160,
      "outputs": []
    },
    {
      "cell_type": "code",
      "source": [
        "# Evaluate the savedmodel format model\n",
        "loaded_model_6_savedmodel_format.evaluate(val_sentences, val_labels)"
      ],
      "metadata": {
        "colab": {
          "base_uri": "https://localhost:8080/"
        },
        "id": "YYmvZzr26GaS",
        "outputId": "0a085bd4-329a-45b3-8746-aaec7e92b8f7"
      },
      "execution_count": 161,
      "outputs": [
        {
          "output_type": "stream",
          "name": "stdout",
          "text": [
            "24/24 [==============================] - 2s 14ms/step - loss: 0.4245 - accuracy: 0.8189\n"
          ]
        },
        {
          "output_type": "execute_result",
          "data": {
            "text/plain": [
              "[0.42450836300849915, 0.8188976645469666]"
            ]
          },
          "metadata": {},
          "execution_count": 161
        }
      ]
    },
    {
      "cell_type": "code",
      "source": [],
      "metadata": {
        "id": "-xNrO7SA6UWD"
      },
      "execution_count": null,
      "outputs": []
    },
    {
      "cell_type": "markdown",
      "source": [
        "### Finding the most wrong examples\n",
        "\n",
        "Here, checking out which samples are lowering the accuracy of the model (i.e which samples of the data are giving out the most wrong predictions closest to the opposite class)\n",
        "\n"
      ],
      "metadata": {
        "id": "Lgc6otj26ipw"
      }
    },
    {
      "cell_type": "code",
      "source": [
        "# Download a pretrained model\n",
        "!wget https://storage.googleapis.com/ztm_tf_course/08_model_6_USE_feature_extractor.zip\n",
        "!unzip 08_model_6_USE_feature_extractor.zip"
      ],
      "metadata": {
        "colab": {
          "base_uri": "https://localhost:8080/"
        },
        "id": "ltjo-suu64Tq",
        "outputId": "0284cdfe-3bcd-43ce-fdb5-5b80422164e3"
      },
      "execution_count": 162,
      "outputs": [
        {
          "output_type": "stream",
          "name": "stdout",
          "text": [
            "--2023-11-28 07:54:34--  https://storage.googleapis.com/ztm_tf_course/08_model_6_USE_feature_extractor.zip\n",
            "Resolving storage.googleapis.com (storage.googleapis.com)... 64.233.191.207, 209.85.200.207, 173.194.206.207, ...\n",
            "Connecting to storage.googleapis.com (storage.googleapis.com)|64.233.191.207|:443... connected.\n",
            "HTTP request sent, awaiting response... 200 OK\n",
            "Length: 960779165 (916M) [application/zip]\n",
            "Saving to: ‘08_model_6_USE_feature_extractor.zip’\n",
            "\n",
            "08_model_6_USE_feat 100%[===================>] 916.27M   171MB/s    in 9.2s    \n",
            "\n",
            "2023-11-28 07:54:44 (99.4 MB/s) - ‘08_model_6_USE_feature_extractor.zip’ saved [960779165/960779165]\n",
            "\n",
            "Archive:  08_model_6_USE_feature_extractor.zip\n",
            "   creating: 08_model_6_USE_feature_extractor/\n",
            "   creating: 08_model_6_USE_feature_extractor/assets/\n",
            "   creating: 08_model_6_USE_feature_extractor/variables/\n",
            "  inflating: 08_model_6_USE_feature_extractor/variables/variables.data-00000-of-00001  \n",
            "  inflating: 08_model_6_USE_feature_extractor/variables/variables.index  \n",
            "  inflating: 08_model_6_USE_feature_extractor/saved_model.pb  \n"
          ]
        }
      ]
    },
    {
      "cell_type": "code",
      "source": [
        "# Import previously trained model\n",
        "model_6_pretrained = tf.keras.models.load_model(\"08_model_6_USE_feature_extractor\")\n",
        "model_6_pretrained.evaluate(val_sentences, val_labels)"
      ],
      "metadata": {
        "colab": {
          "base_uri": "https://localhost:8080/"
        },
        "id": "s9C8Ak7z7vkj",
        "outputId": "3ec9fc11-7007-4670-96c9-2cc56f6d2e45"
      },
      "execution_count": 163,
      "outputs": [
        {
          "output_type": "stream",
          "name": "stderr",
          "text": [
            "WARNING:tensorflow:SavedModel saved prior to TF 2.5 detected when loading Keras model. Please ensure that you are saving the model with model.save() or tf.keras.models.save_model(), *NOT* tf.saved_model.save(). To confirm, there should be a file named \"keras_metadata.pb\" in the SavedModel directory.\n"
          ]
        },
        {
          "output_type": "stream",
          "name": "stdout",
          "text": [
            "24/24 [==============================] - 1s 13ms/step - loss: 0.4272 - accuracy: 0.8163\n"
          ]
        },
        {
          "output_type": "execute_result",
          "data": {
            "text/plain": [
              "[0.42723122239112854, 0.8162729740142822]"
            ]
          },
          "metadata": {},
          "execution_count": 163
        }
      ]
    },
    {
      "cell_type": "code",
      "source": [
        "# Make predictions using the pretrained loaded model\n",
        "model_6_pretrained_pred_probs = model_6_pretrained.predict(val_sentences)\n",
        "model_6_pretrained_preds = tf.squeeze(tf.round(model_6_pretrained_pred_probs))\n",
        "model_6_pretrained_preds[:10]"
      ],
      "metadata": {
        "colab": {
          "base_uri": "https://localhost:8080/"
        },
        "id": "TjTw-QRB77rI",
        "outputId": "e558ef63-390f-45c3-d048-78655192b6d9"
      },
      "execution_count": 164,
      "outputs": [
        {
          "output_type": "stream",
          "name": "stdout",
          "text": [
            "24/24 [==============================] - 1s 17ms/step\n"
          ]
        },
        {
          "output_type": "execute_result",
          "data": {
            "text/plain": [
              "<tf.Tensor: shape=(10,), dtype=float32, numpy=array([0., 1., 1., 0., 1., 1., 1., 1., 1., 0.], dtype=float32)>"
            ]
          },
          "metadata": {},
          "execution_count": 164
        }
      ]
    },
    {
      "cell_type": "code",
      "source": [
        "# Create DataFrame with validation sentences and best performing model predictions\n",
        "val_df = pd.DataFrame({\"text\":val_sentences,\n",
        "                       \"target\":val_labels,\n",
        "                       \"pred\":model_6_pretrained_preds,\n",
        "                       \"pred_probs\":tf.squeeze(model_6_pretrained_pred_probs)})\n",
        "\n",
        "val_df.head()"
      ],
      "metadata": {
        "colab": {
          "base_uri": "https://localhost:8080/",
          "height": 206
        },
        "id": "_lZYuxc26w3N",
        "outputId": "2a18e192-13d2-40e8-d684-fc364a66fd36"
      },
      "execution_count": 166,
      "outputs": [
        {
          "output_type": "execute_result",
          "data": {
            "text/plain": [
              "                                                text  target  pred  pred_probs\n",
              "0  DFR EP016 Monthly Meltdown - On Dnbheaven 2015...       0   0.0    0.159757\n",
              "1  FedEx no longer to transport bioterror germs i...       0   1.0    0.747162\n",
              "2  Gunmen kill four in El Salvador bus attack: Su...       1   1.0    0.988749\n",
              "3  @camilacabello97 Internally and externally scr...       1   0.0    0.196229\n",
              "4  Radiation emergency #preparedness starts with ...       1   1.0    0.707808"
            ],
            "text/html": [
              "\n",
              "  <div id=\"df-b01ced16-49a4-46bf-903b-d2068d87b3d1\" class=\"colab-df-container\">\n",
              "    <div>\n",
              "<style scoped>\n",
              "    .dataframe tbody tr th:only-of-type {\n",
              "        vertical-align: middle;\n",
              "    }\n",
              "\n",
              "    .dataframe tbody tr th {\n",
              "        vertical-align: top;\n",
              "    }\n",
              "\n",
              "    .dataframe thead th {\n",
              "        text-align: right;\n",
              "    }\n",
              "</style>\n",
              "<table border=\"1\" class=\"dataframe\">\n",
              "  <thead>\n",
              "    <tr style=\"text-align: right;\">\n",
              "      <th></th>\n",
              "      <th>text</th>\n",
              "      <th>target</th>\n",
              "      <th>pred</th>\n",
              "      <th>pred_probs</th>\n",
              "    </tr>\n",
              "  </thead>\n",
              "  <tbody>\n",
              "    <tr>\n",
              "      <th>0</th>\n",
              "      <td>DFR EP016 Monthly Meltdown - On Dnbheaven 2015...</td>\n",
              "      <td>0</td>\n",
              "      <td>0.0</td>\n",
              "      <td>0.159757</td>\n",
              "    </tr>\n",
              "    <tr>\n",
              "      <th>1</th>\n",
              "      <td>FedEx no longer to transport bioterror germs i...</td>\n",
              "      <td>0</td>\n",
              "      <td>1.0</td>\n",
              "      <td>0.747162</td>\n",
              "    </tr>\n",
              "    <tr>\n",
              "      <th>2</th>\n",
              "      <td>Gunmen kill four in El Salvador bus attack: Su...</td>\n",
              "      <td>1</td>\n",
              "      <td>1.0</td>\n",
              "      <td>0.988749</td>\n",
              "    </tr>\n",
              "    <tr>\n",
              "      <th>3</th>\n",
              "      <td>@camilacabello97 Internally and externally scr...</td>\n",
              "      <td>1</td>\n",
              "      <td>0.0</td>\n",
              "      <td>0.196229</td>\n",
              "    </tr>\n",
              "    <tr>\n",
              "      <th>4</th>\n",
              "      <td>Radiation emergency #preparedness starts with ...</td>\n",
              "      <td>1</td>\n",
              "      <td>1.0</td>\n",
              "      <td>0.707808</td>\n",
              "    </tr>\n",
              "  </tbody>\n",
              "</table>\n",
              "</div>\n",
              "    <div class=\"colab-df-buttons\">\n",
              "\n",
              "  <div class=\"colab-df-container\">\n",
              "    <button class=\"colab-df-convert\" onclick=\"convertToInteractive('df-b01ced16-49a4-46bf-903b-d2068d87b3d1')\"\n",
              "            title=\"Convert this dataframe to an interactive table.\"\n",
              "            style=\"display:none;\">\n",
              "\n",
              "  <svg xmlns=\"http://www.w3.org/2000/svg\" height=\"24px\" viewBox=\"0 -960 960 960\">\n",
              "    <path d=\"M120-120v-720h720v720H120Zm60-500h600v-160H180v160Zm220 220h160v-160H400v160Zm0 220h160v-160H400v160ZM180-400h160v-160H180v160Zm440 0h160v-160H620v160ZM180-180h160v-160H180v160Zm440 0h160v-160H620v160Z\"/>\n",
              "  </svg>\n",
              "    </button>\n",
              "\n",
              "  <style>\n",
              "    .colab-df-container {\n",
              "      display:flex;\n",
              "      gap: 12px;\n",
              "    }\n",
              "\n",
              "    .colab-df-convert {\n",
              "      background-color: #E8F0FE;\n",
              "      border: none;\n",
              "      border-radius: 50%;\n",
              "      cursor: pointer;\n",
              "      display: none;\n",
              "      fill: #1967D2;\n",
              "      height: 32px;\n",
              "      padding: 0 0 0 0;\n",
              "      width: 32px;\n",
              "    }\n",
              "\n",
              "    .colab-df-convert:hover {\n",
              "      background-color: #E2EBFA;\n",
              "      box-shadow: 0px 1px 2px rgba(60, 64, 67, 0.3), 0px 1px 3px 1px rgba(60, 64, 67, 0.15);\n",
              "      fill: #174EA6;\n",
              "    }\n",
              "\n",
              "    .colab-df-buttons div {\n",
              "      margin-bottom: 4px;\n",
              "    }\n",
              "\n",
              "    [theme=dark] .colab-df-convert {\n",
              "      background-color: #3B4455;\n",
              "      fill: #D2E3FC;\n",
              "    }\n",
              "\n",
              "    [theme=dark] .colab-df-convert:hover {\n",
              "      background-color: #434B5C;\n",
              "      box-shadow: 0px 1px 3px 1px rgba(0, 0, 0, 0.15);\n",
              "      filter: drop-shadow(0px 1px 2px rgba(0, 0, 0, 0.3));\n",
              "      fill: #FFFFFF;\n",
              "    }\n",
              "  </style>\n",
              "\n",
              "    <script>\n",
              "      const buttonEl =\n",
              "        document.querySelector('#df-b01ced16-49a4-46bf-903b-d2068d87b3d1 button.colab-df-convert');\n",
              "      buttonEl.style.display =\n",
              "        google.colab.kernel.accessAllowed ? 'block' : 'none';\n",
              "\n",
              "      async function convertToInteractive(key) {\n",
              "        const element = document.querySelector('#df-b01ced16-49a4-46bf-903b-d2068d87b3d1');\n",
              "        const dataTable =\n",
              "          await google.colab.kernel.invokeFunction('convertToInteractive',\n",
              "                                                    [key], {});\n",
              "        if (!dataTable) return;\n",
              "\n",
              "        const docLinkHtml = 'Like what you see? Visit the ' +\n",
              "          '<a target=\"_blank\" href=https://colab.research.google.com/notebooks/data_table.ipynb>data table notebook</a>'\n",
              "          + ' to learn more about interactive tables.';\n",
              "        element.innerHTML = '';\n",
              "        dataTable['output_type'] = 'display_data';\n",
              "        await google.colab.output.renderOutput(dataTable, element);\n",
              "        const docLink = document.createElement('div');\n",
              "        docLink.innerHTML = docLinkHtml;\n",
              "        element.appendChild(docLink);\n",
              "      }\n",
              "    </script>\n",
              "  </div>\n",
              "\n",
              "\n",
              "<div id=\"df-272dd007-355c-4586-9c1c-478c755a3f8e\">\n",
              "  <button class=\"colab-df-quickchart\" onclick=\"quickchart('df-272dd007-355c-4586-9c1c-478c755a3f8e')\"\n",
              "            title=\"Suggest charts\"\n",
              "            style=\"display:none;\">\n",
              "\n",
              "<svg xmlns=\"http://www.w3.org/2000/svg\" height=\"24px\"viewBox=\"0 0 24 24\"\n",
              "     width=\"24px\">\n",
              "    <g>\n",
              "        <path d=\"M19 3H5c-1.1 0-2 .9-2 2v14c0 1.1.9 2 2 2h14c1.1 0 2-.9 2-2V5c0-1.1-.9-2-2-2zM9 17H7v-7h2v7zm4 0h-2V7h2v10zm4 0h-2v-4h2v4z\"/>\n",
              "    </g>\n",
              "</svg>\n",
              "  </button>\n",
              "\n",
              "<style>\n",
              "  .colab-df-quickchart {\n",
              "      --bg-color: #E8F0FE;\n",
              "      --fill-color: #1967D2;\n",
              "      --hover-bg-color: #E2EBFA;\n",
              "      --hover-fill-color: #174EA6;\n",
              "      --disabled-fill-color: #AAA;\n",
              "      --disabled-bg-color: #DDD;\n",
              "  }\n",
              "\n",
              "  [theme=dark] .colab-df-quickchart {\n",
              "      --bg-color: #3B4455;\n",
              "      --fill-color: #D2E3FC;\n",
              "      --hover-bg-color: #434B5C;\n",
              "      --hover-fill-color: #FFFFFF;\n",
              "      --disabled-bg-color: #3B4455;\n",
              "      --disabled-fill-color: #666;\n",
              "  }\n",
              "\n",
              "  .colab-df-quickchart {\n",
              "    background-color: var(--bg-color);\n",
              "    border: none;\n",
              "    border-radius: 50%;\n",
              "    cursor: pointer;\n",
              "    display: none;\n",
              "    fill: var(--fill-color);\n",
              "    height: 32px;\n",
              "    padding: 0;\n",
              "    width: 32px;\n",
              "  }\n",
              "\n",
              "  .colab-df-quickchart:hover {\n",
              "    background-color: var(--hover-bg-color);\n",
              "    box-shadow: 0 1px 2px rgba(60, 64, 67, 0.3), 0 1px 3px 1px rgba(60, 64, 67, 0.15);\n",
              "    fill: var(--button-hover-fill-color);\n",
              "  }\n",
              "\n",
              "  .colab-df-quickchart-complete:disabled,\n",
              "  .colab-df-quickchart-complete:disabled:hover {\n",
              "    background-color: var(--disabled-bg-color);\n",
              "    fill: var(--disabled-fill-color);\n",
              "    box-shadow: none;\n",
              "  }\n",
              "\n",
              "  .colab-df-spinner {\n",
              "    border: 2px solid var(--fill-color);\n",
              "    border-color: transparent;\n",
              "    border-bottom-color: var(--fill-color);\n",
              "    animation:\n",
              "      spin 1s steps(1) infinite;\n",
              "  }\n",
              "\n",
              "  @keyframes spin {\n",
              "    0% {\n",
              "      border-color: transparent;\n",
              "      border-bottom-color: var(--fill-color);\n",
              "      border-left-color: var(--fill-color);\n",
              "    }\n",
              "    20% {\n",
              "      border-color: transparent;\n",
              "      border-left-color: var(--fill-color);\n",
              "      border-top-color: var(--fill-color);\n",
              "    }\n",
              "    30% {\n",
              "      border-color: transparent;\n",
              "      border-left-color: var(--fill-color);\n",
              "      border-top-color: var(--fill-color);\n",
              "      border-right-color: var(--fill-color);\n",
              "    }\n",
              "    40% {\n",
              "      border-color: transparent;\n",
              "      border-right-color: var(--fill-color);\n",
              "      border-top-color: var(--fill-color);\n",
              "    }\n",
              "    60% {\n",
              "      border-color: transparent;\n",
              "      border-right-color: var(--fill-color);\n",
              "    }\n",
              "    80% {\n",
              "      border-color: transparent;\n",
              "      border-right-color: var(--fill-color);\n",
              "      border-bottom-color: var(--fill-color);\n",
              "    }\n",
              "    90% {\n",
              "      border-color: transparent;\n",
              "      border-bottom-color: var(--fill-color);\n",
              "    }\n",
              "  }\n",
              "</style>\n",
              "\n",
              "  <script>\n",
              "    async function quickchart(key) {\n",
              "      const quickchartButtonEl =\n",
              "        document.querySelector('#' + key + ' button');\n",
              "      quickchartButtonEl.disabled = true;  // To prevent multiple clicks.\n",
              "      quickchartButtonEl.classList.add('colab-df-spinner');\n",
              "      try {\n",
              "        const charts = await google.colab.kernel.invokeFunction(\n",
              "            'suggestCharts', [key], {});\n",
              "      } catch (error) {\n",
              "        console.error('Error during call to suggestCharts:', error);\n",
              "      }\n",
              "      quickchartButtonEl.classList.remove('colab-df-spinner');\n",
              "      quickchartButtonEl.classList.add('colab-df-quickchart-complete');\n",
              "    }\n",
              "    (() => {\n",
              "      let quickchartButtonEl =\n",
              "        document.querySelector('#df-272dd007-355c-4586-9c1c-478c755a3f8e button');\n",
              "      quickchartButtonEl.style.display =\n",
              "        google.colab.kernel.accessAllowed ? 'block' : 'none';\n",
              "    })();\n",
              "  </script>\n",
              "</div>\n",
              "    </div>\n",
              "  </div>\n"
            ]
          },
          "metadata": {},
          "execution_count": 166
        }
      ]
    },
    {
      "cell_type": "code",
      "source": [
        "# Get the most wrong predictions\n",
        "mosts_wrong_pred_df = val_df.sort_values(['target', 'pred_probs'], ascending=[True, False])\n",
        "mosts_wrong_pred_df.head(10)"
      ],
      "metadata": {
        "colab": {
          "base_uri": "https://localhost:8080/",
          "height": 380
        },
        "id": "FtBXH2Wi9lcx",
        "outputId": "2b7eb9e4-1958-470c-bdc0-910088e85416"
      },
      "execution_count": 168,
      "outputs": [
        {
          "output_type": "execute_result",
          "data": {
            "text/plain": [
              "                                                  text  target  pred  \\\n",
              "31   ? High Skies - Burning Buildings ? http://t.co...       0   1.0   \n",
              "759  FedEx will no longer transport bioterror patho...       0   1.0   \n",
              "628  @noah_anyname That's where the concentration c...       0   1.0   \n",
              "209  Ashes 2015: AustraliaÛªs collapse at Trent Br...       0   1.0   \n",
              "251  @AshGhebranious civil rights continued in the ...       0   1.0   \n",
              "393  @SonofLiberty357 all illuminated by the bright...       0   1.0   \n",
              "109  [55436] 1950 LIONEL TRAINS SMOKE LOCOMOTIVES W...       0   1.0   \n",
              "49   @madonnamking RSPCA site multiple 7 story high...       0   1.0   \n",
              "119  @freefromwolves GodsLove &amp; #thankU brother...       0   1.0   \n",
              "344  Air Group is here to the rescue! We have 24/7 ...       0   1.0   \n",
              "\n",
              "     pred_probs  \n",
              "31     0.910196  \n",
              "759    0.876982  \n",
              "628    0.852300  \n",
              "209    0.835454  \n",
              "251    0.827213  \n",
              "393    0.814816  \n",
              "109    0.810840  \n",
              "49     0.803122  \n",
              "119    0.766901  \n",
              "344    0.766625  "
            ],
            "text/html": [
              "\n",
              "  <div id=\"df-64aca32c-4a65-4e3b-9dd5-9ce0397feadb\" class=\"colab-df-container\">\n",
              "    <div>\n",
              "<style scoped>\n",
              "    .dataframe tbody tr th:only-of-type {\n",
              "        vertical-align: middle;\n",
              "    }\n",
              "\n",
              "    .dataframe tbody tr th {\n",
              "        vertical-align: top;\n",
              "    }\n",
              "\n",
              "    .dataframe thead th {\n",
              "        text-align: right;\n",
              "    }\n",
              "</style>\n",
              "<table border=\"1\" class=\"dataframe\">\n",
              "  <thead>\n",
              "    <tr style=\"text-align: right;\">\n",
              "      <th></th>\n",
              "      <th>text</th>\n",
              "      <th>target</th>\n",
              "      <th>pred</th>\n",
              "      <th>pred_probs</th>\n",
              "    </tr>\n",
              "  </thead>\n",
              "  <tbody>\n",
              "    <tr>\n",
              "      <th>31</th>\n",
              "      <td>? High Skies - Burning Buildings ? http://t.co...</td>\n",
              "      <td>0</td>\n",
              "      <td>1.0</td>\n",
              "      <td>0.910196</td>\n",
              "    </tr>\n",
              "    <tr>\n",
              "      <th>759</th>\n",
              "      <td>FedEx will no longer transport bioterror patho...</td>\n",
              "      <td>0</td>\n",
              "      <td>1.0</td>\n",
              "      <td>0.876982</td>\n",
              "    </tr>\n",
              "    <tr>\n",
              "      <th>628</th>\n",
              "      <td>@noah_anyname That's where the concentration c...</td>\n",
              "      <td>0</td>\n",
              "      <td>1.0</td>\n",
              "      <td>0.852300</td>\n",
              "    </tr>\n",
              "    <tr>\n",
              "      <th>209</th>\n",
              "      <td>Ashes 2015: AustraliaÛªs collapse at Trent Br...</td>\n",
              "      <td>0</td>\n",
              "      <td>1.0</td>\n",
              "      <td>0.835454</td>\n",
              "    </tr>\n",
              "    <tr>\n",
              "      <th>251</th>\n",
              "      <td>@AshGhebranious civil rights continued in the ...</td>\n",
              "      <td>0</td>\n",
              "      <td>1.0</td>\n",
              "      <td>0.827213</td>\n",
              "    </tr>\n",
              "    <tr>\n",
              "      <th>393</th>\n",
              "      <td>@SonofLiberty357 all illuminated by the bright...</td>\n",
              "      <td>0</td>\n",
              "      <td>1.0</td>\n",
              "      <td>0.814816</td>\n",
              "    </tr>\n",
              "    <tr>\n",
              "      <th>109</th>\n",
              "      <td>[55436] 1950 LIONEL TRAINS SMOKE LOCOMOTIVES W...</td>\n",
              "      <td>0</td>\n",
              "      <td>1.0</td>\n",
              "      <td>0.810840</td>\n",
              "    </tr>\n",
              "    <tr>\n",
              "      <th>49</th>\n",
              "      <td>@madonnamking RSPCA site multiple 7 story high...</td>\n",
              "      <td>0</td>\n",
              "      <td>1.0</td>\n",
              "      <td>0.803122</td>\n",
              "    </tr>\n",
              "    <tr>\n",
              "      <th>119</th>\n",
              "      <td>@freefromwolves GodsLove &amp;amp; #thankU brother...</td>\n",
              "      <td>0</td>\n",
              "      <td>1.0</td>\n",
              "      <td>0.766901</td>\n",
              "    </tr>\n",
              "    <tr>\n",
              "      <th>344</th>\n",
              "      <td>Air Group is here to the rescue! We have 24/7 ...</td>\n",
              "      <td>0</td>\n",
              "      <td>1.0</td>\n",
              "      <td>0.766625</td>\n",
              "    </tr>\n",
              "  </tbody>\n",
              "</table>\n",
              "</div>\n",
              "    <div class=\"colab-df-buttons\">\n",
              "\n",
              "  <div class=\"colab-df-container\">\n",
              "    <button class=\"colab-df-convert\" onclick=\"convertToInteractive('df-64aca32c-4a65-4e3b-9dd5-9ce0397feadb')\"\n",
              "            title=\"Convert this dataframe to an interactive table.\"\n",
              "            style=\"display:none;\">\n",
              "\n",
              "  <svg xmlns=\"http://www.w3.org/2000/svg\" height=\"24px\" viewBox=\"0 -960 960 960\">\n",
              "    <path d=\"M120-120v-720h720v720H120Zm60-500h600v-160H180v160Zm220 220h160v-160H400v160Zm0 220h160v-160H400v160ZM180-400h160v-160H180v160Zm440 0h160v-160H620v160ZM180-180h160v-160H180v160Zm440 0h160v-160H620v160Z\"/>\n",
              "  </svg>\n",
              "    </button>\n",
              "\n",
              "  <style>\n",
              "    .colab-df-container {\n",
              "      display:flex;\n",
              "      gap: 12px;\n",
              "    }\n",
              "\n",
              "    .colab-df-convert {\n",
              "      background-color: #E8F0FE;\n",
              "      border: none;\n",
              "      border-radius: 50%;\n",
              "      cursor: pointer;\n",
              "      display: none;\n",
              "      fill: #1967D2;\n",
              "      height: 32px;\n",
              "      padding: 0 0 0 0;\n",
              "      width: 32px;\n",
              "    }\n",
              "\n",
              "    .colab-df-convert:hover {\n",
              "      background-color: #E2EBFA;\n",
              "      box-shadow: 0px 1px 2px rgba(60, 64, 67, 0.3), 0px 1px 3px 1px rgba(60, 64, 67, 0.15);\n",
              "      fill: #174EA6;\n",
              "    }\n",
              "\n",
              "    .colab-df-buttons div {\n",
              "      margin-bottom: 4px;\n",
              "    }\n",
              "\n",
              "    [theme=dark] .colab-df-convert {\n",
              "      background-color: #3B4455;\n",
              "      fill: #D2E3FC;\n",
              "    }\n",
              "\n",
              "    [theme=dark] .colab-df-convert:hover {\n",
              "      background-color: #434B5C;\n",
              "      box-shadow: 0px 1px 3px 1px rgba(0, 0, 0, 0.15);\n",
              "      filter: drop-shadow(0px 1px 2px rgba(0, 0, 0, 0.3));\n",
              "      fill: #FFFFFF;\n",
              "    }\n",
              "  </style>\n",
              "\n",
              "    <script>\n",
              "      const buttonEl =\n",
              "        document.querySelector('#df-64aca32c-4a65-4e3b-9dd5-9ce0397feadb button.colab-df-convert');\n",
              "      buttonEl.style.display =\n",
              "        google.colab.kernel.accessAllowed ? 'block' : 'none';\n",
              "\n",
              "      async function convertToInteractive(key) {\n",
              "        const element = document.querySelector('#df-64aca32c-4a65-4e3b-9dd5-9ce0397feadb');\n",
              "        const dataTable =\n",
              "          await google.colab.kernel.invokeFunction('convertToInteractive',\n",
              "                                                    [key], {});\n",
              "        if (!dataTable) return;\n",
              "\n",
              "        const docLinkHtml = 'Like what you see? Visit the ' +\n",
              "          '<a target=\"_blank\" href=https://colab.research.google.com/notebooks/data_table.ipynb>data table notebook</a>'\n",
              "          + ' to learn more about interactive tables.';\n",
              "        element.innerHTML = '';\n",
              "        dataTable['output_type'] = 'display_data';\n",
              "        await google.colab.output.renderOutput(dataTable, element);\n",
              "        const docLink = document.createElement('div');\n",
              "        docLink.innerHTML = docLinkHtml;\n",
              "        element.appendChild(docLink);\n",
              "      }\n",
              "    </script>\n",
              "  </div>\n",
              "\n",
              "\n",
              "<div id=\"df-65da6184-457e-4ff8-b39b-608934eb4d92\">\n",
              "  <button class=\"colab-df-quickchart\" onclick=\"quickchart('df-65da6184-457e-4ff8-b39b-608934eb4d92')\"\n",
              "            title=\"Suggest charts\"\n",
              "            style=\"display:none;\">\n",
              "\n",
              "<svg xmlns=\"http://www.w3.org/2000/svg\" height=\"24px\"viewBox=\"0 0 24 24\"\n",
              "     width=\"24px\">\n",
              "    <g>\n",
              "        <path d=\"M19 3H5c-1.1 0-2 .9-2 2v14c0 1.1.9 2 2 2h14c1.1 0 2-.9 2-2V5c0-1.1-.9-2-2-2zM9 17H7v-7h2v7zm4 0h-2V7h2v10zm4 0h-2v-4h2v4z\"/>\n",
              "    </g>\n",
              "</svg>\n",
              "  </button>\n",
              "\n",
              "<style>\n",
              "  .colab-df-quickchart {\n",
              "      --bg-color: #E8F0FE;\n",
              "      --fill-color: #1967D2;\n",
              "      --hover-bg-color: #E2EBFA;\n",
              "      --hover-fill-color: #174EA6;\n",
              "      --disabled-fill-color: #AAA;\n",
              "      --disabled-bg-color: #DDD;\n",
              "  }\n",
              "\n",
              "  [theme=dark] .colab-df-quickchart {\n",
              "      --bg-color: #3B4455;\n",
              "      --fill-color: #D2E3FC;\n",
              "      --hover-bg-color: #434B5C;\n",
              "      --hover-fill-color: #FFFFFF;\n",
              "      --disabled-bg-color: #3B4455;\n",
              "      --disabled-fill-color: #666;\n",
              "  }\n",
              "\n",
              "  .colab-df-quickchart {\n",
              "    background-color: var(--bg-color);\n",
              "    border: none;\n",
              "    border-radius: 50%;\n",
              "    cursor: pointer;\n",
              "    display: none;\n",
              "    fill: var(--fill-color);\n",
              "    height: 32px;\n",
              "    padding: 0;\n",
              "    width: 32px;\n",
              "  }\n",
              "\n",
              "  .colab-df-quickchart:hover {\n",
              "    background-color: var(--hover-bg-color);\n",
              "    box-shadow: 0 1px 2px rgba(60, 64, 67, 0.3), 0 1px 3px 1px rgba(60, 64, 67, 0.15);\n",
              "    fill: var(--button-hover-fill-color);\n",
              "  }\n",
              "\n",
              "  .colab-df-quickchart-complete:disabled,\n",
              "  .colab-df-quickchart-complete:disabled:hover {\n",
              "    background-color: var(--disabled-bg-color);\n",
              "    fill: var(--disabled-fill-color);\n",
              "    box-shadow: none;\n",
              "  }\n",
              "\n",
              "  .colab-df-spinner {\n",
              "    border: 2px solid var(--fill-color);\n",
              "    border-color: transparent;\n",
              "    border-bottom-color: var(--fill-color);\n",
              "    animation:\n",
              "      spin 1s steps(1) infinite;\n",
              "  }\n",
              "\n",
              "  @keyframes spin {\n",
              "    0% {\n",
              "      border-color: transparent;\n",
              "      border-bottom-color: var(--fill-color);\n",
              "      border-left-color: var(--fill-color);\n",
              "    }\n",
              "    20% {\n",
              "      border-color: transparent;\n",
              "      border-left-color: var(--fill-color);\n",
              "      border-top-color: var(--fill-color);\n",
              "    }\n",
              "    30% {\n",
              "      border-color: transparent;\n",
              "      border-left-color: var(--fill-color);\n",
              "      border-top-color: var(--fill-color);\n",
              "      border-right-color: var(--fill-color);\n",
              "    }\n",
              "    40% {\n",
              "      border-color: transparent;\n",
              "      border-right-color: var(--fill-color);\n",
              "      border-top-color: var(--fill-color);\n",
              "    }\n",
              "    60% {\n",
              "      border-color: transparent;\n",
              "      border-right-color: var(--fill-color);\n",
              "    }\n",
              "    80% {\n",
              "      border-color: transparent;\n",
              "      border-right-color: var(--fill-color);\n",
              "      border-bottom-color: var(--fill-color);\n",
              "    }\n",
              "    90% {\n",
              "      border-color: transparent;\n",
              "      border-bottom-color: var(--fill-color);\n",
              "    }\n",
              "  }\n",
              "</style>\n",
              "\n",
              "  <script>\n",
              "    async function quickchart(key) {\n",
              "      const quickchartButtonEl =\n",
              "        document.querySelector('#' + key + ' button');\n",
              "      quickchartButtonEl.disabled = true;  // To prevent multiple clicks.\n",
              "      quickchartButtonEl.classList.add('colab-df-spinner');\n",
              "      try {\n",
              "        const charts = await google.colab.kernel.invokeFunction(\n",
              "            'suggestCharts', [key], {});\n",
              "      } catch (error) {\n",
              "        console.error('Error during call to suggestCharts:', error);\n",
              "      }\n",
              "      quickchartButtonEl.classList.remove('colab-df-spinner');\n",
              "      quickchartButtonEl.classList.add('colab-df-quickchart-complete');\n",
              "    }\n",
              "    (() => {\n",
              "      let quickchartButtonEl =\n",
              "        document.querySelector('#df-65da6184-457e-4ff8-b39b-608934eb4d92 button');\n",
              "      quickchartButtonEl.style.display =\n",
              "        google.colab.kernel.accessAllowed ? 'block' : 'none';\n",
              "    })();\n",
              "  </script>\n",
              "</div>\n",
              "    </div>\n",
              "  </div>\n"
            ]
          },
          "metadata": {},
          "execution_count": 168
        }
      ]
    },
    {
      "cell_type": "markdown",
      "source": [
        "Here, we can see that for a target (with negative (0) target value), we are getting the opposite predictions (i.e. postive (1)) with higher probabilities. Thus, these results are `False Positives`."
      ],
      "metadata": {
        "id": "kU2RLBV7-ty-"
      }
    },
    {
      "cell_type": "code",
      "source": [
        "mosts_wrong_pred_df.tail(10)"
      ],
      "metadata": {
        "colab": {
          "base_uri": "https://localhost:8080/",
          "height": 363
        },
        "id": "09TpyL2v-LSK",
        "outputId": "c71669b4-f317-4c69-8f1f-8f3861086f0a"
      },
      "execution_count": 169,
      "outputs": [
        {
          "output_type": "execute_result",
          "data": {
            "text/plain": [
              "                                                  text  target  pred  \\\n",
              "536      @DavidVonderhaar At least you were sincere ??       1   0.0   \n",
              "408  @willienelson We need help! Horses will die!Pl...       1   0.0   \n",
              "294  Lucas Duda is Ghost Rider. Not the Nic Cage ve...       1   0.0   \n",
              "221  going to redo my nails and watch behind the sc...       1   0.0   \n",
              "59   You can never escape me. Bullets don't harm me...       1   0.0   \n",
              "411  @SoonerMagic_ I mean I'm a fan but I don't nee...       1   0.0   \n",
              "233                    I get to smoke my shit in peace       1   0.0   \n",
              "38   Why are you deluged with low self-image? Take ...       1   0.0   \n",
              "244  Reddit Will Now QuarantineÛ_ http://t.co/pkUA...       1   0.0   \n",
              "23   Ron &amp; Fez - Dave's High School Crush https...       1   0.0   \n",
              "\n",
              "     pred_probs  \n",
              "536    0.067303  \n",
              "408    0.055076  \n",
              "294    0.054603  \n",
              "221    0.054597  \n",
              "59     0.049637  \n",
              "411    0.043919  \n",
              "233    0.042087  \n",
              "38     0.038998  \n",
              "244    0.038949  \n",
              "23     0.037186  "
            ],
            "text/html": [
              "\n",
              "  <div id=\"df-c5f0a113-e7ac-4a4e-a9f4-ff37f5a33b6f\" class=\"colab-df-container\">\n",
              "    <div>\n",
              "<style scoped>\n",
              "    .dataframe tbody tr th:only-of-type {\n",
              "        vertical-align: middle;\n",
              "    }\n",
              "\n",
              "    .dataframe tbody tr th {\n",
              "        vertical-align: top;\n",
              "    }\n",
              "\n",
              "    .dataframe thead th {\n",
              "        text-align: right;\n",
              "    }\n",
              "</style>\n",
              "<table border=\"1\" class=\"dataframe\">\n",
              "  <thead>\n",
              "    <tr style=\"text-align: right;\">\n",
              "      <th></th>\n",
              "      <th>text</th>\n",
              "      <th>target</th>\n",
              "      <th>pred</th>\n",
              "      <th>pred_probs</th>\n",
              "    </tr>\n",
              "  </thead>\n",
              "  <tbody>\n",
              "    <tr>\n",
              "      <th>536</th>\n",
              "      <td>@DavidVonderhaar At least you were sincere ??</td>\n",
              "      <td>1</td>\n",
              "      <td>0.0</td>\n",
              "      <td>0.067303</td>\n",
              "    </tr>\n",
              "    <tr>\n",
              "      <th>408</th>\n",
              "      <td>@willienelson We need help! Horses will die!Pl...</td>\n",
              "      <td>1</td>\n",
              "      <td>0.0</td>\n",
              "      <td>0.055076</td>\n",
              "    </tr>\n",
              "    <tr>\n",
              "      <th>294</th>\n",
              "      <td>Lucas Duda is Ghost Rider. Not the Nic Cage ve...</td>\n",
              "      <td>1</td>\n",
              "      <td>0.0</td>\n",
              "      <td>0.054603</td>\n",
              "    </tr>\n",
              "    <tr>\n",
              "      <th>221</th>\n",
              "      <td>going to redo my nails and watch behind the sc...</td>\n",
              "      <td>1</td>\n",
              "      <td>0.0</td>\n",
              "      <td>0.054597</td>\n",
              "    </tr>\n",
              "    <tr>\n",
              "      <th>59</th>\n",
              "      <td>You can never escape me. Bullets don't harm me...</td>\n",
              "      <td>1</td>\n",
              "      <td>0.0</td>\n",
              "      <td>0.049637</td>\n",
              "    </tr>\n",
              "    <tr>\n",
              "      <th>411</th>\n",
              "      <td>@SoonerMagic_ I mean I'm a fan but I don't nee...</td>\n",
              "      <td>1</td>\n",
              "      <td>0.0</td>\n",
              "      <td>0.043919</td>\n",
              "    </tr>\n",
              "    <tr>\n",
              "      <th>233</th>\n",
              "      <td>I get to smoke my shit in peace</td>\n",
              "      <td>1</td>\n",
              "      <td>0.0</td>\n",
              "      <td>0.042087</td>\n",
              "    </tr>\n",
              "    <tr>\n",
              "      <th>38</th>\n",
              "      <td>Why are you deluged with low self-image? Take ...</td>\n",
              "      <td>1</td>\n",
              "      <td>0.0</td>\n",
              "      <td>0.038998</td>\n",
              "    </tr>\n",
              "    <tr>\n",
              "      <th>244</th>\n",
              "      <td>Reddit Will Now QuarantineÛ_ http://t.co/pkUA...</td>\n",
              "      <td>1</td>\n",
              "      <td>0.0</td>\n",
              "      <td>0.038949</td>\n",
              "    </tr>\n",
              "    <tr>\n",
              "      <th>23</th>\n",
              "      <td>Ron &amp;amp; Fez - Dave's High School Crush https...</td>\n",
              "      <td>1</td>\n",
              "      <td>0.0</td>\n",
              "      <td>0.037186</td>\n",
              "    </tr>\n",
              "  </tbody>\n",
              "</table>\n",
              "</div>\n",
              "    <div class=\"colab-df-buttons\">\n",
              "\n",
              "  <div class=\"colab-df-container\">\n",
              "    <button class=\"colab-df-convert\" onclick=\"convertToInteractive('df-c5f0a113-e7ac-4a4e-a9f4-ff37f5a33b6f')\"\n",
              "            title=\"Convert this dataframe to an interactive table.\"\n",
              "            style=\"display:none;\">\n",
              "\n",
              "  <svg xmlns=\"http://www.w3.org/2000/svg\" height=\"24px\" viewBox=\"0 -960 960 960\">\n",
              "    <path d=\"M120-120v-720h720v720H120Zm60-500h600v-160H180v160Zm220 220h160v-160H400v160Zm0 220h160v-160H400v160ZM180-400h160v-160H180v160Zm440 0h160v-160H620v160ZM180-180h160v-160H180v160Zm440 0h160v-160H620v160Z\"/>\n",
              "  </svg>\n",
              "    </button>\n",
              "\n",
              "  <style>\n",
              "    .colab-df-container {\n",
              "      display:flex;\n",
              "      gap: 12px;\n",
              "    }\n",
              "\n",
              "    .colab-df-convert {\n",
              "      background-color: #E8F0FE;\n",
              "      border: none;\n",
              "      border-radius: 50%;\n",
              "      cursor: pointer;\n",
              "      display: none;\n",
              "      fill: #1967D2;\n",
              "      height: 32px;\n",
              "      padding: 0 0 0 0;\n",
              "      width: 32px;\n",
              "    }\n",
              "\n",
              "    .colab-df-convert:hover {\n",
              "      background-color: #E2EBFA;\n",
              "      box-shadow: 0px 1px 2px rgba(60, 64, 67, 0.3), 0px 1px 3px 1px rgba(60, 64, 67, 0.15);\n",
              "      fill: #174EA6;\n",
              "    }\n",
              "\n",
              "    .colab-df-buttons div {\n",
              "      margin-bottom: 4px;\n",
              "    }\n",
              "\n",
              "    [theme=dark] .colab-df-convert {\n",
              "      background-color: #3B4455;\n",
              "      fill: #D2E3FC;\n",
              "    }\n",
              "\n",
              "    [theme=dark] .colab-df-convert:hover {\n",
              "      background-color: #434B5C;\n",
              "      box-shadow: 0px 1px 3px 1px rgba(0, 0, 0, 0.15);\n",
              "      filter: drop-shadow(0px 1px 2px rgba(0, 0, 0, 0.3));\n",
              "      fill: #FFFFFF;\n",
              "    }\n",
              "  </style>\n",
              "\n",
              "    <script>\n",
              "      const buttonEl =\n",
              "        document.querySelector('#df-c5f0a113-e7ac-4a4e-a9f4-ff37f5a33b6f button.colab-df-convert');\n",
              "      buttonEl.style.display =\n",
              "        google.colab.kernel.accessAllowed ? 'block' : 'none';\n",
              "\n",
              "      async function convertToInteractive(key) {\n",
              "        const element = document.querySelector('#df-c5f0a113-e7ac-4a4e-a9f4-ff37f5a33b6f');\n",
              "        const dataTable =\n",
              "          await google.colab.kernel.invokeFunction('convertToInteractive',\n",
              "                                                    [key], {});\n",
              "        if (!dataTable) return;\n",
              "\n",
              "        const docLinkHtml = 'Like what you see? Visit the ' +\n",
              "          '<a target=\"_blank\" href=https://colab.research.google.com/notebooks/data_table.ipynb>data table notebook</a>'\n",
              "          + ' to learn more about interactive tables.';\n",
              "        element.innerHTML = '';\n",
              "        dataTable['output_type'] = 'display_data';\n",
              "        await google.colab.output.renderOutput(dataTable, element);\n",
              "        const docLink = document.createElement('div');\n",
              "        docLink.innerHTML = docLinkHtml;\n",
              "        element.appendChild(docLink);\n",
              "      }\n",
              "    </script>\n",
              "  </div>\n",
              "\n",
              "\n",
              "<div id=\"df-25d75807-b69c-4334-90e0-9e652c4b6373\">\n",
              "  <button class=\"colab-df-quickchart\" onclick=\"quickchart('df-25d75807-b69c-4334-90e0-9e652c4b6373')\"\n",
              "            title=\"Suggest charts\"\n",
              "            style=\"display:none;\">\n",
              "\n",
              "<svg xmlns=\"http://www.w3.org/2000/svg\" height=\"24px\"viewBox=\"0 0 24 24\"\n",
              "     width=\"24px\">\n",
              "    <g>\n",
              "        <path d=\"M19 3H5c-1.1 0-2 .9-2 2v14c0 1.1.9 2 2 2h14c1.1 0 2-.9 2-2V5c0-1.1-.9-2-2-2zM9 17H7v-7h2v7zm4 0h-2V7h2v10zm4 0h-2v-4h2v4z\"/>\n",
              "    </g>\n",
              "</svg>\n",
              "  </button>\n",
              "\n",
              "<style>\n",
              "  .colab-df-quickchart {\n",
              "      --bg-color: #E8F0FE;\n",
              "      --fill-color: #1967D2;\n",
              "      --hover-bg-color: #E2EBFA;\n",
              "      --hover-fill-color: #174EA6;\n",
              "      --disabled-fill-color: #AAA;\n",
              "      --disabled-bg-color: #DDD;\n",
              "  }\n",
              "\n",
              "  [theme=dark] .colab-df-quickchart {\n",
              "      --bg-color: #3B4455;\n",
              "      --fill-color: #D2E3FC;\n",
              "      --hover-bg-color: #434B5C;\n",
              "      --hover-fill-color: #FFFFFF;\n",
              "      --disabled-bg-color: #3B4455;\n",
              "      --disabled-fill-color: #666;\n",
              "  }\n",
              "\n",
              "  .colab-df-quickchart {\n",
              "    background-color: var(--bg-color);\n",
              "    border: none;\n",
              "    border-radius: 50%;\n",
              "    cursor: pointer;\n",
              "    display: none;\n",
              "    fill: var(--fill-color);\n",
              "    height: 32px;\n",
              "    padding: 0;\n",
              "    width: 32px;\n",
              "  }\n",
              "\n",
              "  .colab-df-quickchart:hover {\n",
              "    background-color: var(--hover-bg-color);\n",
              "    box-shadow: 0 1px 2px rgba(60, 64, 67, 0.3), 0 1px 3px 1px rgba(60, 64, 67, 0.15);\n",
              "    fill: var(--button-hover-fill-color);\n",
              "  }\n",
              "\n",
              "  .colab-df-quickchart-complete:disabled,\n",
              "  .colab-df-quickchart-complete:disabled:hover {\n",
              "    background-color: var(--disabled-bg-color);\n",
              "    fill: var(--disabled-fill-color);\n",
              "    box-shadow: none;\n",
              "  }\n",
              "\n",
              "  .colab-df-spinner {\n",
              "    border: 2px solid var(--fill-color);\n",
              "    border-color: transparent;\n",
              "    border-bottom-color: var(--fill-color);\n",
              "    animation:\n",
              "      spin 1s steps(1) infinite;\n",
              "  }\n",
              "\n",
              "  @keyframes spin {\n",
              "    0% {\n",
              "      border-color: transparent;\n",
              "      border-bottom-color: var(--fill-color);\n",
              "      border-left-color: var(--fill-color);\n",
              "    }\n",
              "    20% {\n",
              "      border-color: transparent;\n",
              "      border-left-color: var(--fill-color);\n",
              "      border-top-color: var(--fill-color);\n",
              "    }\n",
              "    30% {\n",
              "      border-color: transparent;\n",
              "      border-left-color: var(--fill-color);\n",
              "      border-top-color: var(--fill-color);\n",
              "      border-right-color: var(--fill-color);\n",
              "    }\n",
              "    40% {\n",
              "      border-color: transparent;\n",
              "      border-right-color: var(--fill-color);\n",
              "      border-top-color: var(--fill-color);\n",
              "    }\n",
              "    60% {\n",
              "      border-color: transparent;\n",
              "      border-right-color: var(--fill-color);\n",
              "    }\n",
              "    80% {\n",
              "      border-color: transparent;\n",
              "      border-right-color: var(--fill-color);\n",
              "      border-bottom-color: var(--fill-color);\n",
              "    }\n",
              "    90% {\n",
              "      border-color: transparent;\n",
              "      border-bottom-color: var(--fill-color);\n",
              "    }\n",
              "  }\n",
              "</style>\n",
              "\n",
              "  <script>\n",
              "    async function quickchart(key) {\n",
              "      const quickchartButtonEl =\n",
              "        document.querySelector('#' + key + ' button');\n",
              "      quickchartButtonEl.disabled = true;  // To prevent multiple clicks.\n",
              "      quickchartButtonEl.classList.add('colab-df-spinner');\n",
              "      try {\n",
              "        const charts = await google.colab.kernel.invokeFunction(\n",
              "            'suggestCharts', [key], {});\n",
              "      } catch (error) {\n",
              "        console.error('Error during call to suggestCharts:', error);\n",
              "      }\n",
              "      quickchartButtonEl.classList.remove('colab-df-spinner');\n",
              "      quickchartButtonEl.classList.add('colab-df-quickchart-complete');\n",
              "    }\n",
              "    (() => {\n",
              "      let quickchartButtonEl =\n",
              "        document.querySelector('#df-25d75807-b69c-4334-90e0-9e652c4b6373 button');\n",
              "      quickchartButtonEl.style.display =\n",
              "        google.colab.kernel.accessAllowed ? 'block' : 'none';\n",
              "    })();\n",
              "  </script>\n",
              "</div>\n",
              "    </div>\n",
              "  </div>\n"
            ]
          },
          "metadata": {},
          "execution_count": 169
        }
      ]
    },
    {
      "cell_type": "markdown",
      "source": [
        "Here, we can see that for a target (with positive (1) target value), we are getting the opposite predictions (i.e. negative (0)) with higher probabilities. Thus, these results are `False Positives`."
      ],
      "metadata": {
        "id": "dv7LsmZH--Wn"
      }
    },
    {
      "cell_type": "code",
      "source": [
        "# Check the false positives\n",
        "for row in mosts_wrong_pred_df[:10].itertuples():\n",
        "  _, text, target, pred, pred_prob = row\n",
        "  print(f\"Target: {target}, Pred: {pred}, Prob: {pred_prob}\")\n",
        "  print(f\"Text:\\n{text}\\n\")\n",
        "  print(\"----\\n\")"
      ],
      "metadata": {
        "colab": {
          "base_uri": "https://localhost:8080/"
        },
        "id": "eh1ZiVKY-kPW",
        "outputId": "4dddb58e-da40-4948-be05-0fc73544a687"
      },
      "execution_count": 171,
      "outputs": [
        {
          "output_type": "stream",
          "name": "stdout",
          "text": [
            "Target: 0, Pred: 1.0, Prob: 0.9101957678794861\n",
            "Text:\n",
            "? High Skies - Burning Buildings ? http://t.co/uVq41i3Kx2 #nowplaying\n",
            "\n",
            "----\n",
            "\n",
            "Target: 0, Pred: 1.0, Prob: 0.8769821524620056\n",
            "Text:\n",
            "FedEx will no longer transport bioterror pathogens in wake of anthrax lab mishaps http://t.co/lHpgxc4b8J\n",
            "\n",
            "----\n",
            "\n",
            "Target: 0, Pred: 1.0, Prob: 0.8523001074790955\n",
            "Text:\n",
            "@noah_anyname That's where the concentration camps and mass murder come in. \n",
            " \n",
            "EVERY. FUCKING. TIME.\n",
            "\n",
            "----\n",
            "\n",
            "Target: 0, Pred: 1.0, Prob: 0.8354544043540955\n",
            "Text:\n",
            "Ashes 2015: AustraliaÛªs collapse at Trent Bridge among worst in history: England bundled out Australia for 60 ... http://t.co/t5TrhjUAU0\n",
            "\n",
            "----\n",
            "\n",
            "Target: 0, Pred: 1.0, Prob: 0.8272132277488708\n",
            "Text:\n",
            "@AshGhebranious civil rights continued in the 60s. And what about trans-generational trauma? if anything we should listen to the Americans.\n",
            "\n",
            "----\n",
            "\n",
            "Target: 0, Pred: 1.0, Prob: 0.814815878868103\n",
            "Text:\n",
            "@SonofLiberty357 all illuminated by the brightly burning buildings all around the town!\n",
            "\n",
            "----\n",
            "\n",
            "Target: 0, Pred: 1.0, Prob: 0.8108396530151367\n",
            "Text:\n",
            "[55436] 1950 LIONEL TRAINS SMOKE LOCOMOTIVES WITH MAGNE-TRACTION INSTRUCTIONS http://t.co/xEZBs3sq0y http://t.co/C2x0QoKGlY\n",
            "\n",
            "----\n",
            "\n",
            "Target: 0, Pred: 1.0, Prob: 0.8031218647956848\n",
            "Text:\n",
            "@madonnamking RSPCA site multiple 7 story high rise buildings next to low density character residential in an area that floods\n",
            "\n",
            "----\n",
            "\n",
            "Target: 0, Pred: 1.0, Prob: 0.7669008374214172\n",
            "Text:\n",
            "@freefromwolves GodsLove &amp; #thankU brother Danny for RT of NEW VIDEO http://t.co/cybKsXHF7d The Coming Apocalyptic US Earthquake &amp; Tsunami\n",
            "\n",
            "----\n",
            "\n",
            "Target: 0, Pred: 1.0, Prob: 0.7666252255439758\n",
            "Text:\n",
            "Air Group is here to the rescue! We have 24/7 Emergency Service! Learn more about it here - http://t.co/9lyx7zMtHE http://t.co/5PbC96rTMJ\n",
            "\n",
            "----\n",
            "\n"
          ]
        }
      ]
    },
    {
      "cell_type": "code",
      "source": [
        "# Check the false negatives\n",
        "for row in mosts_wrong_pred_df[-10:].itertuples():\n",
        "  _, text, target, pred, pred_prob = row\n",
        "  print(f\"Target: {target}, Pred: {pred}, Prob: {pred_prob}\")\n",
        "  print(f\"Text:\\n{text}\\n\")\n",
        "  print(\"----\\n\")"
      ],
      "metadata": {
        "colab": {
          "base_uri": "https://localhost:8080/"
        },
        "id": "XnfqAm7M_aAX",
        "outputId": "48925642-e6cb-4965-c51e-68dea44699d6"
      },
      "execution_count": 174,
      "outputs": [
        {
          "output_type": "stream",
          "name": "stdout",
          "text": [
            "Target: 1, Pred: 0.0, Prob: 0.06730346381664276\n",
            "Text:\n",
            "@DavidVonderhaar At least you were sincere ??\n",
            "\n",
            "----\n",
            "\n",
            "Target: 1, Pred: 0.0, Prob: 0.05507583171129227\n",
            "Text:\n",
            "@willienelson We need help! Horses will die!Please RT &amp; sign petition!Take a stand &amp; be a voice for them! #gilbert23 https://t.co/e8dl1lNCVu\n",
            "\n",
            "----\n",
            "\n",
            "Target: 1, Pred: 0.0, Prob: 0.05460337549448013\n",
            "Text:\n",
            "Lucas Duda is Ghost Rider. Not the Nic Cage version but an actual 'engulfed in flames' badass. #Mets\n",
            "\n",
            "----\n",
            "\n",
            "Target: 1, Pred: 0.0, Prob: 0.054597023874521255\n",
            "Text:\n",
            "going to redo my nails and watch behind the scenes of desolation of smaug ayyy\n",
            "\n",
            "----\n",
            "\n",
            "Target: 1, Pred: 0.0, Prob: 0.049637261778116226\n",
            "Text:\n",
            "You can never escape me. Bullets don't harm me. Nothing harms me. But I know pain. I know pain. Sometimes I share it. With someone like you.\n",
            "\n",
            "----\n",
            "\n",
            "Target: 1, Pred: 0.0, Prob: 0.04391850158572197\n",
            "Text:\n",
            "@SoonerMagic_ I mean I'm a fan but I don't need a girl sounding off like a damn siren\n",
            "\n",
            "----\n",
            "\n",
            "Target: 1, Pred: 0.0, Prob: 0.042086850851774216\n",
            "Text:\n",
            "I get to smoke my shit in peace\n",
            "\n",
            "----\n",
            "\n",
            "Target: 1, Pred: 0.0, Prob: 0.038997944444417953\n",
            "Text:\n",
            "Why are you deluged with low self-image? Take the quiz: http://t.co/XsPqdOrIqj http://t.co/CQYvFR4UCy\n",
            "\n",
            "----\n",
            "\n",
            "Target: 1, Pred: 0.0, Prob: 0.03894945606589317\n",
            "Text:\n",
            "Reddit Will Now QuarantineÛ_ http://t.co/pkUAMXw6pm #onlinecommunities #reddit #amageddon #freespeech #Business http://t.co/PAWvNJ4sAP\n",
            "\n",
            "----\n",
            "\n",
            "Target: 1, Pred: 0.0, Prob: 0.03718579187989235\n",
            "Text:\n",
            "Ron &amp; Fez - Dave's High School Crush https://t.co/aN3W16c8F6 via @YouTube\n",
            "\n",
            "----\n",
            "\n"
          ]
        }
      ]
    },
    {
      "cell_type": "markdown",
      "source": [
        "### Making and visualising predictions on the test dataset"
      ],
      "metadata": {
        "id": "7BV4o-h1Acby"
      }
    },
    {
      "cell_type": "code",
      "source": [
        "# Make predictions on the test dataset and visualise them\n",
        "test_sentences = test_df[\"text\"].to_list()\n",
        "test_sentences[:10]"
      ],
      "metadata": {
        "colab": {
          "base_uri": "https://localhost:8080/"
        },
        "id": "ohsQwsjMAB4_",
        "outputId": "40a51423-ccd0-4a2f-f477-9e39a58b2dee"
      },
      "execution_count": 175,
      "outputs": [
        {
          "output_type": "execute_result",
          "data": {
            "text/plain": [
              "['Just happened a terrible car crash',\n",
              " 'Heard about #earthquake is different cities, stay safe everyone.',\n",
              " 'there is a forest fire at spot pond, geese are fleeing across the street, I cannot save them all',\n",
              " 'Apocalypse lighting. #Spokane #wildfires',\n",
              " 'Typhoon Soudelor kills 28 in China and Taiwan',\n",
              " \"We're shaking...It's an earthquake\",\n",
              " \"They'd probably still show more life than Arsenal did yesterday, eh? EH?\",\n",
              " 'Hey! How are you?',\n",
              " 'What a nice hat?',\n",
              " 'Fuck off!']"
            ]
          },
          "metadata": {},
          "execution_count": 175
        }
      ]
    },
    {
      "cell_type": "markdown",
      "source": [
        "* 0 - Not a disaster\n",
        "* 1 - disaster"
      ],
      "metadata": {
        "id": "fjSZVPq5Bu0N"
      }
    },
    {
      "cell_type": "code",
      "source": [
        "# Creating test samples\n",
        "test_samples = random.sample(test_sentences, 10)\n",
        "for test_sample in test_samples:\n",
        "  pred_prob = tf.squeeze(model_6_pretrained.predict([test_sample]))\n",
        "  pred = tf.round(pred_prob)\n",
        "  print(f\"Pred: {int(pred)}, Prob: {pred_prob}\")\n",
        "  print(f\"Text:\\n{test_sample}\\n\")\n",
        "  print(\"-----\\n\")"
      ],
      "metadata": {
        "colab": {
          "base_uri": "https://localhost:8080/"
        },
        "id": "IlghurWnAtdo",
        "outputId": "6b449b39-b7c6-4c5e-da81-bbe4b4bb8e7a"
      },
      "execution_count": 180,
      "outputs": [
        {
          "output_type": "stream",
          "name": "stdout",
          "text": [
            "1/1 [==============================] - 0s 36ms/step\n",
            "Pred: 1, Prob: 0.9665746092796326\n",
            "Text:\n",
            "ErdoganÛªs Bloody Gambit: \n",
            "Max Zirngast in Jacobin:\n",
            "On July 20 a suicide bombing took the lives of thirty-one... http://t.co/l1vN8zXLGG\n",
            "\n",
            "-----\n",
            "\n",
            "1/1 [==============================] - 0s 36ms/step\n",
            "Pred: 0, Prob: 0.49696192145347595\n",
            "Text:\n",
            "I don't reckon Ross is dead actually they said 'has' Pete killed his own brother Ross has survived so much to just die from that??\n",
            "\n",
            "-----\n",
            "\n",
            "1/1 [==============================] - 0s 38ms/step\n",
            "Pred: 0, Prob: 0.16849958896636963\n",
            "Text:\n",
            "Love wounds\n",
            "\n",
            "-----\n",
            "\n",
            "1/1 [==============================] - 0s 43ms/step\n",
            "Pred: 1, Prob: 0.7574477195739746\n",
            "Text:\n",
            ".POTUS #StrategicPatience is a strategy for #Genocide; refugees; IDP Internally displaced people; horror; etc. https://t.co/rqWuoy1fm4\n",
            "\n",
            "-----\n",
            "\n",
            "1/1 [==============================] - 0s 37ms/step\n",
            "Pred: 1, Prob: 0.5310122966766357\n",
            "Text:\n",
            "Oh a #wmata train derailed. Kind of disappointed how unsurprised I am.\n",
            "\n",
            "-----\n",
            "\n",
            "1/1 [==============================] - 0s 40ms/step\n",
            "Pred: 0, Prob: 0.4444045126438141\n",
            "Text:\n",
            "@mtnredneck It does when you are searching on a desolate part of the beach with no cell service and a mile away from your car.\n",
            "\n",
            "-----\n",
            "\n",
            "1/1 [==============================] - 0s 39ms/step\n",
            "Pred: 0, Prob: 0.11895601451396942\n",
            "Text:\n",
            "We had a room full of people lifting up Collide in prayer!! We are so excited for Friday night!! http://t.co/645dYNAMy8\n",
            "\n",
            "-----\n",
            "\n",
            "1/1 [==============================] - 0s 37ms/step\n",
            "Pred: 1, Prob: 0.9506238102912903\n",
            "Text:\n",
            "2 NNW Hana [Maui Co HI] COUNTY OFFICIAL reports COASTAL FLOOD at 5 Aug 10:00 AM HST -- WAIANAPANAPA STATE PARK CLOSED DUE TO LARGE SURF. Û_\n",
            "\n",
            "-----\n",
            "\n",
            "1/1 [==============================] - 0s 37ms/step\n",
            "Pred: 0, Prob: 0.09666133671998978\n",
            "Text:\n",
            "Microsoft Xbox 360 console RRoD red ring of death AS IS FOR PARTS OR REPAIR - Full read byÛ_ http://t.co/IpQCCT5hGC http://t.co/oofPEfRh3r\n",
            "\n",
            "-----\n",
            "\n",
            "1/1 [==============================] - 0s 41ms/step\n",
            "Pred: 0, Prob: 0.08762942999601364\n",
            "Text:\n",
            "I liked a @YouTube video from @sharpino1990 http://t.co/LU7dgOwtyl PokÌ©mon Omega Ruby and Alpha Sapphire Wi-Fi Battle #05 cjs064 vs\n",
            "\n",
            "-----\n",
            "\n"
          ]
        }
      ]
    },
    {
      "cell_type": "markdown",
      "source": [
        "### Speed / Score trade-off\n",
        "\n",
        "Since, in real world, the volume of data is too big to be comprehended.\n",
        "\n",
        "Since the models have to work on such amounts of data, there is a need to check whether the predictions that we get are fast enough to make the work keep on going, while having the accurate performance it shows after being trained."
      ],
      "metadata": {
        "id": "94H15RFhB8zM"
      }
    },
    {
      "cell_type": "code",
      "source": [
        "model_6_results"
      ],
      "metadata": {
        "colab": {
          "base_uri": "https://localhost:8080/"
        },
        "id": "fTW0c5m7BNbx",
        "outputId": "63fbb36f-3b76-49cb-a7f1-deef8905ad5e"
      },
      "execution_count": 181,
      "outputs": [
        {
          "output_type": "execute_result",
          "data": {
            "text/plain": [
              "{'accuracy': 81.88976377952756,\n",
              " 'precision': 0.8194821765774754,\n",
              " 'recall': 0.8188976377952756,\n",
              " 'f1': 0.8180640338279949}"
            ]
          },
          "metadata": {},
          "execution_count": 181
        }
      ]
    },
    {
      "cell_type": "code",
      "source": [
        "baseline_results"
      ],
      "metadata": {
        "colab": {
          "base_uri": "https://localhost:8080/"
        },
        "id": "WbKfbj7QCCgx",
        "outputId": "e0277d70-ecb5-40de-cb37-a1fbc4ee0382"
      },
      "execution_count": 182,
      "outputs": [
        {
          "output_type": "execute_result",
          "data": {
            "text/plain": [
              "{'accuracy': 79.26509186351706,\n",
              " 'precision': 0.8111390004213173,\n",
              " 'recall': 0.7926509186351706,\n",
              " 'f1': 0.7862189758049549}"
            ]
          },
          "metadata": {},
          "execution_count": 182
        }
      ]
    },
    {
      "cell_type": "code",
      "source": [
        "# Making a function to measure the time of prediction\n",
        "import time\n",
        "def pred_timer(model, samples):\n",
        "  \"\"\"\n",
        "  Times how long a model takes to make predictions on samples\n",
        "  \"\"\"\n",
        "  start_time = time.perf_counter()  # get start time\n",
        "  model.predict(samples)   # Make predictions\n",
        "  end_time = time.perf_counter()   # get end time\n",
        "\n",
        "  # Calculate total time to get predictions\n",
        "  total_time = end_time - start_time\n",
        "\n",
        "  # total time taken per prediction\n",
        "  time_per_pred = total_time / len(samples)\n",
        "\n",
        "  return total_time, time_per_pred"
      ],
      "metadata": {
        "id": "SABza41kCDVu"
      },
      "execution_count": 183,
      "outputs": []
    },
    {
      "cell_type": "code",
      "source": [
        "# Calculate TF hub sentence encoder time per pred\n",
        "model_6_total_pred_time, model_6_time_per_pred = pred_timer(model = model_6_pretrained,\n",
        "                                                            samples = val_sentences)\n",
        "print(f\"Total time taken to predict: {model_6_total_pred_time}\")\n",
        "print(f\"Total time taken per prediction: {model_6_time_per_pred}\")"
      ],
      "metadata": {
        "colab": {
          "base_uri": "https://localhost:8080/"
        },
        "id": "YOD7Li9uDWI8",
        "outputId": "6d8ca7fc-6018-4cc2-cf8f-a944929a0a34"
      },
      "execution_count": 184,
      "outputs": [
        {
          "output_type": "stream",
          "name": "stdout",
          "text": [
            "24/24 [==============================] - 0s 13ms/step\n",
            "Total time taken to predict: 0.6875000549989636\n",
            "Total time taken per prediction: 0.0009022310433057265\n"
          ]
        }
      ]
    },
    {
      "cell_type": "code",
      "source": [
        "# Calculate baseline model time per pred\n",
        "baseline_total_pred_time, baseline_time_per_pred = pred_timer(model = model_0,\n",
        "                                                            samples = val_sentences)\n",
        "print(f\"Total time taken to predict: {baseline_total_pred_time}\")\n",
        "print(f\"Total time taken per prediction: {baseline_time_per_pred}\")"
      ],
      "metadata": {
        "colab": {
          "base_uri": "https://localhost:8080/"
        },
        "id": "pdnrPvjKDvQv",
        "outputId": "c650fdde-d8ae-4311-e62b-3df398b0552d"
      },
      "execution_count": 185,
      "outputs": [
        {
          "output_type": "stream",
          "name": "stdout",
          "text": [
            "Total time taken to predict: 0.06608428099934827\n",
            "Total time taken per prediction: 8.67247782143678e-05\n"
          ]
        }
      ]
    },
    {
      "cell_type": "code",
      "source": [
        "# Get results for the pretrained model\n",
        "model_6_pretrained_results = calculate_results(y_true = val_labels,\n",
        "                                               y_pred = model_6_pretrained_preds)\n",
        "model_6_pretrained_results"
      ],
      "metadata": {
        "colab": {
          "base_uri": "https://localhost:8080/"
        },
        "id": "JpqfQUtjEElv",
        "outputId": "e3455a27-bb59-41a1-e438-794831ded56e"
      },
      "execution_count": 186,
      "outputs": [
        {
          "output_type": "execute_result",
          "data": {
            "text/plain": [
              "{'accuracy': 81.62729658792651,\n",
              " 'precision': 0.818446310697231,\n",
              " 'recall': 0.8162729658792651,\n",
              " 'f1': 0.8148082644367335}"
            ]
          },
          "metadata": {},
          "execution_count": 186
        }
      ]
    },
    {
      "cell_type": "code",
      "source": [
        "import matplotlib.pyplot as plt\n",
        "\n",
        "plt.figure(figsize=(10, 7))\n",
        "plt.scatter(baseline_time_per_pred, baseline_results[\"f1\"], label = \"baseline\")\n",
        "plt.scatter(model_6_time_per_pred, model_6_pretrained_results[\"f1\"], label = \"tf_hub_sentence_encoder\")\n",
        "plt.legend()\n",
        "plt.title(\"F1-score Vs Time per prediction\")\n",
        "plt.xlabel(\"Time per prediction\")\n",
        "plt.ylabel(\"F1-score\")"
      ],
      "metadata": {
        "colab": {
          "base_uri": "https://localhost:8080/",
          "height": 501
        },
        "id": "0LMvcLCgD7Ez",
        "outputId": "caadbd04-2d47-4ee4-c546-cbab44b3f2a0"
      },
      "execution_count": 187,
      "outputs": [
        {
          "output_type": "execute_result",
          "data": {
            "text/plain": [
              "Text(0, 0.5, 'F1-score')"
            ]
          },
          "metadata": {},
          "execution_count": 187
        },
        {
          "output_type": "display_data",
          "data": {
            "text/plain": [
              "<Figure size 1000x700 with 1 Axes>"
            ],
            "image/png": "[encoded data removed]"
          },
          "metadata": {}
        }
      ]
    },
    {
      "cell_type": "markdown",
      "source": [
        "Here, we can see that even though the difference between the f1-scores of `model_6_pretrained` and `baseline_model` is around `0.3`, the time it takes for the `model_6_pretrained` to predict a sample is about `10x` the time it takes for the `baseline_model`.\n",
        "\n",
        "Thus, we can say that for real-world applications, the baseline_model is a better model to be used in an application."
      ],
      "metadata": {
        "id": "a453uB13E8zZ"
      }
    },
    {
      "cell_type": "code",
      "source": [],
      "metadata": {
        "id": "Jfa9TeZJEtKI"
      },
      "execution_count": null,
      "outputs": []
    }
  ]
}