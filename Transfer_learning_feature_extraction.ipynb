{
  "nbformat": 4,
  "nbformat_minor": 0,
  "metadata": {
    "colab": {
      "provenance": [],
      "gpuType": "T4",
      "toc_visible": true,
      "authorship_tag": "ABX9TyMVV0LSdoqmYGJAfVmH6obN",
      "include_colab_link": true
    },
    "kernelspec": {
      "name": "python3",
      "display_name": "Python 3"
    },
    "language_info": {
      "name": "python"
    },
    "accelerator": "GPU"
  },
  "cells": [
    {
      "cell_type": "markdown",
      "metadata": {
        "id": "view-in-github",
        "colab_type": "text"
      },
      "source": [
        "<a href=\"https://colab.research.google.com/github/ShivinM-17/Tensorflow_practises/blob/main/Transfer_learning_feature_extraction.ipynb\" target=\"_parent\"><img src=\"https://colab.research.google.com/assets/colab-badge.svg\" alt=\"Open In Colab\"/></a>"
      ]
    },
    {
      "cell_type": "markdown",
      "source": [
        "## Transfer learning\n",
        "This is a process of leveraging a working model's existing architecture and learned parameters to be used for our own needs.   \n",
        "\n",
        "There are two main benefits:\n",
        "* Can leveerage an existing neural network architecture proven to work on problems similar to our own\n",
        "* Can leverage a working neural network architecture which has already learned patterns similar to our own, then those can be used to adapt to our own model"
      ],
      "metadata": {
        "id": "o5io74lKqB8O"
      }
    },
    {
      "cell_type": "code",
      "execution_count": null,
      "metadata": {
        "colab": {
          "base_uri": "https://localhost:8080/"
        },
        "id": "T32-k7PVnASc",
        "outputId": "712b4d68-2216-4a47-ae24-1f3dd0266d0e"
      },
      "outputs": [
        {
          "output_type": "stream",
          "name": "stdout",
          "text": [
            "Mon Jul 10 14:01:40 2023       \n",
            "+-----------------------------------------------------------------------------+\n",
            "| NVIDIA-SMI 525.85.12    Driver Version: 525.85.12    CUDA Version: 12.0     |\n",
            "|-------------------------------+----------------------+----------------------+\n",
            "| GPU  Name        Persistence-M| Bus-Id        Disp.A | Volatile Uncorr. ECC |\n",
            "| Fan  Temp  Perf  Pwr:Usage/Cap|         Memory-Usage | GPU-Util  Compute M. |\n",
            "|                               |                      |               MIG M. |\n",
            "|===============================+======================+======================|\n",
            "|   0  Tesla T4            Off  | 00000000:00:04.0 Off |                    0 |\n",
            "| N/A   39C    P8     9W /  70W |      0MiB / 15360MiB |      0%      Default |\n",
            "|                               |                      |                  N/A |\n",
            "+-------------------------------+----------------------+----------------------+\n",
            "                                                                               \n",
            "+-----------------------------------------------------------------------------+\n",
            "| Processes:                                                                  |\n",
            "|  GPU   GI   CI        PID   Type   Process name                  GPU Memory |\n",
            "|        ID   ID                                                   Usage      |\n",
            "|=============================================================================|\n",
            "|  No running processes found                                                 |\n",
            "+-----------------------------------------------------------------------------+\n"
          ]
        }
      ],
      "source": [
        "# Checking if gpu working\n",
        "!nvidia-smi"
      ]
    },
    {
      "cell_type": "markdown",
      "source": [
        "### Downloading the data\n",
        "10% data of the Food 101 dataset"
      ],
      "metadata": {
        "id": "XwdHbI7iq4_0"
      }
    },
    {
      "cell_type": "code",
      "source": [
        "# Getting data\n",
        "import zipfile\n",
        "\n",
        "# Downloading the data\n",
        "!wget https://storage.googleapis.com/ztm_tf_course/food_vision/10_food_classes_10_percent.zip\n",
        "\n",
        "# Unzip the downloaded file\n",
        "zip_ref = zipfile.ZipFile(\"10_food_classes_10_percent.zip\")\n",
        "zip_ref.extractall()\n",
        "zip_ref.close()"
      ],
      "metadata": {
        "colab": {
          "base_uri": "https://localhost:8080/"
        },
        "id": "6-6PRzIyq1qT",
        "outputId": "c1e8e332-f1cf-4f29-835c-c524d5c353f7"
      },
      "execution_count": null,
      "outputs": [
        {
          "output_type": "stream",
          "name": "stdout",
          "text": [
            "--2023-07-10 14:01:40--  https://storage.googleapis.com/ztm_tf_course/food_vision/10_food_classes_10_percent.zip\n",
            "Resolving storage.googleapis.com (storage.googleapis.com)... 74.125.199.128, 172.253.117.128, 142.250.99.128, ...\n",
            "Connecting to storage.googleapis.com (storage.googleapis.com)|74.125.199.128|:443... connected.\n",
            "HTTP request sent, awaiting response... 200 OK\n",
            "Length: 168546183 (161M) [application/zip]\n",
            "Saving to: ‘10_food_classes_10_percent.zip’\n",
            "\n",
            "10_food_classes_10_ 100%[===================>] 160.74M   180MB/s    in 0.9s    \n",
            "\n",
            "2023-07-10 14:01:41 (180 MB/s) - ‘10_food_classes_10_percent.zip’ saved [168546183/168546183]\n",
            "\n"
          ]
        }
      ]
    },
    {
      "cell_type": "code",
      "source": [
        "# Checking the diretory which has the images\n",
        "import os\n",
        "\n",
        "for dirpath, dirnames, filenames in os.walk(\"10_food_classes_10_percent\"):\n",
        "  print(f\"There are {len(dirnames)} directories and {len(filenames)} images in '{dirpath}'\")"
      ],
      "metadata": {
        "colab": {
          "base_uri": "https://localhost:8080/"
        },
        "id": "Lx8WM5JjrXDe",
        "outputId": "5424b0a7-f4da-41ec-8efa-71735145d2a8"
      },
      "execution_count": null,
      "outputs": [
        {
          "output_type": "stream",
          "name": "stdout",
          "text": [
            "There are 2 directories and 0 images in '10_food_classes_10_percent'\n",
            "There are 10 directories and 0 images in '10_food_classes_10_percent/train'\n",
            "There are 0 directories and 75 images in '10_food_classes_10_percent/train/ramen'\n",
            "There are 0 directories and 75 images in '10_food_classes_10_percent/train/chicken_wings'\n",
            "There are 0 directories and 75 images in '10_food_classes_10_percent/train/pizza'\n",
            "There are 0 directories and 75 images in '10_food_classes_10_percent/train/grilled_salmon'\n",
            "There are 0 directories and 75 images in '10_food_classes_10_percent/train/steak'\n",
            "There are 0 directories and 75 images in '10_food_classes_10_percent/train/chicken_curry'\n",
            "There are 0 directories and 75 images in '10_food_classes_10_percent/train/ice_cream'\n",
            "There are 0 directories and 75 images in '10_food_classes_10_percent/train/sushi'\n",
            "There are 0 directories and 75 images in '10_food_classes_10_percent/train/hamburger'\n",
            "There are 0 directories and 75 images in '10_food_classes_10_percent/train/fried_rice'\n",
            "There are 10 directories and 0 images in '10_food_classes_10_percent/test'\n",
            "There are 0 directories and 250 images in '10_food_classes_10_percent/test/ramen'\n",
            "There are 0 directories and 250 images in '10_food_classes_10_percent/test/chicken_wings'\n",
            "There are 0 directories and 250 images in '10_food_classes_10_percent/test/pizza'\n",
            "There are 0 directories and 250 images in '10_food_classes_10_percent/test/grilled_salmon'\n",
            "There are 0 directories and 250 images in '10_food_classes_10_percent/test/steak'\n",
            "There are 0 directories and 250 images in '10_food_classes_10_percent/test/chicken_curry'\n",
            "There are 0 directories and 250 images in '10_food_classes_10_percent/test/ice_cream'\n",
            "There are 0 directories and 250 images in '10_food_classes_10_percent/test/sushi'\n",
            "There are 0 directories and 250 images in '10_food_classes_10_percent/test/hamburger'\n",
            "There are 0 directories and 250 images in '10_food_classes_10_percent/test/fried_rice'\n"
          ]
        }
      ]
    },
    {
      "cell_type": "markdown",
      "source": [
        "### Creating data loaders\n",
        "Using ImageDataGenerator class to load the images in batches"
      ],
      "metadata": {
        "id": "no_y_ChFr4Lu"
      }
    },
    {
      "cell_type": "code",
      "source": [
        "# Setup data imputs\n",
        "from tensorflow.keras.preprocessing.image import ImageDataGenerator\n",
        "\n",
        "IMAGE_SHAPE = (224,224)\n",
        "BATCH_SIZE = 32\n",
        "\n",
        "train_dir = \"10_food_classes_10_percent/train/\"\n",
        "test_dir = \"10_food_classes_10_percent/test/\"\n",
        "\n",
        "train_datagen = ImageDataGenerator(rescale=1/255.)\n",
        "test_datagen = ImageDataGenerator(rescale=1/255.)\n",
        "\n",
        "print(\"Training Image: \")\n",
        "train_data_10_percent = train_datagen.flow_from_directory(train_dir,\n",
        "                                                          target_size=IMAGE_SHAPE,\n",
        "                                                          batch_size = BATCH_SIZE,\n",
        "                                                          class_mode = \"categorical\"\n",
        "                                                          )\n",
        "\n",
        "print(\"Testing image: \")\n",
        "test_data = test_datagen.flow_from_directory(test_dir,\n",
        "                                             target_size=IMAGE_SHAPE,\n",
        "                                             batch_size=BATCH_SIZE,\n",
        "                                             class_mode = \"categorical\")"
      ],
      "metadata": {
        "colab": {
          "base_uri": "https://localhost:8080/"
        },
        "id": "riXPSb3Qrtkl",
        "outputId": "de6e02e5-4373-4f67-f6cf-6ad14bc04a95"
      },
      "execution_count": null,
      "outputs": [
        {
          "output_type": "stream",
          "name": "stdout",
          "text": [
            "Training Image: \n",
            "Found 750 images belonging to 10 classes.\n",
            "Testing image: \n",
            "Found 2500 images belonging to 10 classes.\n"
          ]
        }
      ]
    },
    {
      "cell_type": "markdown",
      "source": [
        "### Callbacks\n",
        "These are extra functionality that can be added to the models to be performed during or after training. Some popular callbacks methods are:\n",
        "* Tracking experiments with the TensorBoard callback\n",
        "* Model checkpoint with the ModelCheckpoint callback\n",
        "* Stopping a model from training (before it trains too long and overfits) with the EarlyStopping callback"
      ],
      "metadata": {
        "id": "FCs3RJtHtRmv"
      }
    },
    {
      "cell_type": "code",
      "source": [
        "# Create a TensorBoard callback (making it functionalised since we need to create one for each model we make)\n",
        "import tensorflow as tf\n",
        "\n",
        "# For making a timestamp\n",
        "import datetime\n",
        "\n",
        "def create_tensorboard_callback(dir_name, experiment_name):\n",
        "  log_dir = dir_name + \"/\" + experiment_name + \"/\" + datetime.datetime.now().strftime(\"%Y%m%d-%H%M%S\")\n",
        "  tensorboard_callback = tf.keras.callbacks.TensorBoard(log_dir = log_dir)\n",
        "  print(f\"Saving TensorBoard log files to: {log_dir}\")\n",
        "  return tensorboard_callback\n"
      ],
      "metadata": {
        "id": "5VZAZq1OtDAB"
      },
      "execution_count": null,
      "outputs": []
    },
    {
      "cell_type": "markdown",
      "source": [
        "**Note:-** We can customize the directory where the TensorBoard logs gets saved however we want. Above method is just one example"
      ],
      "metadata": {
        "id": "ia_csNdA_pRT"
      }
    },
    {
      "cell_type": "markdown",
      "source": [
        "## Tensorflow Hub\n",
        "This is a repository of trained ML models which can be further fine-tuned and adjusted according to our needs\n",
        "\n",
        "Earlier, we create our own neural network models from scratch.\n",
        "Now, we'll be performing similar task, but majority of the model will come from tensorflow hub.\n"
      ],
      "metadata": {
        "id": "IRv4QoGu_3Lm"
      }
    },
    {
      "cell_type": "markdown",
      "source": [
        "We'll be using  ResnetV2 50- feature vector\n",
        "https://tfhub.dev/google/imagenet/resnet_v2_50/feature_vector/5\n",
        "\n",
        "And also, the EfficientNet B0 - feature vector                                    \n",
        "https://tfhub.dev/tensorflow/efficientnet/b0/feature-vector/1"
      ],
      "metadata": {
        "id": "oFN2AMndDQWX"
      }
    },
    {
      "cell_type": "code",
      "source": [
        "# Well be comparing two model\n",
        "resnet_url = \"https://tfhub.dev/google/imagenet/resnet_v2_50/feature_vector/5\"\n",
        "efficientnet_url = \"https://tfhub.dev/tensorflow/efficientnet/b0/feature-vector/1\"\n"
      ],
      "metadata": {
        "id": "FwQy4yoDvDwI"
      },
      "execution_count": null,
      "outputs": []
    },
    {
      "cell_type": "code",
      "source": [
        "# Importing depedencies\n",
        "import tensorflow as tf\n",
        "import tensorflow_hub as hub\n",
        "from tensorflow.keras import layers"
      ],
      "metadata": {
        "id": "czndp2_QGzkR"
      },
      "execution_count": null,
      "outputs": []
    },
    {
      "cell_type": "code",
      "source": [
        "# Creating a model creation function to make a function using URL\n",
        "def create_model(model_url, num_classes=10):\n",
        "  \"\"\"\n",
        "  This function takes a Tensorflow Hub URL and creates a keras sequential model with it\n",
        "\n",
        "  Args:\n",
        "     model_url (str): a tensorflow hub feature extraction URL\n",
        "     num_classes (int): number of output in the output layers, (should be equal to number of output classes)\n",
        "\n",
        "  Returns:\n",
        "     An uncompiled keras sequential model with model_url as feature extractor\n",
        "     layer and Dense output layer with num_classes output neurons.\n",
        "  \"\"\"\n",
        "  # Download the pre-trained model\n",
        "  feature_extraction_layer = hub.KerasLayer(model_url,\n",
        "                                           trainable=False, # Making it false, since we don't require this model to be trained on some other dataset\n",
        "                                           name = \"feature_extraction_layer\",\n",
        "                                           input_shape = IMAGE_SHAPE+(3,)\n",
        "                                           )\n",
        "  # Now, creating the model\n",
        "  model = tf.keras.Sequential([\n",
        "      feature_extraction_layer,\n",
        "      layers.Dense(num_classes, activation=\"softmax\", name=\"output_layer\")\n",
        "  ])\n",
        "\n",
        "  return model"
      ],
      "metadata": {
        "id": "_bGSkJVaHM9q"
      },
      "execution_count": null,
      "outputs": []
    },
    {
      "cell_type": "markdown",
      "source": [
        "### Creating and testing Resnet Tensorflow Hub feature extraction"
      ],
      "metadata": {
        "id": "gs6gVXDHI9qe"
      }
    },
    {
      "cell_type": "code",
      "source": [
        "# Creating resnet model\n",
        "resnet_model = create_model(resnet_url,\n",
        "                            num_classes=train_data_10_percent.num_classes)"
      ],
      "metadata": {
        "id": "gcx0miQwI6Ly"
      },
      "execution_count": null,
      "outputs": []
    },
    {
      "cell_type": "code",
      "source": [
        "resnet_model.summary()"
      ],
      "metadata": {
        "colab": {
          "base_uri": "https://localhost:8080/"
        },
        "id": "fheNrDpAI6Oj",
        "outputId": "beae840d-54b7-4c79-c799-fee5ef32b328"
      },
      "execution_count": null,
      "outputs": [
        {
          "output_type": "stream",
          "name": "stdout",
          "text": [
            "Model: \"sequential\"\n",
            "_________________________________________________________________\n",
            " Layer (type)                Output Shape              Param #   \n",
            "=================================================================\n",
            " feature_extraction_layer (K  (None, 2048)             23564800  \n",
            " erasLayer)                                                      \n",
            "                                                                 \n",
            " output_layer (Dense)        (None, 10)                20490     \n",
            "                                                                 \n",
            "=================================================================\n",
            "Total params: 23,585,290\n",
            "Trainable params: 20,490\n",
            "Non-trainable params: 23,564,800\n",
            "_________________________________________________________________\n"
          ]
        }
      ]
    },
    {
      "cell_type": "code",
      "source": [
        "# Compiling the model\n",
        "resnet_model.compile(loss=\"categorical_crossentropy\",\n",
        "                     optimizer=tf.keras.optimizers.Adam(),\n",
        "                     metrics=[\"accuracy\"])"
      ],
      "metadata": {
        "id": "fgAu8zn_I6Qm"
      },
      "execution_count": null,
      "outputs": []
    },
    {
      "cell_type": "code",
      "source": [
        "# Fitting the resnet model\n",
        "resnet_history = resnet_model.fit(train_data_10_percent,\n",
        "                                  epochs=5,\n",
        "                                  steps_per_epoch=len(train_data_10_percent),\n",
        "                                  validation_data=test_data,\n",
        "                                  validation_steps=len(test_data),\n",
        "                                  callbacks=[create_tensorboard_callback(\n",
        "                                      dir_name=\"tensorflow_hub\",\n",
        "                                      experiment_name=\"resnet_50v2_model\"\n",
        "                                  )]\n",
        "                                  )"
      ],
      "metadata": {
        "colab": {
          "base_uri": "https://localhost:8080/"
        },
        "id": "myFMGiT4I6Sv",
        "outputId": "fa7ac2f7-e6eb-4d01-ada8-9f5f32b33c6e"
      },
      "execution_count": null,
      "outputs": [
        {
          "output_type": "stream",
          "name": "stdout",
          "text": [
            "Saving TensorBoard log files to: tensorflow_hub/resnet_50v2_model/20230710-141821\n",
            "Epoch 1/5\n",
            "24/24 [==============================] - 32s 845ms/step - loss: 1.9384 - accuracy: 0.3453 - val_loss: 1.1778 - val_accuracy: 0.6372\n",
            "Epoch 2/5\n",
            "24/24 [==============================] - 19s 811ms/step - loss: 0.8864 - accuracy: 0.7493 - val_loss: 0.8533 - val_accuracy: 0.7304\n",
            "Epoch 3/5\n",
            "24/24 [==============================] - 17s 748ms/step - loss: 0.6090 - accuracy: 0.8400 - val_loss: 0.7580 - val_accuracy: 0.7676\n",
            "Epoch 4/5\n",
            "24/24 [==============================] - 18s 750ms/step - loss: 0.4839 - accuracy: 0.8760 - val_loss: 0.6951 - val_accuracy: 0.7776\n",
            "Epoch 5/5\n",
            "24/24 [==============================] - 17s 749ms/step - loss: 0.3721 - accuracy: 0.9120 - val_loss: 0.6739 - val_accuracy: 0.7764\n"
          ]
        }
      ]
    },
    {
      "cell_type": "markdown",
      "source": [
        "Resnet works greatly with our data, which consists of only 10% of it. The processing time is also very less and the accuracy is also good."
      ],
      "metadata": {
        "id": "tUr_FmL0Ljmj"
      }
    },
    {
      "cell_type": "code",
      "source": [
        "# Making a function to plot the loss curves\n",
        "import matplotlib.pyplot as plt\n",
        "\n",
        "def plot_loss_curves(history):\n",
        "  '''\n",
        "  Returns seperate loss curves for training and validation metrics\n",
        "\n",
        "  Args:\n",
        "    history: Tensorflow history object\n",
        "\n",
        "  Returns:\n",
        "    Plots of training/validation loss and accuracy metrics\n",
        "  '''\n",
        "  loss = history.history[\"loss\"]\n",
        "  val_loss = history.history[\"val_loss\"]\n",
        "  accuracy = history.history[\"accuracy\"]\n",
        "  val_accuracy = history.history[\"val_accuracy\"]\n",
        "\n",
        "  epochs = range(len(history.history[\"loss\"]))\n",
        "\n",
        "  # Plot loss\n",
        "  plt.plot(epochs, loss, label=\"training loss\")\n",
        "  plt.plot(epochs, val_loss, label=\"val_loss\")\n",
        "  plt.title(\"loss\")\n",
        "  plt.xlabel(\"Epochs\")\n",
        "  plt.legend()\n",
        "\n",
        "  # Plot accuracy\n",
        "  plt.figure()\n",
        "  plt.plot(epochs, accuracy, label=\"training accuracy\")\n",
        "  plt.plot(epochs, val_accuracy, label=\"val_accuracy\")\n",
        "  plt.title(\"accuracy\")\n",
        "  plt.xlabel(\"Epochs\")\n",
        "  plt.legend()"
      ],
      "metadata": {
        "id": "SuzH9hPnI6WU"
      },
      "execution_count": null,
      "outputs": []
    },
    {
      "cell_type": "code",
      "source": [
        "plot_loss_curves(resnet_history)"
      ],
      "metadata": {
        "colab": {
          "base_uri": "https://localhost:8080/",
          "height": 927
        },
        "id": "86N_oqsUM_61",
        "outputId": "99540c75-1cce-4f2b-b1af-4b44d0a0f5fb"
      },
      "execution_count": null,
      "outputs": [
        {
          "output_type": "display_data",
          "data": {
            "text/plain": [
              "<Figure size 640x480 with 1 Axes>"
            ],
            "image/png": "[encoded data removed]"
          },
          "metadata": {}
        },
        {
          "output_type": "display_data",
          "data": {
            "text/plain": [
              "<Figure size 640x480 with 1 Axes>"
            ],
            "image/png": "[encoded data removed]"
          },
          "metadata": {}
        }
      ]
    },
    {
      "cell_type": "code",
      "source": [],
      "metadata": {
        "id": "4FvRC0PTND1F"
      },
      "execution_count": null,
      "outputs": []
    },
    {
      "cell_type": "markdown",
      "source": [
        "### Creating and testing EfficientNetB0 Tensorflow Hub feature extraction"
      ],
      "metadata": {
        "id": "ustlrRv3NmRi"
      }
    },
    {
      "cell_type": "code",
      "source": [
        "# Creating the efficient net model\n",
        "efficientnet_model = create_model(\n",
        "    model_url = efficientnet_url,\n",
        "    num_classes = train_data_10_percent.num_classes\n",
        ")"
      ],
      "metadata": {
        "id": "RQhyEpI8Nots"
      },
      "execution_count": null,
      "outputs": []
    },
    {
      "cell_type": "code",
      "source": [
        "efficientnet_model.summary()"
      ],
      "metadata": {
        "colab": {
          "base_uri": "https://localhost:8080/"
        },
        "id": "8pH5XE15N1Xi",
        "outputId": "464d46c0-ee17-4062-982d-be52b7216441"
      },
      "execution_count": null,
      "outputs": [
        {
          "output_type": "stream",
          "name": "stdout",
          "text": [
            "Model: \"sequential_3\"\n",
            "_________________________________________________________________\n",
            " Layer (type)                Output Shape              Param #   \n",
            "=================================================================\n",
            " feature_extraction_layer (K  (None, 1280)             4049564   \n",
            " erasLayer)                                                      \n",
            "                                                                 \n",
            " output_layer (Dense)        (None, 10)                12810     \n",
            "                                                                 \n",
            "=================================================================\n",
            "Total params: 4,062,374\n",
            "Trainable params: 12,810\n",
            "Non-trainable params: 4,049,564\n",
            "_________________________________________________________________\n"
          ]
        }
      ]
    },
    {
      "cell_type": "code",
      "source": [
        "# Compiling the model\n",
        "efficientnet_model.compile(loss=\"categorical_crossentropy\",\n",
        "                           optimizer=tf.keras.optimizers.Adam(),\n",
        "                           metrics=[\"accuracy\"])"
      ],
      "metadata": {
        "id": "mUdADPM2N-pH"
      },
      "execution_count": null,
      "outputs": []
    },
    {
      "cell_type": "code",
      "source": [
        "# Fitting the model\n",
        "efficientnet_history = efficientnet_model.fit(train_data_10_percent,\n",
        "                                              epochs=5,\n",
        "                                              steps_per_epoch=len(train_data_10_percent),\n",
        "                                              validation_data=test_data,\n",
        "                                              validation_steps=len(test_data),\n",
        "                                              callbacks=[create_tensorboard_callback(\n",
        "                                                  dir_name = \"tensorflow_hub\",\n",
        "                                                  experiment_name = \"efficientnet_b0_model\"\n",
        "                                              )]\n",
        "                                              )"
      ],
      "metadata": {
        "colab": {
          "base_uri": "https://localhost:8080/"
        },
        "id": "ID5NR7YiN_SB",
        "outputId": "2e396823-1c60-4862-e1ce-b1d201f9c57d"
      },
      "execution_count": null,
      "outputs": [
        {
          "output_type": "stream",
          "name": "stdout",
          "text": [
            "Saving TensorBoard log files to: tensorflow_hub/efficientnet_b0_model/20230710-143616\n",
            "Epoch 1/5\n",
            "24/24 [==============================] - 37s 1s/step - loss: 1.9076 - accuracy: 0.3960 - val_loss: 1.3511 - val_accuracy: 0.7000\n",
            "Epoch 2/5\n",
            "24/24 [==============================] - 22s 935ms/step - loss: 1.0905 - accuracy: 0.7587 - val_loss: 0.8947 - val_accuracy: 0.8168\n",
            "Epoch 3/5\n",
            "24/24 [==============================] - 17s 717ms/step - loss: 0.7764 - accuracy: 0.8347 - val_loss: 0.7106 - val_accuracy: 0.8412\n",
            "Epoch 4/5\n",
            "24/24 [==============================] - 17s 720ms/step - loss: 0.6203 - accuracy: 0.8693 - val_loss: 0.6191 - val_accuracy: 0.8536\n",
            "Epoch 5/5\n",
            "24/24 [==============================] - 17s 749ms/step - loss: 0.5241 - accuracy: 0.8880 - val_loss: 0.5644 - val_accuracy: 0.8644\n"
          ]
        }
      ]
    },
    {
      "cell_type": "code",
      "source": [
        "# Plotting the loss curves of the model\n",
        "plot_loss_curves(efficientnet_history)"
      ],
      "metadata": {
        "colab": {
          "base_uri": "https://localhost:8080/",
          "height": 927
        },
        "id": "X_6QY-WWN_T4",
        "outputId": "6db52341-8c41-423f-8ddc-5a9a6e49ac50"
      },
      "execution_count": null,
      "outputs": [
        {
          "output_type": "display_data",
          "data": {
            "text/plain": [
              "<Figure size 640x480 with 1 Axes>"
            ],
            "image/png": "[encoded data removed]"
          },
          "metadata": {}
        },
        {
          "output_type": "display_data",
          "data": {
            "text/plain": [
              "<Figure size 640x480 with 1 Axes>"
            ],
            "image/png": "[encoded data removed]"
          },
          "metadata": {}
        }
      ]
    },
    {
      "cell_type": "markdown",
      "source": [
        "### Different types of transfer learning\n",
        "* **As is** transfer learning - using an existing model with no changes in it\n",
        "* **Feature extraction** transfer learning - use the prelearned patterns of an existing model (eg. EfficientNetB0 trained on ImageNet, and then adjust the output layer for our own use)\n",
        "* **Fine tuning** transfer learning - use the pretrained patterns of an existing model and \"fine-tune\" many or all of the underlying layers (including the output layers)"
      ],
      "metadata": {
        "id": "L6P8a70gP09m"
      }
    },
    {
      "cell_type": "markdown",
      "source": [
        "### Comparing the different models"
      ],
      "metadata": {
        "id": "oVHy8xdORTlh"
      }
    },
    {
      "cell_type": "code",
      "source": [
        "# Upload Tensorflow dev records\n",
        "!tensorboard dev upload --logdir ./tensorflow_hub/ \\\n",
        "  --name \"EfficientNetB0 Vs ResNet50V2\" \\\n",
        "  --description \"Comparing two different pre-trained models for Food 101 dataset\" \\\n",
        "  --one_shot"
      ],
      "metadata": {
        "id": "z3CjSjOHN_VW",
        "colab": {
          "base_uri": "https://localhost:8080/"
        },
        "outputId": "b164be26-a489-4e34-fdd5-f55924018e2b"
      },
      "execution_count": 31,
      "outputs": [
        {
          "output_type": "stream",
          "name": "stdout",
          "text": [
            "2023-07-10 14:58:51.497518: W tensorflow/compiler/tf2tensorrt/utils/py_utils.cc:38] TF-TRT Warning: Could not find TensorRT\n",
            "\n",
            "New experiment created. View your TensorBoard at: https://tensorboard.dev/experiment/ajmTmNcDQAWogqGaQhd3aA/\n",
            "\n",
            "\u001b[1m[2023-07-10T14:58:53]\u001b[0m Started scanning logdir.\n",
            "\u001b[1m[2023-07-10T14:58:55]\u001b[0m Total uploaded: 60 scalars, 0 tensors, 2 binary objects (5.5 MB)\n",
            "\u001b[1m[2023-07-10T14:58:55]\u001b[0m Done scanning logdir.\n",
            "\n",
            "\n",
            "Done. View your TensorBoard at https://tensorboard.dev/experiment/ajmTmNcDQAWogqGaQhd3aA/\n"
          ]
        }
      ]
    },
    {
      "cell_type": "markdown",
      "source": [
        "TensoBoard link - https://tensorboard.dev/experiment/ajmTmNcDQAWogqGaQhd3aA/#scalars"
      ],
      "metadata": {
        "id": "uafo6jE_UHXF"
      }
    },
    {
      "cell_type": "code",
      "source": [
        "# Checking out the TensorBoard experiment\n",
        "!tensorboard dev list"
      ],
      "metadata": {
        "id": "sTwL3a4mN_Ww",
        "colab": {
          "base_uri": "https://localhost:8080/"
        },
        "outputId": "d6b84b10-1629-4f42-a52f-8238b4a3dbf2"
      },
      "execution_count": 32,
      "outputs": [
        {
          "output_type": "stream",
          "name": "stdout",
          "text": [
            "2023-07-10 15:02:19.973270: W tensorflow/compiler/tf2tensorrt/utils/py_utils.cc:38] TF-TRT Warning: Could not find TensorRT\n",
            "https://tensorboard.dev/experiment/ajmTmNcDQAWogqGaQhd3aA/\n",
            "\tName                 EfficientNetB0 Vs ResNet50V2\n",
            "\tDescription          Comparing two different pre-trained models for Food 101 dataset\n",
            "\tId                   ajmTmNcDQAWogqGaQhd3aA\n",
            "\tCreated              2023-07-10 14:58:53 (3 minutes ago)\n",
            "\tUpdated              2023-07-10 14:58:55 (3 minutes ago)\n",
            "\tRuns                 4\n",
            "\tTags                 5\n",
            "\tScalars              60\n",
            "\tTensor bytes         0\n",
            "\tBinary object bytes  5814839\n",
            "Total: 1 experiment(s)\n"
          ]
        }
      ]
    },
    {
      "cell_type": "code",
      "source": [
        "# To delete an experiment\n",
        "# !tensorboard dev delete --experiment_id <Id>"
      ],
      "metadata": {
        "id": "NBdyBJioN_Yd"
      },
      "execution_count": 33,
      "outputs": []
    },
    {
      "cell_type": "code",
      "source": [],
      "metadata": {
        "id": "SRepvNcqVEM5"
      },
      "execution_count": null,
      "outputs": []
    }
  ]
}